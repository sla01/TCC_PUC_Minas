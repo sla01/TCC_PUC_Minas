{
  "nbformat": 4,
  "nbformat_minor": 0,
  "metadata": {
    "colab": {
      "name": "TCC_p02_Classificacao_Spacy.ipynb",
      "provenance": [],
      "collapsed_sections": []
    },
    "kernelspec": {
      "name": "python3",
      "display_name": "Python 3"
    }
  },
  "cells": [
    {
      "cell_type": "markdown",
      "metadata": {
        "id": "GUEq8nGVXtwL"
      },
      "source": [
        "# **TCC_p02_classificacao_SpaCy.ipynb**"
      ]
    },
    {
      "cell_type": "markdown",
      "metadata": {
        "id": "DvxhMFfwLbqF"
      },
      "source": [
        "# Etapa 1: Preparar os arquivos de treinamento\n",
        "\n",
        "1. Importação de bibliotecas\n",
        "\n",
        "* Pandas: para criação e manipulação de dataframes\n",
        "* re: para utilização das expressões regulares em operações de transformações em string.\n",
        "* numpy: para trabalhar com array.\n",
        "* string: para importar sinais de pontuação.\n",
        "* random: para misturar os dados de treinamento.\n",
        "* nltk: usada para tokenizar textos em sentenças dos votos e dos resumos para a impressão do pdf com os resumos.\n",
        "* nltk punkt: Punkt é uma ferramenta de segmentação de frases neutra em termos de linguagem utilizada na tokenização.\n",
        "* nltk: para obter pacote para stemização.\n",
        "* seaborn: biblioteca para visualização de dados baseada em Matplotlib para exibir a matriz de confusão do sklearn como mapa de calor.\n",
        "* matplotlib: biblioteca para a criação de visualizações estáticas, animadas e interativas em Python. Utilizada para fazer alterações nas figuras: por exemplo, criar uma figura, criar uma área de plotagem em uma figura, plotar algumas linhas em uma área de plotagem e decorar a plotagem com rótulos.\n",
        "* sklearn: para utilização das métricas de classificação matriz de confusão e acurácia.\n",
        "\n",
        "2. Importação da biblioteca SpaCy e NLTK\n",
        "*   A biblioteca ***SpaCy*** foi importada para o treinamento do modelo de classificação. \n",
        "*   Para a função preprocessamento, descrita no notebook *TCC_p01_preparar_X_treinamento_e_y_teste*, utiliza-se a ***SpaCy*** para tokenização do texto do voto e para lematização do texto do voto e a ***nltk*** para stemização. O preprocessamento, neste notebook, é utilizado para preparar o texto do voto do dataframe de teste. Também serão utilizadas para obtenção das stop_words (ambas). As stop_words da SpaCy serão concatenadas com as da nltk.\n",
        "\n",
        "3.   Montar Drive\n",
        "> Com ***drive.mount***('/content/drive', force_remount=True) os diretórios de dados do ***Google Drive*** são montados para utilização no ***Colab*** permitindo salvar arquivos e modelos treinados para utilização posterior, inclusive, em outros notebooks.\n"
      ]
    },
    {
      "cell_type": "markdown",
      "metadata": {
        "id": "yS-ItvCXesCr"
      },
      "source": [
        "## 1. Importação de bibliotecas"
      ]
    },
    {
      "cell_type": "code",
      "metadata": {
        "id": "LqIa-_IHOqJz"
      },
      "source": [
        "import pandas as pd\n",
        "import numpy as np\n",
        "import re\n",
        "import string\n",
        "import random\n",
        "import seaborn as sns\n",
        "import matplotlib.pyplot as plt\n",
        "from sklearn.metrics import confusion_matrix, accuracy_score"
      ],
      "execution_count": null,
      "outputs": []
    },
    {
      "cell_type": "markdown",
      "metadata": {
        "id": "0yhLtHmLVZxk"
      },
      "source": [
        "##2. Importação da biblioteca SpaCy e NLTK"
      ]
    },
    {
      "cell_type": "code",
      "metadata": {
        "id": "FHoNjfiKjYbJ"
      },
      "source": [
        "!pip install spacy==2.3.5"
      ],
      "execution_count": null,
      "outputs": []
    },
    {
      "cell_type": "code",
      "metadata": {
        "colab": {
          "base_uri": "https://localhost:8080/",
          "height": 35
        },
        "id": "RpCwLNAZjYbK",
        "outputId": "e622b64a-b5de-4fe1-e7e5-7d8753a66654"
      },
      "source": [
        "import spacy\n",
        "spacy.__version__"
      ],
      "execution_count": null,
      "outputs": [
        {
          "output_type": "execute_result",
          "data": {
            "application/vnd.google.colaboratory.intrinsic+json": {
              "type": "string"
            },
            "text/plain": [
              "'2.3.5'"
            ]
          },
          "metadata": {
            "tags": []
          },
          "execution_count": 6
        }
      ]
    },
    {
      "cell_type": "code",
      "metadata": {
        "id": "y5mVnLROFurH"
      },
      "source": [
        "!python -m spacy download pt\n",
        "pln = spacy.load(\"pt\")"
      ],
      "execution_count": null,
      "outputs": []
    },
    {
      "cell_type": "code",
      "metadata": {
        "id": "24n_WUsaP1JD"
      },
      "source": [
        "from spacy.lang.pt.stop_words import STOP_WORDS\n",
        "stop_words_spacy = STOP_WORDS"
      ],
      "execution_count": null,
      "outputs": []
    },
    {
      "cell_type": "code",
      "metadata": {
        "id": "WcE2fGCcVEFq"
      },
      "source": [
        "import string\n",
        "import nltk\n",
        "nltk.download('stopwords')\n",
        "stop_words_nltk = nltk.corpus.stopwords.words('portuguese')\n",
        "nltk.download('rslp')"
      ],
      "execution_count": null,
      "outputs": []
    },
    {
      "cell_type": "code",
      "metadata": {
        "id": "xQMtD1c6VISJ"
      },
      "source": [
        "stop_words = set(stop_words_nltk + list(stop_words_spacy))"
      ],
      "execution_count": null,
      "outputs": []
    },
    {
      "cell_type": "code",
      "metadata": {
        "id": "eP4Fl2O-U_Yr"
      },
      "source": [
        "pontuacoes = string.punctuation\n",
        "pontuacoes"
      ],
      "execution_count": null,
      "outputs": []
    },
    {
      "cell_type": "markdown",
      "metadata": {
        "id": "qkYuHMuWfX38"
      },
      "source": [
        "## 2. Montar Drive"
      ]
    },
    {
      "cell_type": "code",
      "metadata": {
        "colab": {
          "base_uri": "https://localhost:8080/"
        },
        "id": "A7CRj_KtNRem",
        "outputId": "ccd01de3-9eb1-47e2-85ae-a984adcd9232"
      },
      "source": [
        "from google.colab import drive\n",
        "drive.mount('/content/drive', force_remount=True) "
      ],
      "execution_count": null,
      "outputs": [
        {
          "output_type": "stream",
          "text": [
            "Mounted at /content/drive\n"
          ],
          "name": "stdout"
        }
      ]
    },
    {
      "cell_type": "markdown",
      "metadata": {
        "id": "5mc19ZByUNsu"
      },
      "source": [
        "# Etapa 2: Criação do classificador\n",
        "\n",
        "1.   Ler arquivos do Drive gravados pelo notebook *TCC_p01_preparar_X_treinamento_e_y_teste*\n",
        "*   Ler os dataframes X_treinamento_lema, X_treinamento_stemer e X_treinamento_original com os dados de treinamento preprocessados. De acordo com o tipo de treino, escolher o dataframe X_treinamento correspondente.\n",
        "*   Ler o dataframe y_treinamento com a variável alvo. \n",
        "\n",
        "2.   Criar a base de treinamento para o SpaCy.\n",
        "*   Para criar a base, concatenar o dataframe X_treinamento contendo a feature voto com o dataframe y_treinamento que contém a variável target (alvo) assunto.\n",
        "*   No caso de X_treinamento, escolher o arquivo de acordo com o modelo a ser treinado, se com palavras originais, palavras lematizadas ou palavras stemizadas.\n",
        "*   Transformar a variável alvo em um dicionário com as categorias existentes.\n",
        "\n",
        "3.   Criar um modelo com as 4 categorias 'irpf', 'irpj', 'ngdt' e 'paf'\n",
        "\n",
        "4.   Treinar o modelo definindo a quantidade de épocas e a quantidade de registros por batch\n",
        "\n",
        "5.   Guardar o histórico de progressão dos erros\n",
        "\n",
        "6.   Exibir gráfico com a progressão dos erros\n",
        "\n",
        "7.   Gravar modelo treinado no Drive\n",
        "\n"
      ]
    },
    {
      "cell_type": "markdown",
      "metadata": {
        "id": "QEfI5M3Zq2tU"
      },
      "source": [
        "## Treino com lematização"
      ]
    },
    {
      "cell_type": "markdown",
      "metadata": {
        "id": "0x9gIjMnuqHz"
      },
      "source": [
        "1. Ler arquivos do Drive gravados pelo notebook TCC_p01_preparar_X_treinamento_e_y_teste"
      ]
    },
    {
      "cell_type": "code",
      "metadata": {
        "id": "YDjg41fyo3Ty"
      },
      "source": [
        "#Recuperando os arquivos de treinamento após preprocessamento salvos no drive. Verificar qual X irá treinar, se lema, stemer ou origianl.\n",
        "url = '/content/drive/MyDrive/X_treinamento_lema.csv' \n",
        "X_treinamento_lema = pd.read_csv(url, sep=';', engine='python', encoding='windows-1252', low_memory=True, quotechar='\"', error_bad_lines=False)\n",
        "url = '/content/drive/MyDrive/y_treinamento_7124.csv' \n",
        "y_treinamento = pd.read_csv(url, sep=';', engine='python', encoding='windows-1252', low_memory=True, quotechar='\"', error_bad_lines=False)"
      ],
      "execution_count": null,
      "outputs": []
    },
    {
      "cell_type": "markdown",
      "metadata": {
        "id": "cCRnodOiq7pq"
      },
      "source": [
        "2.   Criar a base de treinamento para o SpaCy."
      ]
    },
    {
      "cell_type": "code",
      "metadata": {
        "id": "DyDbibc2o-IZ"
      },
      "source": [
        "#Preparar a base para o treinamento, concatenando o X com o y. \n",
        "df_treinamento = pd.concat([X_treinamento_lema, y_treinamento], axis=1, sort=False)\n",
        "df_treinamento.head()"
      ],
      "execution_count": null,
      "outputs": []
    },
    {
      "cell_type": "code",
      "metadata": {
        "id": "1jD73fEeo-Ib"
      },
      "source": [
        "base_dados_treinamento_final = []\n",
        "for voto, assunto in zip(df_treinamento['voto'], df_treinamento['assunto']):\n",
        "  if assunto == 'irpf':\n",
        "    dic = ({'irpf': True, 'ngdt': False, 'irpj': False, 'paf': False}) \n",
        "  elif assunto == 'ngdt': \n",
        "    dic = ({'irpf': False, 'ngdt': True, 'irpj': False, 'paf': False})\n",
        "  elif assunto == 'irpj': \n",
        "    dic = ({'irpf': False, 'ngdt': False, 'irpj': True, 'paf': False})\n",
        "  elif assunto == 'paf': \n",
        "    dic = ({'irpf': False, 'ngdt': False, 'irpj': False, 'paf': True})\n",
        "  base_dados_treinamento_final.append([voto, dic.copy()])"
      ],
      "execution_count": null,
      "outputs": []
    },
    {
      "cell_type": "code",
      "metadata": {
        "id": "MsLfiVwVo-Ib"
      },
      "source": [
        "base_dados_treinamento_final[:3]"
      ],
      "execution_count": null,
      "outputs": []
    },
    {
      "cell_type": "markdown",
      "metadata": {
        "id": "Brr4HPUOrH_K"
      },
      "source": [
        "3.   Criar um modelo com as 4 categorias 'irpf', 'irpj', 'ngdt' e 'paf'"
      ]
    },
    {
      "cell_type": "code",
      "metadata": {
        "id": "YnZ1orji7Iv8"
      },
      "source": [
        "modelo = spacy.blank('pt')\n",
        "categorias = modelo.create_pipe(\"textcat\")\n",
        "categorias.add_label(\"irpf\")\n",
        "categorias.add_label(\"ngdt\")\n",
        "categorias.add_label(\"irpj\")\n",
        "categorias.add_label(\"paf\")\n",
        "modelo.add_pipe(categorias)\n",
        "historico = []"
      ],
      "execution_count": null,
      "outputs": []
    },
    {
      "cell_type": "markdown",
      "metadata": {
        "id": "NdSm4KkhtvML"
      },
      "source": [
        "4. Treinar o modelo definindo a quantidade de épocas e a quantidade de registros por batch"
      ]
    },
    {
      "cell_type": "code",
      "metadata": {
        "id": "3jlGvLEz764Y",
        "colab": {
          "base_uri": "https://localhost:8080/"
        },
        "outputId": "0e468bae-e82f-414b-c16a-e2b453d4abb1"
      },
      "source": [
        "#Rodou o treinamento em 9547s com 30 épocas passando de 512 em 512 registros, ou 14 batches por época. \n",
        "#Treinamento com lematização\n",
        "modelo.begin_training()\n",
        "for epoca in range(30):  #número de épocas. 30\n",
        "  random.shuffle(base_dados_treinamento_final)\n",
        "  losses = {}\n",
        "  for batch in spacy.util.minibatch(base_dados_treinamento_final, 512): #número de registros passados. de quanto em quantos serão atualizados os pesos.\n",
        "    textos = [modelo(texto) for texto, entities in batch]\n",
        "    annotations = [{'cats': entities} for texto, entities in batch]\n",
        "    modelo.update(textos, annotations, losses=losses)\n",
        "    historico.append(losses)\n",
        "  if epoca % 5 == 0: #mostrar de 5 em 5 épocas.\n",
        "    print(losses)"
      ],
      "execution_count": null,
      "outputs": [
        {
          "output_type": "stream",
          "text": [
            "{'textcat': 3.8230729160204646e-05}\n",
            "{'textcat': 5.282458772626342e-06}\n",
            "{'textcat': 1.6528499102719252e-06}\n",
            "{'textcat': 8.78107712765086e-07}\n",
            "{'textcat': 6.063314117454865e-07}\n",
            "{'textcat': 5.040392290212026e-07}\n"
          ],
          "name": "stdout"
        }
      ]
    },
    {
      "cell_type": "markdown",
      "metadata": {
        "id": "_zx7Vro_t-Qq"
      },
      "source": [
        "5.   Guardar o histórico de progressão dos erros"
      ]
    },
    {
      "cell_type": "code",
      "metadata": {
        "id": "wSe-tDsCAciN"
      },
      "source": [
        "#Obtém histórico da progressão dos erros para gerar gráfico\n",
        "historico_loss = []\n",
        "for i in historico:\n",
        "  historico_loss.append(i.get('textcat'))\n",
        "historico_loss = np.array(historico_loss)"
      ],
      "execution_count": null,
      "outputs": []
    },
    {
      "cell_type": "markdown",
      "metadata": {
        "id": "FJp2vnqIuCDS"
      },
      "source": [
        "6.   Exibir gráfico com a progressão dos erros"
      ]
    },
    {
      "cell_type": "code",
      "metadata": {
        "id": "6lEL-QoBA0KI",
        "colab": {
          "base_uri": "https://localhost:8080/",
          "height": 312
        },
        "outputId": "16504d90-b425-4609-82c6-83d939fff274"
      },
      "source": [
        "#Exibe gráfico de linhas com a progressão do erro durante o treinamento\n",
        "plt.plot(historico_loss)\n",
        "plt.title('Progressão do erro')\n",
        "plt.xlabel('Batches')\n",
        "plt.ylabel('Erro')"
      ],
      "execution_count": null,
      "outputs": [
        {
          "output_type": "execute_result",
          "data": {
            "text/plain": [
              "Text(0, 0.5, 'Erro')"
            ]
          },
          "metadata": {
            "tags": []
          },
          "execution_count": 95
        },
        {
          "output_type": "display_data",
          "data": {
            "image/png": "[encoded data removed]",
            "text/plain": [
              "<Figure size 432x288 with 1 Axes>"
            ]
          },
          "metadata": {
            "tags": [],
            "needs_background": "light"
          }
        }
      ]
    },
    {
      "cell_type": "markdown",
      "metadata": {
        "id": "m0iadn0DuDZ6"
      },
      "source": [
        "7.   Gravar modelo treinado no Drive"
      ]
    },
    {
      "cell_type": "code",
      "metadata": {
        "id": "amNE8xy_BPSF"
      },
      "source": [
        "#Salva modelo treinado no drive\n",
        "modelo.to_disk(\"/content/drive/MyDrive/mod_TCC_spacy_lema\")"
      ],
      "execution_count": null,
      "outputs": []
    },
    {
      "cell_type": "markdown",
      "metadata": {
        "id": "UbXOTAKDl3PB"
      },
      "source": [
        "##Treino com stemização"
      ]
    },
    {
      "cell_type": "markdown",
      "metadata": {
        "id": "v4iwW_vS3x_2"
      },
      "source": [
        "1. Ler arquivos do Drive gravados pelo notebook TCC_p01_preparar_X_treinamento_e_y_teste"
      ]
    },
    {
      "cell_type": "code",
      "metadata": {
        "id": "c6ttBubIl3PB"
      },
      "source": [
        "#Recuperando os arquivos de treinamento após preprocessamento salvos no drive. Verificar qual X irá treinar, se lema, stemer ou origianl.\n",
        "url = '/content/drive/MyDrive/X_treinamento_stemer.csv' \n",
        "X_treinamento_stemer = pd.read_csv(url, sep=';', engine='python', encoding='windows-1252', low_memory=True, quotechar='\"', error_bad_lines=False)\n",
        "url = '/content/drive/MyDrive/y_treinamento_7124.csv' \n",
        "y_treinamento = pd.read_csv(url, sep=';', engine='python', encoding='windows-1252', low_memory=True, quotechar='\"', error_bad_lines=False)"
      ],
      "execution_count": null,
      "outputs": []
    },
    {
      "cell_type": "markdown",
      "metadata": {
        "id": "cv0Sbnlb34yV"
      },
      "source": [
        "2.   Criar a base de treinamento para o SpaCy."
      ]
    },
    {
      "cell_type": "code",
      "metadata": {
        "colab": {
          "base_uri": "https://localhost:8080/",
          "height": 197
        },
        "id": "KYmcK9S2l3PC",
        "outputId": "d64d7b55-2cec-4ef4-dcc3-5248fee3d1b0"
      },
      "source": [
        "#Preparar a base para o treinamento, concatenando o X com o y.\n",
        "df_treinamento = pd.concat([X_treinamento_stemer, y_treinamento], axis=1, sort=False)\n",
        "df_treinamento.head()"
      ],
      "execution_count": null,
      "outputs": [
        {
          "output_type": "execute_result",
          "data": {
            "text/html": [
              "<div>\n",
              "<style scoped>\n",
              "    .dataframe tbody tr th:only-of-type {\n",
              "        vertical-align: middle;\n",
              "    }\n",
              "\n",
              "    .dataframe tbody tr th {\n",
              "        vertical-align: top;\n",
              "    }\n",
              "\n",
              "    .dataframe thead th {\n",
              "        text-align: right;\n",
              "    }\n",
              "</style>\n",
              "<table border=\"1\" class=\"dataframe\">\n",
              "  <thead>\n",
              "    <tr style=\"text-align: right;\">\n",
              "      <th></th>\n",
              "      <th>voto</th>\n",
              "      <th>assunto</th>\n",
              "    </tr>\n",
              "  </thead>\n",
              "  <tbody>\n",
              "    <tr>\n",
              "      <th>0</th>\n",
              "      <td>recurs tempes cumpr requisit legal admissibil ...</td>\n",
              "      <td>irpj</td>\n",
              "    </tr>\n",
              "    <tr>\n",
              "      <th>1</th>\n",
              "      <td>registr oportun cas vei julg recurs voluntári ...</td>\n",
              "      <td>ngdt</td>\n",
              "    </tr>\n",
              "    <tr>\n",
              "      <th>2</th>\n",
              "      <td>recurs voluntári apresent atend pressupost adm...</td>\n",
              "      <td>paf</td>\n",
              "    </tr>\n",
              "    <tr>\n",
              "      <th>3</th>\n",
              "      <td>julg process seg sistemá recurs repeti regulam...</td>\n",
              "      <td>irpj</td>\n",
              "    </tr>\n",
              "    <tr>\n",
              "      <th>4</th>\n",
              "      <td>julg process seg sistemá recurs repeti regulam...</td>\n",
              "      <td>irpj</td>\n",
              "    </tr>\n",
              "  </tbody>\n",
              "</table>\n",
              "</div>"
            ],
            "text/plain": [
              "                                                voto assunto\n",
              "0  recurs tempes cumpr requisit legal admissibil ...    irpj\n",
              "1  registr oportun cas vei julg recurs voluntári ...    ngdt\n",
              "2  recurs voluntári apresent atend pressupost adm...     paf\n",
              "3  julg process seg sistemá recurs repeti regulam...    irpj\n",
              "4  julg process seg sistemá recurs repeti regulam...    irpj"
            ]
          },
          "metadata": {
            "tags": []
          },
          "execution_count": 108
        }
      ]
    },
    {
      "cell_type": "code",
      "metadata": {
        "id": "f2SwMnXEl3PD"
      },
      "source": [
        "base_dados_treinamento_final = []\n",
        "for voto, assunto in zip(df_treinamento['voto'], df_treinamento['assunto']):\n",
        "  if assunto == 'irpf':\n",
        "    dic = ({'irpf': True, 'ngdt': False, 'irpj': False, 'paf': False}) \n",
        "  elif assunto == 'ngdt': \n",
        "    dic = ({'irpf': False, 'ngdt': True, 'irpj': False, 'paf': False})\n",
        "  elif assunto == 'irpj': \n",
        "    dic = ({'irpf': False, 'ngdt': False, 'irpj': True, 'paf': False})\n",
        "  elif assunto == 'paf': \n",
        "    dic = ({'irpf': False, 'ngdt': False, 'irpj': False, 'paf': True})\n",
        "  base_dados_treinamento_final.append([voto, dic.copy()])"
      ],
      "execution_count": null,
      "outputs": []
    },
    {
      "cell_type": "code",
      "metadata": {
        "colab": {
          "base_uri": "https://localhost:8080/"
        },
        "id": "3483r0F8l3PD",
        "outputId": "6c21c7e1-6781-4d8d-c1cb-58d49663213e"
      },
      "source": [
        "base_dados_treinamento_final[:3]"
      ],
      "execution_count": null,
      "outputs": [
        {
          "output_type": "execute_result",
          "data": {
            "text/plain": [
              "[['recurs tempes cumpr requisit legal admissibil ra tom conhec pass apreci recurs tempes cumpr requisit legal admissibil ra tom conhec pass apreci recorr apresent dcomp ra pag irpj códig darf compens homolog caracterís darf discrimin per dcomp acim identific local pag tend recolh sid integr utiliz quit débit contribuint rest crédit dispon compens débit inform per dcomp recorr decl recolh títul irpj darf pag recorr verific dev recolh promov retific dctf dia peç defês process recorr destac efetu retific dctf esclarec equívoc dctf orig motiv homolog declar compens retific declar ocorr dat posteri emiss despach decisóri julg inst administr drj conhec direit creditóri recorr dev aus prov conform trech abaix send consider dctf retific entreg transmiss per dcomp traz aut quaisqu element comprobatóri crédit pleite concluis repar feit despach decisóri anális direit creditóri reconhec compens pretend recorr grau recurs voluntári acost document process defend sufici comprov exist crédit junt escritur contável digit sped contável declar compens process vis restitu quant pag títul tribut contribu administr receit feder brasil recolh indevid pag real dev form extinç crédit tribut previst legisl fiscal feder cab receit feder mun inform prest contribuint irpj dctf dirf etc verific liquid crédit pleite homolog compens import observ diplom norm reg matér artig códig tribut nacion artig lei dezembr deix cl necess exist diret creditóri líqu cert apresent per dcomp hipótes débit confess encontrar-se- extint cond resolutór ulteri homolog decis drj fundament primord aus comprov contável crédit ra posicion recorr acost document contábel fiscal empr comprov aleg determin apresent document comprobatóri identific crédit mer form determin legal conform determin artig lei artig lanç efetu bas declar sujeit passiv outr legisl tributár prest autoridad administr inform matér fat indispens efetiv retific declar inici declar vis reduz exclu tribut admiss medi comprov err fund notific lanç comprov cond admiss retific dctf realiz cas aut reduz tribut ano-calend dipj carát mer inform inform nel prest configur confiss dív instruç norm outubr extingu artig incis dirpj declar rend pesso juríd institu artig dipj declar inform econômico-fisc pesso juríd deix refer confiss tribut contribu pag ra simpl apresent dipj document contábel fiscal empr prov sufici atest liquid crédit tribut pleite autoridad julg outr orient princípi verdad mater apreci prov form livr convicç medi persuas racion decid bas element exist process mei prov direit admit princípi ampl defês outr gar contribuint direit defender-s plen fat fundament process administr document colacion recurs voluntári process analis discut drf drj pes recorr junt document grau recurs obedi verdad mater paut process administr formal moder permiss conced artig lei contribuint possibil junt document indispens defês manifest inconform est fim comprov direit creditóri cas err fat preench declar dctf cab contribuint prov direit aleg bast apresent declar retific document arrecad comprov document necess sufici aliás event acert retific dev sid providenci emiss despach decisóri faz oportun sed recurs mencion document acompanh escritur contável colacion prov equívoc preench declar figur óbic imped anális direit creditóri postul conform salient acim cas err fat preench declar junt aut element probatóri hábel acompanh document contábel comprov direit aleg equívoc preench dctf retific figur óbic imped anális direit creditóri vindic sent relev verific term parec norm cosit agost determin conclus expost conclui-s inform declar dctf orig retific confirm disponibil direit creditóri utiliz per dcomp torn crédit apt objet per dcomp difer inform prest rfb declar dipj dacon forç dispost artig in rfb prejuíz cas concret compet autoridad fiscal analis quest document decid indébit tribut imped dctf retific apresent per dcomp utiliz crédit pag inte aloc dctf orig retific dê indefer ped homolog compens respeit restr impost rfb retific dctf despach decisóri apresent manifest inconform tempes indefer per homolog dcomp drj baix dilig drf cas ref err fat revis despach decisóri impliqu defer integr crédit homolog integr dcomp cab drf proced cas direit decid revis parc compet órg julg administr decid lid prejuíz renúnc inst administr sujeit passiv proced retific dctf suspens anális rfb conform artig in rfb sid objet per dcomp consider julg refer indefer homolog per dcomp cas proced retific dctf encerr homolog julg refer direit creditóri lid objet fic prejudic dev process baix revis despach decisóri cas proced retific dctf encerr homolog retific process recurs ato administr contin apens process administr fiscal refer direit creditóri cab drj analis lid ocorr recurs homolog retific dctf autoridad administr comunic result anális drj inform consider anális manifest inconform indefer não-homolog per dcomp retific dctf sujeit passiv imped fazê-l decorr algum restr cont in rfb imped crédit inform per dcomp deca comprov mei objet per dcomp indefer homolog venh torn dispon retific dctf objet compens forç ved cont incis artig lei retific dctf send intempes manifest inconform anális ped revis ofíci per dcomp compet autoridad administr jurisd sujeit passiv observ restr parec norm setembr it admit retific dctf sed process anális per dcomp ciênc despach decisóri dad const declar converg dad per dcomp ampar document contábel empr ra ent hav preclus junt prov cas específ dev receit feder analis inform cont document junt recorr recurs voluntári luz document contábel junt aut verifica-s tratar-s hipótes ju anális unidad direit creditóri aleg expost vot prov parc recurs voluntári determin retorn aut unidad analis direit creditóri decorr pag indev consider dctf retific prov colacion pres aut recurs voluntári hav constat liquid crédit títul pag indev irpj realiz homolog dcomp',\n",
              "  {'irpf': False, 'irpj': True, 'ngdt': False, 'paf': False}],\n",
              " ['registr oportun cas vei julg recurs voluntári tempes recorr devid represent prelimin nulidad recorr aleg despach decisóri homolog dcomp nul fundament legal anális darf dipj dctf verifica-s real recorr atend intim drf apresent escrit contábel comerc fiscal limitou-s apresent declar acessór drf conclu sufici comprov err est dctf inic confess débit irpj csll estim mens observa-s refer despach decisóri consign disposi legal regulament bas conclu homolog dcomp entende-s convers julg inic dilig conced recorr oportun demonstr subsist crédit relat pag indev irpj csll estim mens sent cab rejeit prelimin nulidad adentrar-s mérit apreci result dilig conform seg mérit conform despach dilig retr transcrit recorr apresent livr ra contável cont ra analí balancet analí refer períod jan dezembr drf analis respec balancet analí conclu hav irpj pag refer abril certificou-s corret registr fich dipj inexist impost pag entant verificou-s registr linh fich dipj refer pag indevid títul estim mens obst omiss preench dipj certificou-s recorr utiliz pag subsequ refer dctf drf verific indic it declar orig irpj mai trim cont inform débit estim irpj cód retific dctf orig deu-s it quadr acim ciênc despach decisóri eletrôn exar control crédit scc relat dcomp ciênc deu-s cont registr débit dctf retific it transmit respectiv ciênc despach decisóri retific drf conclu retific hav registr refer débit estim irpj const dctf orig sent confirmou-s recorr apur prejuíz fiscal bas nega ano-calend conform balancet analí dipj transmit fat ger csll pag darf constitui-s pag indev pass utiliz compens folh certific drf dilig dev homolog per dcomp reconhec direit creditóri recorr expost vot prov recurs voluntári',\n",
              "  {'irpf': False, 'irpj': False, 'ngdt': True, 'paf': False}],\n",
              " ['recurs voluntári apresent atend pressupost admissibil send dign conhec surg pres lid respeit necess express declar homolog compens tel compuls aut verifica-s contribuint ped manifest inconform determin homolog compens autor conform seguint excert folh ant expost requ receb pres recurs mérit reconhec crédit recorr determinando-s homolog compens const per dcomp posteri declar compens retific corol lógic declar col colegi extint definitiv débit tribut term artig incis códig tribut nacion códig process civil pátri determin autoridad julg manifeste-s ped autor acolhendo- rejeitando- artig juiz proferir sentenç acolh rejeit ped formul autor cas extinç process julg mérit juiz decidir concis ent decis quo atend mist deix manifest homolog compens âmbit process judic omiss pod resolv medi embarg declar artig cpc contribuint ingress embarg declar dirig àquel autoridad folh todav âmbit process administr fiscal previs embarg declar destin aperfeiço decis inst ra ent cab tribun administr adoç med remedi omiss send turm julg anul decis recorr determin retorn aut profer decis apont omiss todav omiss repar consider recurs voluntári efeit devolu consider risc supress inst declar homolog compens infring decis quo dess possibil opç recaí decis defini colegi homen princípi econom process celer mérit verifica-s inform fiscal folh apont sald nega remanesc relat ano apont sald nega remanesc relat ano conform seguint excert folh sald nega csll exercíci fic exercíci sald sufici liquid estim compens declar estim compens perdcomp parc compens conform verif leit text som sald nega ano sufici quit estim apont prim dcomp quit parc estim dcomp saliente-s dcomp tel prim cit lev entend recorr compens integr homolog todav deve-s cont dcomp utiliz únic crédit conform apont decis recorr espéci autoridad julg quo adot sald nega ano crédit dcomp anális utiliz sald nega ano crédit dcomp conform seguint excert aplicando-s analog artig incis iii códig tribut nacion send aplic benéf interess fac decad considera-s crédit process sald nega csll ano-calend process sald nega ano-calend anális pres dcomp reconhec crédit sald nega remanesc ano conform apont refer inform fiscal superi indic decis recorr aquém crédit apont dcomp tel feit reconhec crédit parc expost vot sent prov parc recurs voluntári reconhec direit crédit declar homolog parc compens tel limit crédit dispon verific unidad jurisd contribuint',\n",
              "  {'irpf': False, 'irpj': False, 'ngdt': False, 'paf': True}]]"
            ]
          },
          "metadata": {
            "tags": []
          },
          "execution_count": 110
        }
      ]
    },
    {
      "cell_type": "markdown",
      "metadata": {
        "id": "QAV5QmMb39Fx"
      },
      "source": [
        "3.   Criar um modelo com as 4 categorias 'irpf', 'irpj', 'ngdt' e 'paf'"
      ]
    },
    {
      "cell_type": "code",
      "metadata": {
        "id": "klhuFLxWl3PD"
      },
      "source": [
        "modelo = spacy.blank('pt')\n",
        "categorias = modelo.create_pipe(\"textcat\")\n",
        "categorias.add_label(\"irpf\")\n",
        "categorias.add_label(\"ngdt\")\n",
        "categorias.add_label(\"irpj\")\n",
        "categorias.add_label(\"paf\")\n",
        "modelo.add_pipe(categorias)\n",
        "historico = []"
      ],
      "execution_count": null,
      "outputs": []
    },
    {
      "cell_type": "markdown",
      "metadata": {
        "id": "HDQj9gPW4BLO"
      },
      "source": [
        "4. Treinar o modelo definindo a quantidade de épocas e a quantidade de registros por batch"
      ]
    },
    {
      "cell_type": "code",
      "metadata": {
        "colab": {
          "base_uri": "https://localhost:8080/"
        },
        "id": "DKoG5J4Ql3PD",
        "outputId": "b79fcfcb-9a98-4384-fa5a-f3ff03a02718"
      },
      "source": [
        "#Rodou o treinamento em 9279s com 30 épocas passando de 512 em 512 registros, ou 14 batches por época.  \n",
        "#Treinamento com stemização\n",
        "modelo.begin_training()\n",
        "for epoca in range(30):  #número de épocas. 30\n",
        "  random.shuffle(base_dados_treinamento_final)\n",
        "  losses = {}\n",
        "  for batch in spacy.util.minibatch(base_dados_treinamento_final, 512): #número de registros passados. de quanto em quantos serão atualizados os pesos.\n",
        "    textos = [modelo(texto) for texto, entities in batch]\n",
        "    annotations = [{'cats': entities} for texto, entities in batch]\n",
        "    modelo.update(textos, annotations, losses=losses)\n",
        "    historico.append(losses)\n",
        "  if epoca % 5 == 0: #mostrar de 5 em 5 épocas.\n",
        "    print(losses)"
      ],
      "execution_count": null,
      "outputs": [
        {
          "output_type": "stream",
          "text": [
            "{'textcat': 4.677392530538782e-05}\n",
            "{'textcat': 4.3384017089920235e-06}\n",
            "{'textcat': 1.3050260108116163e-06}\n",
            "{'textcat': 7.340579983861062e-07}\n",
            "{'textcat': 4.5605212406485407e-07}\n",
            "{'textcat': 3.666806558388913e-07}\n"
          ],
          "name": "stdout"
        }
      ]
    },
    {
      "cell_type": "markdown",
      "metadata": {
        "id": "aO2uaAr74Ijm"
      },
      "source": [
        "5.   Guardar o histórico de progressão dos erros"
      ]
    },
    {
      "cell_type": "code",
      "metadata": {
        "id": "fSVKO1dBl3PE"
      },
      "source": [
        "#Obtém histórico da progressão dos erros para gerar gráfico\n",
        "historico_loss = []\n",
        "for i in historico:\n",
        "  historico_loss.append(i.get('textcat'))\n",
        "historico_loss = np.array(historico_loss)  "
      ],
      "execution_count": null,
      "outputs": []
    },
    {
      "cell_type": "markdown",
      "metadata": {
        "id": "16RP9CcT4MNW"
      },
      "source": [
        "6.   Exibir gráfico com a progressão dos erros"
      ]
    },
    {
      "cell_type": "code",
      "metadata": {
        "colab": {
          "base_uri": "https://localhost:8080/",
          "height": 312
        },
        "id": "JkueuDkBl3PE",
        "outputId": "ceac0fc9-44e6-4e11-8098-52e17420db77"
      },
      "source": [
        "#Exibe gráfico de linhas com a progressão do erro durante o treinamento\n",
        "plt.plot(historico_loss)\n",
        "plt.title('Progressão do erro')\n",
        "plt.xlabel('Batches')\n",
        "plt.ylabel('Erro')"
      ],
      "execution_count": null,
      "outputs": [
        {
          "output_type": "execute_result",
          "data": {
            "text/plain": [
              "Text(0, 0.5, 'Erro')"
            ]
          },
          "metadata": {
            "tags": []
          },
          "execution_count": 115
        },
        {
          "output_type": "display_data",
          "data": {
            "image/png": "[encoded data removed]",
            "text/plain": [
              "<Figure size 432x288 with 1 Axes>"
            ]
          },
          "metadata": {
            "tags": [],
            "needs_background": "light"
          }
        }
      ]
    },
    {
      "cell_type": "markdown",
      "metadata": {
        "id": "XHXz20rw4QW-"
      },
      "source": [
        "7.   Gravar modelo treinado no Drive"
      ]
    },
    {
      "cell_type": "code",
      "metadata": {
        "id": "UVmULircl3PE"
      },
      "source": [
        "#Salva modelo treinado no drive\n",
        "modelo.to_disk(\"/content/drive/MyDrive/mod_TCC_spacy_stemer\")"
      ],
      "execution_count": null,
      "outputs": []
    },
    {
      "cell_type": "markdown",
      "metadata": {
        "id": "RdgaCZqWlU-7"
      },
      "source": [
        "##Treino com palavras originais"
      ]
    },
    {
      "cell_type": "markdown",
      "metadata": {
        "id": "25Ql1YoC4ZAW"
      },
      "source": [
        "1. Ler arquivos do Drive gravados pelo notebook TCC_p01_preparar_X_treinamento_e_y_teste"
      ]
    },
    {
      "cell_type": "code",
      "metadata": {
        "id": "YZ38-XGjl5JO"
      },
      "source": [
        "#Recuperando os arquivos de treinamento após preprocessamento salvos no drive. Verificar qual X irá treinar, se lema, stemer ou origianl.\n",
        "url = '/content/drive/MyDrive/X_treinamento_original.csv' \n",
        "X_treinamento_original = pd.read_csv(url, sep=';', engine='python', encoding='windows-1252', low_memory=True, quotechar='\"', error_bad_lines=False)\n",
        "url = '/content/drive/MyDrive/y_treinamento_7124.csv' \n",
        "y_treinamento = pd.read_csv(url, sep=';', engine='python', encoding='windows-1252', low_memory=True, quotechar='\"', error_bad_lines=False)"
      ],
      "execution_count": null,
      "outputs": []
    },
    {
      "cell_type": "markdown",
      "metadata": {
        "id": "0KY8TgkF4dde"
      },
      "source": [
        "2.   Criar a base de treinamento para o SpaCy."
      ]
    },
    {
      "cell_type": "code",
      "metadata": {
        "colab": {
          "base_uri": "https://localhost:8080/",
          "height": 197
        },
        "id": "SGADaQoLl5JP",
        "outputId": "73163b40-e7fe-40ef-ac91-1c9a198d1aea"
      },
      "source": [
        "#Preparar a base para o treinamento, concatenando o X com o y. \n",
        "df_treinamento = pd.concat([X_treinamento_original, y_treinamento], axis=1, sort=False)\n",
        "df_treinamento.head()"
      ],
      "execution_count": null,
      "outputs": [
        {
          "output_type": "execute_result",
          "data": {
            "text/html": [
              "<div>\n",
              "<style scoped>\n",
              "    .dataframe tbody tr th:only-of-type {\n",
              "        vertical-align: middle;\n",
              "    }\n",
              "\n",
              "    .dataframe tbody tr th {\n",
              "        vertical-align: top;\n",
              "    }\n",
              "\n",
              "    .dataframe thead th {\n",
              "        text-align: right;\n",
              "    }\n",
              "</style>\n",
              "<table border=\"1\" class=\"dataframe\">\n",
              "  <thead>\n",
              "    <tr style=\"text-align: right;\">\n",
              "      <th></th>\n",
              "      <th>voto</th>\n",
              "      <th>assunto</th>\n",
              "    </tr>\n",
              "  </thead>\n",
              "  <tbody>\n",
              "    <tr>\n",
              "      <th>0</th>\n",
              "      <td>recurso tempestivo cumpre requisitos legais ad...</td>\n",
              "      <td>irpj</td>\n",
              "    </tr>\n",
              "    <tr>\n",
              "      <th>1</th>\n",
              "      <td>registrada oportunidade caso veio julgamento r...</td>\n",
              "      <td>ngdt</td>\n",
              "    </tr>\n",
              "    <tr>\n",
              "      <th>2</th>\n",
              "      <td>recurso voluntário apresentado atende pressupo...</td>\n",
              "      <td>paf</td>\n",
              "    </tr>\n",
              "    <tr>\n",
              "      <th>3</th>\n",
              "      <td>julgamento processo segue sistemática recursos...</td>\n",
              "      <td>irpj</td>\n",
              "    </tr>\n",
              "    <tr>\n",
              "      <th>4</th>\n",
              "      <td>julgamento processo segue sistemática recursos...</td>\n",
              "      <td>irpj</td>\n",
              "    </tr>\n",
              "  </tbody>\n",
              "</table>\n",
              "</div>"
            ],
            "text/plain": [
              "                                                voto assunto\n",
              "0  recurso tempestivo cumpre requisitos legais ad...    irpj\n",
              "1  registrada oportunidade caso veio julgamento r...    ngdt\n",
              "2  recurso voluntário apresentado atende pressupo...     paf\n",
              "3  julgamento processo segue sistemática recursos...    irpj\n",
              "4  julgamento processo segue sistemática recursos...    irpj"
            ]
          },
          "metadata": {
            "tags": []
          },
          "execution_count": 98
        }
      ]
    },
    {
      "cell_type": "code",
      "metadata": {
        "id": "jWrNBOaAl5JP"
      },
      "source": [
        "base_dados_treinamento_final = []\n",
        "for voto, assunto in zip(df_treinamento['voto'], df_treinamento['assunto']):\n",
        "  if assunto == 'irpf':\n",
        "    dic = ({'irpf': True, 'ngdt': False, 'irpj': False, 'paf': False}) \n",
        "  elif assunto == 'ngdt': \n",
        "    dic = ({'irpf': False, 'ngdt': True, 'irpj': False, 'paf': False})\n",
        "  elif assunto == 'irpj': \n",
        "    dic = ({'irpf': False, 'ngdt': False, 'irpj': True, 'paf': False})\n",
        "  elif assunto == 'paf': \n",
        "    dic = ({'irpf': False, 'ngdt': False, 'irpj': False, 'paf': True})\n",
        "  base_dados_treinamento_final.append([voto, dic.copy()])"
      ],
      "execution_count": null,
      "outputs": []
    },
    {
      "cell_type": "code",
      "metadata": {
        "colab": {
          "base_uri": "https://localhost:8080/"
        },
        "id": "fNjhbJ33l5JQ",
        "outputId": "92f06706-e803-43b6-81e7-cfc7ad19304e"
      },
      "source": [
        "base_dados_treinamento_final[:3]"
      ],
      "execution_count": null,
      "outputs": [
        {
          "output_type": "execute_result",
          "data": {
            "text/plain": [
              "[['recurso tempestivo cumpre requisitos legais admissibilidade razão tomo conhecimento passo apreciar recurso tempestivo cumpre requisitos legais admissibilidade razão tomo conhecimento passo apreciar recorrente apresentou dcomp razão pagamento irpj código darf compensação homologada características darf discriminado per dcomp acima identificado localizados pagamentos tendo recolhido sido integralmente utilizados quitação débitos contribuinte restando crédito disponível compensação débitos informados per dcomp recorrente declara recolheu título irpj darf pago recorrente verificou deveria recolhido promoveu retificação dctf dia peças defesa processo recorrente destaca efetuado retificação dctf esclarece equívoco dctf original motivou homologação declaração compensação retificação declaração ocorreu data posterior emissão despacho decisório julgamento instância administrativa drj conheceu direito creditório recorrente devido ausência provas conforme trecho abaixo sendo considerando dctf retificadora entregue transmissão per dcomp trazidos autos quaisquer elementos comprobatórios crédito pleiteado concluise reparo feito despacho decisório análise direito creditório reconhecido compensação pretendida recorrente grau recurso voluntário acostou documentos processo defende suficientes comprovar existência crédito junta escrituração contábil digital sped contábil declaração compensação processo visa restituir quantias pagas título tributos contribuições administrados receita federal brasil recolhidos indevidamente pago realmente devido formas extinção crédito tributário previsto legislação fiscal federal cabe receita federal munida informações prestadas contribuinte irpj dctf dirf etc verificar liquidez crédito pleiteado homologar compensação importante observar diplomas normativos regências matéria artigo código tributário nacional artigo lei dezembro deixam clara necessidade existência direto creditório líquido certo apresentação per dcomp hipótese débito confessado encontrar-se-ia extinto condição resolutória ulterior homologação decisão drj fundamentada primordialmente ausência comprovação contábil crédito razão posicionamento recorrente acostou documentos contábeis fiscais empresa comprovar alegações determinação apresentar documentos comprobatórios identificação crédito mero formalismo determinação legal conforme determina artigo lei artigo lançamento efetuado base declaração sujeito passivo outro legislação tributária presta autoridade administrativa informações matéria fato indispensáveis efetivação retificação declaração iniciativa declarante vise reduzir excluir tributo admissível mediante comprovação erro funde notificado lançamento comprovação condição admissão retificação dctf realizada caso autos reduz tributos ano-calendário dipj caráter meramente informativo informações nela prestadas configuram confissão dívida instrução normativa outubro extinguiu artigo inciso dirpj declaração rendimentos pessoa jurídica instituiu artigo dipj declaração informações econômico-fiscais pessoa jurídica deixou referência confissão tributos contribuições pagar razão simples apresentação dipj documentos contábeis fiscais empresa prova suficiente atestar liquidez crédito tributário pleiteado autoridade julgadora outro orientar princípio verdade material apreciação prova formar livremente convicção mediante persuasão racional decidindo base elementos existentes processo meios prova direito admitidos princípio ampla defesa outro garante contribuinte direito defender-se plenamente fatos fundamentos processo administrativo documentos colacionados recurso voluntário processo analisados discutidos drf drj pese recorrente juntado documentos grau recurso obediência verdade material pautar processos administrativos formalidade moderada permissão concedida artigo lei contribuinte possibilidade juntar documentos indispensáveis defesa manifestação inconformidade esteira fins comprovação direito creditório caso erro fato preenchimento declaração dctf cabe contribuinte provar direito alegado basta apresentar declarações retificadoras documentos arrecadação comprovantes documentos necessários suficientes aliás eventuais acertos retificações deveriam sido providenciados emissão despacho decisório fazendo oportuno sede recurso mencionada documentação acompanhada escrituração contábil colacionadas provas equívoco preenchimento declaração figurar óbice impedir análise direito creditório postulado conforme salientado acima caso erro fato preenchimento declaração juntado autos elementos probatórios hábeis acompanhados documentos contábeis comprovar direito alegado equívoco preenchimento dctf retificada figurar óbice impedir análise direito creditório vindicado sentido relevante verificar termos parecer normativo cosit agosto determina conclusão exposto conclui-se informações declaradas dctf original retificadora confirmam disponibilidade direito creditório utilizado per dcomp tornar crédito apto objeto per dcomp diferentes informações prestadas rfb declarações dipj dacon força disposto artigo in rfb prejuízo caso concreto competência autoridade fiscal analisar questões documentos decidir indébito tributário impedimento dctf retificada apresentado per dcomp utiliza crédito pagamento inteiramente alocado dctf original retificação dê indeferimento pedido homologação compensação respeitadas restrições impostas rfb retificada dctf despacho decisório apresentada manifestação inconformidade tempestiva indeferimento per homologação dcomp drj baixar diligência drf caso refira erro fato revisão despacho decisório implique deferimento integral crédito homologação integral dcomp cabe drf proceder caso direito decidida revisão parcial compete órgão julgador administrativo decidir lide prejuízo renúncia instância administrativa sujeito passivo procedimento retificação dctf suspenso análise rfb conforme artigo in rfb sido objeto per dcomp considerado julgamento referente indeferimento homologação per dcomp caso procedimento retificação dctf encerre homologação julgamento referente direito creditório lide objeto fica prejudicado devendo processo baixado revisão despacho decisório caso procedimento retificação dctf encerre homologação retificação processo recurso ato administrativo continência apensado processo administrativo fiscal referente direito creditório cabendo drj analisar lide ocorrendo recurso homologação retificação dctf autoridade administrativa comunicar resultado análise drj informação considerada análise manifestação inconformidade indeferimento não-homologação per dcomp retificação dctf sujeito passivo impedido fazê-la decorrência alguma restrição contida in rfb impede crédito informado per dcomp decaído comprovado meios objeto per dcomp indeferido homologado venha tornar disponível retificada dctf objeto compensação força vedação contida inciso artigo lei retificada dctf sendo intempestiva manifestação inconformidade análise pedido revisão ofício per dcomp compete autoridade administrativa jurisdição sujeito passivo observadas restrições parecer normativo setembro itens admitidas retificações dctf sede processo análise per dcomp ciência despacho decisório dados constantes declarações convergentes dados per dcomp amparadas documentos contábeis empresa razão entendo havido preclusão juntada provas caso específico devendo receita federal analisar informações contidas documentos juntados recorrente recurso voluntário luz documentos contábeis juntados autos verifica-se tratar-se hipótese jus análise unidade direito creditório alegado exposto voto provimento parcial recurso voluntário determinar retorno autos unidade analisar direito creditório decorrente pagamento indevido considerando dctf retificadora provas colacionadas presentes autos recurso voluntário havendo constatação liquidez crédito título pagamento indevido irpj realizada homologação dcomp',\n",
              "  {'irpf': False, 'irpj': True, 'ngdt': False, 'paf': False}],\n",
              " ['registrada oportunidade caso veio julgamento recurso voluntário tempestivo recorrente devidamente representada preliminar nulidade recorrente alega despacho decisório homologou dcomp nulo fundamentação legal análise darf dipj dctf verifica-se realidade recorrente atendeu intimações drf apresentação escritas contábeis comerciais fiscais limitou-se apresentar declarações acessórias drf concluiu suficientes comprovar erro estaria dctf inicialmente confessou débito irpj csll estimativa mensal observa-se referido despacho decisório consignou dispositivos legais regulamentares base concluiu homologar dcomp entende-se conversão julgamento inicial diligência concedeu recorrente oportunidade demonstrar subsistência crédito relativo pagamento indevido irpj csll estimativa mensal sentido cabe rejeitar preliminar nulidade adentrar-se mérito apreciação resultado diligência conforme segue mérito conformidade despacho diligência retro transcrito recorrente apresentou livros razão contábil contendo razão analítico balancete analítico referente períodos janeiro dezembro drf analisou respectivo balancete analítico concluiu havia irpj pagar referente abril certificou-se correto registro ficha dipj inexistência imposto pagar entanto verificou-se registro linha ficha dipj referido pago indevidamente título estimativa mensal obstante omissão preenchimento dipj certificou-se recorrente utilizou pagamento subsequentes referidas dctfs drf verificou indicada item declaração original irpj mai trim continha informação débito estimativa irpj cód retificadora dctf original deu-se item quadro acima ciência despachos decisórios eletrônicos exarados controle crédito scc relativos dcomps ciência deu-se contendo registro débito dctf retificadoras itens transmitidas respectivamente ciência despacho decisório retificadoras drf concluiu retificação havia registro referido débito estimativa irpj constava dctf original sentido confirmou-se recorrente apurou prejuízo fiscal base negativa ano-calendário conforme balancete analítico dipj transmitida fato gerador csll pagamento darf constitui-se pagamento indevido passível utilização compensação folha certificada drf diligência devida homologação per dcomp reconhecimento direito creditório recorrente exposto voto provimento recurso voluntário',\n",
              "  {'irpf': False, 'irpj': False, 'ngdt': True, 'paf': False}],\n",
              " ['recurso voluntário apresentado atende pressupostos admissibilidade sendo digno conhecimento surge presente lide respeito necessidade expressa declaração homologação compensação tela compulsando autos verifica-se contribuinte pediu manifestação inconformidade determinada homologação compensação autoria conforme seguinte excerto folha ante exposto requer recebido presente recurso mérito reconhecido crédito recorrente determinando-se homologação compensação constante per dcomp posterior declaração compensação retificadora corolário lógico declarando colendo colegiado extinto definitivamente débito tributário termos artigo inciso código tributário nacional código processo civil pátrio determina autoridade julgadora manifeste-se pedido autor acolhendo-o rejeitando-o artigo juiz proferirá sentença acolhendo rejeitando pedido formulado autor casos extinção processo julgamento mérito juiz decidirá concisa entendo decisão quo atendeu mister deixou manifestar homologação compensação âmbito processo judicial omissão poderia resolvida mediante embargos declaração artigo cpc contribuinte ingressou embargos declaração dirigidos àquela autoridade folha todavia âmbito processo administrativo fiscal previsão embargos declaração destinados aperfeiçoar decisão instância razão entendo cabe tribunal administrativo adoção medida remediadora omissão senda turma julgamento anular decisão recorrida determinar retorno autos proferida decisão apontada omissão todavia omissão reparada considerando recurso voluntário efeito devolutivo considerando risco supressão instância declaração homologação compensação infringir decisão quo dessas possibilidade opção recaí decisão definitiva colegiado homenagem princípios economia processual celeridade mérito verifica-se informação fiscal folha apontou saldo negativo remanescente relativo ano apontou saldo negativo remanescente relativo ano conforme seguinte excerto folha saldo negativo csll exercício ficaria exercício saldos suficientes liquidar estimativas compensadas declarações estimativas compensadas perdcomp parcialmente compensadas conforme verifica leitura texto soma saldos negativos anos suficiente quitar estimativas apontadas primeiras dcomp quitaria parcialmente estimativas dcomp saliente-se dcomp tela primeiras citadas levou entendimento recorrente compensação integralmente homologada todavia deve-se conta dcomp utilizar único crédito conforme apontado decisão recorrida espécie autoridade julgadora quo adotou saldo negativo ano crédito dcomp análise utilizando saldo negativo ano crédito dcomp conforme seguinte excerto aplicando-se analogia artigo inciso iii código tributário nacional sendo aplicação benéfica interessada face decadência considera-se crédito processo saldo negativo csll ano-calendário processo saldo negativo ano-calendário análise presente dcomp reconhecido crédito saldo negativo remanescente ano conforme apontado referida informação fiscal superior indicado decisão recorrida aquém crédito apontado dcomp tela feita reconhecimento crédito parcial exposto voto sentido provimento parcial recurso voluntário reconhecendo direito crédito declarando homologação parcial compensação tela limite crédito disponível verificado unidade jurisdição contribuinte',\n",
              "  {'irpf': False, 'irpj': False, 'ngdt': False, 'paf': True}]]"
            ]
          },
          "metadata": {
            "tags": []
          },
          "execution_count": 100
        }
      ]
    },
    {
      "cell_type": "markdown",
      "metadata": {
        "id": "7t1YUqtH4gw-"
      },
      "source": [
        "3.   Criar um modelo com as 4 categorias 'irpf', 'irpj', 'ngdt' e 'paf'"
      ]
    },
    {
      "cell_type": "code",
      "metadata": {
        "id": "TjjxWZc-lsBd"
      },
      "source": [
        "modelo = spacy.blank('pt')\n",
        "categorias = modelo.create_pipe(\"textcat\")\n",
        "categorias.add_label(\"irpf\")\n",
        "categorias.add_label(\"ngdt\")\n",
        "categorias.add_label(\"irpj\")\n",
        "categorias.add_label(\"paf\")\n",
        "modelo.add_pipe(categorias)\n",
        "historico = []"
      ],
      "execution_count": null,
      "outputs": []
    },
    {
      "cell_type": "markdown",
      "metadata": {
        "id": "8-qsM7Y74lMW"
      },
      "source": [
        "4. Treinar o modelo definindo a quantidade de épocas e a quantidade de registros por batch"
      ]
    },
    {
      "cell_type": "code",
      "metadata": {
        "colab": {
          "base_uri": "https://localhost:8080/"
        },
        "id": "4dF8Rl3tle4i",
        "outputId": "3f66b0fe-c790-401d-dc7a-236ba70b37da"
      },
      "source": [
        "#Rodou o treinamento em 10548s com 30 épocas passando de 512 em 512 registros, ou 14 batches por época. \n",
        "#Treinamento mantendo as palavras originais\n",
        "modelo.begin_training()\n",
        "for epoca in range(30):  #número de épocas. 30\n",
        "  random.shuffle(base_dados_treinamento_final)\n",
        "  losses = {}\n",
        "  for batch in spacy.util.minibatch(base_dados_treinamento_final, 512): #número de registros passados. de quanto em quantos serão atualizados os pesos.\n",
        "    textos = [modelo(texto) for texto, entities in batch]\n",
        "    annotations = [{'cats': entities} for texto, entities in batch]\n",
        "    modelo.update(textos, annotations, losses=losses)\n",
        "    historico.append(losses)\n",
        "  if epoca % 5 == 0: #mostrar de 5 em 5 épocas.\n",
        "    print(losses)"
      ],
      "execution_count": null,
      "outputs": [
        {
          "output_type": "stream",
          "text": [
            "{'textcat': 4.736840742225468e-05}\n",
            "{'textcat': 5.0551574020119006e-06}\n",
            "{'textcat': 1.7112581609524113e-06}\n",
            "{'textcat': 7.767493848120921e-07}\n",
            "{'textcat': 5.685812745070962e-07}\n",
            "{'textcat': 4.642640130114728e-07}\n"
          ],
          "name": "stdout"
        }
      ]
    },
    {
      "cell_type": "markdown",
      "metadata": {
        "id": "g0hzAX6x4pu2"
      },
      "source": [
        "5.   Guardar o histórico de progressão dos erros"
      ]
    },
    {
      "cell_type": "code",
      "metadata": {
        "id": "fvoV5lRrle4q"
      },
      "source": [
        "#Obtém histórico da progressão dos erros para gerar gráfico\n",
        "historico_loss = []\n",
        "for i in historico:\n",
        "  historico_loss.append(i.get('textcat'))\n",
        "historico_loss = np.array(historico_loss)"
      ],
      "execution_count": null,
      "outputs": []
    },
    {
      "cell_type": "markdown",
      "metadata": {
        "id": "xIcgC96h4tUm"
      },
      "source": [
        "6.   Exibir gráfico com a progressão dos erros"
      ]
    },
    {
      "cell_type": "code",
      "metadata": {
        "colab": {
          "base_uri": "https://localhost:8080/",
          "height": 312
        },
        "id": "zGSi7xo3le4r",
        "outputId": "08e56f72-7940-4cfa-b4cf-3f1be39645d0"
      },
      "source": [
        "#Exibe gráfico de linhas com a progressão do erro durante o treinamento\n",
        "plt.plot(historico_loss)\n",
        "plt.title('Progressão do erro')\n",
        "plt.xlabel('Batches')\n",
        "plt.ylabel('Erro')"
      ],
      "execution_count": null,
      "outputs": [
        {
          "output_type": "execute_result",
          "data": {
            "text/plain": [
              "Text(0, 0.5, 'Erro')"
            ]
          },
          "metadata": {
            "tags": []
          },
          "execution_count": 105
        },
        {
          "output_type": "display_data",
          "data": {
            "image/png": "[encoded data removed]",
            "text/plain": [
              "<Figure size 432x288 with 1 Axes>"
            ]
          },
          "metadata": {
            "tags": [],
            "needs_background": "light"
          }
        }
      ]
    },
    {
      "cell_type": "code",
      "metadata": {
        "id": "vUADzZq7le4r"
      },
      "source": [
        "#Salva modelo treinado no drive\n",
        "modelo.to_disk(\"/content/drive/MyDrive/mod_TCC_spacy_original\")"
      ],
      "execution_count": null,
      "outputs": []
    },
    {
      "cell_type": "markdown",
      "metadata": {
        "id": "6I9jB8p1q7BX"
      },
      "source": [
        "# Etapa 3: Avaliação na base de teste\n",
        "\n",
        "0.   Função preprocessamento. \n",
        "*   A descrição desta função encontra-se no notebook *TCC_p01_preparar_X_treinamento_e_y_teste*. É a mesma função. Pensei em deixá-la em uma biblioteca minha no drive para importá-la como no exemplo abaixo, mas tive problemas com referências e optei por simplesmente replicá-la em todos os notebooks nos quais irei utilizá-la.\n",
        ">\n",
        "```\n",
        "import sys\n",
        "sys.path.append('/content/drive/MyDrive')\n",
        "import libSandro\n",
        "libSandro.preprocessamento()\n",
        "```\n",
        "\n",
        "1.   Carregar modelo treinado\n",
        "2.   Carregar dataframes de teste, X_teste e y_teste, salvos no Drive\n",
        "3.   Fazer o preprocessamento escolhendo lematização, stemização ou mantendo as palavras originais.\n",
        "4.   Criar df concatenando X_teste['voto'] após preprocessamento com y_teste['assunto']\n",
        "5.   Executar o modelo treinando para fazer as previsões\n",
        "6.   Selecionar a previsão final pela categoria de maior probabilidade\n",
        "*    Criar array indicando a categoria (literal irpf, irpj, ngdt ou paf). As previsões são retornas como um lista contendo dicionários com a probabilidade do voto ser uma das 4 categorias.\n",
        "*   Exemplo do resultado em probabilidade:\n",
        ">\n",
        "```\n",
        "[{'irpf': 0.0437471978366375,\n",
        "  'irpj': 0.04022695869207382,\n",
        "  'ngdt': 0.008066747337579727,\n",
        "  'paf': 0.8190984129905701},...\n",
        "```\n",
        "\n",
        "7.   Obter as respostas reais da variável alvo\n",
        "8.   Apurar a acurácia\n",
        "9.   Mostrar o mapa de calor da matriz de confusão\n",
        "\n"
      ]
    },
    {
      "cell_type": "markdown",
      "metadata": {
        "id": "drX9I_N2AohD"
      },
      "source": [
        "0.   Função preprocessamento. "
      ]
    },
    {
      "cell_type": "code",
      "metadata": {
        "id": "Jf9XskhqcV6h"
      },
      "source": [
        "def preprocessamento(texto, tipo):\n",
        "  \"\"\"\n",
        "  Faz uma limpeza do texto recebido excluíndo pontuações, stop words, números em moedas, leis, etc, letras soltas, palavras com duas letras, \n",
        "  hífens iniciais, r$, espaços duplos e símbolos.  \n",
        "  O objetivo é deixar apenas palavras que serão a base para as classificações.\n",
        "\n",
        "  :parâmetro texto: recebe o texto integral de um voto.\n",
        "  :parâmetro tipo: escolher entre 'lema', 'stemer' e 'original'. Lema faz lematização das palavras, stemer faz a stemização e original mantém as palavras sem alterações.\n",
        "  :retorno str_lista: string com a lista das palavras do voto após a limpeza dos dados.  \n",
        "\n",
        "  \"\"\"\n",
        "\n",
        "  texto = texto.lower()\n",
        "  texto = re.sub('([¹²³£¢¬§ªº°]{1})', ' ', texto) #excluir o símbolos listados\n",
        "  texto = re.sub('([!\"#%&\\'\\(\\)\\*\\+,\\./:;<=>\\?@\\[\\]\\^_`\\{\\|\\}~]{1})', ' ', texto) #excluir as pontuações, exceto o hífen\n",
        "  texto = re.sub('([0-9]*)[\\.]*([0-9]+,[0-9]+)', ' ', texto)  #excluir valores com decimais após vírgulas 10.000,00 30,00\n",
        "  texto = re.sub('([0-9]+)[.]+([0-9]+)\\/([0-9]+)', ' ', texto) #excluir valores tipo leis 9.420/99\n",
        "  texto = re.sub('([0-9]+)\\/([0-9]+)', ' ', texto) #excluir valores tipo leis 70/99\n",
        "  texto = re.sub('([0-9]+)', ' ', texto) #excluir números\n",
        "  texto = re.sub('( [a-z]{1} )', ' ', texto) #excluir letras soltas\n",
        "  texto = re.sub('( [a-z]{2} )', ' ', texto) #excluir palavras com 2 letras\n",
        "  texto = re.sub(' -([a-z]*)', r'\\1', texto) #excluir hífens iniciais\n",
        "  texto = texto.replace('r$', ' ') #excluir r$\n",
        "  texto = re.sub('( [ ]*)', ' ', texto) #excluir espaços duplos\n",
        "\n",
        "  documento = pln(texto)\n",
        "  lista = [token.text for token in documento if token.text not in stop_words and token.text not in string.punctuation]\n",
        "  str_lista = ' '.join([str(elemento) for elemento in lista if not elemento.isdigit()])\n",
        "  documento = pln(str_lista)\n",
        "  \n",
        "  lista = []\n",
        "  if tipo == 'lema': # Lematização\n",
        "    for token in documento:\n",
        "      lista.append(token.lemma_)  \n",
        "  elif tipo == 'stemer':\n",
        "    for token in documento:\n",
        "      stemmer = nltk.stem.RSLPStemmer()\n",
        "      lista.append(stemmer.stem(token.text))\n",
        "  else: #'original' ou qualquer outro valor\n",
        "    for token in documento:\n",
        "      lista.append(token.text)    \n",
        "\n",
        "  str_lista = ' '.join([str(elemento) for elemento in lista if not elemento.isdigit()])\n",
        "  \n",
        "  return str_lista"
      ],
      "execution_count": null,
      "outputs": []
    },
    {
      "cell_type": "markdown",
      "metadata": {
        "id": "XvAmAnF6cipP"
      },
      "source": [
        "#Teste com stemização"
      ]
    },
    {
      "cell_type": "markdown",
      "metadata": {
        "id": "fh1AT7rd60u0"
      },
      "source": [
        "1.   Carregar modelo treinado"
      ]
    },
    {
      "cell_type": "code",
      "metadata": {
        "id": "0f9wRSPoq3mE",
        "colab": {
          "base_uri": "https://localhost:8080/"
        },
        "outputId": "b8935fed-0071-4b67-a735-ec2d8c46f1cb"
      },
      "source": [
        "modelo_carregado = spacy.load('/content/drive/MyDrive/mod_TCC_spacy_stemer')\n",
        "modelo_carregado"
      ],
      "execution_count": null,
      "outputs": [
        {
          "output_type": "execute_result",
          "data": {
            "text/plain": [
              "<spacy.lang.pt.Portuguese at 0x7ff01c540190>"
            ]
          },
          "metadata": {
            "tags": []
          },
          "execution_count": 145
        }
      ]
    },
    {
      "cell_type": "markdown",
      "metadata": {
        "id": "VlWzXLcr65fP"
      },
      "source": [
        "2.   Carregar dataframes de teste, X_teste e y_teste, salvos no Drive"
      ]
    },
    {
      "cell_type": "code",
      "metadata": {
        "id": "54zZMElTLJSi"
      },
      "source": [
        "#Recuperando os arquivos de teste salvos no drive. \n",
        "url = '/content/drive/MyDrive/X_teste_1781.csv' \n",
        "X_teste = pd.read_csv(url, sep=';', engine='python', encoding='windows-1252', low_memory=True) \n",
        "url = '/content/drive/MyDrive/y_teste_1781.csv' \n",
        "y_teste = pd.read_csv(url, sep=';', engine='python', encoding='windows-1252', low_memory=True) "
      ],
      "execution_count": null,
      "outputs": []
    },
    {
      "cell_type": "markdown",
      "metadata": {
        "id": "i1mF3mg06-nP"
      },
      "source": [
        "3.   Fazer o preprocessamento escolhendo lematização, stemização ou mantendo as palavras originais."
      ]
    },
    {
      "cell_type": "code",
      "metadata": {
        "id": "YRF7E2FtHU7_"
      },
      "source": [
        "#rodar preprocessamento selecionando lematização (lema), stemização (stemer) ou original (original). \n",
        "X_teste['voto'] = X_teste['voto'].apply(preprocessamento, args=('stemer',))"
      ],
      "execution_count": null,
      "outputs": []
    },
    {
      "cell_type": "markdown",
      "metadata": {
        "id": "gORyYugt7HhC"
      },
      "source": [
        "4.   Criar df concatenando X_teste['voto'] após preprocessamento com y_teste['assunto']"
      ]
    },
    {
      "cell_type": "code",
      "metadata": {
        "colab": {
          "base_uri": "https://localhost:8080/",
          "height": 197
        },
        "id": "PLA1DU21qgbW",
        "outputId": "a92dfdb2-3c16-42a2-9111-803ddf9c331b"
      },
      "source": [
        "df = pd.concat([X_teste, y_teste], axis=1, sort=False)\n",
        "df.head()"
      ],
      "execution_count": null,
      "outputs": [
        {
          "output_type": "execute_result",
          "data": {
            "text/html": [
              "<div>\n",
              "<style scoped>\n",
              "    .dataframe tbody tr th:only-of-type {\n",
              "        vertical-align: middle;\n",
              "    }\n",
              "\n",
              "    .dataframe tbody tr th {\n",
              "        vertical-align: top;\n",
              "    }\n",
              "\n",
              "    .dataframe thead th {\n",
              "        text-align: right;\n",
              "    }\n",
              "</style>\n",
              "<table border=\"1\" class=\"dataframe\">\n",
              "  <thead>\n",
              "    <tr style=\"text-align: right;\">\n",
              "      <th></th>\n",
              "      <th>voto</th>\n",
              "      <th>assunto</th>\n",
              "    </tr>\n",
              "  </thead>\n",
              "  <tbody>\n",
              "    <tr>\n",
              "      <th>0</th>\n",
              "      <td>acord despach admissibil embarg declar recurs ...</td>\n",
              "      <td>paf</td>\n",
              "    </tr>\n",
              "    <tr>\n",
              "      <th>1</th>\n",
              "      <td>fat ensej autu objet pres aut relat acórd reco...</td>\n",
              "      <td>irpj</td>\n",
              "    </tr>\n",
              "    <tr>\n",
              "      <th>2</th>\n",
              "      <td>recurs tempes atend requisit admissibil tom co...</td>\n",
              "      <td>irpf</td>\n",
              "    </tr>\n",
              "    <tr>\n",
              "      <th>3</th>\n",
              "      <td>recurs voluntári apresent recorr atend requisi...</td>\n",
              "      <td>irpj</td>\n",
              "    </tr>\n",
              "    <tr>\n",
              "      <th>4</th>\n",
              "      <td>pres pressupost admissibil tempes conheç recur...</td>\n",
              "      <td>irpf</td>\n",
              "    </tr>\n",
              "  </tbody>\n",
              "</table>\n",
              "</div>"
            ],
            "text/plain": [
              "                                                voto assunto\n",
              "0  acord despach admissibil embarg declar recurs ...     paf\n",
              "1  fat ensej autu objet pres aut relat acórd reco...    irpj\n",
              "2  recurs tempes atend requisit admissibil tom co...    irpf\n",
              "3  recurs voluntári apresent recorr atend requisi...    irpj\n",
              "4  pres pressupost admissibil tempes conheç recur...    irpf"
            ]
          },
          "metadata": {
            "tags": []
          },
          "execution_count": 148
        }
      ]
    },
    {
      "cell_type": "markdown",
      "metadata": {
        "id": "fKAScRzL7Mey"
      },
      "source": [
        "5.   Executar o modelo treinando para fazer as previsões"
      ]
    },
    {
      "cell_type": "code",
      "metadata": {
        "id": "RZ4giqYW1hw4"
      },
      "source": [
        "previsoes = []\n",
        "for voto in df['voto']:\n",
        " # print(voto)\n",
        "  previsao = modelo_carregado(voto)\n",
        "  previsoes.append(previsao.cats)"
      ],
      "execution_count": null,
      "outputs": []
    },
    {
      "cell_type": "markdown",
      "metadata": {
        "id": "-lFNeX1-7Qaa"
      },
      "source": [
        "6.   Selecionar a previsão final pela categoria de maior probabilidade"
      ]
    },
    {
      "cell_type": "code",
      "metadata": {
        "id": "Y7MpSvS4F8xv"
      },
      "source": [
        "previsoes_final = []\n",
        "for previsao in previsoes:\n",
        "  if previsao['irpf'] > previsao['irpj'] and previsao['irpf'] > previsao['ngdt'] and previsao['irpf'] > previsao['paf']:\n",
        "    previsoes_final.append('irpf')\n",
        "  elif previsao['irpj'] > previsao['irpf'] and previsao['irpj'] > previsao['ngdt'] and previsao['irpj'] > previsao['paf']:\n",
        "    previsoes_final.append('irpj')\n",
        "  elif previsao['ngdt'] > previsao['irpf'] and previsao['ngdt'] > previsao['irpj'] and previsao['ngdt'] > previsao['paf']:\n",
        "    previsoes_final.append('ngdt')\n",
        "  elif previsao['paf'] > previsao['irpf'] and previsao['paf'] > previsao['ngdt'] and previsao['paf'] > previsao['irpj']:\n",
        "    previsoes_final.append('paf')    \n",
        "previsoes_final = np.array(previsoes_final)"
      ],
      "execution_count": null,
      "outputs": []
    },
    {
      "cell_type": "markdown",
      "metadata": {
        "id": "yLZzzXje9SQR"
      },
      "source": [
        "7.   Obter as respostas reais da variável alvo"
      ]
    },
    {
      "cell_type": "code",
      "metadata": {
        "id": "rgoCy1SXGEkw",
        "colab": {
          "base_uri": "https://localhost:8080/"
        },
        "outputId": "00a1e5dc-852d-4ae3-b625-bed0787c6f3d"
      },
      "source": [
        "respostas_reais = df['assunto'].values\n",
        "respostas_reais[0:10]"
      ],
      "execution_count": null,
      "outputs": [
        {
          "output_type": "execute_result",
          "data": {
            "text/plain": [
              "array(['paf', 'irpj', 'irpf', 'irpj', 'irpf', 'irpj', 'irpf', 'paf',\n",
              "       'ngdt', 'irpf'], dtype=object)"
            ]
          },
          "metadata": {
            "tags": []
          },
          "execution_count": 153
        }
      ]
    },
    {
      "cell_type": "markdown",
      "metadata": {
        "id": "6-9dOctx9eV_"
      },
      "source": [
        "8.   Apurar a acurácia"
      ]
    },
    {
      "cell_type": "code",
      "metadata": {
        "id": "HbpqmtMlGJ0T",
        "colab": {
          "base_uri": "https://localhost:8080/"
        },
        "outputId": "811f73e4-8400-4ccc-ab91-b3b11702c581"
      },
      "source": [
        "accuracy_score(respostas_reais, previsoes_final)"
      ],
      "execution_count": null,
      "outputs": [
        {
          "output_type": "execute_result",
          "data": {
            "text/plain": [
              "0.8500842223469961"
            ]
          },
          "metadata": {
            "tags": []
          },
          "execution_count": 154
        }
      ]
    },
    {
      "cell_type": "markdown",
      "metadata": {
        "id": "c1aKOObm9yan"
      },
      "source": [
        "9.   Mostrar o mapa de calor da matriz de confusão"
      ]
    },
    {
      "cell_type": "code",
      "metadata": {
        "colab": {
          "base_uri": "https://localhost:8080/",
          "height": 334
        },
        "id": "qfj0lhLzQCFY",
        "outputId": "6273d1b4-1805-485a-c7cc-d6dc9b956c5c"
      },
      "source": [
        "rotulos_plt_cm = ['irpj', 'irpf', 'ngdt', 'paf']\n",
        "conf_mat_nb = confusion_matrix(respostas_reais, previsoes_final)\n",
        "fig, ax = plt.subplots(figsize=(5,5))\n",
        "sns.heatmap(conf_mat_nb, annot=True, fmt='d',\n",
        "            xticklabels=rotulos_plt_cm, yticklabels=rotulos_plt_cm)\n",
        "plt.ylabel('Verdade')\n",
        "plt.xlabel('Previsão')\n",
        "plt.show()"
      ],
      "execution_count": null,
      "outputs": [
        {
          "output_type": "display_data",
          "data": {
            "image/png": "[encoded data removed]",
            "text/plain": [
              "<Figure size 360x360 with 2 Axes>"
            ]
          },
          "metadata": {
            "tags": [],
            "needs_background": "light"
          }
        }
      ]
    },
    {
      "cell_type": "markdown",
      "metadata": {
        "id": "DDzrWUv9c8RI"
      },
      "source": [
        "#Teste com lema"
      ]
    },
    {
      "cell_type": "markdown",
      "metadata": {
        "id": "rxWxWQjTAu1t"
      },
      "source": [
        "1.   Carregar modelo treinado"
      ]
    },
    {
      "cell_type": "code",
      "metadata": {
        "colab": {
          "base_uri": "https://localhost:8080/"
        },
        "id": "JgPfCJQQc8RJ",
        "outputId": "f5328f59-312e-40b5-b9c6-2caf28edd97d"
      },
      "source": [
        "modelo_carregado = spacy.load('/content/drive/MyDrive/mod_TCC_spacy_lema')\n",
        "modelo_carregado"
      ],
      "execution_count": null,
      "outputs": [
        {
          "output_type": "execute_result",
          "data": {
            "text/plain": [
              "<spacy.lang.pt.Portuguese at 0x7ff01f4685d0>"
            ]
          },
          "metadata": {
            "tags": []
          },
          "execution_count": 117
        }
      ]
    },
    {
      "cell_type": "markdown",
      "metadata": {
        "id": "9K0lUuX3AzU6"
      },
      "source": [
        "2.   Carregar dataframes de teste, X_teste e y_teste, salvos no Drive"
      ]
    },
    {
      "cell_type": "code",
      "metadata": {
        "id": "GKQrHHTAc8RK"
      },
      "source": [
        "#Recuperando os arquivos de teste salvos no drive. \n",
        "url = '/content/drive/MyDrive/X_teste_1781.csv' \n",
        "X_teste = pd.read_csv(url, sep=';', engine='python', encoding='windows-1252', low_memory=True) \n",
        "url = '/content/drive/MyDrive/y_teste_1781.csv' \n",
        "y_teste = pd.read_csv(url, sep=';', engine='python', encoding='windows-1252', low_memory=True) "
      ],
      "execution_count": null,
      "outputs": []
    },
    {
      "cell_type": "markdown",
      "metadata": {
        "id": "skwiq1RlA2zh"
      },
      "source": [
        "3.   Fazer o preprocessamento escolhendo lematização, stemização ou mantendo as palavras originais."
      ]
    },
    {
      "cell_type": "code",
      "metadata": {
        "id": "HoUK2YQvc8RK"
      },
      "source": [
        "#rodar preprocessamento selecionando lematização (lema), stemização (stemer) ou original (original). \n",
        "X_teste['voto'] = X_teste['voto'].apply(preprocessamento, args=('lema',))"
      ],
      "execution_count": null,
      "outputs": []
    },
    {
      "cell_type": "markdown",
      "metadata": {
        "id": "h_RgXz4RA8Rq"
      },
      "source": [
        "4.   Criar df concatenando X_teste['voto'] após preprocessamento com y_teste['assunto']"
      ]
    },
    {
      "cell_type": "code",
      "metadata": {
        "colab": {
          "base_uri": "https://localhost:8080/",
          "height": 197
        },
        "id": "DR0f91f1c8RK",
        "outputId": "103fadca-0642-4d65-e507-a0b683836d41"
      },
      "source": [
        "df = pd.concat([X_teste, y_teste], axis=1, sort=False)\n",
        "df.head()"
      ],
      "execution_count": null,
      "outputs": [
        {
          "output_type": "execute_result",
          "data": {
            "text/html": [
              "<div>\n",
              "<style scoped>\n",
              "    .dataframe tbody tr th:only-of-type {\n",
              "        vertical-align: middle;\n",
              "    }\n",
              "\n",
              "    .dataframe tbody tr th {\n",
              "        vertical-align: top;\n",
              "    }\n",
              "\n",
              "    .dataframe thead th {\n",
              "        text-align: right;\n",
              "    }\n",
              "</style>\n",
              "<table border=\"1\" class=\"dataframe\">\n",
              "  <thead>\n",
              "    <tr style=\"text-align: right;\">\n",
              "      <th></th>\n",
              "      <th>voto</th>\n",
              "      <th>assunto</th>\n",
              "    </tr>\n",
              "  </thead>\n",
              "  <tbody>\n",
              "    <tr>\n",
              "      <th>0</th>\n",
              "      <td>acordar despachar admissibilidade embargo decl...</td>\n",
              "      <td>paf</td>\n",
              "    </tr>\n",
              "    <tr>\n",
              "      <th>1</th>\n",
              "      <td>fato ensejar autuação objeto presente auto rel...</td>\n",
              "      <td>irpj</td>\n",
              "    </tr>\n",
              "    <tr>\n",
              "      <th>2</th>\n",
              "      <td>recurso tempestivo ater requisito admissibilid...</td>\n",
              "      <td>irpf</td>\n",
              "    </tr>\n",
              "    <tr>\n",
              "      <th>3</th>\n",
              "      <td>recurso voluntário apresentar recorrente ater ...</td>\n",
              "      <td>irpj</td>\n",
              "    </tr>\n",
              "    <tr>\n",
              "      <th>4</th>\n",
              "      <td>presentar pressupor admissibilidade tempestivo...</td>\n",
              "      <td>irpf</td>\n",
              "    </tr>\n",
              "  </tbody>\n",
              "</table>\n",
              "</div>"
            ],
            "text/plain": [
              "                                                voto assunto\n",
              "0  acordar despachar admissibilidade embargo decl...     paf\n",
              "1  fato ensejar autuação objeto presente auto rel...    irpj\n",
              "2  recurso tempestivo ater requisito admissibilid...    irpf\n",
              "3  recurso voluntário apresentar recorrente ater ...    irpj\n",
              "4  presentar pressupor admissibilidade tempestivo...    irpf"
            ]
          },
          "metadata": {
            "tags": []
          },
          "execution_count": 120
        }
      ]
    },
    {
      "cell_type": "markdown",
      "metadata": {
        "id": "Thtv-gveA_gl"
      },
      "source": [
        "5.   Executar o modelo treinando para fazer as previsões"
      ]
    },
    {
      "cell_type": "code",
      "metadata": {
        "id": "n26uu5Spc8RL"
      },
      "source": [
        "previsoes = []\n",
        "for voto in df['voto']:\n",
        " # print(voto)\n",
        "  previsao = modelo_carregado(voto)\n",
        "  previsoes.append(previsao.cats)"
      ],
      "execution_count": null,
      "outputs": []
    },
    {
      "cell_type": "markdown",
      "metadata": {
        "id": "tvR-l1CUBDnN"
      },
      "source": [
        "6.   Selecionar a previsão final pela categoria de maior probabilidade"
      ]
    },
    {
      "cell_type": "code",
      "metadata": {
        "id": "zLm6_Lsuc8RL"
      },
      "source": [
        "previsoes_final = []\n",
        "for previsao in previsoes:\n",
        "  if previsao['irpf'] > previsao['irpj'] and previsao['irpf'] > previsao['ngdt'] and previsao['irpf'] > previsao['paf']:\n",
        "    previsoes_final.append('irpf')\n",
        "  elif previsao['irpj'] > previsao['irpf'] and previsao['irpj'] > previsao['ngdt'] and previsao['irpj'] > previsao['paf']:\n",
        "    previsoes_final.append('irpj')\n",
        "  elif previsao['ngdt'] > previsao['irpf'] and previsao['ngdt'] > previsao['irpj'] and previsao['ngdt'] > previsao['paf']:\n",
        "    previsoes_final.append('ngdt')\n",
        "  elif previsao['paf'] > previsao['irpf'] and previsao['paf'] > previsao['ngdt'] and previsao['paf'] > previsao['irpj']:\n",
        "    previsoes_final.append('paf')    \n",
        "previsoes_final = np.array(previsoes_final)"
      ],
      "execution_count": null,
      "outputs": []
    },
    {
      "cell_type": "markdown",
      "metadata": {
        "id": "7ZlytsjoBFQi"
      },
      "source": [
        "7.   Obter as respostas reais da variável alvo"
      ]
    },
    {
      "cell_type": "code",
      "metadata": {
        "colab": {
          "base_uri": "https://localhost:8080/"
        },
        "id": "qtBhfEsSc8RM",
        "outputId": "c2085b80-79ac-423b-fb1a-9a2ca85dc1e3"
      },
      "source": [
        "respostas_reais = df['assunto'].values\n",
        "respostas_reais[0:10]"
      ],
      "execution_count": null,
      "outputs": [
        {
          "output_type": "execute_result",
          "data": {
            "text/plain": [
              "array(['paf', 'irpj', 'irpf', 'irpj', 'irpf', 'irpj', 'irpf', 'paf',\n",
              "       'ngdt', 'irpf'], dtype=object)"
            ]
          },
          "metadata": {
            "tags": []
          },
          "execution_count": 125
        }
      ]
    },
    {
      "cell_type": "markdown",
      "metadata": {
        "id": "dXTBygtwBINS"
      },
      "source": [
        "8.   Apurar a acurácia"
      ]
    },
    {
      "cell_type": "code",
      "metadata": {
        "colab": {
          "base_uri": "https://localhost:8080/"
        },
        "id": "e6hpGJDlc8RM",
        "outputId": "98ae2c62-bc8a-4f75-e586-1fc997cd16c2"
      },
      "source": [
        "accuracy_score(respostas_reais, previsoes_final)"
      ],
      "execution_count": null,
      "outputs": [
        {
          "output_type": "execute_result",
          "data": {
            "text/plain": [
              "0.8517686692869174"
            ]
          },
          "metadata": {
            "tags": []
          },
          "execution_count": 126
        }
      ]
    },
    {
      "cell_type": "markdown",
      "metadata": {
        "id": "O0rxYxkkBLXK"
      },
      "source": [
        "9.   Mostrar o mapa de calor da matriz de confusão"
      ]
    },
    {
      "cell_type": "code",
      "metadata": {
        "colab": {
          "base_uri": "https://localhost:8080/",
          "height": 334
        },
        "id": "3rMYaDmOc8RN",
        "outputId": "653611af-fa03-47d2-827a-ce0266594211"
      },
      "source": [
        "rotulos_plt_cm = ['irpj', 'irpf', 'ngdt', 'paf']\n",
        "conf_mat_nb = confusion_matrix(respostas_reais, previsoes_final)\n",
        "fig, ax = plt.subplots(figsize=(5,5))\n",
        "sns.heatmap(conf_mat_nb, annot=True, fmt='d',\n",
        "            xticklabels=rotulos_plt_cm, yticklabels=rotulos_plt_cm)\n",
        "plt.ylabel('Verdade')\n",
        "plt.xlabel('Previsão')\n",
        "plt.show()"
      ],
      "execution_count": null,
      "outputs": [
        {
          "output_type": "display_data",
          "data": {
            "image/png": "[encoded data removed]",
            "text/plain": [
              "<Figure size 360x360 with 2 Axes>"
            ]
          },
          "metadata": {
            "tags": [],
            "needs_background": "light"
          }
        }
      ]
    },
    {
      "cell_type": "markdown",
      "metadata": {
        "id": "-R2LG03vexMB"
      },
      "source": [
        "#Teste com palavras originais"
      ]
    },
    {
      "cell_type": "markdown",
      "metadata": {
        "id": "dig88NxrBOjN"
      },
      "source": [
        "1.   Carregar modelo treinado"
      ]
    },
    {
      "cell_type": "code",
      "metadata": {
        "colab": {
          "base_uri": "https://localhost:8080/"
        },
        "id": "v6VzyUu2exMF",
        "outputId": "5321f30e-24d5-4542-8959-9f4cc6ffe455"
      },
      "source": [
        "modelo_carregado = spacy.load('/content/drive/MyDrive/mod_TCC_spacy_original')\n",
        "modelo_carregado"
      ],
      "execution_count": null,
      "outputs": [
        {
          "output_type": "execute_result",
          "data": {
            "text/plain": [
              "<spacy.lang.pt.Portuguese at 0x7ff01d254410>"
            ]
          },
          "metadata": {
            "tags": []
          },
          "execution_count": 131
        }
      ]
    },
    {
      "cell_type": "markdown",
      "metadata": {
        "id": "qmLjxD5pBTPc"
      },
      "source": [
        "2.   Carregar dataframes de teste, X_teste e y_teste, salvos no Drive"
      ]
    },
    {
      "cell_type": "code",
      "metadata": {
        "id": "gop_Gh36exMH"
      },
      "source": [
        "#Recuperando os arquivos de teste salvos no drive. \n",
        "url = '/content/drive/MyDrive/X_teste_1781.csv' \n",
        "X_teste = pd.read_csv(url, sep=';', engine='python', encoding='windows-1252', low_memory=True) \n",
        "url = '/content/drive/MyDrive/y_teste_1781.csv' \n",
        "y_teste = pd.read_csv(url, sep=';', engine='python', encoding='windows-1252', low_memory=True) "
      ],
      "execution_count": null,
      "outputs": []
    },
    {
      "cell_type": "markdown",
      "metadata": {
        "id": "DGla147cBWKj"
      },
      "source": [
        "3.   Fazer o preprocessamento escolhendo lematização, stemização ou mantendo as palavras originais."
      ]
    },
    {
      "cell_type": "code",
      "metadata": {
        "id": "_0ln6QX1exMI"
      },
      "source": [
        "#rodar preprocessamento selecionando lematização (lema), stemização (stemer) ou original (original). \n",
        "X_teste['voto'] = X_teste['voto'].apply(preprocessamento, args=('original',))"
      ],
      "execution_count": null,
      "outputs": []
    },
    {
      "cell_type": "markdown",
      "metadata": {
        "id": "3_zmHYpWBfMq"
      },
      "source": [
        "4.   Criar df concatenando X_teste['voto'] após preprocessamento com y_teste['assunto']"
      ]
    },
    {
      "cell_type": "code",
      "metadata": {
        "colab": {
          "base_uri": "https://localhost:8080/",
          "height": 197
        },
        "id": "5oRRTqgsexMI",
        "outputId": "34f3d0d8-8158-4a06-8382-00fc855eb39d"
      },
      "source": [
        "df = pd.concat([X_teste, y_teste], axis=1, sort=False)\n",
        "df.head()"
      ],
      "execution_count": null,
      "outputs": [
        {
          "output_type": "execute_result",
          "data": {
            "text/html": [
              "<div>\n",
              "<style scoped>\n",
              "    .dataframe tbody tr th:only-of-type {\n",
              "        vertical-align: middle;\n",
              "    }\n",
              "\n",
              "    .dataframe tbody tr th {\n",
              "        vertical-align: top;\n",
              "    }\n",
              "\n",
              "    .dataframe thead th {\n",
              "        text-align: right;\n",
              "    }\n",
              "</style>\n",
              "<table border=\"1\" class=\"dataframe\">\n",
              "  <thead>\n",
              "    <tr style=\"text-align: right;\">\n",
              "      <th></th>\n",
              "      <th>voto</th>\n",
              "      <th>assunto</th>\n",
              "    </tr>\n",
              "  </thead>\n",
              "  <tbody>\n",
              "    <tr>\n",
              "      <th>0</th>\n",
              "      <td>acordo despacho admissibilidade embargos decla...</td>\n",
              "      <td>paf</td>\n",
              "    </tr>\n",
              "    <tr>\n",
              "      <th>1</th>\n",
              "      <td>fatos ensejaram autuação objeto presentes auto...</td>\n",
              "      <td>irpj</td>\n",
              "    </tr>\n",
              "    <tr>\n",
              "      <th>2</th>\n",
              "      <td>recurso tempestivo atende requisitos admissibi...</td>\n",
              "      <td>irpf</td>\n",
              "    </tr>\n",
              "    <tr>\n",
              "      <th>3</th>\n",
              "      <td>recurso voluntário apresentado recorrente aten...</td>\n",
              "      <td>irpj</td>\n",
              "    </tr>\n",
              "    <tr>\n",
              "      <th>4</th>\n",
              "      <td>presente pressuposto admissibilidade tempestiv...</td>\n",
              "      <td>irpf</td>\n",
              "    </tr>\n",
              "  </tbody>\n",
              "</table>\n",
              "</div>"
            ],
            "text/plain": [
              "                                                voto assunto\n",
              "0  acordo despacho admissibilidade embargos decla...     paf\n",
              "1  fatos ensejaram autuação objeto presentes auto...    irpj\n",
              "2  recurso tempestivo atende requisitos admissibi...    irpf\n",
              "3  recurso voluntário apresentado recorrente aten...    irpj\n",
              "4  presente pressuposto admissibilidade tempestiv...    irpf"
            ]
          },
          "metadata": {
            "tags": []
          },
          "execution_count": 134
        }
      ]
    },
    {
      "cell_type": "markdown",
      "metadata": {
        "id": "aQiuTuDpBaHD"
      },
      "source": [
        "5.   Executar o modelo treinando para fazer as previsões"
      ]
    },
    {
      "cell_type": "code",
      "metadata": {
        "id": "igckjfpSexMJ"
      },
      "source": [
        "previsoes = []\n",
        "for voto in df['voto']:\n",
        " # print(voto)\n",
        "  previsao = modelo_carregado(voto)\n",
        "  previsoes.append(previsao.cats)"
      ],
      "execution_count": null,
      "outputs": []
    },
    {
      "cell_type": "markdown",
      "metadata": {
        "id": "YtP70wugBiaS"
      },
      "source": [
        "6.   Selecionar a previsão final pela categoria de maior probabilidade"
      ]
    },
    {
      "cell_type": "code",
      "metadata": {
        "id": "pVLxkPk7exMK"
      },
      "source": [
        "previsoes_final = []\n",
        "for previsao in previsoes:\n",
        "  if previsao['irpf'] > previsao['irpj'] and previsao['irpf'] > previsao['ngdt'] and previsao['irpf'] > previsao['paf']:\n",
        "    previsoes_final.append('irpf')\n",
        "  elif previsao['irpj'] > previsao['irpf'] and previsao['irpj'] > previsao['ngdt'] and previsao['irpj'] > previsao['paf']:\n",
        "    previsoes_final.append('irpj')\n",
        "  elif previsao['ngdt'] > previsao['irpf'] and previsao['ngdt'] > previsao['irpj'] and previsao['ngdt'] > previsao['paf']:\n",
        "    previsoes_final.append('ngdt')\n",
        "  elif previsao['paf'] > previsao['irpf'] and previsao['paf'] > previsao['ngdt'] and previsao['paf'] > previsao['irpj']:\n",
        "    previsoes_final.append('paf')    \n",
        "previsoes_final = np.array(previsoes_final)"
      ],
      "execution_count": null,
      "outputs": []
    },
    {
      "cell_type": "code",
      "metadata": {
        "colab": {
          "base_uri": "https://localhost:8080/"
        },
        "id": "7stLzhsiexML",
        "outputId": "3dbdf897-7385-43b7-e2e8-2dc9f71a1c20"
      },
      "source": [
        "previsoes_final[0:10]"
      ],
      "execution_count": null,
      "outputs": [
        {
          "output_type": "execute_result",
          "data": {
            "text/plain": [
              "array(['paf', 'irpj', 'irpf', 'irpj', 'irpf', 'irpj', 'irpf', 'paf',\n",
              "       'irpj', 'irpf'], dtype='<U4')"
            ]
          },
          "metadata": {
            "tags": []
          },
          "execution_count": 138
        }
      ]
    },
    {
      "cell_type": "markdown",
      "metadata": {
        "id": "qEDek4XRBmJi"
      },
      "source": [
        "7.   Obter as respostas reais da variável alvo"
      ]
    },
    {
      "cell_type": "code",
      "metadata": {
        "colab": {
          "base_uri": "https://localhost:8080/"
        },
        "id": "GG2T7elpexML",
        "outputId": "a752981f-204e-4ef6-e89e-17ae5ced9e99"
      },
      "source": [
        "respostas_reais = df['assunto'].values\n",
        "respostas_reais[0:10]"
      ],
      "execution_count": null,
      "outputs": [
        {
          "output_type": "execute_result",
          "data": {
            "text/plain": [
              "array(['paf', 'irpj', 'irpf', 'irpj', 'irpf', 'irpj', 'irpf', 'paf',\n",
              "       'ngdt', 'irpf'], dtype=object)"
            ]
          },
          "metadata": {
            "tags": []
          },
          "execution_count": 139
        }
      ]
    },
    {
      "cell_type": "markdown",
      "metadata": {
        "id": "N0oMh1JHBpLS"
      },
      "source": [
        "8.   Apurar a acurácia"
      ]
    },
    {
      "cell_type": "code",
      "metadata": {
        "colab": {
          "base_uri": "https://localhost:8080/"
        },
        "id": "0ymFQ92IexML",
        "outputId": "52bc1c01-244f-4225-c116-d53be5331961"
      },
      "source": [
        "accuracy_score(respostas_reais, previsoes_final)"
      ],
      "execution_count": null,
      "outputs": [
        {
          "output_type": "execute_result",
          "data": {
            "text/plain": [
              "0.8315553060078608"
            ]
          },
          "metadata": {
            "tags": []
          },
          "execution_count": 140
        }
      ]
    },
    {
      "cell_type": "markdown",
      "metadata": {
        "id": "uZR88SyQBrzK"
      },
      "source": [
        "9.   Mostrar o mapa de calor da matriz de confusão"
      ]
    },
    {
      "cell_type": "code",
      "metadata": {
        "colab": {
          "base_uri": "https://localhost:8080/",
          "height": 334
        },
        "id": "ChlGKXwZexMM",
        "outputId": "9ced6056-2e3d-401b-a039-84f8a3786ade"
      },
      "source": [
        "rotulos_plt_cm = ['irpj', 'irpf', 'ngdt', 'paf']\n",
        "conf_mat_nb = confusion_matrix(respostas_reais, previsoes_final)\n",
        "fig, ax = plt.subplots(figsize=(5,5))\n",
        "sns.heatmap(conf_mat_nb, annot=True, fmt='d',\n",
        "            xticklabels=rotulos_plt_cm, yticklabels=rotulos_plt_cm)\n",
        "plt.ylabel('Verdade')\n",
        "plt.xlabel('Previsão')\n",
        "plt.show()"
      ],
      "execution_count": null,
      "outputs": [
        {
          "output_type": "display_data",
          "data": {
            "image/png": "[encoded data removed]",
            "text/plain": [
              "<Figure size 360x360 with 2 Axes>"
            ]
          },
          "metadata": {
            "tags": [],
            "needs_background": "light"
          }
        }
      ]
    }
  ]
}