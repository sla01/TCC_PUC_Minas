{
  "nbformat": 4,
  "nbformat_minor": 0,
  "metadata": {
    "colab": {
      "name": "TCC_p03_Classificação_DCNN.ipynb",
      "provenance": [],
      "collapsed_sections": [],
      "toc_visible": true
    },
    "kernelspec": {
      "name": "python3",
      "display_name": "Python 3"
    }
  },
  "cells": [
    {
      "cell_type": "markdown",
      "metadata": {
        "id": "wRy9ToluzQ_Z"
      },
      "source": [
        "# **TCC_p03_Classificação_DCNN.ipynb**"
      ]
    },
    {
      "cell_type": "markdown",
      "metadata": {
        "id": "EJ6zhycx-LJa"
      },
      "source": [
        "# Etapa 1: Preparar os arquivos de treinamento\n",
        "\n",
        "1.   Importação de bibliotecas\n",
        "\n",
        "* Pandas: para criação e manipulação de dataframes\n",
        "* re: para utilização das expressões regulares em operações de transformações em string.\n",
        "* numpy: para trabalhar com array.\n",
        "* string: para importar sinais de pontuação.\n",
        "* random: para misturar os dados de treinamento.\n",
        "* nltk: usada para tokenizar textos em sentenças dos votos e dos resumos para a impressão do pdf com os resumos.\n",
        "* nltk punkt: Punkt é uma ferramenta de segmentação de frases neutra em termos de linguagem utilizada na tokenização.\n",
        "* nltk: para obter pacote para stemização.\n",
        "* seaborn: biblioteca para visualização de dados baseada em Matplotlib para exibir a matriz de confusão do sklearn como mapa de calor e as contagens de observações em cada categoria categórica usando barras.\n",
        "* matplotlib: biblioteca para a criação de visualizações estáticas, animadas e interativas em Python. Utilizada para fazer alterações nas figuras: por exemplo, criar uma figura, criar uma área de plotagem em uma figura, plotar algumas linhas em uma área de plotagem e decorar a plotagem com rótulos.\n",
        "* sklearn: para utilização das métricas de classificação matriz de confusão e acurácia.\n",
        "\n",
        "2. Importação do TensorFlow\n",
        "> O TensorFlow é uma plataforma completa de código aberto para machine learning. Ele tem um ecossistema abrangente e flexível de ferramentas, bibliotecas e recursos da comunidade que permite aos pesquisadores levar adiante ML de última geração e aos desenvolvedores criar e implantar aplicativos com tecnologia de ML. https://www.tensorflow.org/?hl=pt-br\n",
        "* modelo: conforme documentação do TensorFlow, para fazer o aprendizado de máquina no TensorFlow, provavelmente você precisará definir, salvar e restaurar um modelo. Um modelo é, abstratamente: \n",
        "Uma função que calcula algo em tensores (uma passagem para frente). A maioria dos modelos é feita de camadas. Camadas são funções com uma estrutura matemática conhecida que podem ser reutilizadas e têm variáveis ​​treináveis. \n",
        "* layers: camadas são terminologia de aprendizado profundo para \"objetos\": eles têm estado interno e métodos que usam esse estado.\n",
        "* Tokenizer: a classe TensorFlow (Keras) Tokenizer é usada para automatizar a tokenização de nossos dados de treinamento e converter os textos em sequências númericas.\n",
        "* pad_sequences: usada para preencher todas as sequências com zeros extras ao final para que todas as sequências tenham o mesmo comprimento. \n",
        "\n",
        "3. Importação da biblioteca SpaCy e NLTK\n",
        "*   A biblioteca ***SpaCy*** foi importada para o treinamento do modelo de classificação. \n",
        "*   Para a função preprocessamento, descrita no notebook *TCC_p01_preparar_X_treinamento_e_y_teste*, utiliza-se a ***SpaCy*** para tokenização do texto do voto e para lematização do texto do voto e a ***nltk*** para stemização. O preprocessamento, neste notebook, é utilizado para preparar o texto do voto do dataframe de teste. Também serão utilizadas para obtenção das stop_words (ambas). As stop_words da SpaCy serão concatenadas com as da nltk.\n",
        "\n",
        "4. Montar Drive\n",
        "*   Com ***drive.mount***('/content/drive', force_remount=True) os diretórios de dados do ***Google Drive*** são montados para utilização no ***Colab*** permitindo salvar arquivos e modelos treinados para utilização posterior, inclusive, em outros notebooks.\n",
        "\n",
        "\n"
      ]
    },
    {
      "cell_type": "markdown",
      "metadata": {
        "id": "KpvTYPMtMlLI"
      },
      "source": [
        "##1.   Importação de bibliotecas\n"
      ]
    },
    {
      "cell_type": "code",
      "metadata": {
        "id": "1dfpd7ulxMFP"
      },
      "source": [
        "import pandas as pd\n",
        "import numpy as np\n",
        "import re\n",
        "import string\n",
        "import random\n",
        "import seaborn as sns\n",
        "import matplotlib.pyplot as plt\n",
        "from sklearn.metrics import confusion_matrix, accuracy_score"
      ],
      "execution_count": null,
      "outputs": []
    },
    {
      "cell_type": "markdown",
      "metadata": {
        "id": "m6bpwrX6yQmJ"
      },
      "source": [
        "##2. Importação do TensorFlow"
      ]
    },
    {
      "cell_type": "code",
      "metadata": {
        "id": "0s8u890hxtSl"
      },
      "source": [
        "%tensorflow_version 2.x\n",
        "import tensorflow as tf\n",
        "tf.__version__"
      ],
      "execution_count": null,
      "outputs": []
    },
    {
      "cell_type": "code",
      "metadata": {
        "id": "Z9C_Vycux_4G"
      },
      "source": [
        "from tensorflow.keras import layers\n",
        "from tensorflow.keras.preprocessing.text import Tokenizer\n",
        "from tensorflow.keras.preprocessing.sequence import pad_sequences"
      ],
      "execution_count": null,
      "outputs": []
    },
    {
      "cell_type": "markdown",
      "metadata": {
        "id": "0yhLtHmLVZxk"
      },
      "source": [
        "##3. Importação da biblioteca SpaCy e NLTK"
      ]
    },
    {
      "cell_type": "code",
      "metadata": {
        "id": "1WO2roDivFXl"
      },
      "source": [
        "!pip install spacy==2.3.5"
      ],
      "execution_count": null,
      "outputs": []
    },
    {
      "cell_type": "code",
      "metadata": {
        "colab": {
          "base_uri": "https://localhost:8080/",
          "height": 35
        },
        "id": "-_xVaYbHvFXl",
        "outputId": "3d0d1459-db21-47df-f411-27b25676c1c2"
      },
      "source": [
        "import spacy\n",
        "spacy.__version__"
      ],
      "execution_count": null,
      "outputs": [
        {
          "output_type": "execute_result",
          "data": {
            "application/vnd.google.colaboratory.intrinsic+json": {
              "type": "string"
            },
            "text/plain": [
              "'2.3.5'"
            ]
          },
          "metadata": {
            "tags": []
          },
          "execution_count": 5
        }
      ]
    },
    {
      "cell_type": "code",
      "metadata": {
        "id": "p72bwsQJvFXm"
      },
      "source": [
        "!python -m spacy download pt\n",
        "import spacy\n",
        "pln = spacy.load(\"pt\")"
      ],
      "execution_count": null,
      "outputs": []
    },
    {
      "cell_type": "code",
      "metadata": {
        "id": "yXYTO2xUvFXm"
      },
      "source": [
        "from spacy.lang.pt.stop_words import STOP_WORDS\n",
        "stop_words_spacy = STOP_WORDS"
      ],
      "execution_count": null,
      "outputs": []
    },
    {
      "cell_type": "code",
      "metadata": {
        "id": "WcE2fGCcVEFq"
      },
      "source": [
        "import nltk\n",
        "nltk.download('punkt')\n",
        "nltk.download('rslp') #stemização\n",
        "nltk.download('stopwords')\n",
        "stop_words_nltk = nltk.corpus.stopwords.words('portuguese')"
      ],
      "execution_count": null,
      "outputs": []
    },
    {
      "cell_type": "code",
      "metadata": {
        "id": "xQMtD1c6VISJ"
      },
      "source": [
        "stop_words = set(stop_words_nltk + list(stop_words_spacy))"
      ],
      "execution_count": null,
      "outputs": []
    },
    {
      "cell_type": "code",
      "metadata": {
        "id": "eP4Fl2O-U_Yr",
        "colab": {
          "base_uri": "https://localhost:8080/",
          "height": 35
        },
        "outputId": "10f21136-a705-4104-eea2-c504f382837b"
      },
      "source": [
        "pontuacoes = string.punctuation\n",
        "pontuacoes"
      ],
      "execution_count": null,
      "outputs": [
        {
          "output_type": "execute_result",
          "data": {
            "application/vnd.google.colaboratory.intrinsic+json": {
              "type": "string"
            },
            "text/plain": [
              "'!\"#$%&\\'()*+,-./:;<=>?@[\\\\]^_`{|}~'"
            ]
          },
          "metadata": {
            "tags": []
          },
          "execution_count": 10
        }
      ]
    },
    {
      "cell_type": "markdown",
      "metadata": {
        "id": "52CTV4_q-hpX"
      },
      "source": [
        "##4.   Montar Drive"
      ]
    },
    {
      "cell_type": "code",
      "metadata": {
        "id": "USngwoAgy9ly"
      },
      "source": [
        "from google.colab import drive\n",
        "drive.mount('/content/drive', force_remount=True) "
      ],
      "execution_count": null,
      "outputs": []
    },
    {
      "cell_type": "markdown",
      "metadata": {
        "id": "t6FLgGsckzQL"
      },
      "source": [
        "# Etapa 2: Criação do classificador\n",
        "\n",
        "1.   Escolher o tipo de modelo\n",
        "* Escolher entre lematização, stemização e palavras originais.\n",
        "\n",
        "2.   Ler arquivos do Drive gravados pelo notebook *TCC_p01_preparar_X_treinamento_e_y_teste*\n",
        "*   Dependendo do tipo de modelo, ler um dos dataframes X_treinamento_lema, X_treinamento_stemer ou X_treinamento_original com os dados de treinamento preprocessados. \n",
        "*   Ler também o y_treinamento com a variável alvo.\n",
        "\n",
        "3. Transformar as categorias alfabéticas 'irpj', 'irpf', 'ngdt' e 'paf' em numéricas [0, 1, 2, 3]\n",
        "\n",
        "4. Conversão do voto em vetor númerico\n",
        "> A classe Tokenizer do TensorFlow permite vetorizar um corpus de texto, transformando cada texto em uma sequência de inteiros (cada inteiro sendo o índice de um token em um dicionário) ou em um vetor onde o coeficiente para cada token pode ser binário, com base na contagem de palavras, com base em tf-idf.\n",
        "\n",
        ">  Codificação dos parâmetros \n",
        ">*   num_words = 2**16 ou 65.536. Número máximo de palavras do nosso vocabulário de dados tokenizados.  \n",
        "*   oov_token = <UNK> Este é o token que será usado para tokens de vocabulário de dados de teste sem correspondente nos dados de treinamento.\n",
        "*   pad_type = 'post'. O comprimento máximo de frase será determinado pesquisando o comprimento máximo dentre as frases do treinamento e as frases com comprimento menor serão preenchidas à direita com zero.\n",
        "*   trunc_type = 'post'. Os caracteres de preenchimento serão colocados após o dados reais nas posições mais à direita dos vetores.\n",
        "\n",
        "> Conversão\n",
        "* Tokenizar os dados de treinamento atualizando o vocabulário interno com base em X_treinamento_preprocessado com fit_on_texts. Argumento: oov_token.\n",
        "* Obter total de palavras de dados de treinamento. O tamanho do vocabulário será entrada para a rede neural.\n",
        "* Transforma cada texto em uma sequência de inteiros.\n",
        "* Obter o comprimento máximo da sequência de treinamento para uso no padding (preenchimento)\n",
        "* Transformar a lista de sequências de tamanho variável em uma matriz 2D numpy de forma (número de linhas, comprimento da maior sequência). Argumentos: pad_type e trunc_type.\n",
        "\n",
        "5.   Construção do modelo de rede neural convolucional\n",
        "> A seguir, docstring da classe DCNN\n",
        "```\n",
        "Construção do modelo: \n",
        "Para isso, utilizei uma classe DCNN herdando de tf.keras.model (classe base do keras do tensorflow para a construção de modelos de redes neurais). \n",
        "O modelo agrupa camadas em um objeto com recursos de treinamento e inferência.\n",
        "São duas duas maneiras de instanciar o modelo : 1 - Com a API Funcional ou 2 - Subclassificando a classe Model. \n",
        "Optei pela subclassificação da classe, conforme descrito no curso Processamento de Linguagem Natural com Deep Learning, IA Expert Academy, \n",
        "tópico Redes neurais convolucionais para PLN – implementação.\n",
        "Os parâmetros do construtor da classe utilizados foram Self (indica que ao criarmos uma instância desta classe, \n",
        "ela vai se referir a um objeto e não à própria classe), vocab_size (tamanho do vocabulário - varia conforme tratamento das palavras por lema, \n",
        "stemer ou palavras originais), emb_dim (200 - tamanho da matriz de embedings escolhido após alguns testes. \n",
        "Não fiz tunning, pois a classificação não é o foco do TCC), nb_filters (100 – número de filtros para cada dimensão), \n",
        "ffn_units (256 - número de neurônios da rede neural densa) e nb_classes (4 - número de classes ou categorias), dropout_rate=0.2 \n",
        "(técnica utilizada para evitar overfiting . Serão zerados 20% dos neurônios).            \n",
        "O método construtor da classe é chamado para criar um novo modelo.\n",
        "A camada de embedding gera uma matriz linha igual ao tamanho do vocabulário linhas e 200 colunas conforme definido em emb_dim.\n",
        "O objetivo é encontrar redução de dimensionalidade na representação dos vetores e ao mesmo tempo adicionar relação semântica entre as palavras.\n",
        "  Definição das camadas de convolução:\n",
        "São 3 camadas de convolução com 100 filtros de 2 linhas na primeira camada, 3 linhas na segunda e 4 linhas na terceira. \n",
        "O preenchimento padding= same retorna o mesmo tipo de dados no mesmo formato. Como função de ativação utilizei a padrão, relu.\n",
        "Pooling (Agregação) e concatenação:\n",
        "Em seguida, está a definição da camada de pooling para reduzir escala (downsampling) que irá gerar o vetor final \n",
        "para entrada na rede neural densa. Utilizada a função GlobalMaxPool1D que reduz a resolução da representação de entrada, \n",
        "assumindo o valor máximo após o produto escalar entre os vetores que representam as palavras e os vetores que representam os filtros. \n",
        "Estrutura da rede neural densa\n",
        "A primeira camada oculta tem 256 neurônios e não precisamos definir a quantidade de neurônios da camada de entrada, \n",
        "pois depois iremos juntar o final do pooling com a entrada e o próprio Tensorflow fará automaticamente.\n",
        "A função de ativação SoftMax é usada (normaliza entre 0 e 1 as saídas, em um problema multi-classes, obtidas por um classificador linear – ex. neurônios – \n",
        "e é aplicada na camada de saída da rede - output layer), pois temos 4 categorias e a função irá retornar uma probabilidade para cada uma das classes.\n",
        "Foi definida função para ligar a matriz de embedding com os filtros da camada bigram (duas palavras) e desta para a camada de pooling, \n",
        "com os filtros da camada trigram (três palavras) e desta para a camada de pooling, e com filtros da camada fourgram (quatro palavras) e \n",
        "desta para a camada de pooling. O processamento é em paralelo. Ao final, as saídas são concatenadas e tornam-se a entrada para a rede neural em seqüência, \n",
        "camada densa, camada de dropout e, finalmente, a saída (output layer).\n",
        "Treinamento:\n",
        "Os únicos parâmetros passados foram o número de épocas (5) e a quantidade de registros no treinamento para a atualização dos pesos (minibatch = 64).\n",
        "```\n",
        "\n",
        "6.   Configuração dos parâmetros\n",
        "> A definição da configuração de redes neurais exige grande experiência e é considerada fundamental para o sucesso do modelo. Entretanto, no presente caso, o foco do trabalho não é a classificação. A classificação é o parâmetro para a seleção dos sumarizadores e não precisaria estar perfeitamente afinada. Por outro lado, resultados muito ruins poderiam prejudicar o trabalho. Parti de parâmetros comuns na literatura e o resultado foi bom já no primeiro treino não havendo necessidade de fazer tunning.\n",
        "* Dimensões de embeding: emb_dim = 200 \n",
        "* Número de filtros por região da camada convolucional: nb_filters = 100 \n",
        "* Números de neurônios na camada escondida da rede neural densaffn_units = 256 \n",
        "* Quantidade de registros no treinamento para a atualização dos pesos: batch_size = 64\n",
        "* Número de classes/categorias: nb_classes = 4 \n",
        "* Taxa de dropout (remoção aleatória de neurônios para reduzir o overfitting): dropout_rate = 0.2\n",
        "* Número de épocas (quantidade de vezes que a rede neural analisa os dados completos): nb_epochs = 5\n",
        "\n",
        "7.   Treinamento\n",
        "* Serão treinados três modelos, um para cada tipo de tratamento das palavras ((lematização, stemização ou palavras originais).\n",
        "\n",
        "8.   Salvar no drive o modelo treinado\n",
        "* Os modelos serão salvos no drive após cada tipo de treinamento (lematização, stemização ou palavras originais)."
      ]
    },
    {
      "cell_type": "markdown",
      "metadata": {
        "id": "BWR5ilKFePeR"
      },
      "source": [
        "##1. Escolher o tipo de modelo"
      ]
    },
    {
      "cell_type": "code",
      "metadata": {
        "id": "4jr7f8GQeM8y"
      },
      "source": [
        "#Definir qual é o modelo a ser treinado. Se lematizado, stemizado ou palavras originais.\n",
        "#A variável tipo_modelo será definida aqui e será utilizada para fazer o direcionamento ao carregar o X_treinamento preprocessado, \n",
        "#no preprocessamento de X_teste, ao salvar o modelo, ao carregar o modelo treinado e ao exibir os resultados.\n",
        "tipo_modelo = 'original' #escolher 'lema', 'stemer' ou 'original'"
      ],
      "execution_count": null,
      "outputs": []
    },
    {
      "cell_type": "markdown",
      "metadata": {
        "id": "0x9gIjMnuqHz"
      },
      "source": [
        "##2. Ler arquivos do Drive gravados pelo notebook TCC_p01_preparar_X_treinamento_e_y_teste"
      ]
    },
    {
      "cell_type": "code",
      "metadata": {
        "id": "YDjg41fyo3Ty"
      },
      "source": [
        "#Recuperando os arquivos de treinamento após preprocessamento salvos no drive. Verificar qual X irá treinar, se lema, stemer ou origianl.\n",
        "if tipo_modelo == 'lema':\n",
        "  url = '/content/drive/MyDrive/X_treinamento_lema.csv'\n",
        "elif tipo_modelo == 'stemer':\n",
        "  url = '/content/drive/MyDrive/X_treinamento_stemer.csv'\n",
        "else:\n",
        "  url = '/content/drive/MyDrive/X_treinamento_original.csv'\n",
        "  \n",
        "X_treinamento = pd.read_csv(url, sep=';', engine='python', encoding='windows-1252', low_memory=True, quotechar='\"', error_bad_lines=False)\n",
        "url = '/content/drive/MyDrive/y_treinamento_7124.csv' \n",
        "y_treinamento = pd.read_csv(url, sep=';', engine='python', encoding='windows-1252', low_memory=True, quotechar='\"', error_bad_lines=False)"
      ],
      "execution_count": null,
      "outputs": []
    },
    {
      "cell_type": "code",
      "metadata": {
        "id": "5qn-mrbYtt57"
      },
      "source": [
        "#transforma X_treinamento e y_treinamento em numpy.ndarray\n",
        "X_treinamento_preprocessado = X_treinamento.iloc[:, 0].values\n",
        "y_treinamento_rotulos = y_treinamento.iloc[:, 0].values"
      ],
      "execution_count": null,
      "outputs": []
    },
    {
      "cell_type": "markdown",
      "metadata": {
        "id": "j_0vV0cvU0cv"
      },
      "source": [
        "##3. Transformar as categorias alfabéticas 'irpj', 'irpf', 'ngdt' e 'paf' em numéricas [0, 1, 2, 3]"
      ]
    },
    {
      "cell_type": "code",
      "metadata": {
        "colab": {
          "base_uri": "https://localhost:8080/",
          "height": 323
        },
        "id": "uzW6fX3Iwh-b",
        "outputId": "e325b70e-a47d-4123-cd41-bae4ced583e9"
      },
      "source": [
        "sns.countplot(y_treinamento_rotulos);"
      ],
      "execution_count": null,
      "outputs": [
        {
          "output_type": "stream",
          "text": [
            "/usr/local/lib/python3.7/dist-packages/seaborn/_decorators.py:43: FutureWarning: Pass the following variable as a keyword arg: x. From version 0.12, the only valid positional argument will be `data`, and passing other arguments without an explicit keyword will result in an error or misinterpretation.\n",
            "  FutureWarning\n"
          ],
          "name": "stderr"
        },
        {
          "output_type": "display_data",
          "data": {
            "image/png": "[encoded data removed]",
            "text/plain": [
              "<Figure size 432x288 with 1 Axes>"
            ]
          },
          "metadata": {
            "tags": [],
            "needs_background": "light"
          }
        }
      ]
    },
    {
      "cell_type": "code",
      "metadata": {
        "id": "sCwBVu_-KS6x",
        "colab": {
          "base_uri": "https://localhost:8080/"
        },
        "outputId": "eb6caebe-f703-4e41-860c-e25c9d898ae2"
      },
      "source": [
        "y_treinamento_rotulos[y_treinamento_rotulos == 'irpj'] = 0\n",
        "y_treinamento_rotulos[y_treinamento_rotulos == 'irpf'] = 1\n",
        "y_treinamento_rotulos[y_treinamento_rotulos == 'ngdt'] = 2\n",
        "y_treinamento_rotulos[y_treinamento_rotulos == 'paf'] = 3\n",
        "y_treinamento_rotulos = y_treinamento_rotulos.astype(np.int32)\n",
        "y_treinamento_rotulos"
      ],
      "execution_count": null,
      "outputs": [
        {
          "output_type": "execute_result",
          "data": {
            "text/plain": [
              "array([0, 2, 3, ..., 2, 0, 0], dtype=int32)"
            ]
          },
          "metadata": {
            "tags": []
          },
          "execution_count": 18
        }
      ]
    },
    {
      "cell_type": "markdown",
      "metadata": {
        "id": "03HRcPwXVV4Y"
      },
      "source": [
        "##4.  Conversão do voto em vetor númerico "
      ]
    },
    {
      "cell_type": "code",
      "metadata": {
        "id": "LsNbd2hvqVTU"
      },
      "source": [
        "num_words = 2**16\n",
        "oov_token = '<UNK>'\n",
        "pad_type = 'post'\n",
        "trunc_type = 'post'"
      ],
      "execution_count": null,
      "outputs": []
    },
    {
      "cell_type": "code",
      "metadata": {
        "id": "yLZ95zjeqYFz"
      },
      "source": [
        "# Tokenizar os dados de treinamento \n",
        "tokenizer = Tokenizer(num_words=num_words, oov_token=oov_token)\n",
        "tokenizer.fit_on_texts(X_treinamento_preprocessado)\n",
        "\n",
        "# Obter total de palavras de dados de treinamento\n",
        "vocab_size = len(tokenizer.word_index) + 1\n",
        "\n",
        "# Transforma cada texto em uma sequência de inteiros.\n",
        "X_treinamento_vetor_numerico = tokenizer.texts_to_sequences(X_treinamento_preprocessado)\n",
        "\n",
        "# Obter o comprimento máximo da sequência de treinamento para uso no padding (preenchimento)\n",
        "max_len = max([len(x) for x in X_treinamento_vetor_numerico])\n",
        "\n",
        "# Transformar a lista de sequências de tamanho variável em uma matriz 2D numpy de forma (número de linhas, comprimento da maior sequência).\n",
        "X_treinamento_vetor_numerico = pad_sequences(X_treinamento_vetor_numerico, padding=pad_type, truncating=trunc_type, maxlen=max_len)"
      ],
      "execution_count": null,
      "outputs": []
    },
    {
      "cell_type": "markdown",
      "metadata": {
        "id": "kWu6hLDG_UJZ"
      },
      "source": [
        "##5. Construção do modelo"
      ]
    },
    {
      "cell_type": "code",
      "metadata": {
        "id": "xEATIsKmTFs3"
      },
      "source": [
        "class DCNN(tf.keras.Model):\n",
        "  '''\n",
        "Construção do modelo: \n",
        "Para isso, utilizei uma classe DCNN herdando de tf.keras.model (classe base do keras do tensorflow para a construção de modelos de redes neurais). \n",
        "O modelo agrupa camadas em um objeto com recursos de treinamento e inferência.\n",
        "São duas duas maneiras de instanciar o modelo : 1 - Com a API Funcional ou 2 - Subclassificando a classe Model. \n",
        "Optei pela subclassificação da classe, conforme descrito no curso Processamento de Linguagem Natural com Deep Learning, IA Expert Academy, \n",
        "tópico Redes neurais convolucionais para PLN – implementação.\n",
        "Os parâmetros do construtor da classe utilizados foram Self (indica que ao criarmos uma instância desta classe, \n",
        "ela vai se referir a um objeto e não à própria classe), vocab_size (tamanho do vocabulário - varia conforme tratamento das palavras por lema, \n",
        "stemer ou palavras originais), emb_dim (200 - tamanho da matriz de embedings escolhido após alguns testes. \n",
        "Não fiz tunning, pois a classificação não é o foco do TCC), nb_filters (100 – número de filtros para cada dimensão), \n",
        "ffn_units (256 - número de neurônios da rede neural densa) e nb_classes (4 - número de classes ou categorias), dropout_rate=0.2 \n",
        "(técnica utilizada para evitar overfiting . Serão zerados 20% dos neurônios).            \n",
        "O método construtor da classe é chamado para criar um novo modelo.\n",
        "A camada de embedding gera uma matriz linha igual ao tamanho do vocabulário linhas e 200 colunas conforme definido em emb_dim.\n",
        "O objetivo é encontrar redução de dimensionalidade na representação dos vetores e ao mesmo tempo adicionar relação semântica entre as palavras.\n",
        "  Definição das camadas de convolução:\n",
        "São 3 camadas de convolução com 100 filtros de 2 linhas na primeira camada, 3 linhas na segunda e 4 linhas na terceira. \n",
        "O preenchimento padding= same retorna o mesmo tipo de dados no mesmo formato. Como função de ativação utilizei a padrão, relu.\n",
        "Pooling (Agregação) e concatenação:\n",
        "Em seguida, está a definição da camada de pooling para reduzir escala (downsampling) que irá gerar o vetor final \n",
        "para entrada na rede neural densa. Utilizada a função GlobalMaxPool1D que reduz a resolução da representação de entrada, \n",
        "assumindo o valor máximo após o produto escalar entre os vetores que representam as palavras e os vetores que representam os filtros. \n",
        "Estrutura da rede neural densa\n",
        "A primeira camada oculta tem 256 neurônios e não precisamos definir a quantidade de neurônios da camada de entrada, \n",
        "pois depois iremos juntar o final do pooling com a entrada e o próprio Tensorflow fará automaticamente.\n",
        "A função de ativação SoftMax é usada (normaliza entre 0 e 1 as saídas, em um problema multi-classes, obtidas por um classificador linear – ex. neurônios – \n",
        "e é aplicada na camada de saída da rede - output layer), pois temos 4 categorias e a função irá retornar uma probabilidade para cada uma das classes.\n",
        "Foi definida função para ligar a matriz de embedding com os filtros da camada bigram (duas palavras) e desta para a camada de pooling, \n",
        "com os filtros da camada trigram (três palavras) e desta para a camada de pooling, e com filtros da camada fourgram (quatro palavras) e \n",
        "desta para a camada de pooling. O processamento é em paralelo. Ao final, as saídas são concatenadas e tornam-se a entrada para a rede neural em seqüência, \n",
        "camada densa, camada de dropout e, finalmente, a saída (output layer).\n",
        "Treinamento:\n",
        "Os únicos parâmetros passados foram o número de épocas (5) e a quantidade de registros no treinamento para a atualização dos pesos (minibatch = 64).\n",
        "  '''\n",
        "\n",
        "  def __init__(self,\n",
        "               vocab_size,\n",
        "               emb_dim=200,\n",
        "               nb_filters=100,\n",
        "               ffn_units=256,\n",
        "               nb_classes=4,\n",
        "               dropout_rate=0.2,\n",
        "               training=True,\n",
        "               name=\"dcnn\"):\n",
        "    super(DCNN, self).__init__(name=name)\n",
        "\n",
        "    self.embedding = layers.Embedding(vocab_size, emb_dim)\n",
        "    self.bigram = layers.Conv1D(filters=nb_filters, kernel_size=2, padding='same', activation='relu')\n",
        "    self.trigram = layers.Conv1D(filters=nb_filters, kernel_size=3, padding='same', activation='relu')\n",
        "    self.fourgram = layers.Conv1D(filters=nb_filters, kernel_size=4, padding='same', activation='relu')\n",
        "    self.pool = layers.GlobalMaxPool1D()\n",
        "\n",
        "    self.dense_1 = layers.Dense(units = ffn_units, activation = 'relu')\n",
        "    self.dropout = layers.Dropout(rate = dropout_rate)\n",
        "    self.last_dense = layers.Dense(units = nb_classes, activation = 'softmax')\n",
        "\n",
        "  def call(self, inputs, training):\n",
        "    x = self.embedding(inputs)\n",
        "    x_1 = self.bigram(x)\n",
        "    x_1 = self.pool(x_1)\n",
        "    x_2 = self.trigram(x)\n",
        "    x_2 = self.pool(x_2)\n",
        "    x_3 = self.fourgram(x)\n",
        "    x_3 = self.pool(x_3)\n",
        "\n",
        "    merged = tf.concat([x_1, x_2, x_3], axis = -1) # (batch_size, 3 * nb_filters)\n",
        "    merged = self.dense_1(merged)\n",
        "    merged = self.dropout(merged, training)\n",
        "    output = self.last_dense(merged)\n",
        "\n",
        "    return output"
      ],
      "execution_count": null,
      "outputs": []
    },
    {
      "cell_type": "markdown",
      "metadata": {
        "id": "B8cfYwHME-m0"
      },
      "source": [
        "##6.   Configuração dos parâmetros"
      ]
    },
    {
      "cell_type": "code",
      "metadata": {
        "id": "0MVJ_3QRZ3Nn"
      },
      "source": [
        "emb_dim = 200 #melhor fazer o tunning, mas não é o meu foco\n",
        "nb_filters = 100 #para cada um dos filtros, teremos 100 versões únicas \n",
        "ffn_units = 256 #números de neurônios na camada escondida da rede neural densa\n",
        "batch_size = 64\n",
        "nb_classes = 4  #número das classes. 4\n",
        "dropout_rate = 0.2 #para a maioria dos casos, 0.2 tem resultados interessantes.\n",
        "nb_epochs = 5"
      ],
      "execution_count": null,
      "outputs": []
    },
    {
      "cell_type": "markdown",
      "metadata": {
        "id": "Nddzr1kA7UHC"
      },
      "source": [
        "##7. Treinamento"
      ]
    },
    {
      "cell_type": "code",
      "metadata": {
        "id": "yjSh-7HNaxX3"
      },
      "source": [
        "Dcnn = DCNN(vocab_size=vocab_size, emb_dim=emb_dim, nb_filters=nb_filters,\n",
        "            ffn_units=ffn_units, nb_classes=nb_classes, dropout_rate=dropout_rate)\n",
        "Dcnn.compile(loss='sparse_categorical_crossentropy', optimizer='adam', metrics=['accuracy'])"
      ],
      "execution_count": null,
      "outputs": []
    },
    {
      "cell_type": "code",
      "metadata": {
        "id": "02etzYLydVEi",
        "colab": {
          "base_uri": "https://localhost:8080/"
        },
        "outputId": "5ad1b555-0873-4e76-b245-76bf155e8965"
      },
      "source": [
        "history = Dcnn.fit(X_treinamento_vetor_numerico, y_treinamento_rotulos,\n",
        "                   batch_size = batch_size,\n",
        "                   epochs = nb_epochs,\n",
        "                   verbose = 1,\n",
        "                   validation_split = 0.10)"
      ],
      "execution_count": null,
      "outputs": [
        {
          "output_type": "stream",
          "text": [
            "Epoch 1/5\n",
            "101/101 [==============================] - 1335s 13s/step - loss: 1.0086 - accuracy: 0.5870 - val_loss: 0.4031 - val_accuracy: 0.8668\n",
            "Epoch 2/5\n",
            "101/101 [==============================] - 1338s 13s/step - loss: 0.2919 - accuracy: 0.9082 - val_loss: 0.3237 - val_accuracy: 0.8822\n",
            "Epoch 3/5\n",
            "101/101 [==============================] - 1331s 13s/step - loss: 0.0883 - accuracy: 0.9804 - val_loss: 0.3398 - val_accuracy: 0.8738\n",
            "Epoch 4/5\n",
            "101/101 [==============================] - 1333s 13s/step - loss: 0.0361 - accuracy: 0.9926 - val_loss: 0.3331 - val_accuracy: 0.8864\n",
            "Epoch 5/5\n",
            "101/101 [==============================] - 1336s 13s/step - loss: 0.0146 - accuracy: 0.9977 - val_loss: 0.3583 - val_accuracy: 0.8864\n"
          ],
          "name": "stdout"
        }
      ]
    },
    {
      "cell_type": "markdown",
      "metadata": {
        "id": "3vSah6c0jlp_"
      },
      "source": [
        "##8. Salvar no drive o modelo treinado"
      ]
    },
    {
      "cell_type": "code",
      "metadata": {
        "colab": {
          "base_uri": "https://localhost:8080/"
        },
        "id": "BrjwJJaUlfpJ",
        "outputId": "49d4de6f-9f98-4b7a-c728-62716be500c4"
      },
      "source": [
        "#Salvar no drive o modelo treinado\n",
        "if tipo_modelo == 'lema':\n",
        "  Dcnn.save('/content/drive/MyDrive/modelo_Dcnn_lema')\n",
        "elif tipo_modelo == 'stemer':\n",
        "  Dcnn.save('/content/drive/MyDrive/modelo_Dcnn_stemer')\n",
        "else:\n",
        "  Dcnn.save('/content/drive/MyDrive/modelo_Dcnn_original')"
      ],
      "execution_count": null,
      "outputs": [
        {
          "output_type": "stream",
          "text": [
            "INFO:tensorflow:Assets written to: /content/drive/MyDrive/modelo_Dcnn_original/assets\n"
          ],
          "name": "stdout"
        }
      ]
    },
    {
      "cell_type": "markdown",
      "metadata": {
        "id": "16Gn6JhJKXDK"
      },
      "source": [
        "# Etapa 3: Avaliação do modelo\n",
        "\n",
        "1. Função preprocessamento.\n",
        "* A descrição desta função encontra-se no notebook *TCC_p01_preparar_X_treinamento_e_y_teste*. É a mesma função. Pensei em deixá-la em uma biblioteca minha no drive para importá-la, mas tive problemas com referências e optei por simplesmente replicá-la em todos os notebooks nos quais irei utilizá-la.\n",
        "\n",
        "2.   Ler arquivos do Drive gravados pelo notebook *TCC_p01_preparar_X_treinamento_e_y_teste*\n",
        "*   Ler do drive os dataframes X_teste e y_teste.\n",
        "\n",
        "3. Fazer o preprocessamento escolhendo lematização, stemização ou mantendo as palavras originais.\n",
        "\n",
        "4. Transformar as categorias alfabéticas 'irpj', 'irpf', 'ngdt' e 'paf' em numéricas [0, 1, 2, 3]\n",
        "\n",
        "5. Conversão do voto em vetor númerico\n",
        "* Com base no Tokenize com os dados de treinamento serão feitas as transformações, agora, nos dados de teste.\n",
        "* Transforma cada texto em uma sequência de inteiros.\n",
        "* O comprimento máximo, max_len, para uso no padding é o mesmo do treinamento. No caso, max_len lema = 7622, max_len stemer = 7610 e max_len palavras originais = 7622.\n",
        "Esses valores precisam ser atribuídos ao max_len manualmente.\n",
        "* Transformar a lista de sequências de tamanho variável em uma matriz 2D numpy de forma (número de linhas, comprimento da maior sequência). Argumentos: pad_type e trunc_type.\n",
        "\n",
        "6. Carregar modelo treinado\n",
        "\n",
        "7. Avaliação com lematização\n",
        "\n",
        "* Fazer a previsão com o modelo treinado e a base de teste\n",
        "* Mostrar o mapa de calor da matriz de confusão\n",
        "* Apurar a acurácia\n",
        "\n",
        "8. Avaliação com stemização\n",
        "\n",
        "* Fazer a previsão com o modelo treinado e a base de teste\n",
        "* Mostrar o mapa de calor da matriz de confusão\n",
        "* Apurar a acurácia\n",
        "\n",
        "9. Avaliação com palavras originais\n",
        "\n",
        "* Fazer a previsão com o modelo treinado e a base de teste\n",
        "* Mostrar o mapa de calor da matriz de confusão\n",
        "* Apurar a acurácia"
      ]
    },
    {
      "cell_type": "markdown",
      "metadata": {
        "id": "bcxEvIwCruwe"
      },
      "source": [
        "##1. Função preprocessamento."
      ]
    },
    {
      "cell_type": "code",
      "metadata": {
        "id": "qq1-xMLZBKXd"
      },
      "source": [
        "def preprocessamento(texto, tipo):\n",
        "  \"\"\"\n",
        "  Faz uma limpeza do texto recebido excluíndo pontuações, stop words, números em moedas, leis, etc, letras soltas, palavras com duas letras, \n",
        "  hífens iniciais, r$, espaços duplos e símbolos.  \n",
        "  O objetivo é deixar apenas palavras que serão a base para as classificações.\n",
        "\n",
        "  :parâmetro texto: recebe o texto integral de um voto.\n",
        "  :parâmetro tipo: escolher entre 'lema', 'stemer' e 'original'. Lema faz lematização das palavras, stemer faz a stemização e original mantém as palavras sem alterações.\n",
        "  :retorno str_lista: string com a lista das palavras do voto após a limpeza dos dados.  \n",
        "\n",
        "  \"\"\"\n",
        "\n",
        "  texto = texto.lower()\n",
        "  texto = re.sub('([¹²³£¢¬§ªº°]{1})', ' ', texto) #excluir o símbolos listados\n",
        "  texto = re.sub('([!\"#%&\\'\\(\\)\\*\\+,\\./:;<=>\\?@\\[\\]\\^_`\\{\\|\\}~]{1})', ' ', texto) #excluir as pontuações, exceto o hífen\n",
        "  texto = re.sub('([0-9]*)[\\.]*([0-9]+,[0-9]+)', ' ', texto)  #excluir valores com decimais após vírgulas 10.000,00 30,00\n",
        "  texto = re.sub('([0-9]+)[.]+([0-9]+)\\/([0-9]+)', ' ', texto) #excluir valores tipo leis 9.420/99\n",
        "  texto = re.sub('([0-9]+)\\/([0-9]+)', ' ', texto) #excluir valores tipo leis 70/99\n",
        "  texto = re.sub('([0-9]+)', ' ', texto) #excluir números\n",
        "  texto = re.sub('( [a-z]{1} )', ' ', texto) #excluir letras soltas\n",
        "  texto = re.sub('( [a-z]{2} )', ' ', texto) #excluir palavras com 2 letras\n",
        "  texto = re.sub(' -([a-z]*)', r'\\1', texto) #excluir hífens iniciais\n",
        "  texto = texto.replace('r$', ' ') #excluir r$\n",
        "  texto = re.sub('( [ ]*)', ' ', texto) #excluir espaços duplos\n",
        "\n",
        "  documento = pln(texto)\n",
        "  lista = [token.text for token in documento if token.text not in stop_words and token.text not in string.punctuation]\n",
        "  str_lista = ' '.join([str(elemento) for elemento in lista if not elemento.isdigit()])\n",
        "  documento = pln(str_lista)\n",
        "  \n",
        "  lista = []\n",
        "  if tipo == 'lema': # Lematização\n",
        "    for token in documento:\n",
        "      lista.append(token.lemma_)  \n",
        "  elif tipo == 'stemer':\n",
        "    for token in documento:\n",
        "      stemmer = nltk.stem.RSLPStemmer()\n",
        "      lista.append(stemmer.stem(token.text))\n",
        "  else: #'original' ou qualquer outro valor\n",
        "    for token in documento:\n",
        "      lista.append(token.text)    \n",
        "\n",
        "  str_lista = ' '.join([str(elemento) for elemento in lista if not elemento.isdigit()])\n",
        "  \n",
        "  return str_lista"
      ],
      "execution_count": null,
      "outputs": []
    },
    {
      "cell_type": "markdown",
      "metadata": {
        "id": "k5FHppLCmmvP"
      },
      "source": [
        "##2. Ler arquivos do Drive gravados pelo notebook *TCC_p01_preparar_X_treinamento_e_y_teste*"
      ]
    },
    {
      "cell_type": "code",
      "metadata": {
        "id": "B7HX1Ro_tnA1"
      },
      "source": [
        "#Carregar dataframe teste (X e y) diretamente do drive.\n",
        "url = '/content/drive/MyDrive/X_teste_1781.csv' \n",
        "X_teste = pd.read_csv(url, sep=';', engine='python', encoding='windows-1252', low_memory=True) \n",
        "url = '/content/drive/MyDrive/y_teste_1781.csv' \n",
        "y_teste = pd.read_csv(url, sep=';', engine='python', encoding='windows-1252', low_memory=True)"
      ],
      "execution_count": null,
      "outputs": []
    },
    {
      "cell_type": "markdown",
      "metadata": {
        "id": "62KJv0mYsJqt"
      },
      "source": [
        "##3. Fazer o preprocessamento escolhendo lematização, stemização ou mantendo as palavras originais."
      ]
    },
    {
      "cell_type": "code",
      "metadata": {
        "id": "Amp1p2VlDdbM"
      },
      "source": [
        "#rodar preprocessamento selecionando entre lema, stemer ou original.\n",
        "if tipo_modelo == 'lema':\n",
        "  X_teste['voto'] = X_teste['voto'].apply(preprocessamento, args=('lema',))\n",
        "elif tipo_modelo == 'stemer':\n",
        "  X_teste['voto'] = X_teste['voto'].apply(preprocessamento, args=('stemer',))\n",
        "else:\n",
        "  X_teste['voto'] = X_teste['voto'].apply(preprocessamento, args=('original',))"
      ],
      "execution_count": null,
      "outputs": []
    },
    {
      "cell_type": "code",
      "metadata": {
        "id": "O6B7UF3yEA8k"
      },
      "source": [
        "#transform X_teste e y_teste em numpy.ndarray\n",
        "X_teste_preprocessado = X_teste.iloc[:, 0].values\n",
        "y_teste_rotulos = y_teste.iloc[:, 0].values"
      ],
      "execution_count": null,
      "outputs": []
    },
    {
      "cell_type": "markdown",
      "metadata": {
        "id": "ug9XQWaWsaRK"
      },
      "source": [
        "##4. Transformar as categorias alfabéticas 'irpj', 'irpf', 'ngdt' e 'paf' em numéricas [0, 1, 2, 3]"
      ]
    },
    {
      "cell_type": "code",
      "metadata": {
        "id": "BXYxS5INt1hE"
      },
      "source": [
        "#rotulos para o gráfico matriz de confusão\n",
        "rotulos_plt_cm = ['irpj', 'irpf', 'ngdt', 'paf']"
      ],
      "execution_count": null,
      "outputs": []
    },
    {
      "cell_type": "markdown",
      "metadata": {
        "id": "FkuOViarsjfK"
      },
      "source": [
        "##5. Conversão do voto (teste) em vetor númerico"
      ]
    },
    {
      "cell_type": "code",
      "metadata": {
        "colab": {
          "base_uri": "https://localhost:8080/"
        },
        "id": "MJh5EKeXvFv1",
        "outputId": "c10610f4-0af0-4f24-ec71-413b1bb1d6ac"
      },
      "source": [
        "#max_len lema = 7622, max_len stemer = 7610 e max_len original = 7622\n",
        "max_len"
      ],
      "execution_count": null,
      "outputs": [
        {
          "output_type": "execute_result",
          "data": {
            "text/plain": [
              "7622"
            ]
          },
          "metadata": {
            "tags": []
          },
          "execution_count": 27
        }
      ]
    },
    {
      "cell_type": "code",
      "metadata": {
        "id": "TXKlTUl4G0W0"
      },
      "source": [
        "# Transforma cada texto em uma sequência de inteiros.\n",
        "X_teste_vetor_numerico = tokenizer.texts_to_sequences(X_teste_preprocessado)\n",
        "\n",
        "# Transformar a lista de sequências de tamanho variável em uma matriz 2D numpy de forma (número de linhas, comprimento da maior sequência).\n",
        "X_teste_vetor_numerico = pad_sequences(X_teste_vetor_numerico, padding=pad_type, truncating=trunc_type, maxlen=max_len)"
      ],
      "execution_count": null,
      "outputs": []
    },
    {
      "cell_type": "markdown",
      "metadata": {
        "id": "b0LNFAOzs2et"
      },
      "source": [
        "##6. Carregar modelo treinado\n"
      ]
    },
    {
      "cell_type": "code",
      "metadata": {
        "id": "6aPDxHgRchKJ"
      },
      "source": [
        "#Carregando modelo treinado que foi salvo no drive.\n",
        "if tipo_modelo == 'lema':\n",
        "  Dcnn = tf.keras.models.load_model('/content/drive/MyDrive/modelo_Dcnn_lema')\n",
        "elif tipo_modelo == 'stemer':\n",
        "  Dcnn = tf.keras.models.load_model('/content/drive/MyDrive/modelo_Dcnn_stemer')\n",
        "else:\n",
        "  Dcnn = tf.keras.models.load_model('/content/drive/MyDrive/modelo_Dcnn_original')"
      ],
      "execution_count": null,
      "outputs": []
    },
    {
      "cell_type": "code",
      "metadata": {
        "colab": {
          "base_uri": "https://localhost:8080/"
        },
        "id": "AEh2HwRVDDA8",
        "outputId": "fb0f6f09-8289-405b-bb9e-40aadb8fab71"
      },
      "source": [
        "#Verificando a arquitetura do modelo\n",
        "Dcnn.summary()"
      ],
      "execution_count": null,
      "outputs": [
        {
          "output_type": "stream",
          "text": [
            "Model: \"dcnn\"\n",
            "_________________________________________________________________\n",
            "Layer (type)                 Output Shape              Param #   \n",
            "=================================================================\n",
            "embedding_1 (Embedding)      multiple                  9765600   \n",
            "_________________________________________________________________\n",
            "conv1d_3 (Conv1D)            multiple                  40100     \n",
            "_________________________________________________________________\n",
            "conv1d_4 (Conv1D)            multiple                  60100     \n",
            "_________________________________________________________________\n",
            "conv1d_5 (Conv1D)            multiple                  80100     \n",
            "_________________________________________________________________\n",
            "global_max_pooling1d_1 (Glob multiple                  0         \n",
            "_________________________________________________________________\n",
            "dense_2 (Dense)              multiple                  77056     \n",
            "_________________________________________________________________\n",
            "dropout_1 (Dropout)          multiple                  0         \n",
            "_________________________________________________________________\n",
            "dense_3 (Dense)              multiple                  1028      \n",
            "=================================================================\n",
            "Total params: 10,023,984\n",
            "Trainable params: 10,023,984\n",
            "Non-trainable params: 0\n",
            "_________________________________________________________________\n"
          ],
          "name": "stdout"
        }
      ]
    },
    {
      "cell_type": "markdown",
      "metadata": {
        "id": "5s8GGVE11r2z"
      },
      "source": [
        "##7. Avaliação com lematização"
      ]
    },
    {
      "cell_type": "code",
      "metadata": {
        "id": "LNM3RVwO11Ph"
      },
      "source": [
        "#Fazendo a previsão do teste\n",
        "y_pred_test = Dcnn.predict(X_teste_vetor_numerico)\n",
        "lista_predict = y_pred_test.argmax(axis=1) "
      ],
      "execution_count": null,
      "outputs": []
    },
    {
      "cell_type": "code",
      "metadata": {
        "colab": {
          "base_uri": "https://localhost:8080/",
          "height": 334
        },
        "id": "vXnTwzoaqlvp",
        "outputId": "e7708399-9045-432a-9e9b-3165aacbcd4c"
      },
      "source": [
        "#Mostrar o mapa de calor da matriz de confusão\n",
        "conf_mat_nb = confusion_matrix(y_teste_rotulos, lista_predict)\n",
        "fig, ax = plt.subplots(figsize=(5,5))\n",
        "sns.heatmap(conf_mat_nb, annot=True, fmt='d',\n",
        "            xticklabels=rotulos_plt_cm, yticklabels=rotulos_plt_cm)\n",
        "plt.ylabel('Verdade')\n",
        "plt.xlabel('Previsão')\n",
        "plt.show()"
      ],
      "execution_count": null,
      "outputs": [
        {
          "output_type": "display_data",
          "data": {
            "image/png": "[encoded data removed]",
            "text/plain": [
              "<Figure size 360x360 with 2 Axes>"
            ]
          },
          "metadata": {
            "tags": [],
            "needs_background": "light"
          }
        }
      ]
    },
    {
      "cell_type": "code",
      "metadata": {
        "colab": {
          "base_uri": "https://localhost:8080/"
        },
        "id": "vP1Q3L_ns4wy",
        "outputId": "fc671886-c2bc-460c-c6bd-cc8721c520d2"
      },
      "source": [
        "#Acurácia\n",
        "accuracy_score(y_teste_rotulos, lista_predict)"
      ],
      "execution_count": null,
      "outputs": [
        {
          "output_type": "execute_result",
          "data": {
            "text/plain": [
              "0.879842784952274"
            ]
          },
          "metadata": {
            "tags": []
          },
          "execution_count": 63
        }
      ]
    },
    {
      "cell_type": "markdown",
      "metadata": {
        "id": "xfYHySfywfyN"
      },
      "source": [
        "#8. Avaliação com stemização"
      ]
    },
    {
      "cell_type": "code",
      "metadata": {
        "id": "dgsVgQMlwfyO"
      },
      "source": [
        "#Fazendo a previsão do teste\n",
        "y_pred_test = Dcnn.predict(X_teste_vetor_numerico)\n",
        "lista_predict = y_pred_test.argmax(axis=1) "
      ],
      "execution_count": null,
      "outputs": []
    },
    {
      "cell_type": "code",
      "metadata": {
        "colab": {
          "base_uri": "https://localhost:8080/",
          "height": 334
        },
        "id": "doTxpxm3wfyO",
        "outputId": "fe130e56-46e0-4998-82ec-b208682381dc"
      },
      "source": [
        "#Mostrar o mapa de calor da matriz de confusão\n",
        "conf_mat_nb = confusion_matrix(y_teste_rotulos, lista_predict)\n",
        "fig, ax = plt.subplots(figsize=(5,5))\n",
        "sns.heatmap(conf_mat_nb, annot=True, fmt='d',\n",
        "            xticklabels=rotulos_plt_cm, yticklabels=rotulos_plt_cm)\n",
        "plt.ylabel('Verdade')\n",
        "plt.xlabel('Previsão')\n",
        "plt.show()"
      ],
      "execution_count": null,
      "outputs": [
        {
          "output_type": "display_data",
          "data": {
            "image/png": "[encoded data removed]",
            "text/plain": [
              "<Figure size 360x360 with 2 Axes>"
            ]
          },
          "metadata": {
            "tags": [],
            "needs_background": "light"
          }
        }
      ]
    },
    {
      "cell_type": "code",
      "metadata": {
        "colab": {
          "base_uri": "https://localhost:8080/"
        },
        "id": "UZ2O9HY2wfyP",
        "outputId": "0e88634a-1f8a-48f3-f186-b3c886d933c7"
      },
      "source": [
        "#Acurácia\n",
        "accuracy_score(y_teste_rotulos, lista_predict)"
      ],
      "execution_count": null,
      "outputs": [
        {
          "output_type": "execute_result",
          "data": {
            "text/plain": [
              "0.8753509264458169"
            ]
          },
          "metadata": {
            "tags": []
          },
          "execution_count": 44
        }
      ]
    },
    {
      "cell_type": "markdown",
      "metadata": {
        "id": "AI9N_ikJwhAd"
      },
      "source": [
        "##9. Avaliação com palavras originais"
      ]
    },
    {
      "cell_type": "code",
      "metadata": {
        "id": "IVSLzgxMwhAd"
      },
      "source": [
        "#Fazendo a previsão do teste\n",
        "y_pred_test = Dcnn.predict(X_teste_vetor_numerico)\n",
        "lista_predict = y_pred_test.argmax(axis=1) "
      ],
      "execution_count": null,
      "outputs": []
    },
    {
      "cell_type": "code",
      "metadata": {
        "colab": {
          "base_uri": "https://localhost:8080/",
          "height": 334
        },
        "id": "O6wO0zp1whAd",
        "outputId": "ac2b7fc4-6e12-42ad-81fd-725d5fe05e15"
      },
      "source": [
        "#Mostrar o mapa de calor da matriz de confusão\n",
        "conf_mat_nb = confusion_matrix(y_teste_rotulos, lista_predict)\n",
        "fig, ax = plt.subplots(figsize=(5,5))\n",
        "sns.heatmap(conf_mat_nb, annot=True, fmt='d',\n",
        "            xticklabels=rotulos_plt_cm, yticklabels=rotulos_plt_cm)\n",
        "plt.ylabel('Verdade')\n",
        "plt.xlabel('Previsão')\n",
        "plt.show()"
      ],
      "execution_count": null,
      "outputs": [
        {
          "output_type": "display_data",
          "data": {
            "image/png": "[encoded data removed]",
            "text/plain": [
              "<Figure size 360x360 with 2 Axes>"
            ]
          },
          "metadata": {
            "tags": [],
            "needs_background": "light"
          }
        }
      ]
    },
    {
      "cell_type": "code",
      "metadata": {
        "colab": {
          "base_uri": "https://localhost:8080/"
        },
        "id": "78C--bX1whAe",
        "outputId": "6f747330-cf87-4a0d-96cc-323db41bdc2c"
      },
      "source": [
        "#Acurácia\n",
        "accuracy_score(y_teste_rotulos, lista_predict)"
      ],
      "execution_count": null,
      "outputs": [
        {
          "output_type": "execute_result",
          "data": {
            "text/plain": [
              "0.8747894441325098"
            ]
          },
          "metadata": {
            "tags": []
          },
          "execution_count": 49
        }
      ]
    }
  ]
}