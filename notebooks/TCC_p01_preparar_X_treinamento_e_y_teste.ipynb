{
  "nbformat": 4,
  "nbformat_minor": 0,
  "metadata": {
    "colab": {
      "name": "TCC_p01_preparar_X_treinamento_e_y_teste.ipynb",
      "provenance": [],
      "collapsed_sections": [],
      "toc_visible": true
    },
    "kernelspec": {
      "display_name": "Python 3",
      "name": "python3"
    }
  },
  "cells": [
    {
      "cell_type": "markdown",
      "metadata": {
        "id": "GUEq8nGVXtwL"
      },
      "source": [
        "# **TCC_p01_preparar_X_treinamento_e_y_teste.ipynb**"
      ]
    },
    {
      "cell_type": "markdown",
      "metadata": {
        "id": "DvxhMFfwLbqF"
      },
      "source": [
        "# **Etapa 1 - Gerar arquivos de treinamento e de teste**\n",
        "O objetivo deste notebook é preparar e salvar os dataframes **X e y**. O **X** será usado para treinar os diferentes modelos (SpaCy e DCNN com stemer, lema e palavras originais) e o **y** será utilizado para apuração da acurácia dos modelos de classificação. Posteriormente, o mesmo **y** será utilizado por todos os sumarizadores para a geração dos resumos e, em seguida, para apuração da acurácia do modelo escolhido em relação aos resumos. Como a base para as experiências precisa ser a mesma, após a preparação dos dados e a divisão em **X e y**, os dataframes serão salvos no drive. Assim, esse procedimento será executado apenas uma vez.\n",
        "\n",
        "1.   Importação de bibliotecas\n",
        "> As bibliotecas utilizadas foram ***Pandas***, para criação e manipulação de dataframes, ***re***, para utilização das expressões regulares em operações de pesquisas em string.\n",
        "Utilizei o ***train_test_split***, função da ***scikit-learn***, para dividir a base. O *train_test_split* permite a indicação de um inteiro para saída reproduzível em várias chamadas de função e a definição do percentual para divisão da amostra. Escolhi 80% para a base de treinamento e 20% para a base de teste.\n",
        "\n",
        "2.   Montar Drive\n",
        "> Com ***drive.mount***('/content/drive', force_remount=True) os diretórios de dados do ***Google Drive*** são montados para utilização no ***Colab*** permitindo salvar arquivos e modelos treinados para utilização posterior, inclusive, em outros notebooks.\n",
        "\n",
        "3.   Ler os dataframes df_atributos e df_voto gerados pelo script TCC Big Data - Ler pdf acordao e salvos no Drive\n",
        "> Conforme descrito no item do texto principal do TCC **2. Coleta de Dados**, foram criados \n",
        "2 dataframes contendo os atributos e os votos dos acórdãos Carf. Os arquivos foram salvos no drive. Neste notebook, são lidos a partir do drive e são a base para a criação dos dataframes **X e y**.\n",
        "\n",
        "4.   Concatenar as frases gerando o voto completo\n",
        "> O voto será utilizado como atributo para a classificação dos dados. O voto no df_voto foi carregado em até 510 colunas chamadas *frase001* a *frase510*. Essas frases devem ser concatenadas formando uma coluna única. Para isso, criei a função ***concatena_frases***. A função está descrita em docstring reproduzido a seguir.\n",
        "> * Concatena as frases do voto agrupando-as em uma única string. Despreza as frases com menos de 4 palavras e os conteúdos NaN. Despreza a primeira coluna que contém o número do processo.\n",
        "> * parâmetro linha: recebe as linhas do df que contêm as frases do voto.\n",
        "> * retorno texto_original: string contendo o voto completo após a concatenação das frases.\n",
        "\n",
        "5.   Contar o número de frases\n",
        "> O objetivo de calcular o número de sentenças foi selecionar apenas os textos com pelo menos 10 sentenças, pois a sumarização de textos pequenos não é muito útil e poderia prejudicar a análise da qualidade dos sumarizadores. A função está descrita em docstring reproduzido a seguir.\n",
        "> * Calcula a quantidade de frases/sentenças do voto. Não considera as frases com menos de 4    palavras e os conteúdos NaN. \n",
        "> * parâmetro linha: recebe as linhas do df que contêm as frases do voto.\n",
        "> * retorno qtd: int contendo a quantidade de frases da linha.\n",
        "\n",
        "6.   Selecionar os assuntos/categorias 'irpf', 'ngdt', 'irpj' e 'paf' e desprezar os votos com menos de 10 frases\n",
        "> * Selecionei os 4 assuntos com maior quantidade de processos. São eles o Imposto de Renda da Pessoa Jurídica (IRPJ), o Imposto de Renda da Pessoa Física (IRPF), as Normas gerais de direito tributário (NGDT) e o Processo administrativo fiscal (PAF). \n",
        "> * Foram selecionados: IRPF 3734; NGDT 2479; IRPJ 2331 e PAF 1927.\n",
        "> * Foram selecionados apenas os processos cujo voto tinha 10 frases ou mais.\n",
        "> * Após o corte pelo número de frases, os selecionados foram IRPF 2994; NGDT 2155; IRPJ 2145 e PAF 1611.\n",
        "\n",
        "7.   Criar X_treinamento, X_teste, y_treinamento e y_teste na proporção 80%/20% e gravá-los no Drive, sendo X = voto e y = assunto\n",
        "> Utilizei o encoding Windows-1252, uma codificação de caracteres de byte único do alfabeto latino, usada por padrão nos componentes herdados do Microsoft Windows que se mostrou adequada aos textos utilizados. Os arquivos gravados no drive foram os seguintes:\n",
        "> * X_treinamento_7124.csv\n",
        "> * y_treinamento_7124.csv\n",
        "> * X_teste_1781.csv\n",
        "> * y_teste_1781.csv\n",
        "\n",
        "\n",
        "\n",
        "\n",
        "\n"
      ]
    },
    {
      "cell_type": "code",
      "metadata": {
        "id": "LqIa-_IHOqJz"
      },
      "source": [
        "import pandas as pd\n",
        "import re\n",
        "import seaborn as sns\n",
        "import matplotlib.pyplot as plt\n",
        "from sklearn.model_selection import train_test_split"
      ],
      "execution_count": null,
      "outputs": []
    },
    {
      "cell_type": "code",
      "metadata": {
        "colab": {
          "base_uri": "https://localhost:8080/"
        },
        "id": "A7CRj_KtNRem",
        "outputId": "dc320639-7b94-48c8-9579-82b2ebf74cd9"
      },
      "source": [
        "from google.colab import drive\n",
        "drive.mount('/content/drive', force_remount=True) "
      ],
      "execution_count": null,
      "outputs": [
        {
          "output_type": "stream",
          "text": [
            "Mounted at /content/drive\n"
          ],
          "name": "stdout"
        }
      ]
    },
    {
      "cell_type": "code",
      "metadata": {
        "colab": {
          "base_uri": "https://localhost:8080/"
        },
        "id": "zUkIq6LSBggK",
        "outputId": "c516babb-5dce-4697-953e-43f04979957a"
      },
      "source": [
        "url = '/content/drive/MyDrive/df_atributos.csv' \n",
        "df_a = pd.read_csv(url, sep=';', engine='python', encoding='windows-1252', low_memory=True)\n",
        "df_a.columns = df_a.columns.str.lower() \n",
        "url = '/content/drive/MyDrive/df_voto.csv' \n",
        "df_v = pd.read_csv(url, sep=';', engine='python', encoding='windows-1252', low_memory=True, quotechar='\"', error_bad_lines=False) \n",
        "df_v.columns = df_v.columns.str.lower() \n",
        "print(f'{df_a.shape}, {df_v.shape}')"
      ],
      "execution_count": null,
      "outputs": [
        {
          "output_type": "stream",
          "text": [
            "(18594, 9), (18594, 511)\n"
          ],
          "name": "stdout"
        }
      ]
    },
    {
      "cell_type": "code",
      "metadata": {
        "colab": {
          "base_uri": "https://localhost:8080/"
        },
        "id": "1hxLCiZdbs6I",
        "outputId": "2ab5778c-2781-44bc-d049-04002a9b0e30"
      },
      "source": [
        "df_a.assunto.describe()"
      ],
      "execution_count": null,
      "outputs": [
        {
          "output_type": "execute_result",
          "data": {
            "text/plain": [
              "count     18586\n",
              "unique       30\n",
              "top        irpf\n",
              "freq       3734\n",
              "Name: assunto, dtype: object"
            ]
          },
          "metadata": {
            "tags": []
          },
          "execution_count": 9
        }
      ]
    },
    {
      "cell_type": "code",
      "metadata": {
        "colab": {
          "base_uri": "https://localhost:8080/",
          "height": 280
        },
        "id": "pl9rb7NCdT22",
        "outputId": "519fe4d2-ec58-40b3-ec68-1f79ad784447"
      },
      "source": [
        "sns.countplot(y=\"assunto\", palette=\"Dark2\", data=df_a);"
      ],
      "execution_count": null,
      "outputs": [
        {
          "output_type": "display_data",
          "data": {
            "image/png": "[encoded data removed]",
            "text/plain": [
              "<Figure size 432x288 with 1 Axes>"
            ]
          },
          "metadata": {
            "tags": [],
            "needs_background": "light"
          }
        }
      ]
    },
    {
      "cell_type": "code",
      "metadata": {
        "colab": {
          "base_uri": "https://localhost:8080/"
        },
        "id": "Sruu29dccRen",
        "outputId": "a431047e-3946-40f0-99ec-42b29ed7c9ab"
      },
      "source": [
        "df_a.assunto.value_counts()"
      ],
      "execution_count": null,
      "outputs": [
        {
          "output_type": "execute_result",
          "data": {
            "text/plain": [
              "irpf                                               3734\n",
              "ngdt                                               2479\n",
              "irpj                                               2331\n",
              "paf                                                1927\n",
              "cp                                                 1535\n",
              "cofins                                             1237\n",
              "pis                                                1029\n",
              "nadm                                                765\n",
              "obrig                                               635\n",
              "csll                                                609\n",
              "ipi                                                 500\n",
              "itr                                                 491\n",
              "irrf                                                380\n",
              "simples                                             292\n",
              "sn                                                  214\n",
              "classificação de mercadorias                        159\n",
              "ii                                                   88\n",
              "outros                                               51\n",
              "iof                                                  43\n",
              "aduana                                               41\n",
              "cide                                                 17\n",
              "cpmf                                                 15\n",
              "compensação cofins                                    4\n",
              "compensação pasep                                     3\n",
              "antidumping                                           2\n",
              "contribuição pis/cofins                               1\n",
              "ie                                                    1\n",
              "contrirurção para o financiamento da secuiudaue       1\n",
              "financiamento para a seguridade social cofins         1\n",
              "classificação fiscal                                  1\n",
              "Name: assunto, dtype: int64"
            ]
          },
          "metadata": {
            "tags": []
          },
          "execution_count": 63
        }
      ]
    },
    {
      "cell_type": "code",
      "metadata": {
        "id": "7yjz0S3rpFL8"
      },
      "source": [
        "pd_options = pd.options.display # Objeto para configuração do ambiente: número de linhas, colunas, precisão e etc\n",
        "pd_options.max_colwidth = 15"
      ],
      "execution_count": null,
      "outputs": []
    },
    {
      "cell_type": "code",
      "metadata": {
        "colab": {
          "base_uri": "https://localhost:8080/",
          "height": 194
        },
        "id": "hUzzgQwunHht",
        "outputId": "7cfd2f6e-982c-471f-9983-fab0e0c0c261"
      },
      "source": [
        "df_v.head(10)[1:3]"
      ],
      "execution_count": null,
      "outputs": [
        {
          "output_type": "execute_result",
          "data": {
            "text/html": [
              "<div>\n",
              "<style scoped>\n",
              "    .dataframe tbody tr th:only-of-type {\n",
              "        vertical-align: middle;\n",
              "    }\n",
              "\n",
              "    .dataframe tbody tr th {\n",
              "        vertical-align: top;\n",
              "    }\n",
              "\n",
              "    .dataframe thead th {\n",
              "        text-align: right;\n",
              "    }\n",
              "</style>\n",
              "<table border=\"1\" class=\"dataframe\">\n",
              "  <thead>\n",
              "    <tr style=\"text-align: right;\">\n",
              "      <th></th>\n",
              "      <th>processo</th>\n",
              "      <th>frase001</th>\n",
              "      <th>frase002</th>\n",
              "      <th>frase003</th>\n",
              "      <th>frase004</th>\n",
              "      <th>frase005</th>\n",
              "      <th>frase006</th>\n",
              "      <th>frase007</th>\n",
              "      <th>frase008</th>\n",
              "      <th>frase009</th>\n",
              "      <th>frase010</th>\n",
              "      <th>frase011</th>\n",
              "      <th>frase012</th>\n",
              "      <th>frase013</th>\n",
              "      <th>frase014</th>\n",
              "      <th>frase015</th>\n",
              "      <th>frase016</th>\n",
              "      <th>frase017</th>\n",
              "      <th>frase018</th>\n",
              "      <th>frase019</th>\n",
              "      <th>frase020</th>\n",
              "      <th>frase021</th>\n",
              "      <th>frase022</th>\n",
              "      <th>frase023</th>\n",
              "      <th>frase024</th>\n",
              "      <th>frase025</th>\n",
              "      <th>frase026</th>\n",
              "      <th>frase027</th>\n",
              "      <th>frase028</th>\n",
              "      <th>frase029</th>\n",
              "      <th>frase030</th>\n",
              "      <th>frase031</th>\n",
              "      <th>frase032</th>\n",
              "      <th>frase033</th>\n",
              "      <th>frase034</th>\n",
              "      <th>frase035</th>\n",
              "      <th>frase036</th>\n",
              "      <th>frase037</th>\n",
              "      <th>frase038</th>\n",
              "      <th>frase039</th>\n",
              "      <th>...</th>\n",
              "      <th>frase471</th>\n",
              "      <th>frase472</th>\n",
              "      <th>frase473</th>\n",
              "      <th>frase474</th>\n",
              "      <th>frase475</th>\n",
              "      <th>frase476</th>\n",
              "      <th>frase477</th>\n",
              "      <th>frase478</th>\n",
              "      <th>frase479</th>\n",
              "      <th>frase480</th>\n",
              "      <th>frase481</th>\n",
              "      <th>frase482</th>\n",
              "      <th>frase483</th>\n",
              "      <th>frase484</th>\n",
              "      <th>frase485</th>\n",
              "      <th>frase486</th>\n",
              "      <th>frase487</th>\n",
              "      <th>frase488</th>\n",
              "      <th>frase489</th>\n",
              "      <th>frase490</th>\n",
              "      <th>frase491</th>\n",
              "      <th>frase492</th>\n",
              "      <th>frase493</th>\n",
              "      <th>frase494</th>\n",
              "      <th>frase495</th>\n",
              "      <th>frase496</th>\n",
              "      <th>frase497</th>\n",
              "      <th>frase498</th>\n",
              "      <th>frase499</th>\n",
              "      <th>frase500</th>\n",
              "      <th>frase501</th>\n",
              "      <th>frase502</th>\n",
              "      <th>frase503</th>\n",
              "      <th>frase504</th>\n",
              "      <th>frase505</th>\n",
              "      <th>frase506</th>\n",
              "      <th>frase507</th>\n",
              "      <th>frase508</th>\n",
              "      <th>frase509</th>\n",
              "      <th>frase510</th>\n",
              "    </tr>\n",
              "  </thead>\n",
              "  <tbody>\n",
              "    <tr>\n",
              "      <th>1</th>\n",
              "      <td>10070000654...</td>\n",
              "      <td>o recurso v...</td>\n",
              "      <td>no que conc...</td>\n",
              "      <td>cabe mencio...</td>\n",
              "      <td>a folha 10,...</td>\n",
              "      <td>238,50 e   ...</td>\n",
              "      <td>não   const...</td>\n",
              "      <td>assim o lan...</td>\n",
              "      <td>do exame do...</td>\n",
              "      <td>quanto à co...</td>\n",
              "      <td>o sujeito p...</td>\n",
              "      <td>cumpre escl...</td>\n",
              "      <td>por todo o ...</td>\n",
              "      <td>()</td>\n",
              "      <td>NaN</td>\n",
              "      <td>NaN</td>\n",
              "      <td>NaN</td>\n",
              "      <td>NaN</td>\n",
              "      <td>NaN</td>\n",
              "      <td>NaN</td>\n",
              "      <td>NaN</td>\n",
              "      <td>NaN</td>\n",
              "      <td>NaN</td>\n",
              "      <td>NaN</td>\n",
              "      <td>NaN</td>\n",
              "      <td>NaN</td>\n",
              "      <td>NaN</td>\n",
              "      <td>NaN</td>\n",
              "      <td>NaN</td>\n",
              "      <td>NaN</td>\n",
              "      <td>NaN</td>\n",
              "      <td>NaN</td>\n",
              "      <td>NaN</td>\n",
              "      <td>NaN</td>\n",
              "      <td>NaN</td>\n",
              "      <td>NaN</td>\n",
              "      <td>NaN</td>\n",
              "      <td>NaN</td>\n",
              "      <td>NaN</td>\n",
              "      <td>NaN</td>\n",
              "      <td>...</td>\n",
              "      <td>NaN</td>\n",
              "      <td>NaN</td>\n",
              "      <td>NaN</td>\n",
              "      <td>NaN</td>\n",
              "      <td>NaN</td>\n",
              "      <td>NaN</td>\n",
              "      <td>NaN</td>\n",
              "      <td>NaN</td>\n",
              "      <td>NaN</td>\n",
              "      <td>NaN</td>\n",
              "      <td>NaN</td>\n",
              "      <td>NaN</td>\n",
              "      <td>NaN</td>\n",
              "      <td>NaN</td>\n",
              "      <td>NaN</td>\n",
              "      <td>NaN</td>\n",
              "      <td>NaN</td>\n",
              "      <td>NaN</td>\n",
              "      <td>NaN</td>\n",
              "      <td>NaN</td>\n",
              "      <td>NaN</td>\n",
              "      <td>NaN</td>\n",
              "      <td>NaN</td>\n",
              "      <td>NaN</td>\n",
              "      <td>NaN</td>\n",
              "      <td>NaN</td>\n",
              "      <td>NaN</td>\n",
              "      <td>NaN</td>\n",
              "      <td>NaN</td>\n",
              "      <td>NaN</td>\n",
              "      <td>NaN</td>\n",
              "      <td>NaN</td>\n",
              "      <td>NaN</td>\n",
              "      <td>NaN</td>\n",
              "      <td>NaN</td>\n",
              "      <td>NaN</td>\n",
              "      <td>NaN</td>\n",
              "      <td>NaN</td>\n",
              "      <td>NaN</td>\n",
              "      <td>NaN</td>\n",
              "    </tr>\n",
              "    <tr>\n",
              "      <th>2</th>\n",
              "      <td>10070000947...</td>\n",
              "      <td>por ser tem...</td>\n",
              "      <td>conforme já...</td>\n",
              "      <td>parágrafo ú...</td>\n",
              "      <td>poderá ser ...</td>\n",
              "      <td>juntamente ...</td>\n",
              "      <td>muito embor...</td>\n",
              "      <td>nos termos ...</td>\n",
              "      <td>por outro l...</td>\n",
              "      <td>tal conclus...</td>\n",
              "      <td>não obstant...</td>\n",
              "      <td>por outro l...</td>\n",
              "      <td>contudo, o ...</td>\n",
              "      <td>carlos albe...</td>\n",
              "      <td>NaN</td>\n",
              "      <td>NaN</td>\n",
              "      <td>NaN</td>\n",
              "      <td>NaN</td>\n",
              "      <td>NaN</td>\n",
              "      <td>NaN</td>\n",
              "      <td>NaN</td>\n",
              "      <td>NaN</td>\n",
              "      <td>NaN</td>\n",
              "      <td>NaN</td>\n",
              "      <td>NaN</td>\n",
              "      <td>NaN</td>\n",
              "      <td>NaN</td>\n",
              "      <td>NaN</td>\n",
              "      <td>NaN</td>\n",
              "      <td>NaN</td>\n",
              "      <td>NaN</td>\n",
              "      <td>NaN</td>\n",
              "      <td>NaN</td>\n",
              "      <td>NaN</td>\n",
              "      <td>NaN</td>\n",
              "      <td>NaN</td>\n",
              "      <td>NaN</td>\n",
              "      <td>NaN</td>\n",
              "      <td>NaN</td>\n",
              "      <td>NaN</td>\n",
              "      <td>...</td>\n",
              "      <td>NaN</td>\n",
              "      <td>NaN</td>\n",
              "      <td>NaN</td>\n",
              "      <td>NaN</td>\n",
              "      <td>NaN</td>\n",
              "      <td>NaN</td>\n",
              "      <td>NaN</td>\n",
              "      <td>NaN</td>\n",
              "      <td>NaN</td>\n",
              "      <td>NaN</td>\n",
              "      <td>NaN</td>\n",
              "      <td>NaN</td>\n",
              "      <td>NaN</td>\n",
              "      <td>NaN</td>\n",
              "      <td>NaN</td>\n",
              "      <td>NaN</td>\n",
              "      <td>NaN</td>\n",
              "      <td>NaN</td>\n",
              "      <td>NaN</td>\n",
              "      <td>NaN</td>\n",
              "      <td>NaN</td>\n",
              "      <td>NaN</td>\n",
              "      <td>NaN</td>\n",
              "      <td>NaN</td>\n",
              "      <td>NaN</td>\n",
              "      <td>NaN</td>\n",
              "      <td>NaN</td>\n",
              "      <td>NaN</td>\n",
              "      <td>NaN</td>\n",
              "      <td>NaN</td>\n",
              "      <td>NaN</td>\n",
              "      <td>NaN</td>\n",
              "      <td>NaN</td>\n",
              "      <td>NaN</td>\n",
              "      <td>NaN</td>\n",
              "      <td>NaN</td>\n",
              "      <td>NaN</td>\n",
              "      <td>NaN</td>\n",
              "      <td>NaN</td>\n",
              "      <td>NaN</td>\n",
              "    </tr>\n",
              "  </tbody>\n",
              "</table>\n",
              "<p>2 rows × 511 columns</p>\n",
              "</div>"
            ],
            "text/plain": [
              "         processo        frase001        frase002  ... frase508 frase509 frase510\n",
              "1  10070000654...  o recurso v...  no que conc...  ...      NaN      NaN      NaN\n",
              "2  10070000947...  por ser tem...  conforme já...  ...      NaN      NaN      NaN\n",
              "\n",
              "[2 rows x 511 columns]"
            ]
          },
          "metadata": {
            "tags": []
          },
          "execution_count": 65
        }
      ]
    },
    {
      "cell_type": "code",
      "metadata": {
        "id": "bx9bpebqvtxL"
      },
      "source": [
        "def concatena_frases(linha):\n",
        "  \"\"\"\n",
        "  Concatena as frases do voto agrupando-as em uma única string. Despreza as frases com menos de 4 palavras e \n",
        "  os conteúdos NaN. Despreza a primeira coluna que contém o número do processo.\n",
        "\n",
        "  :parâmetro linha: recebe as linhas do df que contêm as frases do voto.\n",
        "  :retorno texto_original: string contendo o voto completo após a concatenação das frases.\n",
        "  \"\"\"\n",
        "  texto_original = ''\n",
        "  primeira_coluna = True\n",
        "  for conteudo_coluna in linha:\n",
        "    if primeira_coluna == True:\n",
        "      primeira_coluna = False\n",
        "      continue\n",
        "    if isinstance(conteudo_coluna, str):\n",
        "      if re.search('[a-zA-Z0-9]+ [a-zA-Z0-9]+ [a-zA-Z0-9]+ [a-zA-Z0-9]+', str(conteudo_coluna)):\n",
        "        texto_original += conteudo_coluna + ' '\n",
        "  return texto_original"
      ],
      "execution_count": null,
      "outputs": []
    },
    {
      "cell_type": "code",
      "metadata": {
        "id": "rEhdVLZem2SU"
      },
      "source": [
        "def soma_frases(linha):\n",
        "  \"\"\"\n",
        "  Calcula a quantidade de frases/sentenças do voto. Não considera as frases com menos de 4 palavras e \n",
        "  os conteúdos NaN. \n",
        "  \n",
        "  :parâmetro linha: recebe as linhas do df que contêm as frases do voto.\n",
        "  :retorno qtd: int contendo a quantidade de frases da linha.\n",
        "  \"\"\"\n",
        "  qtd = 0\n",
        "  primeira_coluna = True\n",
        "  for conteudo_coluna in linha: \n",
        "    if primeira_coluna == True:\n",
        "      primeira_coluna = False\n",
        "      continue\n",
        "    if isinstance(conteudo_coluna, str):\n",
        "      if re.search('[a-zA-Z0-9]+ [a-zA-Z0-9]+ [a-zA-Z0-9]+ [a-zA-Z0-9]+', str(conteudo_coluna)): #despreza linhas que não tenham pelo menos 4 palavras.\n",
        "        qtd += 1\n",
        "  return qtd"
      ],
      "execution_count": null,
      "outputs": []
    },
    {
      "cell_type": "code",
      "metadata": {
        "id": "b_S4i3O5oTSb"
      },
      "source": [
        "def intervalo_frases(linha):\n",
        "  if linha.loc['qtdfrase'] < 10:\n",
        "    return '001-009'\n",
        "  elif linha.loc['qtdfrase'] < 51:\n",
        "    return '010-050'\n",
        "  elif linha.loc['qtdfrase'] < 101:\n",
        "    return '051-100'\n",
        "  elif linha.loc['qtdfrase'] < 151:\n",
        "    return '100-150'\n",
        "  else:\n",
        "    return '150-321'"
      ],
      "execution_count": null,
      "outputs": []
    },
    {
      "cell_type": "code",
      "metadata": {
        "colab": {
          "base_uri": "https://localhost:8080/",
          "height": 35
        },
        "id": "auYLHmUaOXhO",
        "outputId": "7c613373-f07d-435f-e672-802962797dc7"
      },
      "source": [
        "#obtém lista com o título de todas as colunas frase para exclusão das colunas\n",
        "lista_colunas = list(df_v.columns)\n",
        "lista_colunas.pop(0) #processo"
      ],
      "execution_count": null,
      "outputs": [
        {
          "output_type": "execute_result",
          "data": {
            "application/vnd.google.colaboratory.intrinsic+json": {
              "type": "string"
            },
            "text/plain": [
              "'processo'"
            ]
          },
          "metadata": {
            "tags": []
          },
          "execution_count": 69
        }
      ]
    },
    {
      "cell_type": "code",
      "metadata": {
        "id": "5UFTT5NObaBZ"
      },
      "source": [
        "pd_options = pd.options.display # Objeto para configuração do ambiente: número de linhas, colunas, precisão e etc\n",
        "pd_options.max_colwidth = 200"
      ],
      "execution_count": null,
      "outputs": []
    },
    {
      "cell_type": "code",
      "metadata": {
        "colab": {
          "base_uri": "https://localhost:8080/",
          "height": 289
        },
        "id": "AY5X6QBWnwQT",
        "outputId": "044a88a1-e6dd-4a9f-d1d4-28dd9092f581"
      },
      "source": [
        "#inclui a coluna quantidade de frases. Considera apenas as frase com pelo menos 4 palavras.\n",
        "df_v['qtdfrase'] = df_v.apply(soma_frases, axis=1)\n",
        "#inclui a coluna voto com o conteúdo de todas as frases. Considera apenas as frase com pelo menos 4 palavras.\n",
        "df_v['voto'] = df_v.apply(concatena_frases, axis=1)\n",
        "#exclui as colunas frase\n",
        "df_v.drop(columns=lista_colunas, inplace=True)\n",
        "#inclui coluna com intervalo de quantidade de frases\n",
        "df_v['intervalofrase'] = df_v.apply(intervalo_frases, axis=1)\n",
        "df_v.head()"
      ],
      "execution_count": null,
      "outputs": [
        {
          "output_type": "execute_result",
          "data": {
            "text/html": [
              "<div>\n",
              "<style scoped>\n",
              "    .dataframe tbody tr th:only-of-type {\n",
              "        vertical-align: middle;\n",
              "    }\n",
              "\n",
              "    .dataframe tbody tr th {\n",
              "        vertical-align: top;\n",
              "    }\n",
              "\n",
              "    .dataframe thead th {\n",
              "        text-align: right;\n",
              "    }\n",
              "</style>\n",
              "<table border=\"1\" class=\"dataframe\">\n",
              "  <thead>\n",
              "    <tr style=\"text-align: right;\">\n",
              "      <th></th>\n",
              "      <th>processo</th>\n",
              "      <th>qtdfrase</th>\n",
              "      <th>voto</th>\n",
              "      <th>intervalofrase</th>\n",
              "    </tr>\n",
              "  </thead>\n",
              "  <tbody>\n",
              "    <tr>\n",
              "      <th>0</th>\n",
              "      <td>10070000461200797</td>\n",
              "      <td>2</td>\n",
              "      <td>o cerne da discordância nos presentes autos como  bem identificado na resolução de folhas 114/116 e não considerado pela drj em decorrência de  falta de provas pela contribuinte foi:   em julgamen...</td>\n",
              "      <td>001-009</td>\n",
              "    </tr>\n",
              "    <tr>\n",
              "      <th>1</th>\n",
              "      <td>10070000654200748</td>\n",
              "      <td>11</td>\n",
              "      <td>o recurso voluntário é tempestivo e reúne os requisitos de admissibilidade,  portanto, dele tomo conhecimento. no que concerne à omissão de rendimentos, verifica-se que a recorrente  concorda com ...</td>\n",
              "      <td>010-050</td>\n",
              "    </tr>\n",
              "    <tr>\n",
              "      <th>2</th>\n",
              "      <td>10070000947200644</td>\n",
              "      <td>12</td>\n",
              "      <td>por ser tempestivo e por preencher as demais condições de admissibilidade,  conheço do presente recurso voluntário. conforme já descrito no relatório supra, o pleito recursal se restringe ao  apro...</td>\n",
              "      <td>010-050</td>\n",
              "    </tr>\n",
              "    <tr>\n",
              "      <th>3</th>\n",
              "      <td>10070001028200264</td>\n",
              "      <td>16</td>\n",
              "      <td>- da prescrição intercorrente   na merece guarida a pretensão recursal em tal tópico. o tema está pacificado na jurisprudência administrativa, conforme precedentes a  seguir transcritos:   assunto...</td>\n",
              "      <td>010-050</td>\n",
              "    </tr>\n",
              "    <tr>\n",
              "      <th>4</th>\n",
              "      <td>10070001083200254</td>\n",
              "      <td>16</td>\n",
              "      <td>o recurso voluntário é tempestivo e preenche os requisitos de  admissibilidade, por isto dele conheço. conforme relatado, o crédito pleiteado pela contribuinte não foi reconhecido,  pois conforme ...</td>\n",
              "      <td>010-050</td>\n",
              "    </tr>\n",
              "  </tbody>\n",
              "</table>\n",
              "</div>"
            ],
            "text/plain": [
              "            processo  ...  intervalofrase\n",
              "0  10070000461200797  ...         001-009\n",
              "1  10070000654200748  ...         010-050\n",
              "2  10070000947200644  ...         010-050\n",
              "3  10070001028200264  ...         010-050\n",
              "4  10070001083200254  ...         010-050\n",
              "\n",
              "[5 rows x 4 columns]"
            ]
          },
          "metadata": {
            "tags": []
          },
          "execution_count": 71
        }
      ]
    },
    {
      "cell_type": "code",
      "metadata": {
        "colab": {
          "base_uri": "https://localhost:8080/",
          "height": 282
        },
        "id": "cPYTgoV9d2Th",
        "outputId": "9b693298-2005-4c0c-891d-c78f58a746c5"
      },
      "source": [
        "df_v[\"qtdfrase\"].plot.hist(bins=50, edgecolor='black')"
      ],
      "execution_count": null,
      "outputs": [
        {
          "output_type": "execute_result",
          "data": {
            "text/plain": [
              "<matplotlib.axes._subplots.AxesSubplot at 0x7f2cc17cce50>"
            ]
          },
          "metadata": {
            "tags": []
          },
          "execution_count": 73
        },
        {
          "output_type": "display_data",
          "data": {
            "image/png": "[encoded data removed]",
            "text/plain": [
              "<Figure size 432x288 with 1 Axes>"
            ]
          },
          "metadata": {
            "tags": [],
            "needs_background": "light"
          }
        }
      ]
    },
    {
      "cell_type": "code",
      "metadata": {
        "colab": {
          "base_uri": "https://localhost:8080/",
          "height": 383
        },
        "id": "47_hUa-vqUim",
        "outputId": "286dd399-3fc6-4129-c21b-3f10f389d7d1"
      },
      "source": [
        "sns.catplot(y=\"intervalofrase\", kind=\"count\", palette=\"Set1\", data=df_v);"
      ],
      "execution_count": null,
      "outputs": [
        {
          "output_type": "display_data",
          "data": {
            "image/png": "[encoded data removed]",
            "text/plain": [
              "<Figure size 360x360 with 1 Axes>"
            ]
          },
          "metadata": {
            "tags": [],
            "needs_background": "light"
          }
        }
      ]
    },
    {
      "cell_type": "code",
      "metadata": {
        "colab": {
          "base_uri": "https://localhost:8080/"
        },
        "id": "zO3t_W68rJUn",
        "outputId": "c5024f2c-eac7-43a2-f52b-48fa19d0cdec"
      },
      "source": [
        "df_v.intervalofrase.value_counts()"
      ],
      "execution_count": null,
      "outputs": [
        {
          "output_type": "execute_result",
          "data": {
            "text/plain": [
              "010-050    12788\n",
              "001-009     2776\n",
              "051-100     2219\n",
              "100-150      546\n",
              "150-321      265\n",
              "Name: intervalofrase, dtype: int64"
            ]
          },
          "metadata": {
            "tags": []
          },
          "execution_count": 75
        }
      ]
    },
    {
      "cell_type": "code",
      "metadata": {
        "colab": {
          "base_uri": "https://localhost:8080/"
        },
        "id": "dqSk-gGTrUUQ",
        "outputId": "f3ebeb82-c7a0-45de-92e5-e269284145f5"
      },
      "source": [
        "df_v.qtdfrase.mean()"
      ],
      "execution_count": null,
      "outputs": [
        {
          "output_type": "execute_result",
          "data": {
            "text/plain": [
              "32.368075723351616"
            ]
          },
          "metadata": {
            "tags": []
          },
          "execution_count": 122
        }
      ]
    },
    {
      "cell_type": "code",
      "metadata": {
        "colab": {
          "base_uri": "https://localhost:8080/",
          "height": 196
        },
        "id": "IdqMof8V2rTC",
        "outputId": "b3f1f2e7-1371-4722-8a54-771926ae82c2"
      },
      "source": [
        "df_a.head(3)[1:3]"
      ],
      "execution_count": null,
      "outputs": [
        {
          "output_type": "execute_result",
          "data": {
            "text/html": [
              "<div>\n",
              "<style scoped>\n",
              "    .dataframe tbody tr th:only-of-type {\n",
              "        vertical-align: middle;\n",
              "    }\n",
              "\n",
              "    .dataframe tbody tr th {\n",
              "        vertical-align: top;\n",
              "    }\n",
              "\n",
              "    .dataframe thead th {\n",
              "        text-align: right;\n",
              "    }\n",
              "</style>\n",
              "<table border=\"1\" class=\"dataframe\">\n",
              "  <thead>\n",
              "    <tr style=\"text-align: right;\">\n",
              "      <th></th>\n",
              "      <th>processo</th>\n",
              "      <th>recurso</th>\n",
              "      <th>materia</th>\n",
              "      <th>assunto</th>\n",
              "      <th>relator</th>\n",
              "      <th>presidente</th>\n",
              "      <th>conselheiros</th>\n",
              "      <th>decisao</th>\n",
              "      <th>voto vencedor</th>\n",
              "    </tr>\n",
              "  </thead>\n",
              "  <tbody>\n",
              "    <tr>\n",
              "      <th>1</th>\n",
              "      <td>10070000654200748</td>\n",
              "      <td>voluntário</td>\n",
              "      <td>irpf - omissão de rendimentos</td>\n",
              "      <td>irpf</td>\n",
              "      <td>mônica renata mello fereira stoll</td>\n",
              "      <td>cláudia cristina noira passos da costa develly montez</td>\n",
              "      <td>claudia cristina noira  passos da costa develly montez, mônica renata mello fereira stoll, thiago duca amoni e  virgílio cansino gil.</td>\n",
              "      <td>unanimidade</td>\n",
              "      <td>NaN</td>\n",
              "    </tr>\n",
              "    <tr>\n",
              "      <th>2</th>\n",
              "      <td>10070000947200644</td>\n",
              "      <td>voluntário</td>\n",
              "      <td>irpf</td>\n",
              "      <td>irpf</td>\n",
              "      <td>determinando o recalculo do tributo devido nos termos do voto do</td>\n",
              "      <td>carlos henrique de oliveira</td>\n",
              "      <td>carlos henrique de  oliveira, ana cecília lustosa da cruz, dione jesabel wasilewski, josé alfredo duarte filho,  marcelo milton da silva risso, carlos alberto do amaral azeredo, daniel melo mendes...</td>\n",
              "      <td>unanimidade</td>\n",
              "      <td>NaN</td>\n",
              "    </tr>\n",
              "  </tbody>\n",
              "</table>\n",
              "</div>"
            ],
            "text/plain": [
              "            processo     recurso  ...      decisao voto vencedor\n",
              "1  10070000654200748  voluntário  ...  unanimidade           NaN\n",
              "2  10070000947200644  voluntário  ...  unanimidade           NaN\n",
              "\n",
              "[2 rows x 9 columns]"
            ]
          },
          "metadata": {
            "tags": []
          },
          "execution_count": 116
        }
      ]
    },
    {
      "cell_type": "code",
      "metadata": {
        "id": "dHouK0sc2inF"
      },
      "source": [
        "#cria o dataframe df com as colunas do df_voto incluindo a coluna alvo 'assunto' obtida no df_atributos.\n",
        "dict_df = {'processo':list(df_v['processo']), 'voto':list(df_v['voto']), 'qtdfrase':list(df_v['qtdfrase']), 'intervalofrase':list(df_v['intervalofrase']), 'assunto':list(df_a['assunto'])}\n",
        "df = pd.DataFrame(dict_df)"
      ],
      "execution_count": null,
      "outputs": []
    },
    {
      "cell_type": "code",
      "metadata": {
        "id": "Uc_7jsgJtocj"
      },
      "source": [
        "#seleciona apenas os quatro assuntos (irpf, ngdt, irpj e paf) com maior quantidade de processos. \n",
        "df = df[(df['assunto'] == 'irpf') | (df['assunto'] == 'ngdt') | \n",
        "        (df['assunto'] == 'irpj') | (df['assunto'] == 'paf')] "
      ],
      "execution_count": null,
      "outputs": []
    },
    {
      "cell_type": "code",
      "metadata": {
        "colab": {
          "base_uri": "https://localhost:8080/",
          "height": 383
        },
        "id": "f5ZUQGIafu1v",
        "outputId": "03ea14e0-7c03-4ff9-e7cc-a9741ed6ebaf"
      },
      "source": [
        "sns.catplot(y=\"assunto\", kind=\"count\", palette=\"Set1\", data=df);"
      ],
      "execution_count": null,
      "outputs": [
        {
          "output_type": "display_data",
          "data": {
            "image/png": "[encoded data removed]",
            "text/plain": [
              "<Figure size 360x360 with 1 Axes>"
            ]
          },
          "metadata": {
            "tags": [],
            "needs_background": "light"
          }
        }
      ]
    },
    {
      "cell_type": "code",
      "metadata": {
        "colab": {
          "base_uri": "https://localhost:8080/"
        },
        "id": "8a87WOgPgmIO",
        "outputId": "280154d7-9c7d-4b70-b180-e2a5dd4621cd"
      },
      "source": [
        "df.assunto.value_counts()"
      ],
      "execution_count": null,
      "outputs": [
        {
          "output_type": "execute_result",
          "data": {
            "text/plain": [
              "irpf    3734\n",
              "ngdt    2479\n",
              "irpj    2331\n",
              "paf     1927\n",
              "Name: assunto, dtype: int64"
            ]
          },
          "metadata": {
            "tags": []
          },
          "execution_count": 95
        }
      ]
    },
    {
      "cell_type": "code",
      "metadata": {
        "id": "wksECZo38iXM"
      },
      "source": [
        "#exclui processos com menos de 10 frases\n",
        "df = df[df['qtdfrase'] > 9]"
      ],
      "execution_count": null,
      "outputs": []
    },
    {
      "cell_type": "code",
      "metadata": {
        "colab": {
          "base_uri": "https://localhost:8080/",
          "height": 383
        },
        "id": "-gLifFgKqQ-x",
        "outputId": "98c1a114-375d-4496-f3ac-569a09396f8f"
      },
      "source": [
        "sns.catplot(y=\"assunto\", kind=\"count\", palette=\"Set1\", data=df);"
      ],
      "execution_count": null,
      "outputs": [
        {
          "output_type": "display_data",
          "data": {
            "image/png": "[encoded data removed]",
            "text/plain": [
              "<Figure size 360x360 with 1 Axes>"
            ]
          },
          "metadata": {
            "tags": [],
            "needs_background": "light"
          }
        }
      ]
    },
    {
      "cell_type": "code",
      "metadata": {
        "colab": {
          "base_uri": "https://localhost:8080/"
        },
        "id": "GdOTiwePqWxA",
        "outputId": "11bb260b-4a69-40c0-b4e6-59bde401931c"
      },
      "source": [
        "df.assunto.value_counts()"
      ],
      "execution_count": null,
      "outputs": [
        {
          "output_type": "execute_result",
          "data": {
            "text/plain": [
              "irpf    2994\n",
              "ngdt    2155\n",
              "irpj    2145\n",
              "paf     1611\n",
              "Name: assunto, dtype: int64"
            ]
          },
          "metadata": {
            "tags": []
          },
          "execution_count": 98
        }
      ]
    },
    {
      "cell_type": "code",
      "metadata": {
        "colab": {
          "base_uri": "https://localhost:8080/",
          "height": 282
        },
        "id": "lIP36YjBsBkp",
        "outputId": "104b5baf-c35d-4b39-8e5f-f1bac7194587"
      },
      "source": [
        "df[\"qtdfrase\"].plot.hist(bins=50, edgecolor='black')"
      ],
      "execution_count": null,
      "outputs": [
        {
          "output_type": "execute_result",
          "data": {
            "text/plain": [
              "<matplotlib.axes._subplots.AxesSubplot at 0x7f2cc1fb4dd0>"
            ]
          },
          "metadata": {
            "tags": []
          },
          "execution_count": 102
        },
        {
          "output_type": "display_data",
          "data": {
            "image/png": "[encoded data removed]",
            "text/plain": [
              "<Figure size 432x288 with 1 Axes>"
            ]
          },
          "metadata": {
            "tags": [],
            "needs_background": "light"
          }
        }
      ]
    },
    {
      "cell_type": "code",
      "metadata": {
        "colab": {
          "base_uri": "https://localhost:8080/",
          "height": 383
        },
        "id": "OeXKPYncsOa_",
        "outputId": "c0099d9c-e8d6-4290-b4bb-49ec0be7ac93"
      },
      "source": [
        "sns.catplot(y=\"intervalofrase\", kind=\"count\", palette=\"Set1\", data=df);"
      ],
      "execution_count": null,
      "outputs": [
        {
          "output_type": "display_data",
          "data": {
            "image/png": "[encoded data removed]",
            "text/plain": [
              "<Figure size 360x360 with 1 Axes>"
            ]
          },
          "metadata": {
            "tags": [],
            "needs_background": "light"
          }
        }
      ]
    },
    {
      "cell_type": "code",
      "metadata": {
        "colab": {
          "base_uri": "https://localhost:8080/"
        },
        "id": "wZQ2FasQnVkF",
        "outputId": "bcd17110-c2a5-49f5-d98d-fea9b1c41019"
      },
      "source": [
        "df.intervalofrase.value_counts()"
      ],
      "execution_count": null,
      "outputs": [
        {
          "output_type": "execute_result",
          "data": {
            "text/plain": [
              "010-050    7456\n",
              "051-100    1104\n",
              "100-150     229\n",
              "150-321     116\n",
              "Name: intervalofrase, dtype: int64"
            ]
          },
          "metadata": {
            "tags": []
          },
          "execution_count": 104
        }
      ]
    },
    {
      "cell_type": "code",
      "metadata": {
        "colab": {
          "base_uri": "https://localhost:8080/"
        },
        "id": "CSh4okWPwMwx",
        "outputId": "0a166aea-31bd-4252-b59f-13d29efdfad0"
      },
      "source": [
        "df.qtdfrase.mean()"
      ],
      "execution_count": null,
      "outputs": [
        {
          "output_type": "execute_result",
          "data": {
            "text/plain": [
              "34.346996069623806"
            ]
          },
          "metadata": {
            "tags": []
          },
          "execution_count": 105
        }
      ]
    },
    {
      "cell_type": "code",
      "metadata": {
        "colab": {
          "base_uri": "https://localhost:8080/"
        },
        "id": "cCFo2BvPqUZu",
        "outputId": "15f0db54-ec8b-49cc-c133-c8925b53312b"
      },
      "source": [
        "df.shape"
      ],
      "execution_count": null,
      "outputs": [
        {
          "output_type": "execute_result",
          "data": {
            "text/plain": [
              "(8905, 4)"
            ]
          },
          "metadata": {
            "tags": []
          },
          "execution_count": 16
        }
      ]
    },
    {
      "cell_type": "code",
      "metadata": {
        "colab": {
          "base_uri": "https://localhost:8080/",
          "height": 191
        },
        "id": "eUwVnp_z5tn0",
        "outputId": "7734f6de-c606-4b21-b4fe-479af070d3f3"
      },
      "source": [
        "df.head()"
      ],
      "execution_count": null,
      "outputs": [
        {
          "output_type": "execute_result",
          "data": {
            "text/html": [
              "<div>\n",
              "<style scoped>\n",
              "    .dataframe tbody tr th:only-of-type {\n",
              "        vertical-align: middle;\n",
              "    }\n",
              "\n",
              "    .dataframe tbody tr th {\n",
              "        vertical-align: top;\n",
              "    }\n",
              "\n",
              "    .dataframe thead th {\n",
              "        text-align: right;\n",
              "    }\n",
              "</style>\n",
              "<table border=\"1\" class=\"dataframe\">\n",
              "  <thead>\n",
              "    <tr style=\"text-align: right;\">\n",
              "      <th></th>\n",
              "      <th>processo</th>\n",
              "      <th>voto</th>\n",
              "      <th>qtdfrase</th>\n",
              "      <th>assunto</th>\n",
              "    </tr>\n",
              "  </thead>\n",
              "  <tbody>\n",
              "    <tr>\n",
              "      <th>1</th>\n",
              "      <td>10070000654200748</td>\n",
              "      <td>o recurso voluntário é tempestivo e reúne os r...</td>\n",
              "      <td>11</td>\n",
              "      <td>irpf</td>\n",
              "    </tr>\n",
              "    <tr>\n",
              "      <th>2</th>\n",
              "      <td>10070000947200644</td>\n",
              "      <td>por ser tempestivo e por preencher as demais c...</td>\n",
              "      <td>12</td>\n",
              "      <td>irpf</td>\n",
              "    </tr>\n",
              "    <tr>\n",
              "      <th>5</th>\n",
              "      <td>10070001269200475</td>\n",
              "      <td>o recurso voluntário é tempestivo e atende as ...</td>\n",
              "      <td>28</td>\n",
              "      <td>irpf</td>\n",
              "    </tr>\n",
              "    <tr>\n",
              "      <th>7</th>\n",
              "      <td>10070001585200617</td>\n",
              "      <td>relatora   admissibilidade   o recurso é tempe...</td>\n",
              "      <td>14</td>\n",
              "      <td>irpf</td>\n",
              "    </tr>\n",
              "    <tr>\n",
              "      <th>8</th>\n",
              "      <td>10070001664200296</td>\n",
              "      <td>pois bem, cuidam os autos de pedido de restitu...</td>\n",
              "      <td>17</td>\n",
              "      <td>irpj</td>\n",
              "    </tr>\n",
              "  </tbody>\n",
              "</table>\n",
              "</div>"
            ],
            "text/plain": [
              "            processo  ... assunto\n",
              "1  10070000654200748  ...    irpf\n",
              "2  10070000947200644  ...    irpf\n",
              "5  10070001269200475  ...    irpf\n",
              "7  10070001585200617  ...    irpf\n",
              "8  10070001664200296  ...    irpj\n",
              "\n",
              "[5 rows x 4 columns]"
            ]
          },
          "metadata": {
            "tags": []
          },
          "execution_count": 17
        }
      ]
    },
    {
      "cell_type": "code",
      "metadata": {
        "id": "5x6pemfPDhxJ"
      },
      "source": [
        "df_X = df['voto']\n",
        "df_y = df['assunto']"
      ],
      "execution_count": null,
      "outputs": []
    },
    {
      "cell_type": "code",
      "metadata": {
        "id": "sN4A1jynDhxN"
      },
      "source": [
        "i_Seed = 20111974 # semente por questões de reproducibilidade\n",
        "f_Test_Size = 0.2\n",
        "X_treinamento, X_teste, y_treinamento, y_teste = train_test_split(df_X, df_y, test_size = f_Test_Size, random_state = i_Seed)"
      ],
      "execution_count": null,
      "outputs": []
    },
    {
      "cell_type": "code",
      "metadata": {
        "colab": {
          "base_uri": "https://localhost:8080/"
        },
        "id": "MnyPAzdGDhxN",
        "outputId": "2665c401-bf95-473d-9043-e4fccb92293b"
      },
      "source": [
        "print(f'X_treinamento {X_treinamento.shape}, X_teste {X_teste.shape}, y_treinamento {y_treinamento.shape}, y_teste {y_teste.shape}')"
      ],
      "execution_count": null,
      "outputs": [
        {
          "output_type": "stream",
          "text": [
            "X_treinamento (7124,), X_teste (1781,), y_treinamento (7124,), y_teste (1781,)\n"
          ],
          "name": "stdout"
        }
      ]
    },
    {
      "cell_type": "code",
      "metadata": {
        "id": "8sElpr14DhxP"
      },
      "source": [
        "#salvando os arquivos de treinamento e de teste no drive. \n",
        "#treinamento\n",
        "X_treinamento.to_csv('/content/drive/MyDrive/X_treinamento_7124.csv', sep = ';', index = False, encoding = 'windows-1252')\n",
        "y_treinamento.to_csv('/content/drive/MyDrive/y_treinamento_7124.csv', sep = ';', index = False, encoding = 'windows-1252')\n",
        "#teste\n",
        "X_teste.to_csv('/content/drive/MyDrive/X_teste_1781.csv', sep = ';', index = False, encoding = 'windows-1252')\n",
        "y_teste.to_csv('/content/drive/MyDrive/y_teste_1781.csv', sep = ';', index = False, encoding = 'windows-1252')"
      ],
      "execution_count": null,
      "outputs": []
    },
    {
      "cell_type": "markdown",
      "metadata": {
        "id": "zVyf-7yxqcm0"
      },
      "source": [
        "8. Salvando no drive versão de X_teste como todos os atributos para ser usado no notebook TCC_TCC_p08_Gerar_Pdf_Sumarizado"
      ]
    },
    {
      "cell_type": "code",
      "metadata": {
        "id": "IPZuFnR4qwKT"
      },
      "source": [
        "df_X = df.copy()"
      ],
      "execution_count": null,
      "outputs": []
    },
    {
      "cell_type": "code",
      "metadata": {
        "id": "-RwuvuMHqwKc"
      },
      "source": [
        "i_Seed = 20111974 # semente por questões de reproducibilidade\n",
        "f_Test_Size = 0.2\n",
        "_, X_teste_gerar_pdf_sumarizado_pesquisa, _, _ = train_test_split(df_X, df_y, test_size = f_Test_Size, random_state = i_Seed)"
      ],
      "execution_count": null,
      "outputs": []
    },
    {
      "cell_type": "code",
      "metadata": {
        "colab": {
          "base_uri": "https://localhost:8080/"
        },
        "id": "4jfz4GDhqwKc",
        "outputId": "d51e7f39-2fe6-451d-a44d-1057d32f2323"
      },
      "source": [
        "print(f'X_teste_gerar_pdf_sumarizado_pesquisa {X_teste_gerar_pdf_sumarizado_pesquisa.shape}')"
      ],
      "execution_count": null,
      "outputs": [
        {
          "output_type": "stream",
          "text": [
            "X_teste_gerar_pdf_sumarizado_pesquisa (1781, 4)\n"
          ],
          "name": "stdout"
        }
      ]
    },
    {
      "cell_type": "code",
      "metadata": {
        "id": "myn6BW1_qwKd"
      },
      "source": [
        "#salvando o arquivo X_teste_gerar_pdf_sumarizado_pesquisa no drive. \n",
        "X_teste_gerar_pdf_sumarizado_pesquisa.to_csv('/content/drive/MyDrive/X_teste_gerar_pdf_sumarizado_pesquisa_1781.csv', sep = ';', index = False, encoding = 'windows-1252')"
      ],
      "execution_count": null,
      "outputs": []
    },
    {
      "cell_type": "markdown",
      "metadata": {
        "id": "ujlZZkKZGTuy"
      },
      "source": [
        "# **Etapa 2 - Gerar arquivos de treinamento preprocessados** \n",
        "1.   Importação de bibliotecas\n",
        "*   As bibliotecas utilizadas são a ***SpaCy***, ***NLTK*** e ***TensorFlow***. Neste notebook serão usadas para tokenização do texto do voto (SpaCy), lematização (SpaCy) e stemização das palavras (nltk), tudo na função preprocessamento. Também serão utilizadas para obtenção das stop_words (ambas). As stop_words da SpaCy serão concatenadas com as da nltk.\n",
        "\n",
        "*   Também usei o TensorFlow para gerar um vocabulário a partir do corpus (lematizado, stemizado e com as palavras originais) e obter o tamanho dele. \n",
        "\n",
        "2.   Ler o dataframe  X_treinamento gerado na etapa anterior deste notebook.\n",
        "\n",
        "3.   Função preprocessamento (essa função será replicada nos notebooks de classificação e sumarização).\n",
        "*   A feature voto contém o documento inteiro do voto, ou seja, uma coleção de frases e palavras com pontuações, valores numéricos, stop words, etc. A função do preprocessamento faz a limpeza nesse texto devolvendo apenas as palavras que serão usadas nas classificações. A função está descrita em docstring reproduzido a seguir.\n",
        "> * Faz uma limpeza do texto recebido excluíndo pontuações, stop words, números em moedas, leis, etc, letras soltas, palavras com duas letras, hífens iniciais, r$, espaços duplos e símbolos.  \n",
        "> * O objetivo é deixar apenas palavras que serão a base para as classificações.\n",
        "> * :parâmetro texto: recebe o texto integral de um voto.\n",
        "> * :parâmetro tipo: escolher entre 'lema', 'stemer' e 'original'. Lema faz lematização das palavras, stemer faz a stemização e original mantém as palavras sem alterações.\n",
        "> * :retorno str_lista: string com a lista das palavras do voto após a limpeza dos dados. \n",
        "\n",
        "4.   Preprocessar o voto passando como parâmetro lema, stemer e original. Dessa forma, serão obtidos 3 dataframes, cada um utilizando uma forma de tratamento das palavras. Os dataframes serão salvos no drive para posterior utilização no treinamento dos modelos.\n",
        "\n",
        "5.   Salvar no Drive os dataframes gerados pelo preprocessamento.\n",
        "*   Utilizei o encoding Windows-1252, uma codificação de caracteres de byte único do alfabeto latino, usada por padrão nos componentes herdados do Microsoft Windows que se mostrou adequada aos textos utilizados. Os arquivos gravados no drive foram os seguintes:\n",
        "> * X_treinamento_lema.csv\n",
        "> * X_treinamento_stemer.csv\n",
        "> * X_treinamento_original.csv"
      ]
    },
    {
      "cell_type": "markdown",
      "metadata": {
        "id": "qPEfZKmHjdcc"
      },
      "source": [
        "# Etapa 2: Carregando a biblioteca spaCy\n",
        "\n",
        "Neste trabalho, utilizarei a versão 2.3.5 da biblioteca SpaCy. Será carregado o pacote em português pt_core_news_sm e as stop_words.\n",
        "\n",
        "Da biblioteca nltk utilizarei o pacote de stop_words e o pacote para stemização.\n",
        "As stop_words da SpaCy serão concatenadas com as da nltk.\n",
        "\n"
      ]
    },
    {
      "cell_type": "code",
      "metadata": {
        "id": "FHoNjfiKjYbJ"
      },
      "source": [
        "!pip install spacy==2.3.5"
      ],
      "execution_count": null,
      "outputs": []
    },
    {
      "cell_type": "code",
      "metadata": {
        "colab": {
          "base_uri": "https://localhost:8080/",
          "height": 35
        },
        "id": "RpCwLNAZjYbK",
        "outputId": "d31b085d-dba5-45d1-87f6-fde446e8bb20"
      },
      "source": [
        "import spacy\n",
        "spacy.__version__"
      ],
      "execution_count": null,
      "outputs": [
        {
          "output_type": "execute_result",
          "data": {
            "application/vnd.google.colaboratory.intrinsic+json": {
              "type": "string"
            },
            "text/plain": [
              "'2.3.5'"
            ]
          },
          "metadata": {
            "tags": []
          },
          "execution_count": 3
        }
      ]
    },
    {
      "cell_type": "code",
      "metadata": {
        "id": "y5mVnLROFurH"
      },
      "source": [
        "!python -m spacy download pt\n",
        "import spacy\n",
        "pln = spacy.load(\"pt\")"
      ],
      "execution_count": null,
      "outputs": []
    },
    {
      "cell_type": "code",
      "metadata": {
        "id": "24n_WUsaP1JD"
      },
      "source": [
        "from spacy.lang.pt.stop_words import STOP_WORDS\n",
        "stop_words_spacy = STOP_WORDS"
      ],
      "execution_count": null,
      "outputs": []
    },
    {
      "cell_type": "code",
      "metadata": {
        "id": "uJFx3_PdpInS"
      },
      "source": [
        "import string\n",
        "import nltk\n",
        "nltk.download('stopwords')\n",
        "stop_words_nltk = nltk.corpus.stopwords.words('portuguese')\n",
        "nltk.download('rslp')"
      ],
      "execution_count": null,
      "outputs": []
    },
    {
      "cell_type": "code",
      "metadata": {
        "id": "pyMGVUzTt6Qe"
      },
      "source": [
        "stop_words = set(stop_words_nltk + list(stop_words_spacy))"
      ],
      "execution_count": null,
      "outputs": []
    },
    {
      "cell_type": "code",
      "metadata": {
        "id": "DCGwBGmCPd7U"
      },
      "source": [
        "import tensorflow_datasets as tfds"
      ],
      "execution_count": null,
      "outputs": []
    },
    {
      "cell_type": "code",
      "metadata": {
        "id": "3qj9iVTtICYB"
      },
      "source": [
        "def preprocessamento(texto, tipo):\n",
        "  \"\"\"\n",
        "  Faz uma limpeza do texto recebido excluíndo pontuações, stop words, números em moedas, leis, etc, letras soltas, palavras com duas letras, \n",
        "  hífens iniciais, r$, espaços duplos e símbolos.  \n",
        "  O objetivo é deixar apenas palavras que serão a base para as classificações.\n",
        "\n",
        "  :parâmetro texto: recebe o texto integral de um voto.\n",
        "  :parâmetro tipo: escolher entre 'lema', 'stemer' e 'original'. Lema faz lematização das palavras, stemer faz a stemização e original mantém as palavras sem alterações.\n",
        "  :retorno str_lista: string com a lista das palavras do voto após a limpeza dos dados.  \n",
        "\n",
        "  \"\"\"\n",
        "\n",
        "  texto = texto.lower()\n",
        "  texto = re.sub('([¹²³£¢¬§ªº°]{1})', ' ', texto) #excluir o símbolos listados\n",
        "  texto = re.sub('([!\"#%&\\'\\(\\)\\*\\+,\\./:;<=>\\?@\\[\\]\\^_`\\{\\|\\}~]{1})', ' ', texto) #excluir as pontuações, exceto o hífen\n",
        "  texto = re.sub('([0-9]*)[\\.]*([0-9]+,[0-9]+)', ' ', texto)  #excluir valores com decimais após vírgulas 10.000,00 30,00\n",
        "  texto = re.sub('([0-9]+)[.]+([0-9]+)\\/([0-9]+)', ' ', texto) #excluir valores tipo leis 9.420/99\n",
        "  texto = re.sub('([0-9]+)\\/([0-9]+)', ' ', texto) #excluir valores tipo leis 70/99\n",
        "  texto = re.sub('([0-9]+)', ' ', texto) #excluir números\n",
        "  texto = re.sub('( [a-z]{1} )', ' ', texto) #excluir letras soltas\n",
        "  texto = re.sub('( [a-z]{2} )', ' ', texto) #excluir palavras com 2 letras\n",
        "  texto = re.sub(' -([a-z]*)', r'\\1', texto) #excluir hífens iniciais\n",
        "  texto = texto.replace('r$', ' ') #excluir r$\n",
        "  texto = re.sub('( [ ]*)', ' ', texto) #excluir espaços duplos\n",
        "\n",
        "  documento = pln(texto)\n",
        "  lista = [token.text for token in documento if token.text not in stop_words and token.text not in string.punctuation]\n",
        "  str_lista = ' '.join([str(elemento) for elemento in lista if not elemento.isdigit()])\n",
        "  documento = pln(str_lista)\n",
        "  \n",
        "  lista = []\n",
        "  if tipo == 'lema': # Lematização\n",
        "    for token in documento:\n",
        "      lista.append(token.lemma_)  \n",
        "  elif tipo == 'stemer':\n",
        "    for token in documento:\n",
        "      stemmer = nltk.stem.RSLPStemmer()\n",
        "      lista.append(stemmer.stem(token.text))\n",
        "  else: #'original' ou qualquer outro valor\n",
        "    for token in documento:\n",
        "      lista.append(token.text)    \n",
        "\n",
        "  str_lista = ' '.join([str(elemento) for elemento in lista if not elemento.isdigit()])\n",
        "  \n",
        "  return str_lista"
      ],
      "execution_count": null,
      "outputs": []
    },
    {
      "cell_type": "code",
      "metadata": {
        "id": "xTfvNaOOIpQL"
      },
      "source": [
        "#Recuperando o arquivo de treinamento salvo no drive. \n",
        "url = '/content/drive/MyDrive/X_treinamento_7124.csv' \n",
        "X_treinamento = pd.read_csv(url, sep=';', engine='python', encoding='windows-1252', low_memory=True, quotechar='\"', error_bad_lines=False)"
      ],
      "execution_count": null,
      "outputs": []
    },
    {
      "cell_type": "code",
      "metadata": {
        "colab": {
          "base_uri": "https://localhost:8080/",
          "height": 197
        },
        "id": "UzwpW-tuPDB8",
        "outputId": "3cf7ab9c-cd5d-47fc-d434-694df1ec3083"
      },
      "source": [
        "X_treinamento.head()"
      ],
      "execution_count": null,
      "outputs": [
        {
          "output_type": "execute_result",
          "data": {
            "text/html": [
              "<div>\n",
              "<style scoped>\n",
              "    .dataframe tbody tr th:only-of-type {\n",
              "        vertical-align: middle;\n",
              "    }\n",
              "\n",
              "    .dataframe tbody tr th {\n",
              "        vertical-align: top;\n",
              "    }\n",
              "\n",
              "    .dataframe thead th {\n",
              "        text-align: right;\n",
              "    }\n",
              "</style>\n",
              "<table border=\"1\" class=\"dataframe\">\n",
              "  <thead>\n",
              "    <tr style=\"text-align: right;\">\n",
              "      <th></th>\n",
              "      <th>voto</th>\n",
              "    </tr>\n",
              "  </thead>\n",
              "  <tbody>\n",
              "    <tr>\n",
              "      <th>0</th>\n",
              "      <td>o recurso é tempestivo e cumpre com os demais ...</td>\n",
              "    </tr>\n",
              "    <tr>\n",
              "      <th>1</th>\n",
              "      <td>na forma registrada na primeira oportunidade e...</td>\n",
              "    </tr>\n",
              "    <tr>\n",
              "      <th>2</th>\n",
              "      <td>o recurso voluntário apresentado atende aos pr...</td>\n",
              "    </tr>\n",
              "    <tr>\n",
              "      <th>3</th>\n",
              "      <td>o julgamento deste processo segue a sistemátic...</td>\n",
              "    </tr>\n",
              "    <tr>\n",
              "      <th>4</th>\n",
              "      <td>o julgamento deste processo segue a sistemátic...</td>\n",
              "    </tr>\n",
              "  </tbody>\n",
              "</table>\n",
              "</div>"
            ],
            "text/plain": [
              "                                                voto\n",
              "0  o recurso é tempestivo e cumpre com os demais ...\n",
              "1  na forma registrada na primeira oportunidade e...\n",
              "2  o recurso voluntário apresentado atende aos pr...\n",
              "3  o julgamento deste processo segue a sistemátic...\n",
              "4  o julgamento deste processo segue a sistemátic..."
            ]
          },
          "metadata": {
            "tags": []
          },
          "execution_count": 23
        }
      ]
    },
    {
      "cell_type": "code",
      "metadata": {
        "colab": {
          "base_uri": "https://localhost:8080/"
        },
        "id": "EwZ4fDB-PFwM",
        "outputId": "92147104-bab1-4479-a5c6-6dda76591274"
      },
      "source": [
        "X_treinamento.shape"
      ],
      "execution_count": null,
      "outputs": [
        {
          "output_type": "execute_result",
          "data": {
            "text/plain": [
              "(7124, 1)"
            ]
          },
          "metadata": {
            "tags": []
          },
          "execution_count": 24
        }
      ]
    },
    {
      "cell_type": "code",
      "metadata": {
        "colab": {
          "base_uri": "https://localhost:8080/"
        },
        "id": "m97PJWznyV1L",
        "outputId": "53ebfe96-5c86-418f-8966-2dd56dfb9f13"
      },
      "source": [
        "X_treinamento_lema = X_treinamento['voto'].apply(preprocessamento, args=('lema',)) #executou em 2139,97s\n",
        "#contando o número de vocábulos quando usa lema. 34140\n",
        "data_clean = X_treinamento_lema.iloc[:].values\n",
        "tokenizer = tfds.deprecated.text.SubwordTextEncoder.build_from_corpus(data_clean, target_vocab_size=2**16)\n",
        "tokenizer.vocab_size"
      ],
      "execution_count": null,
      "outputs": [
        {
          "output_type": "execute_result",
          "data": {
            "text/plain": [
              "34140"
            ]
          },
          "metadata": {
            "tags": []
          },
          "execution_count": 25
        }
      ]
    },
    {
      "cell_type": "code",
      "metadata": {
        "id": "LOwi6Hy5DoWO",
        "colab": {
          "base_uri": "https://localhost:8080/"
        },
        "outputId": "1dc0973a-118b-43cf-9b40-173191d44b04"
      },
      "source": [
        "X_treinamento_original = X_treinamento['voto'].apply(preprocessamento, args=('original',)) #executou em 4219,42s\n",
        "#contando o número de vocábulos se mantém palavras originais. 53448\n",
        "data_clean = X_treinamento_original.iloc[:].values\n",
        "tokenizer = tfds.deprecated.text.SubwordTextEncoder.build_from_corpus(data_clean, target_vocab_size=2**16)\n",
        "tokenizer.vocab_size"
      ],
      "execution_count": null,
      "outputs": [
        {
          "output_type": "execute_result",
          "data": {
            "text/plain": [
              "53448"
            ]
          },
          "metadata": {
            "tags": []
          },
          "execution_count": 26
        }
      ]
    },
    {
      "cell_type": "code",
      "metadata": {
        "id": "fqAiu9wIHi1J",
        "colab": {
          "base_uri": "https://localhost:8080/"
        },
        "outputId": "f7ac3893-d76a-4bb7-815a-ddcf16ce8272"
      },
      "source": [
        "X_treinamento_stemer = X_treinamento['voto'].apply(preprocessamento, args=('stemer',)) #executou em 10616,26s\n",
        "#contando o número de vocábulos quando usa stemer. 27107\n",
        "data_clean = X_treinamento_stemer.iloc[:].values\n",
        "tokenizer = tfds.deprecated.text.SubwordTextEncoder.build_from_corpus(data_clean, target_vocab_size=2**16)\n",
        "tokenizer.vocab_size"
      ],
      "execution_count": null,
      "outputs": [
        {
          "output_type": "execute_result",
          "data": {
            "text/plain": [
              "27107"
            ]
          },
          "metadata": {
            "tags": []
          },
          "execution_count": 27
        }
      ]
    },
    {
      "cell_type": "code",
      "metadata": {
        "id": "GZNNp9h5RCHr"
      },
      "source": [
        "#Rodei o preprocessamento para lema, stemer e original. Salvei no Drive porque cada um leva +- 25 minutos\n",
        "X_treinamento_lema.to_csv('/content/drive/MyDrive/X_treinamento_lema.csv', sep = ';', index = False, encoding = 'windows-1252')\n",
        "X_treinamento_stemer.to_csv('/content/drive/MyDrive/X_treinamento_stemer.csv', sep = ';', index = False, encoding = 'windows-1252')\n",
        "X_treinamento_original.to_csv('/content/drive/MyDrive/X_treinamento_original.csv', sep = ';', index = False, encoding = 'windows-1252')"
      ],
      "execution_count": null,
      "outputs": []
    }
  ]
}