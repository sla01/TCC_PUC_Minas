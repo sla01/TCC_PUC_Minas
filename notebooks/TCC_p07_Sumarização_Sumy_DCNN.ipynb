{
  "nbformat": 4,
  "nbformat_minor": 0,
  "metadata": {
    "colab": {
      "name": "TCC_p07_Sumarização_Sumy_DCNN.ipynb",
      "provenance": [],
      "collapsed_sections": [],
      "toc_visible": true
    },
    "kernelspec": {
      "name": "python3",
      "display_name": "Python 3"
    }
  },
  "cells": [
    {
      "cell_type": "markdown",
      "metadata": {
        "id": "GUEq8nGVXtwL"
      },
      "source": [
        "# **TCC_p07_Sumarização_Sumy_DCNN.ipynb**"
      ]
    },
    {
      "cell_type": "markdown",
      "metadata": {
        "id": "eBsRpFme9Yyn"
      },
      "source": [
        "# Etapa 1: Importação das bibliotecas e montagem do Drive\n",
        "\n",
        "1.   Importação de bibliotecas\n",
        "\n",
        "* Pandas: para criação e manipulação de dataframes\n",
        "* re: para utilização das expressões regulares em operações de transformações em string.\n",
        "* numpy: para trabalhar com array.\n",
        "* string: para importar sinais de pontuação.\n",
        "* seaborn: biblioteca para visualização de dados baseada em Matplotlib para exibir a matriz de confusão do sklearn como mapa de calor e as contagens de observações em cada categoria categórica usando barras.\n",
        "* matplotlib: biblioteca para a criação de visualizações estáticas, animadas e interativas em Python. Utilizada para fazer alterações nas figuras: por exemplo, criar uma figura, criar uma área de plotagem em uma figura, plotar algumas linhas em uma área de plotagem e decorar a plotagem com rótulos.\n",
        "* sklearn: para utilização das métricas de classificação matriz de confusão e acurácia.\n",
        "\n",
        "2. Importação do TensorFlow\n",
        "* Tokenizer: a classe TensorFlow (Keras) Tokenizer é usada para automatizar a tokenização de nossos dados de treinamento e converter os textos em sequências númericas.\n",
        "* pad_sequences: usada para preencher todas as sequências com zeros extras ao final para que todas as sequências tenham o mesmo comprimento. \n",
        "\n",
        "3. Importação da biblioteca de sumarização Sumy\n",
        "* Biblioteca simples e utilitário de linha de comando para extrair resumos de páginas HTML ou textos simples. Foi a biblioteca escolhida para a maioria dos sumarizadores utilizados no TCC. Neste notebook, foram importados os três sumarizadores escolhidos para a pesquisa: LsaSummarizer, TextRankSummarizer, EdmundsonSummarizer, LuhnSummarizer, LexRankSummarizer, SumBasicSummarizer e RandomSummarizer.\n",
        "* PlaintextParser e Tokenizer para fazer a análise sintática e a tokenização do texto permitindo que os sumarizadores avaliem as sentenças conforme seus critérios. A documentação da biblioteca não dá maiores detalhes.\n",
        "\n",
        "4. Importação da biblioteca SpaCy e NLTK\n",
        "* Neste notebook, a SpaCy é utilizada para instanciar um Doc, um contêiner para acessar anotações linguísticas tokenizadas na função preprocessamento.\n",
        "* nltk: usada para tokenizar textos em sentenças dos votos e dos resumos para a impressão do pdf com os resumos.\n",
        "* nltk punkt: Punkt é uma ferramenta de segmentação de frases neutra em termos de linguagem utilizada na tokenização.\n",
        "* nltk: para obter pacote para stemização.\n",
        "\n",
        "5. Montar Drive\n",
        "*   Com ***drive.mount***('/content/drive', force_remount=True) os diretórios de dados do ***Google Drive*** são montados para utilização no ***Colab*** permitindo salvar arquivos e modelos treinados para utilização posterior, inclusive, em outros notebooks."
      ]
    },
    {
      "cell_type": "markdown",
      "metadata": {
        "id": "LCiAiO8LULAm"
      },
      "source": [
        "##1.   Importação de bibliotecas"
      ]
    },
    {
      "cell_type": "code",
      "metadata": {
        "id": "ebloqnjuIbdh"
      },
      "source": [
        "import re\n",
        "import string\n",
        "import numpy as np\n",
        "import pandas as pd\n",
        "import seaborn as sns\n",
        "from sklearn.metrics import confusion_matrix\n",
        "from sklearn.metrics import accuracy_score\n",
        "import matplotlib.pyplot as plt"
      ],
      "execution_count": null,
      "outputs": []
    },
    {
      "cell_type": "markdown",
      "metadata": {
        "id": "NDzZapLP_rL5"
      },
      "source": [
        "##2. Importação do TensorFlow"
      ]
    },
    {
      "cell_type": "code",
      "metadata": {
        "id": "0s8u890hxtSl",
        "colab": {
          "base_uri": "https://localhost:8080/",
          "height": 35
        },
        "outputId": "e7404b27-8763-4fe7-9faa-56c444ddac44"
      },
      "source": [
        "%tensorflow_version 2.x\n",
        "import tensorflow as tf\n",
        "tf.__version__"
      ],
      "execution_count": null,
      "outputs": [
        {
          "output_type": "execute_result",
          "data": {
            "application/vnd.google.colaboratory.intrinsic+json": {
              "type": "string"
            },
            "text/plain": [
              "'2.4.1'"
            ]
          },
          "metadata": {
            "tags": []
          },
          "execution_count": 2
        }
      ]
    },
    {
      "cell_type": "code",
      "metadata": {
        "id": "Z9C_Vycux_4G"
      },
      "source": [
        "from tensorflow.keras.preprocessing.text import Tokenizer as TokenizerTS\n",
        "from tensorflow.keras.preprocessing.sequence import pad_sequences"
      ],
      "execution_count": null,
      "outputs": []
    },
    {
      "cell_type": "markdown",
      "metadata": {
        "id": "u1TWH_Jx7Kc7"
      },
      "source": [
        "##3. Importação da biblioteca sumy\n",
        "\n",
        "- https://pypi.org/project/sumy/"
      ]
    },
    {
      "cell_type": "code",
      "metadata": {
        "id": "u2vF_C0E9x9p",
        "colab": {
          "base_uri": "https://localhost:8080/"
        },
        "outputId": "388eb830-22bf-466d-e957-10e021a54094"
      },
      "source": [
        "!pip install sumy"
      ],
      "execution_count": null,
      "outputs": [
        {
          "output_type": "stream",
          "text": [
            "Collecting sumy\n",
            "\u001b[?25l  Downloading https://files.pythonhosted.org/packages/61/20/8abf92617ec80a2ebaec8dc1646a790fc9656a4a4377ddb9f0cc90bc9326/sumy-0.8.1-py2.py3-none-any.whl (83kB)\n",
            "\r\u001b[K     |████                            | 10kB 13.2MB/s eta 0:00:01\r\u001b[K     |███████▉                        | 20kB 18.1MB/s eta 0:00:01\r\u001b[K     |███████████▊                    | 30kB 8.3MB/s eta 0:00:01\r\u001b[K     |███████████████▋                | 40kB 8.2MB/s eta 0:00:01\r\u001b[K     |███████████████████▌            | 51kB 4.4MB/s eta 0:00:01\r\u001b[K     |███████████████████████▍        | 61kB 4.9MB/s eta 0:00:01\r\u001b[K     |███████████████████████████▍    | 71kB 5.2MB/s eta 0:00:01\r\u001b[K     |███████████████████████████████▎| 81kB 5.4MB/s eta 0:00:01\r\u001b[K     |████████████████████████████████| 92kB 3.5MB/s \n",
            "\u001b[?25hRequirement already satisfied: requests>=2.7.0 in /usr/local/lib/python3.7/dist-packages (from sumy) (2.23.0)\n",
            "Requirement already satisfied: nltk>=3.0.2 in /usr/local/lib/python3.7/dist-packages (from sumy) (3.2.5)\n",
            "Requirement already satisfied: docopt<0.7,>=0.6.1 in /usr/local/lib/python3.7/dist-packages (from sumy) (0.6.2)\n",
            "Collecting pycountry>=18.2.23\n",
            "\u001b[?25l  Downloading https://files.pythonhosted.org/packages/76/73/6f1a412f14f68c273feea29a6ea9b9f1e268177d32e0e69ad6790d306312/pycountry-20.7.3.tar.gz (10.1MB)\n",
            "\u001b[K     |████████████████████████████████| 10.1MB 6.1MB/s \n",
            "\u001b[?25hCollecting breadability>=0.1.20\n",
            "  Downloading https://files.pythonhosted.org/packages/ad/2d/bb6c9b381e6b6a432aa2ffa8f4afdb2204f1ff97cfcc0766a5b7683fec43/breadability-0.1.20.tar.gz\n",
            "Requirement already satisfied: urllib3!=1.25.0,!=1.25.1,<1.26,>=1.21.1 in /usr/local/lib/python3.7/dist-packages (from requests>=2.7.0->sumy) (1.24.3)\n",
            "Requirement already satisfied: idna<3,>=2.5 in /usr/local/lib/python3.7/dist-packages (from requests>=2.7.0->sumy) (2.10)\n",
            "Requirement already satisfied: certifi>=2017.4.17 in /usr/local/lib/python3.7/dist-packages (from requests>=2.7.0->sumy) (2020.12.5)\n",
            "Requirement already satisfied: chardet<4,>=3.0.2 in /usr/local/lib/python3.7/dist-packages (from requests>=2.7.0->sumy) (3.0.4)\n",
            "Requirement already satisfied: six in /usr/local/lib/python3.7/dist-packages (from nltk>=3.0.2->sumy) (1.15.0)\n",
            "Requirement already satisfied: lxml>=2.0 in /usr/local/lib/python3.7/dist-packages (from breadability>=0.1.20->sumy) (4.2.6)\n",
            "Building wheels for collected packages: pycountry, breadability\n",
            "  Building wheel for pycountry (setup.py) ... \u001b[?25l\u001b[?25hdone\n",
            "  Created wheel for pycountry: filename=pycountry-20.7.3-py2.py3-none-any.whl size=10746863 sha256=518fa4cc15fa54de8cbabd476186a314d2a91f77639057a4ad1d26890ecabc28\n",
            "  Stored in directory: /root/.cache/pip/wheels/33/4e/a6/be297e6b83567e537bed9df4a93f8590ec01c1acfbcd405348\n",
            "  Building wheel for breadability (setup.py) ... \u001b[?25l\u001b[?25hdone\n",
            "  Created wheel for breadability: filename=breadability-0.1.20-py2.py3-none-any.whl size=21680 sha256=f840f55e72d12d9a3156349788fe88ea5230f323c441131842b0225e28ec6ebf\n",
            "  Stored in directory: /root/.cache/pip/wheels/5a/4d/a1/510b12c5e65e0b2b3ce539b2af66da0fc57571e528924f4a52\n",
            "Successfully built pycountry breadability\n",
            "Installing collected packages: pycountry, breadability, sumy\n",
            "Successfully installed breadability-0.1.20 pycountry-20.7.3 sumy-0.8.1\n"
          ],
          "name": "stdout"
        }
      ]
    },
    {
      "cell_type": "code",
      "metadata": {
        "id": "iSslir2094WW"
      },
      "source": [
        "from sumy.parsers.plaintext import PlaintextParser\n",
        "from sumy.nlp.tokenizers import Tokenizer as TokenizerSumy\n",
        "from sumy.summarizers.luhn import LuhnSummarizer\n",
        "from sumy.summarizers.lsa import LsaSummarizer\n",
        "from sumy.summarizers.text_rank import TextRankSummarizer\n",
        "from sumy.summarizers.lex_rank import LexRankSummarizer\n",
        "from sumy.summarizers.edmundson import EdmundsonSummarizer\n",
        "from sumy.summarizers.sum_basic import SumBasicSummarizer\n",
        "from sumy.summarizers.random import RandomSummarizer"
      ],
      "execution_count": null,
      "outputs": []
    },
    {
      "cell_type": "markdown",
      "metadata": {
        "id": "qPEfZKmHjdcc"
      },
      "source": [
        "#4. Importação da biblioteca spaCy"
      ]
    },
    {
      "cell_type": "markdown",
      "metadata": {
        "id": "0yhLtHmLVZxk"
      },
      "source": [
        "1.2   Importação de bibliotecas"
      ]
    },
    {
      "cell_type": "code",
      "metadata": {
        "id": "1WO2roDivFXl"
      },
      "source": [
        "!pip install spacy==2.3.5"
      ],
      "execution_count": null,
      "outputs": []
    },
    {
      "cell_type": "code",
      "metadata": {
        "colab": {
          "base_uri": "https://localhost:8080/",
          "height": 35
        },
        "id": "-_xVaYbHvFXl",
        "outputId": "645553e6-a5f8-4c8d-f721-20b3e9ce0157"
      },
      "source": [
        "import spacy\n",
        "spacy.__version__"
      ],
      "execution_count": null,
      "outputs": [
        {
          "output_type": "execute_result",
          "data": {
            "application/vnd.google.colaboratory.intrinsic+json": {
              "type": "string"
            },
            "text/plain": [
              "'2.3.5'"
            ]
          },
          "metadata": {
            "tags": []
          },
          "execution_count": 7
        }
      ]
    },
    {
      "cell_type": "code",
      "metadata": {
        "id": "p72bwsQJvFXm"
      },
      "source": [
        "!python -m spacy download pt\n",
        "import spacy\n",
        "pln = spacy.load(\"pt\")"
      ],
      "execution_count": null,
      "outputs": []
    },
    {
      "cell_type": "code",
      "metadata": {
        "id": "yXYTO2xUvFXm"
      },
      "source": [
        "from spacy.lang.pt.stop_words import STOP_WORDS\n",
        "stop_words_spacy = STOP_WORDS"
      ],
      "execution_count": null,
      "outputs": []
    },
    {
      "cell_type": "code",
      "metadata": {
        "id": "WcE2fGCcVEFq",
        "colab": {
          "base_uri": "https://localhost:8080/"
        },
        "outputId": "23b547c5-dd91-4fba-c9e1-41c1ea17cc1c"
      },
      "source": [
        "import nltk\n",
        "nltk.download('punkt')\n",
        "nltk.download('rslp') #stemização\n",
        "nltk.download('stopwords')\n",
        "stop_words_nltk = nltk.corpus.stopwords.words('portuguese')"
      ],
      "execution_count": null,
      "outputs": [
        {
          "output_type": "stream",
          "text": [
            "[nltk_data] Downloading package punkt to /root/nltk_data...\n",
            "[nltk_data]   Unzipping tokenizers/punkt.zip.\n",
            "[nltk_data] Downloading package rslp to /root/nltk_data...\n",
            "[nltk_data]   Unzipping stemmers/rslp.zip.\n",
            "[nltk_data] Downloading package stopwords to /root/nltk_data...\n",
            "[nltk_data]   Unzipping corpora/stopwords.zip.\n"
          ],
          "name": "stdout"
        }
      ]
    },
    {
      "cell_type": "code",
      "metadata": {
        "id": "xQMtD1c6VISJ"
      },
      "source": [
        "stop_words = set(stop_words_nltk + list(stop_words_spacy))"
      ],
      "execution_count": null,
      "outputs": []
    },
    {
      "cell_type": "code",
      "metadata": {
        "id": "eP4Fl2O-U_Yr",
        "colab": {
          "base_uri": "https://localhost:8080/",
          "height": 35
        },
        "outputId": "5da3cd8a-84df-418c-f88b-4ff8fb88454a"
      },
      "source": [
        "pontuacoes = string.punctuation\n",
        "pontuacoes"
      ],
      "execution_count": null,
      "outputs": [
        {
          "output_type": "execute_result",
          "data": {
            "application/vnd.google.colaboratory.intrinsic+json": {
              "type": "string"
            },
            "text/plain": [
              "'!\"#$%&\\'()*+,-./:;<=>?@[\\\\]^_`{|}~'"
            ]
          },
          "metadata": {
            "tags": []
          },
          "execution_count": 9
        }
      ]
    },
    {
      "cell_type": "markdown",
      "metadata": {
        "id": "h6BFmHoS95X3"
      },
      "source": [
        "##5. Montar Drive"
      ]
    },
    {
      "cell_type": "code",
      "metadata": {
        "colab": {
          "base_uri": "https://localhost:8080/"
        },
        "id": "pr_PDr8Pw1xX",
        "outputId": "6d54e7b2-f630-49ac-f06c-9e61619f52cc"
      },
      "source": [
        "from google.colab import drive\n",
        "drive.mount('/content/drive', force_remount=True) "
      ],
      "execution_count": null,
      "outputs": [
        {
          "output_type": "stream",
          "text": [
            "Mounted at /content/drive\n"
          ],
          "name": "stdout"
        }
      ]
    },
    {
      "cell_type": "markdown",
      "metadata": {
        "id": "gDjQDKmVWG1F"
      },
      "source": [
        "# Etapa 2: Avaliação na base de teste sumarizada com DCNN\n",
        "\n",
        "0. Funções\n",
        "* sumarizar_sumy: função que faz a sumarização do voto de acordo com o tipo de sumarizador da biblioteca Sumy carregado. O resumo do tipo extrativo escolhe as melhores sentenças do voto na proporção 40% melhores. Docstring da função a seguir:\n",
        "\n",
        "```\n",
        "  Recebe uma coleção de frases e escolhe as melhores na proporção 40%.\n",
        "  :parâmetro texto: recebe o texto integral de um voto.\n",
        "  : retorno melhores_sentencas: string com as 40% melhores sentenças.\n",
        "```\n",
        "\n",
        "* preprocessamento: A descrição desta função encontra-se no notebook *TCC_p01_preparar_X_treinamento_e_y_teste*. É a mesma função. \n",
        "\n",
        "1.   Carrega o sumarizador a ser testado\n",
        "* Instanciar o objeto sumarizador para um dos sumarizadores importados: LuhnSummarizer, LsaSummarizer, TextRankSummarizer, LexRankSummarizer, SumBasicSummarizer, RandomSummarizer ou EdmundsonSummarizer.\n",
        "\n",
        "2.   Carrega o X_teste do Drive\n",
        "* Os resumos serão aplicados aos mesmos dados de teste utilizados para a classificação. Agora, a base será submetida à classificação após a sumarização dos dados.\n",
        "\n",
        "3.   Aplica o sumarizador ao voto utilizando a função apply(sumarizar_sumy)\n",
        "\n",
        "4.   Preprocessamento dos dados de teste\n",
        "* Faz o preprocessamento dos dados de teste escolhendo lematização, stemização ou mantendo as palavras originais.\n",
        "* A descrição desta função encontra-se no notebook *TCC_p01_preparar_X_treinamento_e_y_teste*. \n",
        "\n",
        "5. Conversão dos votos da base de teste em vetor númerico\n",
        "5.1 Escolher o tipo de modelo\n",
        "* O modelo escolhido foi lema porque foi o modelo com melhor desempenho.\n",
        "5.2 Ler arquivos do Drive gravados pelo notebook TCC_p01_preparar_X_treinamento_e_y_teste\n",
        "* Lê o dataframe X_treinamento preprocessado com lema, stemer ou palavras originais. No caso, lema.\n",
        "5.3 Faz a tokenização da base de treinamento\n",
        "* Repete a tokenização com os dados do treinamento feita no notebook TCC_p03_Classificação_DCNN para\n",
        "fazer a conversão em vetor númerico dos dados de teste.\n",
        "\n",
        "6. Transformar as categorias alfabéticas 'irpj', 'irpf', 'ngdt' e 'paf' em numéricas [0, 1, 2, 3]\n",
        "* Faz a categorização numérica da variável alvo para entrada na rede neural\n",
        "\n",
        "7. Carga e execução do modelo de melhor desempenho\n",
        "* Carrega o modelo modelo_Dcnn_lema gravado no drive pelo notebook TCC_p03_Classificação_DCNN que foi o modelo com o melhor desempenho.\n",
        "* Faz a predição dos dados de teste sumarizados de acordo com o sumarizador carregado\n",
        "\n",
        "8. Visualização do resultado da classicação com os dados do resumo Edmundson\n",
        "* Após a predição, compara o resultado predito pelo modelo DCNN com os resultados reais e apresenta a matriz de confusão como mapa de calor e também o resultado da acurácia. O mesmo procedimento será realizado com todos os demais sumarizadores nos itens seguintes.\n",
        "\n",
        "9. Visualização do resultado da classicação com os dados do resumo LuhnSummarizer\n",
        "\n",
        "10. Visualização do resultado da classicação com os dados do resumo LexRankSummarizer\n",
        "\n",
        "11. Visualização do resultado da classicação com os dados do resumo LsaSummarizer \n",
        "\n",
        "12. Visualização do resultado da classicação com os dados do resumo SumBasicSummarizer \n",
        "\n",
        "13. Visualização do resultado da classicação com os dados do resumo RandomSummarizer \n",
        "\n",
        "14. Visualização do resultado da classicação com os dados do resumo TextRankSummarizer"
      ]
    },
    {
      "cell_type": "markdown",
      "metadata": {
        "id": "yEw_o_s6HEz4"
      },
      "source": [
        "##0. Funçoes"
      ]
    },
    {
      "cell_type": "code",
      "metadata": {
        "id": "FeXEq_28iDeT"
      },
      "source": [
        "def sumarizar_sumy(texto):\n",
        "  \"\"\"\n",
        "  Recebe uma coleção de frases e escolhe as melhores na proporção 40%.\n",
        "  :parâmetro texto: recebe o texto integral de um voto.\n",
        "  : retorno melhores_sentencas: string com as 40% melhores sentenças.\n",
        "  \"\"\"\n",
        "  parser = PlaintextParser.from_string(texto, TokenizerSumy('portuguese'))\n",
        "  quantidade_sentencas = int(0.4 * len(parser.document.sentences))\n",
        "  if quantidade_sentencas < 4:\n",
        "    quantidade_sentencas = 4\n",
        "\n",
        "  resumo = sumarizador(parser.document, quantidade_sentencas)\n",
        "  melhores_sentencas = []\n",
        "  for sentenca in resumo:\n",
        "    melhores_sentencas.append(str(sentenca).replace(\"Sentence: \",\"\"))\n",
        "  melhores_sentencas = str(melhores_sentencas).replace(\"',\", '').replace(\"'\", '').replace('[', '').replace(']', '')\n",
        "\n",
        "  return melhores_sentencas"
      ],
      "execution_count": null,
      "outputs": []
    },
    {
      "cell_type": "code",
      "metadata": {
        "id": "IpzKGNhdWe5W"
      },
      "source": [
        "def preprocessamento(texto, tipo):\n",
        "  \"\"\"\n",
        "  Faz uma limpeza do texto recebido excluíndo pontuações, stop words, números em moedas, leis, etc, letras soltas, palavras com duas letras, \n",
        "  hífens iniciais, r$, espaços duplos e símbolos.  \n",
        "  O objetivo é deixar apenas palavras que serão a base para as classificações.\n",
        "\n",
        "  :parâmetro texto: recebe o texto integral de um voto.\n",
        "  :parâmetro tipo: escolher entre 'lema', 'stemer' e 'original'. Lema faz lematização das palavras, stemer faz a stemização e original mantém as palavras sem alterações.\n",
        "  :retorno str_lista: string com a lista das palavras do voto após a limpeza dos dados.  \n",
        "\n",
        "  \"\"\"\n",
        "\n",
        "  texto = texto.lower()\n",
        "  texto = re.sub('([¹²³£¢¬§ªº°]{1})', ' ', texto) #excluir o símbolos listados\n",
        "  texto = re.sub('([!\"#%&\\'\\(\\)\\*\\+,\\./:;<=>\\?@\\[\\]\\^_`\\{\\|\\}~]{1})', ' ', texto) #excluir as pontuações, exceto o hífen\n",
        "  texto = re.sub('([0-9]*)[\\.]*([0-9]+,[0-9]+)', ' ', texto)  #excluir valores com decimais após vírgulas 10.000,00 30,00\n",
        "  texto = re.sub('([0-9]+)[.]+([0-9]+)\\/([0-9]+)', ' ', texto) #excluir valores tipo leis 9.420/99\n",
        "  texto = re.sub('([0-9]+)\\/([0-9]+)', ' ', texto) #excluir valores tipo leis 70/99\n",
        "  texto = re.sub('([0-9]+)', ' ', texto) #excluir números\n",
        "  texto = re.sub('( [a-z]{1} )', ' ', texto) #excluir letras soltas\n",
        "  texto = re.sub('( [a-z]{2} )', ' ', texto) #excluir palavras com 2 letras\n",
        "  texto = re.sub(' -([a-z]*)', r'\\1', texto) #excluir hífens iniciais\n",
        "  texto = texto.replace('r$', ' ') #excluir r$\n",
        "  texto = re.sub('( [ ]*)', ' ', texto) #excluir espaços duplos\n",
        "\n",
        "  documento = pln(texto)\n",
        "  lista = [token.text for token in documento if token.text not in stop_words and token.text not in string.punctuation]\n",
        "  str_lista = ' '.join([str(elemento) for elemento in lista if not elemento.isdigit()])\n",
        "  documento = pln(str_lista)\n",
        "  \n",
        "  lista = []\n",
        "  if tipo == 'lema': # Lematização\n",
        "    for token in documento:\n",
        "      lista.append(token.lemma_)  \n",
        "  elif tipo == 'stemer':\n",
        "    for token in documento:\n",
        "      stemmer = nltk.stem.RSLPStemmer()\n",
        "      lista.append(stemmer.stem(token.text))\n",
        "  else: #'original' ou qualquer outro valor\n",
        "    for token in documento:\n",
        "      lista.append(token.text)    \n",
        "\n",
        "  str_lista = ' '.join([str(elemento) for elemento in lista if not elemento.isdigit()])\n",
        "  \n",
        "  return str_lista"
      ],
      "execution_count": null,
      "outputs": []
    },
    {
      "cell_type": "markdown",
      "metadata": {
        "id": "iD9afMPxX3Mu"
      },
      "source": [
        "##1. Carrega o sumarizador a ser testado"
      ]
    },
    {
      "cell_type": "code",
      "metadata": {
        "id": "AAjdhQ-7gAE1"
      },
      "source": [
        "#Instanciar o objeto sumarizador LuhnSummarizer,LsaSummarizer,TextRankSummarizer,LexRankSummarizer,SumBasicSummarizer,RandomSummarizer,EdmundsonSummarizer\n",
        "sumarizador = EdmundsonSummarizer()"
      ],
      "execution_count": null,
      "outputs": []
    },
    {
      "cell_type": "markdown",
      "metadata": {
        "id": "t56eZ8SqYK6Z"
      },
      "source": [
        "##2.   Carrega o X_teste do Drive"
      ]
    },
    {
      "cell_type": "code",
      "metadata": {
        "id": "o-_asyZKYHNY"
      },
      "source": [
        "#Carregar dataframe X_teste diretamente do drive.\n",
        "url = '/content/drive/MyDrive/X_teste_1781.csv' \n",
        "X_teste = pd.read_csv(url, sep=';', engine='python', encoding='windows-1252', low_memory=True) "
      ],
      "execution_count": null,
      "outputs": []
    },
    {
      "cell_type": "code",
      "metadata": {
        "id": "6zt6DbcaXAoj"
      },
      "source": [
        "pd_options = pd.options.display # Objeto para configuração do ambiente: número de linhas, colunas, precisão e etc\n",
        "pd_options.max_colwidth = 200"
      ],
      "execution_count": null,
      "outputs": []
    },
    {
      "cell_type": "code",
      "metadata": {
        "colab": {
          "base_uri": "https://localhost:8080/",
          "height": 197
        },
        "id": "Yydj1YX2Y-fo",
        "outputId": "ab3830e9-37be-4dd6-d026-0f0210382fc1"
      },
      "source": [
        "X_teste.head()"
      ],
      "execution_count": null,
      "outputs": [
        {
          "output_type": "execute_result",
          "data": {
            "text/html": [
              "<div>\n",
              "<style scoped>\n",
              "    .dataframe tbody tr th:only-of-type {\n",
              "        vertical-align: middle;\n",
              "    }\n",
              "\n",
              "    .dataframe tbody tr th {\n",
              "        vertical-align: top;\n",
              "    }\n",
              "\n",
              "    .dataframe thead th {\n",
              "        text-align: right;\n",
              "    }\n",
              "</style>\n",
              "<table border=\"1\" class=\"dataframe\">\n",
              "  <thead>\n",
              "    <tr style=\"text-align: right;\">\n",
              "      <th></th>\n",
              "      <th>voto</th>\n",
              "    </tr>\n",
              "  </thead>\n",
              "  <tbody>\n",
              "    <tr>\n",
              "      <th>0</th>\n",
              "      <td>de acordo com o despacho de admissibilidade dos embargos de declaração, o  recurso preencheu as condições formais de conhecimento. a primeira omissão a ser suprida é a ausência do relatório. impor...</td>\n",
              "    </tr>\n",
              "    <tr>\n",
              "      <th>1</th>\n",
              "      <td>os fatos que ensejaram a autuação objeto dos presentes autos foram bem  relatados no acórdão recorrido. o grupo ultrapar ao adquirir a chevron brasil ltda (texaco) e a  sociedade anônima óleo gale...</td>\n",
              "    </tr>\n",
              "    <tr>\n",
              "      <th>2</th>\n",
              "      <td>o recurso é tempestivo e atende aos requisitos de admissibilidade, assim, dele  tomo conhecimento. a fiscalização glosou as áreas declaradas de preservação permanente de 1036,9  ha e de reserva le...</td>\n",
              "    </tr>\n",
              "    <tr>\n",
              "      <th>3</th>\n",
              "      <td>o recurso voluntário apresentado pela recorrente atende aos requisitos  formais de admissibilidade assim, dele tomo conhecimento. a partir de 30/12/2003, ficou estabelecido que a per/dcomp constit...</td>\n",
              "    </tr>\n",
              "    <tr>\n",
              "      <th>4</th>\n",
              "      <td>presente o pressuposto de admissibilidade, por ser tempestivo, conheço do recurso  e passo ao exame das alegações recursais. conforme se depreende dos elementos que instruem o processo, o contribu...</td>\n",
              "    </tr>\n",
              "  </tbody>\n",
              "</table>\n",
              "</div>"
            ],
            "text/plain": [
              "                                                                                                                                                                                                      voto\n",
              "0  de acordo com o despacho de admissibilidade dos embargos de declaração, o  recurso preencheu as condições formais de conhecimento. a primeira omissão a ser suprida é a ausência do relatório. impor...\n",
              "1  os fatos que ensejaram a autuação objeto dos presentes autos foram bem  relatados no acórdão recorrido. o grupo ultrapar ao adquirir a chevron brasil ltda (texaco) e a  sociedade anônima óleo gale...\n",
              "2  o recurso é tempestivo e atende aos requisitos de admissibilidade, assim, dele  tomo conhecimento. a fiscalização glosou as áreas declaradas de preservação permanente de 1036,9  ha e de reserva le...\n",
              "3  o recurso voluntário apresentado pela recorrente atende aos requisitos  formais de admissibilidade assim, dele tomo conhecimento. a partir de 30/12/2003, ficou estabelecido que a per/dcomp constit...\n",
              "4  presente o pressuposto de admissibilidade, por ser tempestivo, conheço do recurso  e passo ao exame das alegações recursais. conforme se depreende dos elementos que instruem o processo, o contribu..."
            ]
          },
          "metadata": {
            "tags": []
          },
          "execution_count": 56
        }
      ]
    },
    {
      "cell_type": "markdown",
      "metadata": {
        "id": "PaSemgrRYXN6"
      },
      "source": [
        "##3.   Aplica o sumarizador ao voto utilizando a função apply(sumarizar_sumy)"
      ]
    },
    {
      "cell_type": "code",
      "metadata": {
        "id": "dKd4H2a7DfNI"
      },
      "source": [
        "#sumarizar o voto com o sumarizador ativo\n",
        "X_teste['voto'] = X_teste['voto'].apply(sumarizar_sumy)\n",
        "X_teste_sumarizado = X_teste.copy()"
      ],
      "execution_count": null,
      "outputs": []
    },
    {
      "cell_type": "code",
      "metadata": {
        "colab": {
          "base_uri": "https://localhost:8080/",
          "height": 197
        },
        "id": "qcOCv7jADYwG",
        "outputId": "b399c6f2-d169-423a-c248-c90e37e07d9a"
      },
      "source": [
        "X_teste_sumarizado.head()"
      ],
      "execution_count": null,
      "outputs": [
        {
          "output_type": "execute_result",
          "data": {
            "text/html": [
              "<div>\n",
              "<style scoped>\n",
              "    .dataframe tbody tr th:only-of-type {\n",
              "        vertical-align: middle;\n",
              "    }\n",
              "\n",
              "    .dataframe tbody tr th {\n",
              "        vertical-align: top;\n",
              "    }\n",
              "\n",
              "    .dataframe thead th {\n",
              "        text-align: right;\n",
              "    }\n",
              "</style>\n",
              "<table border=\"1\" class=\"dataframe\">\n",
              "  <thead>\n",
              "    <tr style=\"text-align: right;\">\n",
              "      <th></th>\n",
              "      <th>voto</th>\n",
              "    </tr>\n",
              "  </thead>\n",
              "  <tbody>\n",
              "    <tr>\n",
              "      <th>0</th>\n",
              "      <td>de acordo com o despacho de admissibilidade dos embargos de declaração, o  recurso preencheu as condições formais de conhecimento. ainda nessa questão, o relatório do presente julgado corrige a om...</td>\n",
              "    </tr>\n",
              "    <tr>\n",
              "      <th>1</th>\n",
              "      <td>os fatos que ensejaram a autuação objeto dos presentes autos foram bem  relatados no acórdão recorrido. analisando os documentos dos autos, verifica-se que houve outras  reorganizações societárias...</td>\n",
              "    </tr>\n",
              "    <tr>\n",
              "      <th>2</th>\n",
              "      <td>tal obrigação encontra amparo na lei 4.771, de 1965 (código florestal), com a  redação dada pela lei 7.803, de 1989. destarte, ao fazer referência à lei ambiental, a lei  9.393, de 1996, na verdad...</td>\n",
              "    </tr>\n",
              "    <tr>\n",
              "      <th>3</th>\n",
              "      <td>entendo que o pedido da recorrente, relativo a per/dcomp  16539.94217.210104.1.3.02-0609, transmitida em 21/01/2004, relativo ao reconhecimento do  direito creditório de saldo negativo de irpj, po...</td>\n",
              "    </tr>\n",
              "    <tr>\n",
              "      <th>4</th>\n",
              "      <td>por sua vez, ao analisar a impugnação e documentos ofertados pelo contribuinte, a  autoridade julgadora de primeira instância entendeu por bem manter a ação fiscal, sob o  argumento de que   no mé...</td>\n",
              "    </tr>\n",
              "  </tbody>\n",
              "</table>\n",
              "</div>"
            ],
            "text/plain": [
              "                                                                                                                                                                                                      voto\n",
              "0  de acordo com o despacho de admissibilidade dos embargos de declaração, o  recurso preencheu as condições formais de conhecimento. ainda nessa questão, o relatório do presente julgado corrige a om...\n",
              "1  os fatos que ensejaram a autuação objeto dos presentes autos foram bem  relatados no acórdão recorrido. analisando os documentos dos autos, verifica-se que houve outras  reorganizações societárias...\n",
              "2  tal obrigação encontra amparo na lei 4.771, de 1965 (código florestal), com a  redação dada pela lei 7.803, de 1989. destarte, ao fazer referência à lei ambiental, a lei  9.393, de 1996, na verdad...\n",
              "3  entendo que o pedido da recorrente, relativo a per/dcomp  16539.94217.210104.1.3.02-0609, transmitida em 21/01/2004, relativo ao reconhecimento do  direito creditório de saldo negativo de irpj, po...\n",
              "4  por sua vez, ao analisar a impugnação e documentos ofertados pelo contribuinte, a  autoridade julgadora de primeira instância entendeu por bem manter a ação fiscal, sob o  argumento de que   no mé..."
            ]
          },
          "metadata": {
            "tags": []
          },
          "execution_count": 60
        }
      ]
    },
    {
      "cell_type": "markdown",
      "metadata": {
        "id": "sNs33gDxY_Y-"
      },
      "source": [
        "##4.   Preprocessamento dos dados de teste"
      ]
    },
    {
      "cell_type": "code",
      "metadata": {
        "id": "_CVr6MGVR4N_"
      },
      "source": [
        "#rodar preprocessamento selecionando entre lema, stemer ou original. Usar o mesmo utilizado para treinar o modelo.\n",
        "X_teste_sumarizado['voto'] = X_teste_sumarizado['voto'].apply(preprocessamento, args=(tipo_modelo,))\n",
        "X_teste_sumarizado_preprocessado = X_teste_sumarizado.copy()"
      ],
      "execution_count": null,
      "outputs": []
    },
    {
      "cell_type": "code",
      "metadata": {
        "colab": {
          "base_uri": "https://localhost:8080/",
          "height": 197
        },
        "id": "P3_obf2BZQCQ",
        "outputId": "b6efe58f-284a-4382-e100-608a01de79a3"
      },
      "source": [
        "X_teste_sumarizado_preprocessado.head()"
      ],
      "execution_count": null,
      "outputs": [
        {
          "output_type": "execute_result",
          "data": {
            "text/html": [
              "<div>\n",
              "<style scoped>\n",
              "    .dataframe tbody tr th:only-of-type {\n",
              "        vertical-align: middle;\n",
              "    }\n",
              "\n",
              "    .dataframe tbody tr th {\n",
              "        vertical-align: top;\n",
              "    }\n",
              "\n",
              "    .dataframe thead th {\n",
              "        text-align: right;\n",
              "    }\n",
              "</style>\n",
              "<table border=\"1\" class=\"dataframe\">\n",
              "  <thead>\n",
              "    <tr style=\"text-align: right;\">\n",
              "      <th></th>\n",
              "      <th>voto</th>\n",
              "    </tr>\n",
              "  </thead>\n",
              "  <tbody>\n",
              "    <tr>\n",
              "      <th>0</th>\n",
              "      <td>acordar despachar admissibilidade embargo declaração recurso preencher condição formar conhecimento relatório presentar julgar corrigir omissão trazer arrazoar fato relevante início procedimento f...</td>\n",
              "    </tr>\n",
              "    <tr>\n",
              "      <th>1</th>\n",
              "      <td>fato ensejar autuação objeto presente auto relatar acórdão recorrer analisar documento auto verifica-se reorganização societário realizar ultrapar fiscalização repercutir diretamente autuação obje...</td>\n",
              "    </tr>\n",
              "    <tr>\n",
              "      <th>2</th>\n",
              "      <td>obrigação encontrar amparar lei código florestal redação dar lei destarte referência lei ambiental lei verdade condicionar exclusão tributação arl reservar legal averbação tempestivo respectivo re...</td>\n",
              "    </tr>\n",
              "    <tr>\n",
              "      <th>3</th>\n",
              "      <td>entender pedir recorrente relativo per dcomp transmitir relativo reconhecimento direito creditório saldar negativar irpj analisar ter visto entendimento adotado carf pedir restituição pleitear adm...</td>\n",
              "    </tr>\n",
              "    <tr>\n",
              "      <th>4</th>\n",
              "      <td>analisar impugnação documento ofertar contribuinte autoridade julgador instância entender manter ação fiscal argumentar mérito interessar acostar comprovante auto afirmar apresentar drf conformar ...</td>\n",
              "    </tr>\n",
              "  </tbody>\n",
              "</table>\n",
              "</div>"
            ],
            "text/plain": [
              "                                                                                                                                                                                                      voto\n",
              "0  acordar despachar admissibilidade embargo declaração recurso preencher condição formar conhecimento relatório presentar julgar corrigir omissão trazer arrazoar fato relevante início procedimento f...\n",
              "1  fato ensejar autuação objeto presente auto relatar acórdão recorrer analisar documento auto verifica-se reorganização societário realizar ultrapar fiscalização repercutir diretamente autuação obje...\n",
              "2  obrigação encontrar amparar lei código florestal redação dar lei destarte referência lei ambiental lei verdade condicionar exclusão tributação arl reservar legal averbação tempestivo respectivo re...\n",
              "3  entender pedir recorrente relativo per dcomp transmitir relativo reconhecimento direito creditório saldar negativar irpj analisar ter visto entendimento adotado carf pedir restituição pleitear adm...\n",
              "4  analisar impugnação documento ofertar contribuinte autoridade julgador instância entender manter ação fiscal argumentar mérito interessar acostar comprovante auto afirmar apresentar drf conformar ..."
            ]
          },
          "metadata": {
            "tags": []
          },
          "execution_count": 62
        }
      ]
    },
    {
      "cell_type": "code",
      "metadata": {
        "id": "C2UIBZEkZ2Of"
      },
      "source": [
        "#transformar X_teste em numpy.ndarray\n",
        "dados_teste_preprocessados = X_teste_sumarizado_preprocessado.iloc[:, 0].values"
      ],
      "execution_count": null,
      "outputs": []
    },
    {
      "cell_type": "markdown",
      "metadata": {
        "id": "9cg27UEKqaH2"
      },
      "source": [
        "##5. Conversão dos votos da base de teste em vetor númerico"
      ]
    },
    {
      "cell_type": "markdown",
      "metadata": {
        "id": "BWR5ilKFePeR"
      },
      "source": [
        "5.1 Escolher o tipo de modelo"
      ]
    },
    {
      "cell_type": "code",
      "metadata": {
        "id": "4jr7f8GQeM8y"
      },
      "source": [
        "#Definir qual é o modelo a ser treinado. Se lematizado, stemizado ou palavras originais.\n",
        "#A variável tipo_modelo será definida aqui e será utilizada para fazer o direcionamento ao carregar o X_treinamento preprocessado, \n",
        "#no preprocessamento de X_teste, ao salvar o modelo, ao carregar o modelo treinado e ao exibir os resultados.\n",
        "tipo_modelo = 'lema' #escolher 'lema', 'stemer' ou 'original'"
      ],
      "execution_count": null,
      "outputs": []
    },
    {
      "cell_type": "markdown",
      "metadata": {
        "id": "0x9gIjMnuqHz"
      },
      "source": [
        "5.2 Ler arquivos do Drive gravados pelo notebook TCC_p01_preparar_X_treinamento_e_y_teste"
      ]
    },
    {
      "cell_type": "code",
      "metadata": {
        "id": "YDjg41fyo3Ty"
      },
      "source": [
        "#Recuperando os arquivos de treinamento após preprocessamento salvos no drive. Verificar qual X irá treinar, se lema, stemer ou origianl.\n",
        "if tipo_modelo == 'lema':\n",
        "  url = '/content/drive/MyDrive/X_treinamento_lema.csv'\n",
        "elif tipo_modelo == 'stemer':\n",
        "  url = '/content/drive/MyDrive/X_treinamento_stemer.csv'\n",
        "else:\n",
        "  url = '/content/drive/MyDrive/X_treinamento_original.csv'\n",
        "  \n",
        "X_treinamento = pd.read_csv(url, sep=';', engine='python', encoding='windows-1252', low_memory=True, quotechar='\"', error_bad_lines=False)"
      ],
      "execution_count": null,
      "outputs": []
    },
    {
      "cell_type": "code",
      "metadata": {
        "id": "FkENx6kerNfN"
      },
      "source": [
        "#transforma X_treinamento e y_treinamento em numpy.ndarray\n",
        "X_treinamento_preprocessado = X_treinamento.iloc[:, 0].values"
      ],
      "execution_count": null,
      "outputs": []
    },
    {
      "cell_type": "markdown",
      "metadata": {
        "id": "FLWayJ-5-7nN"
      },
      "source": [
        "5.3 Faz a tokenização da base de treinamento "
      ]
    },
    {
      "cell_type": "code",
      "metadata": {
        "id": "LsNbd2hvqVTU"
      },
      "source": [
        "num_words = 2**16\n",
        "oov_token = '<UNK>'\n",
        "pad_type = 'post'\n",
        "trunc_type = 'post'"
      ],
      "execution_count": null,
      "outputs": []
    },
    {
      "cell_type": "code",
      "metadata": {
        "id": "yLZ95zjeqYFz"
      },
      "source": [
        "# Tokenizar os dados de treinamento \n",
        "tokenizerTS = TokenizerTS(num_words=num_words, oov_token=oov_token)\n",
        "tokenizerTS.fit_on_texts(X_treinamento_preprocessado)\n",
        "\n",
        "# Obter total de palavras de dados de treinamento\n",
        "vocab_size = len(tokenizerTS.word_index) + 1"
      ],
      "execution_count": null,
      "outputs": []
    },
    {
      "cell_type": "code",
      "metadata": {
        "id": "Swgnbdzushi1"
      },
      "source": [
        "#Informa do valor de max_len utilizado para o padding. Os valores foram obtidos do notebook TCC_p03_Classificação_DCNN quando rodaram-se os modelos.\n",
        "if tipo_modelo == 'lema':\n",
        "  max_len = 7622\n",
        "elif tipo_modelo == 'stemer':\n",
        "  max_len = 7610\n",
        "else:\n",
        "  max_len = 7622"
      ],
      "execution_count": null,
      "outputs": []
    },
    {
      "cell_type": "code",
      "metadata": {
        "id": "DEVniZEwrXe1"
      },
      "source": [
        "# Transforma cada texto da base de teste em uma sequência de inteiros com base no tokenizer da base de treinamento\n",
        "X_teste_vetor_numerico = tokenizerTS.texts_to_sequences(dados_teste_preprocessados)\n",
        "\n",
        "# Transformar a lista de sequências de tamanho variável em uma matriz 2D numpy de forma (número de linhas, comprimento da maior sequência).\n",
        "X_teste_vetor_numerico = pad_sequences(X_teste_vetor_numerico, padding=pad_type, truncating=trunc_type, maxlen=max_len)"
      ],
      "execution_count": null,
      "outputs": []
    },
    {
      "cell_type": "markdown",
      "metadata": {
        "id": "NDrEZ1tVaWqB"
      },
      "source": [
        "##6. Transformar as categorias alfabéticas 'irpj', 'irpf', 'ngdt' e 'paf' em numéricas [0, 1, 2, 3]"
      ]
    },
    {
      "cell_type": "code",
      "metadata": {
        "id": "izrIMucEP7Tu"
      },
      "source": [
        "#Carrega o y_teste do Drive\n",
        "url = '/content/drive/MyDrive/y_teste_1781.csv' \n",
        "y_teste = pd.read_csv(url, sep=';', engine='python', encoding='windows-1252', low_memory=True)\n",
        "rotulos_teste = y_teste.iloc[:, 0].values"
      ],
      "execution_count": null,
      "outputs": []
    },
    {
      "cell_type": "code",
      "metadata": {
        "id": "BXYxS5INt1hE"
      },
      "source": [
        "#rotulos para o gráfico matriz de confusão\n",
        "rotulos_plt_cm = ['irpj', 'irpf', 'ngdt', 'paf']"
      ],
      "execution_count": null,
      "outputs": []
    },
    {
      "cell_type": "code",
      "metadata": {
        "id": "0fuxP0j4EA8m",
        "colab": {
          "base_uri": "https://localhost:8080/"
        },
        "outputId": "ad6dc872-307a-40ec-c4be-2b238743aa27"
      },
      "source": [
        "rotulos_teste[rotulos_teste == 'irpj'] = 0\n",
        "rotulos_teste[rotulos_teste == 'irpf'] = 1\n",
        "rotulos_teste[rotulos_teste == 'ngdt'] = 2\n",
        "rotulos_teste[rotulos_teste == 'paf'] = 3\n",
        "rotulos_teste = rotulos_teste.astype(np.int32)\n",
        "rotulos_teste"
      ],
      "execution_count": null,
      "outputs": [
        {
          "output_type": "execute_result",
          "data": {
            "text/plain": [
              "array([3, 0, 1, ..., 3, 3, 0], dtype=int32)"
            ]
          },
          "metadata": {
            "tags": []
          },
          "execution_count": 67
        }
      ]
    },
    {
      "cell_type": "markdown",
      "metadata": {
        "id": "5s8GGVE11r2z"
      },
      "source": [
        "##7. Carga e execução do modelo de melhor desempenho"
      ]
    },
    {
      "cell_type": "code",
      "metadata": {
        "id": "yTMPV4TsSn9_"
      },
      "source": [
        "#Carregando modelo treinado com melhor desempenho. O modelo foi salvo no drive.\n",
        "Dcnn = tf.keras.models.load_model('/content/drive/MyDrive/modelo_Dcnn_lema')"
      ],
      "execution_count": null,
      "outputs": []
    },
    {
      "cell_type": "code",
      "metadata": {
        "id": "LNM3RVwO11Ph"
      },
      "source": [
        "#Faz a predição\n",
        "y_pred_test = Dcnn.predict(X_teste_vetor_numerico)\n",
        "lista_predict = y_pred_test.argmax(axis=1) "
      ],
      "execution_count": null,
      "outputs": []
    },
    {
      "cell_type": "markdown",
      "metadata": {
        "id": "Apaj_KxoViPv"
      },
      "source": [
        "##8. Visualização do resultado da classicação com os dados do resumo Edmundson\n"
      ]
    },
    {
      "cell_type": "code",
      "metadata": {
        "colab": {
          "base_uri": "https://localhost:8080/"
        },
        "id": "7-W5lF2edK5W",
        "outputId": "a7af85ce-74f9-4745-f25c-38f6a98782d6"
      },
      "source": [
        "sumarizador"
      ],
      "execution_count": null,
      "outputs": [
        {
          "output_type": "execute_result",
          "data": {
            "text/plain": [
              "<sumy.summarizers.edmundson.EdmundsonSummarizer at 0x7fce2de88e90>"
            ]
          },
          "metadata": {
            "tags": []
          },
          "execution_count": 19
        }
      ]
    },
    {
      "cell_type": "code",
      "metadata": {
        "id": "t1WbXpo-exW3"
      },
      "source": [
        "#Carregar palavras mais frequentes das ementas e da última frase.\n",
        "url = '/content/drive/MyDrive/df_palavras_ementa.csv' \n",
        "df_bonus_words_1 = pd.read_csv(url, sep=';', engine='python', encoding='windows-1252', low_memory=True) \n",
        "url = '/content/drive/MyDrive/df_palavras_ultima_frase.csv' \n",
        "df_bonus_words_2 = pd.read_csv(url, sep=';', engine='python', encoding='windows-1252', low_memory=True) \n",
        "#Carregar palavras stigma com os nomes dos relatores.\n",
        "url = '/content/drive/MyDrive/df_palavras_relatores.csv' \n",
        "df_stigma_words = pd.read_csv(url, sep=';', engine='python', encoding='windows-1252', low_memory=True) \n",
        "#Carregar palavras nulas com as stop words.\n",
        "url = '/content/drive/MyDrive/df_palavras_stop_words.csv' \n",
        "df_stop_words = pd.read_csv(url, sep=';', engine='python', encoding='windows-1252', low_memory=True) "
      ],
      "execution_count": null,
      "outputs": []
    },
    {
      "cell_type": "code",
      "metadata": {
        "id": "dKJ-tq1HkkWc"
      },
      "source": [
        "list_bonus_words = list(pd.concat([df_bonus_words_1, df_bonus_words_2])['0'])\n",
        "list_stigma_words = list(pd.concat([df_stigma_words, df_stop_words])['0'])"
      ],
      "execution_count": null,
      "outputs": []
    },
    {
      "cell_type": "code",
      "metadata": {
        "id": "j2DYv2gcIKG1"
      },
      "source": [
        "#Palavras bônus, stigma e nulas para o sumarizador Edmundson.\n",
        "sumarizador.bonus_words = list_bonus_words\n",
        "sumarizador.stigma_words = ['ff']\n",
        "sumarizador.null_words = list_stigma_words"
      ],
      "execution_count": null,
      "outputs": []
    },
    {
      "cell_type": "code",
      "metadata": {
        "id": "vXnTwzoaqlvp",
        "colab": {
          "base_uri": "https://localhost:8080/",
          "height": 334
        },
        "outputId": "d3ef8e3c-74bf-440b-ba80-066d0da2df5d"
      },
      "source": [
        "conf_mat_nb = confusion_matrix(rotulos_teste, lista_predict)\n",
        "fig, ax = plt.subplots(figsize=(5,5))\n",
        "sns.heatmap(conf_mat_nb, annot=True, fmt='d',\n",
        "            xticklabels=rotulos_plt_cm, yticklabels=rotulos_plt_cm)\n",
        "plt.ylabel('Verdade')\n",
        "plt.xlabel('Previsão')\n",
        "plt.show()"
      ],
      "execution_count": null,
      "outputs": [
        {
          "output_type": "display_data",
          "data": {
            "image/png": "[encoded data removed]",
            "text/plain": [
              "<Figure size 360x360 with 2 Axes>"
            ]
          },
          "metadata": {
            "tags": [],
            "needs_background": "light"
          }
        }
      ]
    },
    {
      "cell_type": "code",
      "metadata": {
        "id": "vP1Q3L_ns4wy",
        "colab": {
          "base_uri": "https://localhost:8080/"
        },
        "outputId": "896f564c-de73-43ee-b92e-d43b22bcd675"
      },
      "source": [
        "accuracy_score(rotulos_teste, lista_predict)"
      ],
      "execution_count": null,
      "outputs": [
        {
          "output_type": "execute_result",
          "data": {
            "text/plain": [
              "0.8697361033127456"
            ]
          },
          "metadata": {
            "tags": []
          },
          "execution_count": 231
        }
      ]
    },
    {
      "cell_type": "code",
      "metadata": {
        "id": "v2HXS4sFg4J4"
      },
      "source": [
        "0.8680516563728242 último resultado\n",
        "Testando agora com palavras stigma. 0.8590679393599102\n",
        "Final = 0.8697361033127456 1º lugar"
      ],
      "execution_count": null,
      "outputs": []
    },
    {
      "cell_type": "markdown",
      "metadata": {
        "id": "bJjoJbozbeZa"
      },
      "source": [
        "##9. Visualização do resultado da classicação com os dados do resumo LuhnSummarizer\n"
      ]
    },
    {
      "cell_type": "code",
      "metadata": {
        "colab": {
          "base_uri": "https://localhost:8080/"
        },
        "id": "SItgXNA-XjOs",
        "outputId": "bac96619-fca8-4884-c43d-eed988ae374a"
      },
      "source": [
        "sumarizador"
      ],
      "execution_count": null,
      "outputs": [
        {
          "output_type": "execute_result",
          "data": {
            "text/plain": [
              "<sumy.summarizers.luhn.LuhnSummarizer at 0x7fee3fbb6d50>"
            ]
          },
          "metadata": {
            "tags": []
          },
          "execution_count": 126
        }
      ]
    },
    {
      "cell_type": "code",
      "metadata": {
        "colab": {
          "base_uri": "https://localhost:8080/",
          "height": 334
        },
        "id": "5I5toOSQXjOu",
        "outputId": "ddb9911b-252e-4264-8ce5-0f3db76cf343"
      },
      "source": [
        "conf_mat_nb = confusion_matrix(rotulos_teste, lista_predict)\n",
        "fig, ax = plt.subplots(figsize=(5,5))\n",
        "sns.heatmap(conf_mat_nb, annot=True, fmt='d',\n",
        "            xticklabels=rotulos_plt_cm, yticklabels=rotulos_plt_cm)\n",
        "plt.ylabel('Verdade')\n",
        "plt.xlabel('Previsão')\n",
        "plt.show()"
      ],
      "execution_count": null,
      "outputs": [
        {
          "output_type": "display_data",
          "data": {
            "image/png": "[encoded data removed]",
            "text/plain": [
              "<Figure size 360x360 with 2 Axes>"
            ]
          },
          "metadata": {
            "tags": [],
            "needs_background": "light"
          }
        }
      ]
    },
    {
      "cell_type": "code",
      "metadata": {
        "colab": {
          "base_uri": "https://localhost:8080/"
        },
        "id": "DX0h_bsKcb6x",
        "outputId": "5ddf5d0f-d11b-4eb3-a8b3-463a3376e7ad"
      },
      "source": [
        "accuracy_score(rotulos_teste, lista_predict)"
      ],
      "execution_count": null,
      "outputs": [
        {
          "output_type": "execute_result",
          "data": {
            "text/plain": [
              "0.8646827624929815"
            ]
          },
          "metadata": {
            "tags": []
          },
          "execution_count": 130
        }
      ]
    },
    {
      "cell_type": "markdown",
      "metadata": {
        "id": "5WanEIN0c8HJ"
      },
      "source": [
        "##10. Visualização do resultado da classicação com os dados do resumo LexRankSummarizer\n"
      ]
    },
    {
      "cell_type": "code",
      "metadata": {
        "colab": {
          "base_uri": "https://localhost:8080/"
        },
        "id": "SUGs7ss7dBDh",
        "outputId": "f81d9d01-f3fe-41a3-df5b-61d5c10bd08c"
      },
      "source": [
        "sumarizador"
      ],
      "execution_count": null,
      "outputs": [
        {
          "output_type": "execute_result",
          "data": {
            "text/plain": [
              "<sumy.summarizers.lex_rank.LexRankSummarizer at 0x7fee3787b9d0>"
            ]
          },
          "metadata": {
            "tags": []
          },
          "execution_count": 208
        }
      ]
    },
    {
      "cell_type": "code",
      "metadata": {
        "colab": {
          "base_uri": "https://localhost:8080/",
          "height": 334
        },
        "id": "mInNp_rodBDj",
        "outputId": "b2b403a2-52d4-4137-9590-d7156be66016"
      },
      "source": [
        "conf_mat_nb = confusion_matrix(rotulos_teste, lista_predict)\n",
        "fig, ax = plt.subplots(figsize=(5,5))\n",
        "sns.heatmap(conf_mat_nb, annot=True, fmt='d',\n",
        "            xticklabels=rotulos_plt_cm, yticklabels=rotulos_plt_cm)\n",
        "plt.ylabel('Verdade')\n",
        "plt.xlabel('Previsão')\n",
        "plt.show()"
      ],
      "execution_count": null,
      "outputs": [
        {
          "output_type": "display_data",
          "data": {
            "image/png": "[encoded data removed]",
            "text/plain": [
              "<Figure size 360x360 with 2 Axes>"
            ]
          },
          "metadata": {
            "tags": [],
            "needs_background": "light"
          }
        }
      ]
    },
    {
      "cell_type": "code",
      "metadata": {
        "colab": {
          "base_uri": "https://localhost:8080/"
        },
        "id": "_DVzOjW7dBDj",
        "outputId": "76e5df22-047e-44e5-bebf-e2e99d7a585c"
      },
      "source": [
        "accuracy_score(rotulos_teste, lista_predict)"
      ],
      "execution_count": null,
      "outputs": [
        {
          "output_type": "execute_result",
          "data": {
            "text/plain": [
              "0.8562605277933745"
            ]
          },
          "metadata": {
            "tags": []
          },
          "execution_count": 210
        }
      ]
    },
    {
      "cell_type": "markdown",
      "metadata": {
        "id": "1n2RWswSdNjh"
      },
      "source": [
        "##11. Visualização do resultado da classicação com os dados do resumo LsaSummarizer \n",
        "\n"
      ]
    },
    {
      "cell_type": "code",
      "metadata": {
        "colab": {
          "base_uri": "https://localhost:8080/"
        },
        "id": "zEFqoEakdofo",
        "outputId": "4887f542-cc90-4041-cc19-488ff4c6f24c"
      },
      "source": [
        "sumarizador"
      ],
      "execution_count": null,
      "outputs": [
        {
          "output_type": "execute_result",
          "data": {
            "text/plain": [
              "<sumy.summarizers.lsa.LsaSummarizer at 0x7fee36be99d0>"
            ]
          },
          "metadata": {
            "tags": []
          },
          "execution_count": 155
        }
      ]
    },
    {
      "cell_type": "code",
      "metadata": {
        "colab": {
          "base_uri": "https://localhost:8080/",
          "height": 334
        },
        "id": "EKhEMViidofq",
        "outputId": "b3532d81-8925-4445-de79-f24e0b153bdf"
      },
      "source": [
        "conf_mat_nb = confusion_matrix(rotulos_teste, lista_predict)\n",
        "fig, ax = plt.subplots(figsize=(5,5))\n",
        "sns.heatmap(conf_mat_nb, annot=True, fmt='d',\n",
        "            xticklabels=rotulos_plt_cm, yticklabels=rotulos_plt_cm)\n",
        "plt.ylabel('Verdade')\n",
        "plt.xlabel('Previsão')\n",
        "plt.show()"
      ],
      "execution_count": null,
      "outputs": [
        {
          "output_type": "display_data",
          "data": {
            "image/png": "[encoded data removed]",
            "text/plain": [
              "<Figure size 360x360 with 2 Axes>"
            ]
          },
          "metadata": {
            "tags": [],
            "needs_background": "light"
          }
        }
      ]
    },
    {
      "cell_type": "code",
      "metadata": {
        "colab": {
          "base_uri": "https://localhost:8080/"
        },
        "id": "BHLvGATndofq",
        "outputId": "2cedf7a8-9f30-4547-82c6-fd292dcf7de3"
      },
      "source": [
        "accuracy_score(rotulos_teste, lista_predict)"
      ],
      "execution_count": null,
      "outputs": [
        {
          "output_type": "execute_result",
          "data": {
            "text/plain": [
              "0.8646827624929815"
            ]
          },
          "metadata": {
            "tags": []
          },
          "execution_count": 157
        }
      ]
    },
    {
      "cell_type": "markdown",
      "metadata": {
        "id": "Jq3VvEBMdUL_"
      },
      "source": [
        "##12. Visualização do resultado da classicação com os dados do resumo SumBasicSummarizer \n"
      ]
    },
    {
      "cell_type": "code",
      "metadata": {
        "colab": {
          "base_uri": "https://localhost:8080/"
        },
        "id": "togJM53Idq6p",
        "outputId": "dd992762-cbec-4b26-b77c-5538790e5ab2"
      },
      "source": [
        "sumarizador"
      ],
      "execution_count": null,
      "outputs": [
        {
          "output_type": "execute_result",
          "data": {
            "text/plain": [
              "<sumy.summarizers.sum_basic.SumBasicSummarizer at 0x7fee3fab6750>"
            ]
          },
          "metadata": {
            "tags": []
          },
          "execution_count": 168
        }
      ]
    },
    {
      "cell_type": "code",
      "metadata": {
        "colab": {
          "base_uri": "https://localhost:8080/",
          "height": 334
        },
        "id": "qpf-oHordq6q",
        "outputId": "80d1e139-7370-462a-a830-22cea0bbba63"
      },
      "source": [
        "conf_mat_nb = confusion_matrix(rotulos_teste, lista_predict)\n",
        "fig, ax = plt.subplots(figsize=(5,5))\n",
        "sns.heatmap(conf_mat_nb, annot=True, fmt='d',\n",
        "            xticklabels=rotulos_plt_cm, yticklabels=rotulos_plt_cm)\n",
        "plt.ylabel('Verdade')\n",
        "plt.xlabel('Previsão')\n",
        "plt.show()"
      ],
      "execution_count": null,
      "outputs": [
        {
          "output_type": "display_data",
          "data": {
            "image/png": "[encoded data removed]",
            "text/plain": [
              "<Figure size 360x360 with 2 Axes>"
            ]
          },
          "metadata": {
            "tags": [],
            "needs_background": "light"
          }
        }
      ]
    },
    {
      "cell_type": "code",
      "metadata": {
        "colab": {
          "base_uri": "https://localhost:8080/"
        },
        "id": "2tCB805wdq6q",
        "outputId": "32fb4c9d-beb0-48fa-d557-ee92280da4cb"
      },
      "source": [
        "accuracy_score(rotulos_teste, lista_predict)"
      ],
      "execution_count": null,
      "outputs": [
        {
          "output_type": "execute_result",
          "data": {
            "text/plain": [
              "0.8422234699606962"
            ]
          },
          "metadata": {
            "tags": []
          },
          "execution_count": 170
        }
      ]
    },
    {
      "cell_type": "markdown",
      "metadata": {
        "id": "glq0b7_sdTfc"
      },
      "source": [
        "##13. Visualização do resultado da classicação com os dados do resumo RandomSummarizer "
      ]
    },
    {
      "cell_type": "code",
      "metadata": {
        "colab": {
          "base_uri": "https://localhost:8080/"
        },
        "id": "vKyR7BgNdu4a",
        "outputId": "114a9d99-02c0-49ad-b8c9-528f2a98eb1d"
      },
      "source": [
        "sumarizador"
      ],
      "execution_count": null,
      "outputs": [
        {
          "output_type": "execute_result",
          "data": {
            "text/plain": [
              "<sumy.summarizers.random.RandomSummarizer at 0x7fee3fba7750>"
            ]
          },
          "metadata": {
            "tags": []
          },
          "execution_count": 181
        }
      ]
    },
    {
      "cell_type": "code",
      "metadata": {
        "colab": {
          "base_uri": "https://localhost:8080/",
          "height": 334
        },
        "id": "XUGk669fdu4b",
        "outputId": "3391c4a8-8a22-4b7c-d3ed-0924adde3a00"
      },
      "source": [
        "conf_mat_nb = confusion_matrix(rotulos_teste, lista_predict)\n",
        "fig, ax = plt.subplots(figsize=(5,5))\n",
        "sns.heatmap(conf_mat_nb, annot=True, fmt='d',\n",
        "            xticklabels=rotulos_plt_cm, yticklabels=rotulos_plt_cm)\n",
        "plt.ylabel('Verdade')\n",
        "plt.xlabel('Previsão')\n",
        "plt.show()"
      ],
      "execution_count": null,
      "outputs": [
        {
          "output_type": "display_data",
          "data": {
            "image/png": "[encoded data removed]",
            "text/plain": [
              "<Figure size 360x360 with 2 Axes>"
            ]
          },
          "metadata": {
            "tags": [],
            "needs_background": "light"
          }
        }
      ]
    },
    {
      "cell_type": "code",
      "metadata": {
        "colab": {
          "base_uri": "https://localhost:8080/"
        },
        "id": "qx2z6YzUdu4b",
        "outputId": "0e07d53c-2a73-44df-8864-9860e854000d"
      },
      "source": [
        "accuracy_score(rotulos_teste, lista_predict)"
      ],
      "execution_count": null,
      "outputs": [
        {
          "output_type": "execute_result",
          "data": {
            "text/plain": [
              "0.8416619876473891"
            ]
          },
          "metadata": {
            "tags": []
          },
          "execution_count": 183
        }
      ]
    },
    {
      "cell_type": "markdown",
      "metadata": {
        "id": "z3HPDJm5qrBT"
      },
      "source": [
        "##14. Visualização do resultado da classicação com os dados do resumo TextRankSummarizer \n"
      ]
    },
    {
      "cell_type": "code",
      "metadata": {
        "colab": {
          "base_uri": "https://localhost:8080/"
        },
        "id": "HFuxfAcgqrBX",
        "outputId": "eb4eee86-e4bd-4357-ab6c-b7b23378929f"
      },
      "source": [
        "sumarizador"
      ],
      "execution_count": null,
      "outputs": [
        {
          "output_type": "execute_result",
          "data": {
            "text/plain": [
              "<sumy.summarizers.text_rank.TextRankSummarizer at 0x7fee368b4ad0>"
            ]
          },
          "metadata": {
            "tags": []
          },
          "execution_count": 194
        }
      ]
    },
    {
      "cell_type": "code",
      "metadata": {
        "colab": {
          "base_uri": "https://localhost:8080/",
          "height": 334
        },
        "id": "Tpz2TnhEqrBX",
        "outputId": "c89c6b7d-9f47-4cb1-c54f-8d2363dab55e"
      },
      "source": [
        "conf_mat_nb = confusion_matrix(rotulos_teste, lista_predict)\n",
        "fig, ax = plt.subplots(figsize=(5,5))\n",
        "sns.heatmap(conf_mat_nb, annot=True, fmt='d',\n",
        "            xticklabels=rotulos_plt_cm, yticklabels=rotulos_plt_cm)\n",
        "plt.ylabel('Verdade')\n",
        "plt.xlabel('Previsão')\n",
        "plt.show()"
      ],
      "execution_count": null,
      "outputs": [
        {
          "output_type": "display_data",
          "data": {
            "image/png": "[encoded data removed]",
            "text/plain": [
              "<Figure size 360x360 with 2 Axes>"
            ]
          },
          "metadata": {
            "tags": [],
            "needs_background": "light"
          }
        }
      ]
    },
    {
      "cell_type": "code",
      "metadata": {
        "colab": {
          "base_uri": "https://localhost:8080/"
        },
        "id": "45YBdEKXqrBY",
        "outputId": "df6dc8d4-384a-4e65-9cbf-e3daa3cdb66d"
      },
      "source": [
        "accuracy_score(rotulos_teste, lista_predict)"
      ],
      "execution_count": null,
      "outputs": [
        {
          "output_type": "execute_result",
          "data": {
            "text/plain": [
              "0.8629983155530601"
            ]
          },
          "metadata": {
            "tags": []
          },
          "execution_count": 198
        }
      ]
    }
  ]
}