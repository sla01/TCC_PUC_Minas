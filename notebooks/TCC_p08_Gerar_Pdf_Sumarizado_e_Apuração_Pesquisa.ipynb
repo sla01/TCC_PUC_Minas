{
  "nbformat": 4,
  "nbformat_minor": 0,
  "metadata": {
    "colab": {
      "name": "TCC_p08_Gerar_Pdf_Sumarizado_e_Apuração_Pesquisa.ipynb",
      "provenance": [],
      "collapsed_sections": [],
      "toc_visible": true
    },
    "kernelspec": {
      "display_name": "Python 3",
      "name": "python3"
    }
  },
  "cells": [
    {
      "cell_type": "markdown",
      "metadata": {
        "id": "GUEq8nGVXtwL"
      },
      "source": [
        "# **TCC_p08_Gerar_Pdf_Sumarizado_e_Apuração_Pesquisa.ipynb**"
      ]
    },
    {
      "cell_type": "markdown",
      "metadata": {
        "id": "vZSh-ZXW-mLs"
      },
      "source": [
        "# **Etapa 1 - Gerar resumos em pdf para a pesquisa com os julgadores**\n",
        "O objetivo deste notebook é gerar resumos dos sumarizadores Edmundson, Lsa e TextRank em um pdf para que julgadores respondam a um pesquisa de qualidade dos resumos. O resultado da pesquisa será comparado com o resultado da avaliação automática com base na acurácia de classificação dos resumos por assunto. Os sumarizadores foram escolhidos em função da classificação automática.\n",
        "Serão resumidos 48 processos por sumarizador. Os processos são os mesmos para todos os sumarizadores. A seleção dos processos obdecerá os seguintes critérios:\n",
        "\n",
        "* Processos com 11 ou 12 frases: para não gerar resumos grandes, não onerar o tempo da pesquisa e não desanimar os colaboradores.\n",
        "* Cada categoria assunto terá 12 processos. Essa seleção foi garantida no bloco 9. Criação de Pdf com os resumos para avaliação pelos julgadores.\n",
        "* Foram gerados 3 pdf com os 48 processos sendo que cada pdf com 16 processos por tipo de sumarizador, mas organizados em ordem diferente. No notebook, gerei os 48 processos por sumarizador e, manualmente, misturei os pdf. Então, solicitei que os julgadores nascidos nos dias 01 a 10 utilizassem o arquivo pdf Primeiro grupo - 01E02T03L, os nascidos nos dias 11 a 20, Segundo grupo - 01L02E03T e os demais, Terceiro grupo - 01T02L03E. No título dos pdf, a letra E significa Edmundson, a letra L, Lsa, e a letra T, TextRank, e 01, processos 1 a 16, 02, processos 17 a 32, 03, processos 33 a 48. O julgadores não sabiam sobre a terminologia e organização. \n",
        "\n",
        "1.   Importação de bibliotecas\n",
        "* Pandas: para criação e manipulação de dataframes\n",
        "* re: para utilização das expressões regulares em operações de de pesquisas e substituições em string.\n",
        "* numpy: para trabalhar com array.\n",
        "* nltk: usada para tokenizar textos em sentenças dos votos e dos resumos para a impressão do pdf com os resumos.\n",
        "* nltk punkt: Punkt é uma ferramenta de segmentação de frases neutra em termos de linguagem utilizada na tokenização.\n",
        "* seaborn: biblioteca para visualização de dados baseada em Matplotlib para trabalhar com os gráficos de visualização da pesquisa sobre a qualidade dos resumos.\n",
        "* matplotlib: biblioteca para a criação de visualizações estáticas, animadas e interativas em Python.\n",
        "* sklearn: para utilização da métricas de classificação matriz de confusão.\n",
        "\n",
        "2. Importação da biblioteca de sumarização Sumy\n",
        "* Biblioteca simples e utilitário de linha de comando para extrair resumos de páginas HTML ou textos simples. Foi a biblioteca escolhida para a maioria dos sumarizadores utilizados no TCC. Ver notebook TCC_p07_Sumarização_Sumy_DCNN. Neste notebook, foram importados os três sumarizadores escolhidos para a pesquisa: LsaSummarizer, TextRankSummarizer e EdmundsonSummarizer.\n",
        "\n",
        "3.   Montar Drive\n",
        "> Com ***drive.mount***('/content/drive', force_remount=True) os diretórios de dados do ***Google Drive*** são montados para utilização no ***Colab*** permitindo salvar arquivos e modelos treinados para utilização posterior, inclusive, em outros notebooks.\n",
        "\n",
        "4. Função sumarizar_sumy\n",
        "```\n",
        "  Faz a sumarização do texto recebido para o sumarizador carregado.\n",
        "  O texto é resumido para 40% das frases.\n",
        "  :parâmetro texto: recebe o texto do voto.\n",
        "  :retorno melhores_sentencas: retorna texto com as principais sentenças de acordo com o sumarizador.\n",
        "```\n",
        "\n",
        "5. Ler no drive o dataframe X_teste_gerar_pdf_sumarizado_pesquisa_1781\n",
        "* Ler no drive o dataframe X_teste_gerar_pdf_sumarizado_pesquisa_1781.csv gravado no notebook TCC_p01_preparar_X_treinamento_e_y_teste com o dataframe X_teste acrescido dos atributos qtdfrase e assunto necessários para este notebook.\n",
        "\n",
        "6. Sumarização\n",
        "> Os sumarizadores escolhidos para a pesquisa, Edmundson, Lsa e TextRank, são da biblioteca Sumy.\n",
        "\n",
        "6.1 EdmundsonSummarizer\n",
        "> O sumarizador Edmundson necessita receber listas com palavras bônus, nulas e stigmas. As palavras bônus e as palavras nulas foram carregadas no drive pelo notebook TCC_p04_Prepara_Palavras_Bonus_e_Nulas_para_Edmundson. Nesse passo, elas são recuperadas para serem utilizadas como input para o sumarizador. \n",
        "> Instancia o objeto sumarizador EdmundsonSummarizer\n",
        "\n",
        "6.2 Lsa e TextRank\n",
        "> Instancia o objeto sumarizador LsaSummarizer ou TextRankSummarizer.\n",
        "\n",
        "7. Executar a função sumarizar_sumy\n",
        "> Executa a função sumarizar_sumy que irá receber o texto do voto e retornar o voto sumarizado de acordo com o sumarizador que estiver carregado. Foi utilizada a função apply para fazer esta transformação.\n",
        "\n",
        "8. Selecionar processos com 11 ou 12 frases\n",
        "> Com base no atributo qtdfrase são selecionados processos com 11 ou 12, conforme descrito no caput.\n",
        "\n",
        "9. Criação de Pdf com os resumos para avaliação pelos julgadores\n",
        "\n",
        "* Importação da biblioteca ReportLab. De acordo com o sítio do desenvolvedor, https://www.reportlab.com/opensource/, ReportLab é o mecanismo de código aberto para a criação de documentos PDF baseados em dados complexos e gráficos vetoriais personalizados. A biblioteca implementa três camadas principais: Uma API de tela gráfica que 'desenha' páginas PDF, uma biblioteca de gráficos e widgets para criar gráficos de dados reutilizáveis e mm mecanismo de layout de página - PLATYPUS (\"Layout de página e tipografia usando scripts\") - que cria documentos a partir de elementos como títulos, parágrafos, fontes, tabelas e gráficos vetoriais.\n",
        "* Ler o dataframe X_teste com processos já selecionados pelo número de frases e contar 48 processos sendo 12 de cada categoria assunto e criar um pdf com o número do processo, informação Processo: *número do processo* e o título **Resumo do voto**. Em seguida, Processo: *número do processo* e o título **Voto completo**. No resumo, utilizei fonte cor preta, e no voto completo fonte cor preta para as frases que fizeram parte do resumo e fonte cor vermelha para a frases desprezadas. O julgador foi orientado a só olhar o voto completo caso precisasse sanar alguma dúvida. Incentivei os julgadores a não consultar o voto completo.\n",
        "\n",
        "\n",
        "\n",
        "\n",
        "\n",
        "\n"
      ]
    },
    {
      "cell_type": "markdown",
      "metadata": {
        "id": "LCiAiO8LULAm"
      },
      "source": [
        "## 1.   Importação de bibliotecas\n",
        "\n"
      ]
    },
    {
      "cell_type": "code",
      "metadata": {
        "id": "ebloqnjuIbdh",
        "colab": {
          "base_uri": "https://localhost:8080/"
        },
        "outputId": "3c949594-9d1d-4147-c3d5-87b49ca12c7e"
      },
      "source": [
        "import re\n",
        "import numpy as np\n",
        "import nltk\n",
        "from nltk.tokenize import sent_tokenize\n",
        "nltk.download('punkt')\n",
        "import pandas as pd\n",
        "import seaborn as sns\n",
        "import matplotlib.pyplot as plt\n",
        "from sklearn.metrics import confusion_matrix"
      ],
      "execution_count": null,
      "outputs": [
        {
          "output_type": "stream",
          "text": [
            "[nltk_data] Downloading package punkt to /root/nltk_data...\n",
            "[nltk_data]   Unzipping tokenizers/punkt.zip.\n"
          ],
          "name": "stdout"
        }
      ]
    },
    {
      "cell_type": "markdown",
      "metadata": {
        "id": "u1TWH_Jx7Kc7"
      },
      "source": [
        "## 2. Importação da biblioteca de sumarização Sumy\n",
        "\n",
        "- https://pypi.org/project/sumy/"
      ]
    },
    {
      "cell_type": "code",
      "metadata": {
        "id": "u2vF_C0E9x9p",
        "colab": {
          "base_uri": "https://localhost:8080/"
        },
        "outputId": "e1718a40-9e51-4130-a705-0a3e882b878a"
      },
      "source": [
        "!pip install sumy"
      ],
      "execution_count": null,
      "outputs": [
        {
          "output_type": "stream",
          "text": [
            "Collecting sumy\n",
            "\u001b[?25l  Downloading https://files.pythonhosted.org/packages/61/20/8abf92617ec80a2ebaec8dc1646a790fc9656a4a4377ddb9f0cc90bc9326/sumy-0.8.1-py2.py3-none-any.whl (83kB)\n",
            "\r\u001b[K     |████                            | 10kB 17.1MB/s eta 0:00:01\r\u001b[K     |███████▉                        | 20kB 21.6MB/s eta 0:00:01\r\u001b[K     |███████████▊                    | 30kB 11.6MB/s eta 0:00:01\r\u001b[K     |███████████████▋                | 40kB 9.6MB/s eta 0:00:01\r\u001b[K     |███████████████████▌            | 51kB 7.8MB/s eta 0:00:01\r\u001b[K     |███████████████████████▍        | 61kB 8.3MB/s eta 0:00:01\r\u001b[K     |███████████████████████████▍    | 71kB 7.9MB/s eta 0:00:01\r\u001b[K     |███████████████████████████████▎| 81kB 8.4MB/s eta 0:00:01\r\u001b[K     |████████████████████████████████| 92kB 5.8MB/s \n",
            "\u001b[?25hRequirement already satisfied: docopt<0.7,>=0.6.1 in /usr/local/lib/python3.7/dist-packages (from sumy) (0.6.2)\n",
            "Requirement already satisfied: nltk>=3.0.2 in /usr/local/lib/python3.7/dist-packages (from sumy) (3.2.5)\n",
            "Collecting breadability>=0.1.20\n",
            "  Downloading https://files.pythonhosted.org/packages/ad/2d/bb6c9b381e6b6a432aa2ffa8f4afdb2204f1ff97cfcc0766a5b7683fec43/breadability-0.1.20.tar.gz\n",
            "Collecting pycountry>=18.2.23\n",
            "\u001b[?25l  Downloading https://files.pythonhosted.org/packages/76/73/6f1a412f14f68c273feea29a6ea9b9f1e268177d32e0e69ad6790d306312/pycountry-20.7.3.tar.gz (10.1MB)\n",
            "\u001b[K     |████████████████████████████████| 10.1MB 10.7MB/s \n",
            "\u001b[?25hRequirement already satisfied: requests>=2.7.0 in /usr/local/lib/python3.7/dist-packages (from sumy) (2.23.0)\n",
            "Requirement already satisfied: six in /usr/local/lib/python3.7/dist-packages (from nltk>=3.0.2->sumy) (1.15.0)\n",
            "Requirement already satisfied: chardet in /usr/local/lib/python3.7/dist-packages (from breadability>=0.1.20->sumy) (3.0.4)\n",
            "Requirement already satisfied: lxml>=2.0 in /usr/local/lib/python3.7/dist-packages (from breadability>=0.1.20->sumy) (4.2.6)\n",
            "Requirement already satisfied: urllib3!=1.25.0,!=1.25.1,<1.26,>=1.21.1 in /usr/local/lib/python3.7/dist-packages (from requests>=2.7.0->sumy) (1.24.3)\n",
            "Requirement already satisfied: idna<3,>=2.5 in /usr/local/lib/python3.7/dist-packages (from requests>=2.7.0->sumy) (2.10)\n",
            "Requirement already satisfied: certifi>=2017.4.17 in /usr/local/lib/python3.7/dist-packages (from requests>=2.7.0->sumy) (2020.12.5)\n",
            "Building wheels for collected packages: breadability, pycountry\n",
            "  Building wheel for breadability (setup.py) ... \u001b[?25l\u001b[?25hdone\n",
            "  Created wheel for breadability: filename=breadability-0.1.20-py2.py3-none-any.whl size=21680 sha256=99e0233096f00ea664a5951e1bb27c3401387f89ad2bf949aa3df262ed3f13f3\n",
            "  Stored in directory: /root/.cache/pip/wheels/5a/4d/a1/510b12c5e65e0b2b3ce539b2af66da0fc57571e528924f4a52\n",
            "  Building wheel for pycountry (setup.py) ... \u001b[?25l\u001b[?25hdone\n",
            "  Created wheel for pycountry: filename=pycountry-20.7.3-py2.py3-none-any.whl size=10746863 sha256=17c93e0577363c7a6dc9c6c656cfbcd768f2e81b2ee5815b62ed58aaabe928fb\n",
            "  Stored in directory: /root/.cache/pip/wheels/33/4e/a6/be297e6b83567e537bed9df4a93f8590ec01c1acfbcd405348\n",
            "Successfully built breadability pycountry\n",
            "Installing collected packages: breadability, pycountry, sumy\n",
            "Successfully installed breadability-0.1.20 pycountry-20.7.3 sumy-0.8.1\n"
          ],
          "name": "stdout"
        }
      ]
    },
    {
      "cell_type": "code",
      "metadata": {
        "id": "iSslir2094WW"
      },
      "source": [
        "from sumy.parsers.plaintext import PlaintextParser\n",
        "from sumy.nlp.tokenizers import Tokenizer\n",
        "from sumy.summarizers.lsa import LsaSummarizer\n",
        "from sumy.summarizers.text_rank import TextRankSummarizer\n",
        "from sumy.summarizers.edmundson import EdmundsonSummarizer"
      ],
      "execution_count": null,
      "outputs": []
    },
    {
      "cell_type": "markdown",
      "metadata": {
        "id": "RDe7Vy7aDVq9"
      },
      "source": [
        "## 3.   Montar Drive"
      ]
    },
    {
      "cell_type": "code",
      "metadata": {
        "colab": {
          "base_uri": "https://localhost:8080/"
        },
        "id": "pr_PDr8Pw1xX",
        "outputId": "3bd665b9-5f08-41cc-e7d0-8df3ff4b80f9"
      },
      "source": [
        "from google.colab import drive\n",
        "drive.mount('/content/drive', force_remount=True) "
      ],
      "execution_count": null,
      "outputs": [
        {
          "output_type": "stream",
          "text": [
            "Mounted at /content/drive\n"
          ],
          "name": "stdout"
        }
      ]
    },
    {
      "cell_type": "markdown",
      "metadata": {
        "id": "cv1-Z6pZEhdd"
      },
      "source": [
        "## 4. Funções"
      ]
    },
    {
      "cell_type": "code",
      "metadata": {
        "id": "FeXEq_28iDeT"
      },
      "source": [
        "def sumarizar_sumy(texto):\n",
        "  \"\"\"\n",
        "  Faz a sumarização do texto recebido para o sumarizador carregado.\n",
        "  O texto é resumido para 40% das frases.\n",
        "  :parâmetro texto: recebe o texto do voto.\n",
        "  :retorno melhores_sentencas: retorna texto com as principais sentenças de acordo com o sumarizador.\n",
        "  \"\"\"\n",
        "  parser = PlaintextParser.from_string(texto, Tokenizer('portuguese'))\n",
        "  quantidade_sentencas = int(0.4 * len(parser.document.sentences))\n",
        "  if quantidade_sentencas < 4:\n",
        "    quantidade_sentencas = 4\n",
        "\n",
        "  resumo = sumarizador(parser.document, quantidade_sentencas)\n",
        "  melhores_sentencas = []\n",
        "  for sentenca in resumo:\n",
        "    melhores_sentencas.append(str(sentenca).replace(\"Sentence: \",\"\"))\n",
        "  melhores_sentencas = str(melhores_sentencas).replace(\"',\", '').replace(\"'\", '').replace('[', '').replace(']', '')\n",
        "\n",
        "  return melhores_sentencas"
      ],
      "execution_count": null,
      "outputs": []
    },
    {
      "cell_type": "markdown",
      "metadata": {
        "id": "w0gCQcaBlUAu"
      },
      "source": [
        "##5. Ler no drive o dataframe X_teste_gerar_pdf_sumarizado_pesquisa_1781 "
      ]
    },
    {
      "cell_type": "code",
      "metadata": {
        "id": "zUkIq6LSBggK"
      },
      "source": [
        "url = '/content/drive/MyDrive/X_teste_gerar_pdf_sumarizado_pesquisa_1781.csv' \n",
        "X_teste = pd.read_csv(url, sep=';', engine='python', encoding='windows-1252', low_memory=True)"
      ],
      "execution_count": null,
      "outputs": []
    },
    {
      "cell_type": "markdown",
      "metadata": {
        "id": "1p9jdAwlm9_4"
      },
      "source": [
        "## 6. Sumarização"
      ]
    },
    {
      "cell_type": "markdown",
      "metadata": {
        "id": "Apaj_KxoViPv"
      },
      "source": [
        "6.1 EdmundsonSummarizer\n"
      ]
    },
    {
      "cell_type": "code",
      "metadata": {
        "id": "hcQOFhpczsaa"
      },
      "source": [
        "sumarizador = EdmundsonSummarizer()"
      ],
      "execution_count": null,
      "outputs": []
    },
    {
      "cell_type": "code",
      "metadata": {
        "id": "oKW1LCWmOI8L"
      },
      "source": [
        "#Carregar palavras mais frequentes das ementas e da última frase.\n",
        "url = '/content/drive/MyDrive/df_palavras_ementa.csv' \n",
        "df_bonus_words_1 = pd.read_csv(url, sep=';', engine='python', encoding='windows-1252', low_memory=True) \n",
        "url = '/content/drive/MyDrive/df_palavras_ultima_frase.csv' \n",
        "df_bonus_words_2 = pd.read_csv(url, sep=';', engine='python', encoding='windows-1252', low_memory=True) \n",
        "#Carregar palavras stigma com os nomes dos relatores.\n",
        "url = '/content/drive/MyDrive/df_palavras_relatores.csv' \n",
        "df_stigma_words = pd.read_csv(url, sep=';', engine='python', encoding='windows-1252', low_memory=True) \n",
        "#Carregar palavras nulas com as stop words da SpaCy e da NLTK.\n",
        "url = '/content/drive/MyDrive/df_palavras_stop_words.csv' \n",
        "df_stop_words = pd.read_csv(url, sep=';', engine='python', encoding='windows-1252', low_memory=True) "
      ],
      "execution_count": null,
      "outputs": []
    },
    {
      "cell_type": "code",
      "metadata": {
        "id": "shzXoZWMBckk"
      },
      "source": [
        "list_bonus_words = list(pd.concat([df_bonus_words_1, df_bonus_words_2])['0'])\n",
        "list_stigma_words = list(df_stigma_words['0'])\n",
        "list_stop_words = list(df_stop_words['0'])"
      ],
      "execution_count": null,
      "outputs": []
    },
    {
      "cell_type": "code",
      "metadata": {
        "id": "j2DYv2gcIKG1"
      },
      "source": [
        "#Palavras stigma e nulas para o sumarizador Edmundson.\n",
        "null_words = list_stigma_words + stop_words\n",
        "sumarizador.bonus_words = list_bonus_words\n",
        "sumarizador.stigma_words = list_stigma_words\n",
        "sumarizador.null_words = list_stop_words"
      ],
      "execution_count": null,
      "outputs": []
    },
    {
      "cell_type": "markdown",
      "metadata": {
        "id": "8o02EWNvYJAv"
      },
      "source": [
        "6.2 Lsa e TextRank"
      ]
    },
    {
      "cell_type": "code",
      "metadata": {
        "id": "PuLLr8svDObc"
      },
      "source": [
        "sumarizador = LsaSummarizer()\n",
        "#sumarizador = TextRankSummarizer()"
      ],
      "execution_count": null,
      "outputs": []
    },
    {
      "cell_type": "markdown",
      "metadata": {
        "id": "tOA3Sn5KtYjB"
      },
      "source": [
        "## 7. Executar a função sumarizar_sumy"
      ]
    },
    {
      "cell_type": "code",
      "metadata": {
        "colab": {
          "base_uri": "https://localhost:8080/"
        },
        "id": "ka53ozXPYCSx",
        "outputId": "310798c4-ad52-4cd4-f866-554d288f35ab"
      },
      "source": [
        "#Mostra o sumarizador ativo\n",
        "sumarizador"
      ],
      "execution_count": null,
      "outputs": [
        {
          "output_type": "execute_result",
          "data": {
            "text/plain": [
              "<sumy.summarizers.lsa.LsaSummarizer at 0x7f59a64eef50>"
            ]
          },
          "metadata": {
            "tags": []
          },
          "execution_count": 9
        }
      ]
    },
    {
      "cell_type": "code",
      "metadata": {
        "id": "o2idIl-aEzQW"
      },
      "source": [
        "X_teste_copy = X_teste.copy()"
      ],
      "execution_count": null,
      "outputs": []
    },
    {
      "cell_type": "code",
      "metadata": {
        "id": "dKd4H2a7DfNI"
      },
      "source": [
        "#sumarizar o voto com o sumarizador ativo\n",
        "X_teste_copy['resumo'] = X_teste_copy['voto'].apply(sumarizar_sumy)"
      ],
      "execution_count": null,
      "outputs": []
    },
    {
      "cell_type": "code",
      "metadata": {
        "colab": {
          "base_uri": "https://localhost:8080/",
          "height": 197
        },
        "id": "qcOCv7jADYwG",
        "outputId": "8f16b794-8d01-4174-af11-d16daffaa263"
      },
      "source": [
        "X_teste_copy.head()"
      ],
      "execution_count": null,
      "outputs": [
        {
          "output_type": "execute_result",
          "data": {
            "text/html": [
              "<div>\n",
              "<style scoped>\n",
              "    .dataframe tbody tr th:only-of-type {\n",
              "        vertical-align: middle;\n",
              "    }\n",
              "\n",
              "    .dataframe tbody tr th {\n",
              "        vertical-align: top;\n",
              "    }\n",
              "\n",
              "    .dataframe thead th {\n",
              "        text-align: right;\n",
              "    }\n",
              "</style>\n",
              "<table border=\"1\" class=\"dataframe\">\n",
              "  <thead>\n",
              "    <tr style=\"text-align: right;\">\n",
              "      <th></th>\n",
              "      <th>processo</th>\n",
              "      <th>voto</th>\n",
              "      <th>qtdfrase</th>\n",
              "      <th>assunto</th>\n",
              "      <th>resumo</th>\n",
              "    </tr>\n",
              "  </thead>\n",
              "  <tbody>\n",
              "    <tr>\n",
              "      <th>0</th>\n",
              "      <td>10073721565201195</td>\n",
              "      <td>de acordo com o despacho de admissibilidade do...</td>\n",
              "      <td>14</td>\n",
              "      <td>paf</td>\n",
              "      <td>importa ressaltar  que trata-se de simples lap...</td>\n",
              "    </tr>\n",
              "    <tr>\n",
              "      <th>1</th>\n",
              "      <td>16682721098201373</td>\n",
              "      <td>os fatos que ensejaram a autuação objeto dos p...</td>\n",
              "      <td>33</td>\n",
              "      <td>irpj</td>\n",
              "      <td>os fatos que ensejaram a autuação objeto dos p...</td>\n",
              "    </tr>\n",
              "    <tr>\n",
              "      <th>2</th>\n",
              "      <td>10218721139201321</td>\n",
              "      <td>o recurso é tempestivo e atende aos requisitos...</td>\n",
              "      <td>30</td>\n",
              "      <td>irpf</td>\n",
              "      <td>o recurso é tempestivo e atende aos requisitos...</td>\n",
              "    </tr>\n",
              "    <tr>\n",
              "      <th>3</th>\n",
              "      <td>10880910301200802</td>\n",
              "      <td>o recurso voluntário apresentado pela recorren...</td>\n",
              "      <td>11</td>\n",
              "      <td>irpj</td>\n",
              "      <td>o recurso voluntário apresentado pela recorren...</td>\n",
              "    </tr>\n",
              "    <tr>\n",
              "      <th>4</th>\n",
              "      <td>10980010538200693</td>\n",
              "      <td>presente o pressuposto de admissibilidade, por...</td>\n",
              "      <td>26</td>\n",
              "      <td>irpf</td>\n",
              "      <td>presente o pressuposto de admissibilidade, por...</td>\n",
              "    </tr>\n",
              "  </tbody>\n",
              "</table>\n",
              "</div>"
            ],
            "text/plain": [
              "            processo  ...                                             resumo\n",
              "0  10073721565201195  ...  importa ressaltar  que trata-se de simples lap...\n",
              "1  16682721098201373  ...  os fatos que ensejaram a autuação objeto dos p...\n",
              "2  10218721139201321  ...  o recurso é tempestivo e atende aos requisitos...\n",
              "3  10880910301200802  ...  o recurso voluntário apresentado pela recorren...\n",
              "4  10980010538200693  ...  presente o pressuposto de admissibilidade, por...\n",
              "\n",
              "[5 rows x 5 columns]"
            ]
          },
          "metadata": {
            "tags": []
          },
          "execution_count": 12
        }
      ]
    },
    {
      "cell_type": "markdown",
      "metadata": {
        "id": "tzAGwAQctisx"
      },
      "source": [
        "## 8. Selecionar processos com 11 ou 12 frases\n"
      ]
    },
    {
      "cell_type": "code",
      "metadata": {
        "id": "BMp-yjCMfJ7l"
      },
      "source": [
        "X_teste_sumario = X_teste_copy[(X_teste_copy['qtdfrase'] == 11) | (X_teste_copy['qtdfrase'] == 12)]"
      ],
      "execution_count": null,
      "outputs": []
    },
    {
      "cell_type": "code",
      "metadata": {
        "colab": {
          "base_uri": "https://localhost:8080/",
          "height": 197
        },
        "id": "8xm6E2nRhrjW",
        "outputId": "9d75c5ea-afe6-414f-f3cd-fdc5f375a67b"
      },
      "source": [
        "X_teste_sumario.head()"
      ],
      "execution_count": null,
      "outputs": [
        {
          "output_type": "execute_result",
          "data": {
            "text/html": [
              "<div>\n",
              "<style scoped>\n",
              "    .dataframe tbody tr th:only-of-type {\n",
              "        vertical-align: middle;\n",
              "    }\n",
              "\n",
              "    .dataframe tbody tr th {\n",
              "        vertical-align: top;\n",
              "    }\n",
              "\n",
              "    .dataframe thead th {\n",
              "        text-align: right;\n",
              "    }\n",
              "</style>\n",
              "<table border=\"1\" class=\"dataframe\">\n",
              "  <thead>\n",
              "    <tr style=\"text-align: right;\">\n",
              "      <th></th>\n",
              "      <th>processo</th>\n",
              "      <th>voto</th>\n",
              "      <th>qtdfrase</th>\n",
              "      <th>assunto</th>\n",
              "      <th>resumo</th>\n",
              "    </tr>\n",
              "  </thead>\n",
              "  <tbody>\n",
              "    <tr>\n",
              "      <th>3</th>\n",
              "      <td>10880910301200802</td>\n",
              "      <td>o recurso voluntário apresentado pela recorren...</td>\n",
              "      <td>11</td>\n",
              "      <td>irpj</td>\n",
              "      <td>o recurso voluntário apresentado pela recorren...</td>\n",
              "    </tr>\n",
              "    <tr>\n",
              "      <th>7</th>\n",
              "      <td>16682900843201004</td>\n",
              "      <td>divirjo do entendimento da ilustre relatora de...</td>\n",
              "      <td>11</td>\n",
              "      <td>paf</td>\n",
              "      <td>e, também, da ementa do acórdão:   per/dcomp, ...</td>\n",
              "    </tr>\n",
              "    <tr>\n",
              "      <th>15</th>\n",
              "      <td>10283900221200951</td>\n",
              "      <td>observando o que determina os artigos 5 e 33 a...</td>\n",
              "      <td>11</td>\n",
              "      <td>ngdt</td>\n",
              "      <td>observando o que determina os artigos 5 e 33 a...</td>\n",
              "    </tr>\n",
              "    <tr>\n",
              "      <th>57</th>\n",
              "      <td>16151000450200874</td>\n",
              "      <td>admissibilidade   conforme consta da folha 45 ...</td>\n",
              "      <td>11</td>\n",
              "      <td>irpf</td>\n",
              "      <td>2005.0300055414, que tramitou perante a 1ª var...</td>\n",
              "    </tr>\n",
              "    <tr>\n",
              "      <th>81</th>\n",
              "      <td>10070000947200644</td>\n",
              "      <td>por ser tempestivo e por preencher as demais c...</td>\n",
              "      <td>12</td>\n",
              "      <td>irpf</td>\n",
              "      <td>por outro lado, a leitura integrada dos artigo...</td>\n",
              "    </tr>\n",
              "  </tbody>\n",
              "</table>\n",
              "</div>"
            ],
            "text/plain": [
              "             processo  ...                                             resumo\n",
              "3   10880910301200802  ...  o recurso voluntário apresentado pela recorren...\n",
              "7   16682900843201004  ...  e, também, da ementa do acórdão:   per/dcomp, ...\n",
              "15  10283900221200951  ...  observando o que determina os artigos 5 e 33 a...\n",
              "57  16151000450200874  ...  2005.0300055414, que tramitou perante a 1ª var...\n",
              "81  10070000947200644  ...  por outro lado, a leitura integrada dos artigo...\n",
              "\n",
              "[5 rows x 5 columns]"
            ]
          },
          "metadata": {
            "tags": []
          },
          "execution_count": 14
        }
      ]
    },
    {
      "cell_type": "markdown",
      "metadata": {
        "id": "5ckhtV0Nzf4c"
      },
      "source": [
        "## 9. Criação de Pdf com os resumos para avaliação pelos julgadores\n",
        "\n",
        "https://www.reportlab.com/opensource/"
      ]
    },
    {
      "cell_type": "code",
      "metadata": {
        "id": "1eluHD7Ye5x0"
      },
      "source": [
        "!pip install reportlab"
      ],
      "execution_count": null,
      "outputs": []
    },
    {
      "cell_type": "code",
      "metadata": {
        "id": "uN10ab7kLA4O"
      },
      "source": [
        "from reportlab.lib.enums import TA_JUSTIFY\n",
        "from reportlab.lib.pagesizes import letter\n",
        "from reportlab.platypus import SimpleDocTemplate, Paragraph, Spacer, Image, PageBreak\n",
        "from reportlab.lib.styles import getSampleStyleSheet, ParagraphStyle\n",
        "from reportlab.lib.units import inch"
      ],
      "execution_count": null,
      "outputs": []
    },
    {
      "cell_type": "code",
      "metadata": {
        "id": "2PspfHZILCje",
        "colab": {
          "base_uri": "https://localhost:8080/"
        },
        "outputId": "4fb404b1-714e-412c-aa8a-61b2855b7e8c"
      },
      "source": [
        "#grava pdf com 48 processos. 12 de cada um dos assuntos.\n",
        "doc = SimpleDocTemplate(\"acordãos sumarizados.pdf\",pagesize=letter,\n",
        "                        rightMargin=50,leftMargin=50,\n",
        "                        topMargin=18,bottomMargin=18)\n",
        "Story=[]\n",
        "\n",
        "styles=getSampleStyleSheet()\n",
        "styles.add(ParagraphStyle(name='Justify', alignment=TA_JUSTIFY))\n",
        "qtdeAssunto = np.zeros(4)  \n",
        "listaAssunto = ['irpj', 'irpf', 'ngdt', 'paf']  \n",
        "listaProcessosSelecionados =  []\n",
        "cont = 0\n",
        "for indice, linha in X_teste_sumario.iterrows():\n",
        "  processo = linha['processo']\n",
        "  assunto = linha['assunto']\n",
        "  qtdeAssunto[listaAssunto.index(assunto)] += 1\n",
        "  if qtdeAssunto[listaAssunto.index(assunto)] > 12:\n",
        "    continue\n",
        "  listaProcessosSelecionados.append(processo)\n",
        "  cont += 1\n",
        "  sentencas_originais = sent_tokenize(linha['voto'])\n",
        "  melhores_sentencas = sent_tokenize(linha['resumo'])\n",
        "\n",
        "  texto = f'<font size=\"12\" color=\"blue\">Processo: </font> <font size=\"12\" color=\"black\">{processo}</font>'\n",
        "  Story.append(Paragraph(texto, styles[\"Normal\"]))\n",
        "  Story.append(Spacer(1, 12))\n",
        "\n",
        "  texto = f'<font size=\"12\" color=\"blue\">Resumo do voto</font>'\n",
        "  Story.append(Paragraph(texto, styles[\"Normal\"]))\n",
        "  Story.append(Spacer(1, 12))\n",
        "\n",
        "  for sentenca in sentencas_originais:\n",
        "    if sentenca in melhores_sentencas:\n",
        "      texto = f'<font size=\"12\" color=\"black\">{sentenca}</font>'\n",
        "      Story.append(Paragraph(texto, styles[\"Justify\"]))\n",
        "      Story.append(Spacer(1, 12))\n",
        "      ultima = True\n",
        "    else:\n",
        "      ultima = False  \n",
        "\n",
        "  Story.append(PageBreak())\n",
        "  texto = f'<font size=\"12\" color=\"blue\">Processo: </font> <font size=\"12\" color=\"black\">{processo}</font>'\n",
        "  Story.append(Paragraph(texto, styles[\"Normal\"]))\n",
        "  Story.append(Spacer(1, 12))\n",
        "\n",
        "  texto = f'<font size=\"12\" color=\"blue\">Voto completo</font>'\n",
        "  Story.append(Paragraph(texto, styles[\"Normal\"]))\n",
        "  Story.append(Spacer(1, 12))\n",
        "\n",
        "  for sentenca in sentencas_originais:\n",
        "    if sentenca in melhores_sentencas:\n",
        "      texto = f'<font size=\"12\" color=\"black\">{sentenca}</font>'\n",
        "      Story.append(Paragraph(texto, styles[\"Justify\"]))\n",
        "    else:\n",
        "      texto = f'<font size=\"12\" color=\"red\">{sentenca}</font>'\n",
        "      Story.append(Paragraph(texto, styles[\"Justify\"]))\n",
        "    Story.append(Spacer(1, 12))\n",
        "\n",
        "  Story.append(PageBreak())\n",
        "\n",
        "doc.build(Story)\n",
        "print(f'total de processos {cont}.')"
      ],
      "execution_count": null,
      "outputs": [
        {
          "output_type": "stream",
          "text": [
            "total de processos 48.\n"
          ],
          "name": "stdout"
        }
      ]
    },
    {
      "cell_type": "code",
      "metadata": {
        "id": "OjEQMv5nprj-"
      },
      "source": [
        "# salvei a lista listaProcessosSelecionados= [10880910301200802,  16682900843201004,  10283900221200951,  16151000450200874,  10070000947200644,  10680902614201564,  10280720288200852,  13531000261200677,  10240001879200712,  13047720112201661,  10980005943200771,  13808003852200102,  10675903195200917,  18471001510200455,  12448729542201825,  10680724496201113,  13941000265200712,  10840001465200643,  10830909150200827,  10880904190200897,  11030902589200998,  10480914404200927,  10580727100201207,  10882903439200827,  10880920090200999,  10880693174200944,  10166900016200921,  10510723190201444,  10980924270200911,  11610004310200716,  10680906700200906,  11080730129201512,  10850902764200921,  10880973302200931,  10980913216200941,  16327902857200960,  13819900031200693,  10680723052200946,  10675000307200544,  10675903184200929,  10675903185200973,  10380903442200982,  10680906701200942,  14120000055200823,  10835900005200831,  15467000524200937,  10380902416200856,  16327902852200937] \n",
        "listaProcessosSelecionados "
      ],
      "execution_count": null,
      "outputs": []
    },
    {
      "cell_type": "markdown",
      "metadata": {
        "id": "AYqnW1b82MGS"
      },
      "source": [
        "# **Etapa 2 - Apuração do resultado da pesquisa**"
      ]
    },
    {
      "cell_type": "code",
      "metadata": {
        "id": "wuKnLHAAq1HW"
      },
      "source": [
        "#Cria dataframe com os processos selecionados para a pesquisa. Apenas o atributo processo.\n",
        "df_processos_pesquisa = pd.DataFrame(listaProcessosSelecionados, columns = ['processo'])"
      ],
      "execution_count": null,
      "outputs": []
    },
    {
      "cell_type": "code",
      "metadata": {
        "id": "Nww4kNQjtMjO"
      },
      "source": [
        "#Acrescenta o atributo assunto\n",
        "df_processos_pesquisa = X_teste_copy.loc[X_teste_copy['processo'].isin(listaProcessosSelecionados)].iloc[:, [0,3]]"
      ],
      "execution_count": null,
      "outputs": []
    },
    {
      "cell_type": "code",
      "metadata": {
        "id": "hAQYhUEv4g6a"
      },
      "source": [
        "#Acrescenta um sequencial\n",
        "df_processos_pesquisa.insert(2, 'seq', range(1,49))"
      ],
      "execution_count": null,
      "outputs": []
    },
    {
      "cell_type": "code",
      "metadata": {
        "colab": {
          "base_uri": "https://localhost:8080/"
        },
        "id": "Kcfu611MWqVZ",
        "outputId": "f137d45d-4677-41bc-c9b5-2c032bee945d"
      },
      "source": [
        "df_processos_pesquisa.shape"
      ],
      "execution_count": null,
      "outputs": [
        {
          "output_type": "execute_result",
          "data": {
            "text/plain": [
              "(48, 3)"
            ]
          },
          "metadata": {
            "tags": []
          },
          "execution_count": 10
        }
      ]
    },
    {
      "cell_type": "code",
      "metadata": {
        "colab": {
          "base_uri": "https://localhost:8080/",
          "height": 204
        },
        "id": "ImLCGUaqq-YO",
        "outputId": "a16f8029-30c9-4e3f-eee2-bae3d08eb02a"
      },
      "source": [
        "df_processos_pesquisa.tail()"
      ],
      "execution_count": null,
      "outputs": [
        {
          "output_type": "execute_result",
          "data": {
            "text/html": [
              "<div>\n",
              "<style scoped>\n",
              "    .dataframe tbody tr th:only-of-type {\n",
              "        vertical-align: middle;\n",
              "    }\n",
              "\n",
              "    .dataframe tbody tr th {\n",
              "        vertical-align: top;\n",
              "    }\n",
              "\n",
              "    .dataframe thead th {\n",
              "        text-align: right;\n",
              "    }\n",
              "</style>\n",
              "<table border=\"1\" class=\"dataframe\">\n",
              "  <thead>\n",
              "    <tr style=\"text-align: right;\">\n",
              "      <th></th>\n",
              "      <th>processo</th>\n",
              "      <th>assunto</th>\n",
              "      <th>seq</th>\n",
              "    </tr>\n",
              "  </thead>\n",
              "  <tbody>\n",
              "    <tr>\n",
              "      <th>990</th>\n",
              "      <td>14120000055200823</td>\n",
              "      <td>paf</td>\n",
              "      <td>44</td>\n",
              "    </tr>\n",
              "    <tr>\n",
              "      <th>1182</th>\n",
              "      <td>10835900005200831</td>\n",
              "      <td>ngdt</td>\n",
              "      <td>45</td>\n",
              "    </tr>\n",
              "    <tr>\n",
              "      <th>1256</th>\n",
              "      <td>15467000524200937</td>\n",
              "      <td>ngdt</td>\n",
              "      <td>46</td>\n",
              "    </tr>\n",
              "    <tr>\n",
              "      <th>1396</th>\n",
              "      <td>10380902416200856</td>\n",
              "      <td>ngdt</td>\n",
              "      <td>47</td>\n",
              "    </tr>\n",
              "    <tr>\n",
              "      <th>1529</th>\n",
              "      <td>16327902852200937</td>\n",
              "      <td>ngdt</td>\n",
              "      <td>48</td>\n",
              "    </tr>\n",
              "  </tbody>\n",
              "</table>\n",
              "</div>"
            ],
            "text/plain": [
              "               processo assunto  seq\n",
              "990   14120000055200823     paf   44\n",
              "1182  10835900005200831    ngdt   45\n",
              "1256  15467000524200937    ngdt   46\n",
              "1396  10380902416200856    ngdt   47\n",
              "1529  16327902852200937    ngdt   48"
            ]
          },
          "metadata": {
            "tags": []
          },
          "execution_count": 11
        }
      ]
    },
    {
      "cell_type": "code",
      "metadata": {
        "id": "5XShSdppdiA6"
      },
      "source": [
        "def sumarizador_grupo01(sequencial_processo):\n",
        "  lista = []\n",
        "  for i in sequencial_processo:\n",
        "    if i < 17:\n",
        "      lista.append('Edmundson')\n",
        "    elif i > 32:\n",
        "      lista.append('Lsa')\n",
        "    else:\n",
        "      lista.append('TextRank')\n",
        "  return lista\n",
        "\n",
        "def sumarizador_grupo02(sequencial_processo):\n",
        "  lista = []\n",
        "  for i in sequencial_processo:\n",
        "    if i < 17:\n",
        "      lista.append('Lsa')\n",
        "    elif i > 32:\n",
        "      lista.append('TextRank')\n",
        "    else:\n",
        "      lista.append('Edmundson')\n",
        "  return lista\n",
        "\n",
        "def sumarizador_grupo03(sequencial_processo):\n",
        "  lista = []\n",
        "  for i in sequencial_processo:\n",
        "    if i < 17:\n",
        "      lista.append('TextRank')\n",
        "    elif i > 32:\n",
        "      lista.append('Edmundson')\n",
        "    else:\n",
        "      lista.append('Lsa')\n",
        "  return lista"
      ],
      "execution_count": null,
      "outputs": []
    },
    {
      "cell_type": "code",
      "metadata": {
        "id": "cyqBINgzWL6y"
      },
      "source": [
        "#Cria os atributos grupo01, grupo02 e grupo03 com o tipo de sumarizador para o processo em cada um dos grupos de pesquisa\n",
        "df_processos_pesquisa = df_processos_pesquisa.assign(grupo01=sumarizador_grupo01(df_processos_pesquisa.seq))\n",
        "df_processos_pesquisa = df_processos_pesquisa.assign(grupo02=sumarizador_grupo02(df_processos_pesquisa.seq))\n",
        "df_processos_pesquisa = df_processos_pesquisa.assign(grupo03=sumarizador_grupo03(df_processos_pesquisa.seq))"
      ],
      "execution_count": null,
      "outputs": []
    },
    {
      "cell_type": "code",
      "metadata": {
        "colab": {
          "base_uri": "https://localhost:8080/",
          "height": 204
        },
        "id": "cQDnkIQXtbNt",
        "outputId": "7d9629fd-cf02-46ae-e539-c2bda86758a9"
      },
      "source": [
        "df_processos_pesquisa.head()"
      ],
      "execution_count": null,
      "outputs": [
        {
          "output_type": "execute_result",
          "data": {
            "text/html": [
              "<div>\n",
              "<style scoped>\n",
              "    .dataframe tbody tr th:only-of-type {\n",
              "        vertical-align: middle;\n",
              "    }\n",
              "\n",
              "    .dataframe tbody tr th {\n",
              "        vertical-align: top;\n",
              "    }\n",
              "\n",
              "    .dataframe thead th {\n",
              "        text-align: right;\n",
              "    }\n",
              "</style>\n",
              "<table border=\"1\" class=\"dataframe\">\n",
              "  <thead>\n",
              "    <tr style=\"text-align: right;\">\n",
              "      <th></th>\n",
              "      <th>processo</th>\n",
              "      <th>assunto</th>\n",
              "      <th>seq</th>\n",
              "      <th>grupo01</th>\n",
              "      <th>grupo02</th>\n",
              "      <th>grupo03</th>\n",
              "    </tr>\n",
              "  </thead>\n",
              "  <tbody>\n",
              "    <tr>\n",
              "      <th>3</th>\n",
              "      <td>10880910301200802</td>\n",
              "      <td>irpj</td>\n",
              "      <td>1</td>\n",
              "      <td>Edmundson</td>\n",
              "      <td>Lsa</td>\n",
              "      <td>TextRank</td>\n",
              "    </tr>\n",
              "    <tr>\n",
              "      <th>7</th>\n",
              "      <td>16682900843201004</td>\n",
              "      <td>paf</td>\n",
              "      <td>2</td>\n",
              "      <td>Edmundson</td>\n",
              "      <td>Lsa</td>\n",
              "      <td>TextRank</td>\n",
              "    </tr>\n",
              "    <tr>\n",
              "      <th>15</th>\n",
              "      <td>10283900221200951</td>\n",
              "      <td>ngdt</td>\n",
              "      <td>3</td>\n",
              "      <td>Edmundson</td>\n",
              "      <td>Lsa</td>\n",
              "      <td>TextRank</td>\n",
              "    </tr>\n",
              "    <tr>\n",
              "      <th>57</th>\n",
              "      <td>16151000450200874</td>\n",
              "      <td>irpf</td>\n",
              "      <td>4</td>\n",
              "      <td>Edmundson</td>\n",
              "      <td>Lsa</td>\n",
              "      <td>TextRank</td>\n",
              "    </tr>\n",
              "    <tr>\n",
              "      <th>81</th>\n",
              "      <td>10070000947200644</td>\n",
              "      <td>irpf</td>\n",
              "      <td>5</td>\n",
              "      <td>Edmundson</td>\n",
              "      <td>Lsa</td>\n",
              "      <td>TextRank</td>\n",
              "    </tr>\n",
              "  </tbody>\n",
              "</table>\n",
              "</div>"
            ],
            "text/plain": [
              "             processo assunto  seq    grupo01 grupo02   grupo03\n",
              "3   10880910301200802    irpj    1  Edmundson     Lsa  TextRank\n",
              "7   16682900843201004     paf    2  Edmundson     Lsa  TextRank\n",
              "15  10283900221200951    ngdt    3  Edmundson     Lsa  TextRank\n",
              "57  16151000450200874    irpf    4  Edmundson     Lsa  TextRank\n",
              "81  10070000947200644    irpf    5  Edmundson     Lsa  TextRank"
            ]
          },
          "metadata": {
            "tags": []
          },
          "execution_count": 14
        }
      ]
    },
    {
      "cell_type": "code",
      "metadata": {
        "id": "LYekBaDH0iJh"
      },
      "source": [
        "#Cria um dicionário com chave processo e valor assunto para registro no dataframe com o resultado da pesquisa do atributo assunto_alvo como a resposta correta\n",
        "dict_assunto = dict(zip(df_processos_pesquisa['processo'], df_processos_pesquisa['assunto']))"
      ],
      "execution_count": null,
      "outputs": []
    },
    {
      "cell_type": "code",
      "metadata": {
        "id": "oUp71_XfmG6F"
      },
      "source": [
        "#Cria um dicionário com chave processo e valor resultado do julgamento para registro no dataframe com o resultado da pesquisa do atributo resultado_alvo como a resposta correta\n",
        "#Esse atributo na constava no arquivo original e precisou ser extraído em pesquisa manual aos votos completos.\n",
        "dict_resultado = {10070000947200644: 'Procedente ou procedente em parte',                                                       \n",
        " 10166900016200921: 'Procedente ou procedente em parte',\n",
        " 10240001879200712: 'Procedente ou procedente em parte',\n",
        " 10280720288200852: 'Procedente ou procedente em parte',\n",
        " 10283900221200951: 'Procedente ou procedente em parte',\n",
        " 10380902416200856: 'Procedente ou procedente em parte',\n",
        " 10380903442200982: 'Procedente ou procedente em parte',\n",
        " 10480914404200927: 'Procedente ou procedente em parte',\n",
        " 10510723190201444: 'Improcedente',\n",
        " 10580727100201207: 'Procedente ou procedente em parte',\n",
        " 10675000307200544: 'Procedente ou procedente em parte',\n",
        " 10675903184200929: 'Improcedente',\n",
        " 10675903185200973: 'Improcedente',\n",
        " 10675903195200917: 'Improcedente',\n",
        " 10680723052200946: 'Procedente ou procedente em parte',\n",
        " 10680724496201113: 'Procedente ou procedente em parte',\n",
        " 10680902614201564: 'Procedente ou procedente em parte',\n",
        " 10680906700200906: 'Procedente ou procedente em parte',\n",
        " 10680906701200942: 'Procedente ou procedente em parte',\n",
        " 10830909150200827: 'Improcedente',\n",
        " 10835900005200831: 'Procedente ou procedente em parte',\n",
        " 10840001465200643: 'Procedente ou procedente em parte',\n",
        " 10850902764200921: 'Procedente ou procedente em parte',\n",
        " 10880693174200944: 'Procedente ou procedente em parte',\n",
        " 10880904190200897: 'Procedente ou procedente em parte',\n",
        " 10880910301200802: 'Procedente ou procedente em parte',\n",
        " 10880920090200999: 'Procedente ou procedente em parte',\n",
        " 10880973302200931: 'Procedente ou procedente em parte',\n",
        " 10882903439200827: 'Procedente ou procedente em parte',\n",
        " 10980005943200771: 'Procedente ou procedente em parte',\n",
        " 10980913216200941: 'Procedente ou procedente em parte',\n",
        " 10980924270200911: 'Procedente ou procedente em parte',\n",
        " 11030902589200998: 'Improcedente',\n",
        " 11080730129201512: 'Procedente ou procedente em parte',\n",
        " 11610004310200716: 'Procedente ou procedente em parte',\n",
        " 12448729542201825: 'Procedente ou procedente em parte',\n",
        " 13047720112201661: 'Procedente ou procedente em parte',\n",
        " 13531000261200677: 'Procedente ou procedente em parte',\n",
        " 13808003852200102: 'Procedente ou procedente em parte',\n",
        " 13819900031200693: 'Procedente ou procedente em parte',\n",
        " 13941000265200712: 'Procedente ou procedente em parte',\n",
        " 14120000055200823: 'Procedente ou procedente em parte',\n",
        " 15467000524200937: 'Procedente ou procedente em parte',\n",
        " 16151000450200874: 'Procedente ou procedente em parte',\n",
        " 16327902852200937: 'Procedente ou procedente em parte',\n",
        " 16327902857200960: 'Procedente ou procedente em parte',\n",
        " 16682900843201004: 'Improcedente',\n",
        " 18471001510200455: 'Procedente ou procedente em parte'}"
      ],
      "execution_count": null,
      "outputs": []
    },
    {
      "cell_type": "code",
      "metadata": {
        "id": "yx-SuMSD3x50"
      },
      "source": [
        "#Carregar a planilha baixada do Teams com o resultado da pesquisa. Foram desprezadas colunas sem interesse para a apuração como hora inicio, email, etc.\n",
        "url = '/content/drive/MyDrive/Pesquisa_qualidade_dos_resumos_automáticos.csv' \n",
        "#names colunas do csv=['id', 'Hora de início', 'horafim', 'email', 'nome', 'grupo', 'processo', 'assunto', 'resultado', 'notanan', 'notacompreensao', 'notacoesao'], usecols=[0,1, 2, 3, 4,5,6,7,8,9,10,11])\n",
        "df_apuracao_pesquisa = pd.read_csv(url, sep=';', engine='python', encoding='windows-1252', low_memory=True, header=0, names=['nome', 'grupo', 'processo', 'assunto', 'resultado', 'notacompreensao', 'notacoesao'], usecols=[4,5,6,7,8,10,11])"
      ],
      "execution_count": null,
      "outputs": []
    },
    {
      "cell_type": "code",
      "metadata": {
        "id": "VAmGxhgRDugT"
      },
      "source": [
        "def acerta_processo(processo):\n",
        "  \"\"\"\n",
        "  Função para acertar números de processos da pesquisa.\n",
        "  Foram relatados erros pelos participantes da pesquisa informando que o formulário Teams estava acrescentando 1 ao número do processo em algumas situações não detectadas.\n",
        "  Como a pesquisa já havia sido respondida por vários julgadores, optei por fazer a correção do número do processo por comparação de parte do número do processo com a função acerta_processo.\n",
        "  Entretanto, ao fazer a correção, percebi que alguns julgadores não utilizaram o copiar colar, pois havia erro nos preenchimentos dos números dos processos.\n",
        "  Observando os erros, percebi que eram dígitos acrescentados ou subtraídos. Portanto, acrescentei na função acerta_processo uma comparação entre os dígitos vizinhos.\n",
        "  Dessa forma, acertei o número de processo pelos processos com maior quantidade de dígitos correspondentes após a comparação dos vizinhos.\n",
        "  Como não é possível estabelecer que os erros sempre seguirão esse padrão, os processos com erro e seus correspondentes foram impressos para verificação.\n",
        "  :parâmetro processo: recebe os valores da coluna processo.\n",
        "  :retorno processo_acertado: retorna o valor corrigido da coluna com base nos processos selecionados para a pesquisa.\n",
        "  \"\"\"\n",
        "\n",
        "  parte_processo = str(processo)[:11]\n",
        "  achou = False\n",
        "  processo_acertado = 0\n",
        "  for processo_selecionado in listaProcessosSelecionados:\n",
        "    if parte_processo == str(processo_selecionado)[:-6]:\n",
        "      achou = True\n",
        "      processo_acertado = processo_selecionado\n",
        "      break\n",
        "\n",
        "  if not achou:\n",
        "    print('não achou ', parte_processo)\n",
        "    cont_similaridade = 0\n",
        "    max_similaridade = 0\n",
        "    processo_correspondente = 0\n",
        "    for processo_selecionado in listaProcessosSelecionados:\n",
        "      for i in range(0,11):\n",
        "        if str(processo)[i] == str(processo_selecionado)[i]:\n",
        "          cont_similaridade += 1\n",
        "        elif str(processo)[i] == str(processo_selecionado)[i+1]:\n",
        "          cont_similaridade += 1\n",
        "        elif str(processo)[i+1] == str(processo_selecionado)[i]:\n",
        "          cont_similaridade += 1\n",
        "      \n",
        "      if cont_similaridade > max_similaridade:\n",
        "        processo_correspondente = processo_selecionado\n",
        "        max_similaridade = cont_similaridade  \n",
        "      \n",
        "      cont_similaridade = 0\n",
        "    print(processo, processo_correspondente, max_similaridade)\n",
        "    processo_acertado = processo_selecionado\n",
        "#  if not achou:\n",
        "#   print(processo, 'não achei')\n",
        "\n",
        "  return processo_acertado"
      ],
      "execution_count": null,
      "outputs": []
    },
    {
      "cell_type": "code",
      "metadata": {
        "colab": {
          "base_uri": "https://localhost:8080/"
        },
        "id": "erUZfeUzAeUH",
        "outputId": "2d8441a2-4738-4c92-97d7-6e8e42c2aad9"
      },
      "source": [
        "#Acerta números de processos com erro\n",
        "df_apuracao_pesquisa['processo'] = df_apuracao_pesquisa['processo'].apply(acerta_processo)"
      ],
      "execution_count": null,
      "outputs": [
        {
          "output_type": "stream",
          "text": [
            "não achou  10166900012\n",
            "1016690001200921 10166900016200921 11\n",
            "não achou  10280390022\n",
            "102803900221200951 10283900221200951 11\n",
            "não achou  10283900211\n",
            "1028390021100951 10283900221200951 11\n",
            "não achou  10283900222\n",
            "102839002221200940 10283900221200951 11\n",
            "não achou  10380090344\n",
            "103800903442200980 10380903442200982 11\n",
            "não achou  10835900000\n",
            "108359000005200830 10835900005200831 11\n",
            "não achou  10980059432\n",
            "1098005943200771 10980005943200771 11\n",
            "não achou  11610043102\n",
            "1161004310200716 11610004310200716 11\n",
            "não achou  13080038522\n",
            "1308003852200102 13808003852200102 11\n",
            "não achou  13631000261\n",
            "13631000261200676 13531000261200677 10\n",
            "não achou  13819900312\n",
            "1381990031200693 13819900031200693 11\n",
            "não achou  16150000450\n",
            "16150000450200874 16151000450200874 11\n",
            "não achou  16151004502\n",
            "16151004502200874 16151000450200874 11\n"
          ],
          "name": "stdout"
        }
      ]
    },
    {
      "cell_type": "code",
      "metadata": {
        "colab": {
          "base_uri": "https://localhost:8080/"
        },
        "id": "zOKFgvm-x6ny",
        "outputId": "a489c666-1302-4210-b1de-6980251235ca"
      },
      "source": [
        "df_apuracao_pesquisa.assunto.unique()"
      ],
      "execution_count": null,
      "outputs": [
        {
          "output_type": "execute_result",
          "data": {
            "text/plain": [
              "array(['NGDT - Normas Gerais de Direito Tributário',\n",
              "       'PAF - Processo Administrativo Fiscal', 'IRPJ/CSLL',\n",
              "       'IRPF - Imposto de Renda Pessoa Fisica', 'Não sei',\n",
              "       'IRPJ - Imposto de Renda Pessoa Jurídica'], dtype=object)"
            ]
          },
          "metadata": {
            "tags": []
          },
          "execution_count": 20
        }
      ]
    },
    {
      "cell_type": "code",
      "metadata": {
        "id": "Ug0BNPJDwz6K"
      },
      "source": [
        "#Altera literais de assunto da pesquisa para o formato que estou trabalhando nos notebooks\n",
        "#Na pesquisa, alterei a pedido os assuntos para um literal mais completo que facilitaria o entendimento dos julgadores.\n",
        "#Como a alteração foi feita com a pesquisa já iniciada, no caso de IRPJ ficaram 2 literais.\n",
        "df_apuracao_pesquisa['assunto'] = df_apuracao_pesquisa['assunto'].replace(['NGDT - Normas Gerais de Direito Tributário',\n",
        "       'PAF - Processo Administrativo Fiscal',\n",
        "       'IRPF - Imposto de Renda Pessoa Fisica', \n",
        "       'IRPJ - Imposto de Renda Pessoa Jurídica', 'IRPJ/CSLL'],['ngdt','paf','irpf','irpj','irpj'])"
      ],
      "execution_count": null,
      "outputs": []
    },
    {
      "cell_type": "code",
      "metadata": {
        "id": "nrq2AtIM6jx2"
      },
      "source": [
        "def verifica_assunto(linha):\n",
        "  \"\"\"\n",
        "  Cria o atributo assunto_alvo com o assunto correspondente ao processo recebido.\n",
        "  O assunto é obtido no dicionário de assuntos.\n",
        "  :parâmetro linha: recebe a linha do dataframe que contém o atributo processo.\n",
        "  :retorno dict_assunto[linha.loc['processo']] com o assunto correspondente ao processo da linha corrente.\n",
        "  \"\"\"\n",
        "  return dict_assunto[linha.loc['processo']]\n",
        "\n",
        "def confere_assunto(linha):\n",
        "  \"\"\"\n",
        "  Recebe a linha do dataframe com os atributos assunto e assunto_alvo e verifica se são iguais.\n",
        "  O retorno da função criará o atributo acertou_assunto.\n",
        "  :parâmetro linha: linha do dataframe.\n",
        "  :retorno: literal sim ou não de acordo com a correspondência.\n",
        "  \"\"\"\n",
        "  if linha.loc['assunto'] == linha.loc['assunto_alvo']:\n",
        "    return 'sim'\n",
        "  else:\n",
        "    return 'não'\n",
        "\n",
        "def verifica_resultado(linha):\n",
        "  \"\"\"\n",
        "  Cria o atributo resultado_alvo com o resultado de julgamento correspondente ao processo recebido.\n",
        "  O resultado é obtido no dicionário de resultados.\n",
        "  :parâmetro linha: recebe a linha do dataframe que contém o atributo processo.\n",
        "  :retorno dict_resultado[linha.loc['processo']] com o resultado de julgamento correspondente ao processo da linha corrente.\n",
        "  \"\"\"\n",
        "  return dict_resultado[linha.loc['processo']]\n",
        "\n",
        "def confere_resultado(linha):\n",
        "  \"\"\"\n",
        "  Recebe a linha do dataframe com os atributos resultado e resultado_alvo e verifica se são iguais.\n",
        "  O retorno da função criará o atributo acertou_resultado.\n",
        "  :parâmetro linha: linha do dataframe.\n",
        "  :retorno: literal sim ou não de acordo com a correspondência.\n",
        "  \"\"\"\n",
        "  if linha.loc['resultado'] == linha.loc['resultado_alvo']:\n",
        "    return 'sim'\n",
        "  else:\n",
        "    return 'não'"
      ],
      "execution_count": null,
      "outputs": []
    },
    {
      "cell_type": "code",
      "metadata": {
        "id": "g1VUceY27K2D"
      },
      "source": [
        "# Cria o atributo assunto_alvo com o assunto correspondente ao processo recebido e o atributo acertou_assunto com o resultado da resposta da pesquisa\n",
        "df_apuracao_pesquisa['assunto_alvo'] = df_apuracao_pesquisa.apply(verifica_assunto, axis=1)\n",
        "df_apuracao_pesquisa['acertou_assunto'] = df_apuracao_pesquisa.apply(confere_assunto, axis=1)"
      ],
      "execution_count": null,
      "outputs": []
    },
    {
      "cell_type": "code",
      "metadata": {
        "id": "gD5qsm6W_4FO"
      },
      "source": [
        "# Cria o atributo resultado_alvo com o resultado de julgamento correspondente ao processo recebido e o atributo acertou_resultado com o resultado da resposta da pesquisa\n",
        "df_apuracao_pesquisa['resultado_alvo'] = df_apuracao_pesquisa.apply(verifica_resultado, axis=1)\n",
        "df_apuracao_pesquisa['acertou_resultado'] = df_apuracao_pesquisa.apply(confere_resultado, axis=1)"
      ],
      "execution_count": null,
      "outputs": []
    },
    {
      "cell_type": "code",
      "metadata": {
        "colab": {
          "base_uri": "https://localhost:8080/",
          "height": 289
        },
        "id": "w5ng9MfB8NPi",
        "outputId": "c5bf53ce-762b-4d89-95ba-3815f348ecba"
      },
      "source": [
        "df_apuracao_pesquisa.head()"
      ],
      "execution_count": null,
      "outputs": [
        {
          "output_type": "execute_result",
          "data": {
            "text/html": [
              "<div>\n",
              "<style scoped>\n",
              "    .dataframe tbody tr th:only-of-type {\n",
              "        vertical-align: middle;\n",
              "    }\n",
              "\n",
              "    .dataframe tbody tr th {\n",
              "        vertical-align: top;\n",
              "    }\n",
              "\n",
              "    .dataframe thead th {\n",
              "        text-align: right;\n",
              "    }\n",
              "</style>\n",
              "<table border=\"1\" class=\"dataframe\">\n",
              "  <thead>\n",
              "    <tr style=\"text-align: right;\">\n",
              "      <th></th>\n",
              "      <th>nome</th>\n",
              "      <th>grupo</th>\n",
              "      <th>processo</th>\n",
              "      <th>assunto</th>\n",
              "      <th>resultado</th>\n",
              "      <th>notacompreensao</th>\n",
              "      <th>notacoesao</th>\n",
              "      <th>assunto_alvo</th>\n",
              "      <th>acertou_assunto</th>\n",
              "      <th>resultado_alvo</th>\n",
              "      <th>acertou_resultado</th>\n",
              "    </tr>\n",
              "  </thead>\n",
              "  <tbody>\n",
              "    <tr>\n",
              "      <th>0</th>\n",
              "      <td>Saulo de Tarso Castro Pessoa</td>\n",
              "      <td>Segundo grupo</td>\n",
              "      <td>10675000307200544</td>\n",
              "      <td>ngdt</td>\n",
              "      <td>Não sei</td>\n",
              "      <td>3</td>\n",
              "      <td>2</td>\n",
              "      <td>paf</td>\n",
              "      <td>não</td>\n",
              "      <td>Procedente ou procedente em parte</td>\n",
              "      <td>não</td>\n",
              "    </tr>\n",
              "    <tr>\n",
              "      <th>1</th>\n",
              "      <td>Saulo de Tarso Castro Pessoa</td>\n",
              "      <td>Segundo grupo</td>\n",
              "      <td>10675903184200929</td>\n",
              "      <td>paf</td>\n",
              "      <td>Improcedente</td>\n",
              "      <td>7</td>\n",
              "      <td>4</td>\n",
              "      <td>paf</td>\n",
              "      <td>sim</td>\n",
              "      <td>Improcedente</td>\n",
              "      <td>sim</td>\n",
              "    </tr>\n",
              "    <tr>\n",
              "      <th>2</th>\n",
              "      <td>Marcelo Veiga Ferreira</td>\n",
              "      <td>Primeiro grupo</td>\n",
              "      <td>10680724496201113</td>\n",
              "      <td>ngdt</td>\n",
              "      <td>Procedente ou procedente em parte</td>\n",
              "      <td>4</td>\n",
              "      <td>2</td>\n",
              "      <td>paf</td>\n",
              "      <td>não</td>\n",
              "      <td>Procedente ou procedente em parte</td>\n",
              "      <td>sim</td>\n",
              "    </tr>\n",
              "    <tr>\n",
              "      <th>3</th>\n",
              "      <td>Marcelo Veiga Ferreira</td>\n",
              "      <td>Primeiro grupo</td>\n",
              "      <td>10680902614201564</td>\n",
              "      <td>irpj</td>\n",
              "      <td>Procedente ou procedente em parte</td>\n",
              "      <td>10</td>\n",
              "      <td>10</td>\n",
              "      <td>irpj</td>\n",
              "      <td>sim</td>\n",
              "      <td>Procedente ou procedente em parte</td>\n",
              "      <td>sim</td>\n",
              "    </tr>\n",
              "    <tr>\n",
              "      <th>4</th>\n",
              "      <td>Saulo de Tarso Castro Pessoa</td>\n",
              "      <td>Segundo grupo</td>\n",
              "      <td>10880904190200897</td>\n",
              "      <td>irpj</td>\n",
              "      <td>Procedente ou procedente em parte</td>\n",
              "      <td>7</td>\n",
              "      <td>7</td>\n",
              "      <td>irpj</td>\n",
              "      <td>sim</td>\n",
              "      <td>Procedente ou procedente em parte</td>\n",
              "      <td>sim</td>\n",
              "    </tr>\n",
              "  </tbody>\n",
              "</table>\n",
              "</div>"
            ],
            "text/plain": [
              "                           nome  ... acertou_resultado\n",
              "0  Saulo de Tarso Castro Pessoa  ...               não\n",
              "1  Saulo de Tarso Castro Pessoa  ...               sim\n",
              "2        Marcelo Veiga Ferreira  ...               sim\n",
              "3        Marcelo Veiga Ferreira  ...               sim\n",
              "4  Saulo de Tarso Castro Pessoa  ...               sim\n",
              "\n",
              "[5 rows x 11 columns]"
            ]
          },
          "metadata": {
            "tags": []
          },
          "execution_count": 25
        }
      ]
    },
    {
      "cell_type": "code",
      "metadata": {
        "id": "HtLtyhlDEpfy"
      },
      "source": [
        "#Cria o atributo sumarizador no dataframe com a apuração da pesquisa informando qual é o sumarizador correspondente ao processo e ao grupo da pesquisa.\n",
        "df1 = df_apuracao_pesquisa[df_apuracao_pesquisa['processo'].isin(listaProcessosSelecionados[:16])]\n",
        "df1.loc[df1['grupo'] == 'Primeiro grupo', 'sumarizador'] = 'Edmundson'\n",
        "df1.loc[df1['grupo'] == 'Segundo grupo', 'sumarizador'] = 'Lsa'\n",
        "df1.loc[df1['grupo'] == 'Terceiro grupo', 'sumarizador'] = 'TextRank'\n",
        "df2 = df_apuracao_pesquisa[df_apuracao_pesquisa['processo'].isin(listaProcessosSelecionados[16:32])]\n",
        "df2.loc[df2['grupo'] == 'Primeiro grupo', 'sumarizador'] = 'TextRank'\n",
        "df2.loc[df2['grupo'] == 'Segundo grupo', 'sumarizador'] = 'Edmundson'\n",
        "df2.loc[df2['grupo'] == 'Terceiro grupo', 'sumarizador'] = 'Lsa'\n",
        "df3 = df_apuracao_pesquisa[df_apuracao_pesquisa['processo'].isin(listaProcessosSelecionados[32:])]\n",
        "df3.loc[df3['grupo'] == 'Primeiro grupo', 'sumarizador'] = 'Lsa'\n",
        "df3.loc[df3['grupo'] == 'Segundo grupo', 'sumarizador'] = 'TextRank'\n",
        "df3.loc[df3['grupo'] == 'Terceiro grupo', 'sumarizador'] = 'Edmundson'\n",
        "df4 = pd.concat([df1, df2, df3])"
      ],
      "execution_count": null,
      "outputs": []
    },
    {
      "cell_type": "code",
      "metadata": {
        "colab": {
          "base_uri": "https://localhost:8080/",
          "height": 374
        },
        "id": "aaXtA-2hnHDC",
        "outputId": "9cd35b9d-a465-4fad-c3e4-7764bda0a193"
      },
      "source": [
        "df4.sort_values(by=['processo']).head()"
      ],
      "execution_count": null,
      "outputs": [
        {
          "output_type": "execute_result",
          "data": {
            "text/html": [
              "<div>\n",
              "<style scoped>\n",
              "    .dataframe tbody tr th:only-of-type {\n",
              "        vertical-align: middle;\n",
              "    }\n",
              "\n",
              "    .dataframe tbody tr th {\n",
              "        vertical-align: top;\n",
              "    }\n",
              "\n",
              "    .dataframe thead th {\n",
              "        text-align: right;\n",
              "    }\n",
              "</style>\n",
              "<table border=\"1\" class=\"dataframe\">\n",
              "  <thead>\n",
              "    <tr style=\"text-align: right;\">\n",
              "      <th></th>\n",
              "      <th>nome</th>\n",
              "      <th>grupo</th>\n",
              "      <th>processo</th>\n",
              "      <th>assunto</th>\n",
              "      <th>resultado</th>\n",
              "      <th>notacompreensao</th>\n",
              "      <th>notacoesao</th>\n",
              "      <th>assunto_alvo</th>\n",
              "      <th>acertou_assunto</th>\n",
              "      <th>resultado_alvo</th>\n",
              "      <th>acertou_resultado</th>\n",
              "      <th>sumarizador</th>\n",
              "    </tr>\n",
              "  </thead>\n",
              "  <tbody>\n",
              "    <tr>\n",
              "      <th>34</th>\n",
              "      <td>Fernando.Montanari@rfb.gov.br</td>\n",
              "      <td>Terceiro grupo</td>\n",
              "      <td>10070000947200644</td>\n",
              "      <td>irpf</td>\n",
              "      <td>Procedente ou procedente em parte</td>\n",
              "      <td>5</td>\n",
              "      <td>6</td>\n",
              "      <td>irpf</td>\n",
              "      <td>sim</td>\n",
              "      <td>Procedente ou procedente em parte</td>\n",
              "      <td>sim</td>\n",
              "      <td>TextRank</td>\n",
              "    </tr>\n",
              "    <tr>\n",
              "      <th>24</th>\n",
              "      <td>Marcelo.Aguiar@rfb.gov.br</td>\n",
              "      <td>Terceiro grupo</td>\n",
              "      <td>10070000947200644</td>\n",
              "      <td>irpf</td>\n",
              "      <td>Procedente ou procedente em parte</td>\n",
              "      <td>9</td>\n",
              "      <td>8</td>\n",
              "      <td>irpf</td>\n",
              "      <td>sim</td>\n",
              "      <td>Procedente ou procedente em parte</td>\n",
              "      <td>sim</td>\n",
              "      <td>TextRank</td>\n",
              "    </tr>\n",
              "    <tr>\n",
              "      <th>25</th>\n",
              "      <td>Ana Paula Silveira</td>\n",
              "      <td>Segundo grupo</td>\n",
              "      <td>10070000947200644</td>\n",
              "      <td>irpf</td>\n",
              "      <td>Procedente ou procedente em parte</td>\n",
              "      <td>9</td>\n",
              "      <td>9</td>\n",
              "      <td>irpf</td>\n",
              "      <td>sim</td>\n",
              "      <td>Procedente ou procedente em parte</td>\n",
              "      <td>sim</td>\n",
              "      <td>Lsa</td>\n",
              "    </tr>\n",
              "    <tr>\n",
              "      <th>27</th>\n",
              "      <td>Heloisa de Moraes Silveira</td>\n",
              "      <td>Primeiro grupo</td>\n",
              "      <td>10070000947200644</td>\n",
              "      <td>irpf</td>\n",
              "      <td>Procedente ou procedente em parte</td>\n",
              "      <td>6</td>\n",
              "      <td>6</td>\n",
              "      <td>irpf</td>\n",
              "      <td>sim</td>\n",
              "      <td>Procedente ou procedente em parte</td>\n",
              "      <td>sim</td>\n",
              "      <td>Edmundson</td>\n",
              "    </tr>\n",
              "    <tr>\n",
              "      <th>28</th>\n",
              "      <td>José Ricardo Cota Valente</td>\n",
              "      <td>Segundo grupo</td>\n",
              "      <td>10070000947200644</td>\n",
              "      <td>irpf</td>\n",
              "      <td>Procedente ou procedente em parte</td>\n",
              "      <td>9</td>\n",
              "      <td>6</td>\n",
              "      <td>irpf</td>\n",
              "      <td>sim</td>\n",
              "      <td>Procedente ou procedente em parte</td>\n",
              "      <td>sim</td>\n",
              "      <td>Lsa</td>\n",
              "    </tr>\n",
              "  </tbody>\n",
              "</table>\n",
              "</div>"
            ],
            "text/plain": [
              "                             nome           grupo  ...  acertou_resultado sumarizador\n",
              "34  Fernando.Montanari@rfb.gov.br  Terceiro grupo  ...                sim    TextRank\n",
              "24      Marcelo.Aguiar@rfb.gov.br  Terceiro grupo  ...                sim    TextRank\n",
              "25             Ana Paula Silveira   Segundo grupo  ...                sim         Lsa\n",
              "27     Heloisa de Moraes Silveira  Primeiro grupo  ...                sim   Edmundson\n",
              "28      José Ricardo Cota Valente   Segundo grupo  ...                sim         Lsa\n",
              "\n",
              "[5 rows x 12 columns]"
            ]
          },
          "metadata": {
            "tags": []
          },
          "execution_count": 27
        }
      ]
    },
    {
      "cell_type": "code",
      "metadata": {
        "colab": {
          "base_uri": "https://localhost:8080/",
          "height": 204
        },
        "id": "NlU7wLNkrNgR",
        "outputId": "80410b84-0f98-4c96-be0a-f1b2c1f16f17"
      },
      "source": [
        "#Utilizado para checagem da correspondência sumarizador por processo e grupo. Pode excluir....\n",
        "df_processos_pesquisa.head()"
      ],
      "execution_count": null,
      "outputs": [
        {
          "output_type": "execute_result",
          "data": {
            "text/html": [
              "<div>\n",
              "<style scoped>\n",
              "    .dataframe tbody tr th:only-of-type {\n",
              "        vertical-align: middle;\n",
              "    }\n",
              "\n",
              "    .dataframe tbody tr th {\n",
              "        vertical-align: top;\n",
              "    }\n",
              "\n",
              "    .dataframe thead th {\n",
              "        text-align: right;\n",
              "    }\n",
              "</style>\n",
              "<table border=\"1\" class=\"dataframe\">\n",
              "  <thead>\n",
              "    <tr style=\"text-align: right;\">\n",
              "      <th></th>\n",
              "      <th>processo</th>\n",
              "      <th>assunto</th>\n",
              "      <th>seq</th>\n",
              "      <th>grupo01</th>\n",
              "      <th>grupo02</th>\n",
              "      <th>grupo03</th>\n",
              "    </tr>\n",
              "  </thead>\n",
              "  <tbody>\n",
              "    <tr>\n",
              "      <th>3</th>\n",
              "      <td>10880910301200802</td>\n",
              "      <td>irpj</td>\n",
              "      <td>1</td>\n",
              "      <td>Edmundson</td>\n",
              "      <td>Lsa</td>\n",
              "      <td>TextRank</td>\n",
              "    </tr>\n",
              "    <tr>\n",
              "      <th>7</th>\n",
              "      <td>16682900843201004</td>\n",
              "      <td>paf</td>\n",
              "      <td>2</td>\n",
              "      <td>Edmundson</td>\n",
              "      <td>Lsa</td>\n",
              "      <td>TextRank</td>\n",
              "    </tr>\n",
              "    <tr>\n",
              "      <th>15</th>\n",
              "      <td>10283900221200951</td>\n",
              "      <td>ngdt</td>\n",
              "      <td>3</td>\n",
              "      <td>Edmundson</td>\n",
              "      <td>Lsa</td>\n",
              "      <td>TextRank</td>\n",
              "    </tr>\n",
              "    <tr>\n",
              "      <th>57</th>\n",
              "      <td>16151000450200874</td>\n",
              "      <td>irpf</td>\n",
              "      <td>4</td>\n",
              "      <td>Edmundson</td>\n",
              "      <td>Lsa</td>\n",
              "      <td>TextRank</td>\n",
              "    </tr>\n",
              "    <tr>\n",
              "      <th>81</th>\n",
              "      <td>10070000947200644</td>\n",
              "      <td>irpf</td>\n",
              "      <td>5</td>\n",
              "      <td>Edmundson</td>\n",
              "      <td>Lsa</td>\n",
              "      <td>TextRank</td>\n",
              "    </tr>\n",
              "  </tbody>\n",
              "</table>\n",
              "</div>"
            ],
            "text/plain": [
              "             processo assunto  seq    grupo01 grupo02   grupo03\n",
              "3   10880910301200802    irpj    1  Edmundson     Lsa  TextRank\n",
              "7   16682900843201004     paf    2  Edmundson     Lsa  TextRank\n",
              "15  10283900221200951    ngdt    3  Edmundson     Lsa  TextRank\n",
              "57  16151000450200874    irpf    4  Edmundson     Lsa  TextRank\n",
              "81  10070000947200644    irpf    5  Edmundson     Lsa  TextRank"
            ]
          },
          "metadata": {
            "tags": []
          },
          "execution_count": 28
        }
      ]
    },
    {
      "cell_type": "code",
      "metadata": {
        "colab": {
          "base_uri": "https://localhost:8080/",
          "height": 225
        },
        "id": "ox6cGS-Aoy3o",
        "outputId": "01868bb7-1216-4854-e8ec-0e2c62b05b31"
      },
      "source": [
        "#Criar os gráficos Notas de compreensão por sumarizador - histograma\n",
        "g = sns.FacetGrid(df4, col=\"sumarizador\")\n",
        "g.map(sns.histplot, \"notacompreensao\", discrete=True)\n",
        "#plt.title(\"Notas de compreensão por sumarizador - histograma\") \n",
        "plt.show()"
      ],
      "execution_count": null,
      "outputs": [
        {
          "output_type": "display_data",
          "data": {
            "image/png": "[encoded data removed]",
            "text/plain": [
              "<Figure size 648x216 with 3 Axes>"
            ]
          },
          "metadata": {
            "tags": [],
            "needs_background": "light"
          }
        }
      ]
    },
    {
      "cell_type": "code",
      "metadata": {
        "colab": {
          "base_uri": "https://localhost:8080/",
          "height": 225
        },
        "id": "2etAKwebo65I",
        "outputId": "f03fbb51-ead1-4e7e-efee-e03f705be3de"
      },
      "source": [
        "g = sns.FacetGrid(df4, col=\"sumarizador\")\n",
        "g.map(sns.histplot, \"notacoesao\", discrete=True)\n",
        "plt.show()"
      ],
      "execution_count": null,
      "outputs": [
        {
          "output_type": "display_data",
          "data": {
            "image/png": "[encoded data removed]",
            "text/plain": [
              "<Figure size 648x216 with 3 Axes>"
            ]
          },
          "metadata": {
            "tags": [],
            "needs_background": "light"
          }
        }
      ]
    },
    {
      "cell_type": "code",
      "metadata": {
        "colab": {
          "base_uri": "https://localhost:8080/"
        },
        "id": "ZRTCX5U4rt3r",
        "outputId": "fcfc7565-3db9-4dbd-c744-fd2b65494e10"
      },
      "source": [
        "#Mostra as notas médias de coesão por sumarizador\n",
        "df4.groupby(\"sumarizador\").mean()['notacoesao'].sort_values()"
      ],
      "execution_count": null,
      "outputs": [
        {
          "output_type": "execute_result",
          "data": {
            "text/plain": [
              "sumarizador\n",
              "TextRank     6.857488\n",
              "Lsa          7.086364\n",
              "Edmundson    7.578947\n",
              "Name: notacoesao, dtype: float64"
            ]
          },
          "metadata": {
            "tags": []
          },
          "execution_count": 31
        }
      ]
    },
    {
      "cell_type": "code",
      "metadata": {
        "colab": {
          "base_uri": "https://localhost:8080/",
          "height": 328
        },
        "id": "W2uj8mU2qYrC",
        "outputId": "73ffdd00-3a84-4276-bc21-256358954b84"
      },
      "source": [
        "#Mostra gráfico de barras com as Notas de coesão por sumarizador\n",
        "#Mostre estimativas de pontos e intervalos de confiança como barras retangulares.#\n",
        "#Um gráfico de barra representa uma estimativa de tendência central para uma variável numérica com a altura de cada retângulo e fornece alguma indicação da incerteza em torno dessa estimativa usando barras de erro. \n",
        "#Os gráficos de barra incluem 0 no intervalo do eixo quantitativo e são uma boa escolha quando 0 é um valor significativo para a variável quantitativa e você deseja fazer comparações com ele.\n",
        "df4.groupby(\"sumarizador\").mean()['notacoesao'].sort_values().plot.bar()\n",
        "#plt.title(\"Notas de compreensão por sumarizador\") \n",
        "plt.show()"
      ],
      "execution_count": null,
      "outputs": [
        {
          "output_type": "display_data",
          "data": {
            "image/png": "[encoded data removed]",
            "text/plain": [
              "<Figure size 432x288 with 1 Axes>"
            ]
          },
          "metadata": {
            "tags": [],
            "needs_background": "light"
          }
        }
      ]
    },
    {
      "cell_type": "code",
      "metadata": {
        "colab": {
          "base_uri": "https://localhost:8080/",
          "height": 300
        },
        "id": "lq6aN4rpdE0w",
        "outputId": "4fd86b0c-ce67-44b1-89e1-524c1072e4ba"
      },
      "source": [
        "#Mostre estimativas de pontos e intervalos de confiança usando glifos de gráfico de dispersão.\n",
        "#Um gráfico de pontos representa uma estimativa da tendência central para uma variável numérica pela posição dos pontos do gráfico de dispersão e fornece alguma indicação da incerteza em torno dessa estimativa usando barras de erro.\n",
        "ax = sns.pointplot(data=df4, x='sumarizador', y='notacoesao', linestyles=' ')\n",
        "ax.set(ylim=(5, 10))"
      ],
      "execution_count": null,
      "outputs": [
        {
          "output_type": "execute_result",
          "data": {
            "text/plain": [
              "[(5.0, 10.0)]"
            ]
          },
          "metadata": {
            "tags": []
          },
          "execution_count": 35
        },
        {
          "output_type": "display_data",
          "data": {
            "image/png": "[encoded data removed]",
            "text/plain": [
              "<Figure size 432x288 with 1 Axes>"
            ]
          },
          "metadata": {
            "tags": [],
            "needs_background": "light"
          }
        }
      ]
    },
    {
      "cell_type": "code",
      "metadata": {
        "colab": {
          "base_uri": "https://localhost:8080/",
          "height": 279
        },
        "id": "2AbSvH8Rg_ea",
        "outputId": "32dfcfa2-15a9-4201-8ad1-b23a455ce789"
      },
      "source": [
        "#Desenhe um gráfico de caixa para mostrar as distribuições em relação às categorias.\n",
        "#Um gráfico de caixa (ou gráfico de caixa e bigode) mostra a distribuição de dados quantitativos de uma forma que facilita as comparações entre variáveis ​​ou \n",
        "#entre os níveis de uma variável categórica. A caixa mostra os quartis do conjunto de dados enquanto os bigodes se estendem para mostrar o resto da distribuição, \n",
        "#exceto para pontos que são determinados como “outliers” usando um método que é uma função do intervalo interquartil.\n",
        "ax = sns.boxplot(data=df4, x='sumarizador', y='notacoesao')"
      ],
      "execution_count": null,
      "outputs": [
        {
          "output_type": "display_data",
          "data": {
            "image/png": "[encoded data removed]",
            "text/plain": [
              "<Figure size 432x288 with 1 Axes>"
            ]
          },
          "metadata": {
            "tags": [],
            "needs_background": "light"
          }
        }
      ]
    },
    {
      "cell_type": "code",
      "metadata": {
        "colab": {
          "base_uri": "https://localhost:8080/"
        },
        "id": "_KwfBhMf2Pgd",
        "outputId": "5b26f1d9-e07c-4db2-8573-90176fa3dab5"
      },
      "source": [
        "Q1 = df4.loc[df4['sumarizador'] == 'Edmundson', 'notacoesao'].quantile(0.25) \n",
        "Q2 = df4.loc[df4['sumarizador'] == 'Edmundson', 'notacoesao'].quantile(0.50) \n",
        "Q3 = df4.loc[df4['sumarizador'] == 'Edmundson', 'notacoesao'].quantile(0.75) \n",
        "IQR = Q3 - Q1\n",
        "LI = Q1 - ( 1.5 * IQR)\n",
        "LS = Q3 + ( 1.5 * IQR)\n",
        "print(f'Q1 {Q1}, Q2 {Q2}, Q3 {Q3}, IQR {IQR}, LI {LI}, LS {LS}')"
      ],
      "execution_count": null,
      "outputs": [
        {
          "output_type": "stream",
          "text": [
            "Q1 6.0, Q2 8.0, Q3 9.0, IQR 3.0, LI 1.5, LS 13.5\n"
          ],
          "name": "stdout"
        }
      ]
    },
    {
      "cell_type": "code",
      "metadata": {
        "colab": {
          "base_uri": "https://localhost:8080/"
        },
        "id": "lCoUrxkV3I2c",
        "outputId": "b5dddce5-5c58-4425-afc1-cb36ca7c6930"
      },
      "source": [
        "Q1 = df4.loc[df4['sumarizador'] == 'Lsa', 'notacoesao'].quantile(0.25) \n",
        "Q2 = df4.loc[df4['sumarizador'] == 'Lsa', 'notacoesao'].quantile(0.50) \n",
        "Q3 = df4.loc[df4['sumarizador'] == 'Lsa', 'notacoesao'].quantile(0.75) \n",
        "IQR = Q3 - Q1\n",
        "LI = Q1 - ( 1.5 * IQR)\n",
        "LS = Q3 + ( 1.5 * IQR)\n",
        "print(f'Q1 {Q1}, Q2 {Q2}, Q3 {Q3}, IQR {IQR}, LI {LI}, LS {LS}')"
      ],
      "execution_count": null,
      "outputs": [
        {
          "output_type": "stream",
          "text": [
            "Q1 6.0, Q2 8.0, Q3 9.0, IQR 3.0, LI 1.5, LS 13.5\n"
          ],
          "name": "stdout"
        }
      ]
    },
    {
      "cell_type": "code",
      "metadata": {
        "colab": {
          "base_uri": "https://localhost:8080/"
        },
        "id": "iBH-BLRa25m2",
        "outputId": "cf2cefbf-b848-4933-f7de-ea3805a4c4a2"
      },
      "source": [
        "Q1 = df4.loc[df4['sumarizador'] == 'TextRank', 'notacoesao'].quantile(0.25) \n",
        "Q2 = df4.loc[df4['sumarizador'] == 'TextRank', 'notacoesao'].quantile(0.50) \n",
        "Q3 = df4.loc[df4['sumarizador'] == 'TextRank', 'notacoesao'].quantile(0.75) \n",
        "IQR = Q3 - Q1\n",
        "LI = Q1 - ( 1.5 * IQR)\n",
        "LS = Q3 + ( 1.5 * IQR)\n",
        "print(f'Q1 {Q1}, Q2 {Q2}, Q3 {Q3}, IQR {IQR}, LI {LI}, LS {LS}')"
      ],
      "execution_count": null,
      "outputs": [
        {
          "output_type": "stream",
          "text": [
            "Q1 5.0, Q2 7.0, Q3 9.0, IQR 4.0, LI -1.0, LS 15.0\n"
          ],
          "name": "stdout"
        }
      ]
    },
    {
      "cell_type": "code",
      "metadata": {
        "id": "05RWhvEN1JbW"
      },
      "source": [
        "Q1 = df4['notacoesao'].quantile(0.25)\n",
        "Q2 = df4['notacoesao'].quantile(0.50)\n",
        "Q3 = df4['notacoesao'].quantile(0.75)\n",
        "IQR = Q3 - Q1\n",
        "LI = Q1 - ( 1.5 * IQR)\n",
        "LS = Q3 + ( 1.5 * IQR)"
      ],
      "execution_count": null,
      "outputs": []
    },
    {
      "cell_type": "code",
      "metadata": {
        "colab": {
          "base_uri": "https://localhost:8080/"
        },
        "id": "tEf9xzlA1SQb",
        "outputId": "de293148-7fb9-4dcf-bf9c-0ba97efc3e0c"
      },
      "source": [
        "print(f'Q1 {Q1}, Q2 {Q2}, Q3 {Q3}, IQR {IQR}, LI {LI}, LS {LS}')"
      ],
      "execution_count": null,
      "outputs": [
        {
          "output_type": "stream",
          "text": [
            "Q1 6.0, Q2 8.0, Q3 9.0, IQR 3.0, LI 1.5, LS 13.5\n"
          ],
          "name": "stdout"
        }
      ]
    },
    {
      "cell_type": "code",
      "metadata": {
        "colab": {
          "base_uri": "https://localhost:8080/"
        },
        "id": "SmLmpQUkr4va",
        "outputId": "bd16bbb1-022b-429d-fef1-33b41b9c093d"
      },
      "source": [
        "#Mostra as notas médias de compreensão do texto por sumarizador\n",
        "#Mostre estimativas de pontos e intervalos de confiança como barras retangulares.#\n",
        "#Um gráfico de barra representa uma estimativa de tendência central para uma variável numérica com a altura de cada retângulo e fornece alguma indicação da incerteza em torno dessa estimativa usando barras de erro. \n",
        "#Os gráficos de barra incluem 0 no intervalo do eixo quantitativo e são uma boa escolha quando 0 é um valor significativo para a variável quantitativa e você deseja fazer comparações com ele.\n",
        "df4.groupby(\"sumarizador\").mean()['notacompreensao'].sort_values()"
      ],
      "execution_count": null,
      "outputs": [
        {
          "output_type": "execute_result",
          "data": {
            "text/plain": [
              "sumarizador\n",
              "TextRank     7.514493\n",
              "Lsa          7.531818\n",
              "Edmundson    8.126794\n",
              "Name: notacompreensao, dtype: float64"
            ]
          },
          "metadata": {
            "tags": []
          },
          "execution_count": 37
        }
      ]
    },
    {
      "cell_type": "code",
      "metadata": {
        "id": "eMojPg3jujkc"
      },
      "source": [
        "pd_options = pd.options.display # Objeto para configuração do ambiente: número de linhas, colunas, precisão e etc\n",
        "pd_options.max_rows = 200"
      ],
      "execution_count": null,
      "outputs": []
    },
    {
      "cell_type": "code",
      "metadata": {
        "colab": {
          "base_uri": "https://localhost:8080/"
        },
        "id": "yUE9KfaKt3xm",
        "outputId": "48287e1e-82bf-4965-d2e8-448be2ba6393"
      },
      "source": [
        "df4.groupby(['sumarizador', 'processo']).mean()['notacompreensao'].sort_values()"
      ],
      "execution_count": null,
      "outputs": [
        {
          "output_type": "execute_result",
          "data": {
            "text/plain": [
              "sumarizador  processo         \n",
              "TextRank     11610004310200716    2.666667\n",
              "Lsa          10283900221200951    3.222222\n",
              "TextRank     10880904190200897    3.250000\n",
              "Lsa          10980913216200941    4.000000\n",
              "             15467000524200937    4.000000\n",
              "TextRank     10980924270200911    4.000000\n",
              "Edmundson    18471001510200455    4.400000\n",
              "TextRank     10510723190201444    4.500000\n",
              "             10882903439200827    4.500000\n",
              "Lsa          16682900843201004    5.235294\n",
              "TextRank     10675000307200544    5.333333\n",
              "Lsa          13531000261200677    5.588235\n",
              "             10680723052200946    5.750000\n",
              "TextRank     13047720112201661    5.777778\n",
              "Edmundson    10680902614201564    5.800000\n",
              "             16682900843201004    5.833333\n",
              "             10980005943200771    5.857143\n",
              "TextRank     10980005943200771    5.888889\n",
              "Lsa          13047720112201661    5.941176\n",
              "TextRank     10675903185200973    6.000000\n",
              "Lsa          18471001510200455    6.083333\n",
              "TextRank     10675903184200929    6.166667\n",
              "Edmundson    13047720112201661    6.166667\n",
              "Lsa          10675000307200544    6.250000\n",
              "TextRank     10280720288200852    6.250000\n",
              "Lsa          16327902857200960    6.333333\n",
              "Edmundson    10280720288200852    6.428571\n",
              "TextRank     16151000450200874    6.454545\n",
              "             10166900016200921    6.500000\n",
              "             11030902589200998    6.571429\n",
              "Edmundson    10283900221200951    6.714286\n",
              "Lsa          10880973302200931    6.750000\n",
              "TextRank     10680723052200946    6.769231\n",
              "Lsa          11030902589200998    7.000000\n",
              "             10380902416200856    7.000000\n",
              "Edmundson    10680724496201113    7.000000\n",
              "TextRank     10830909150200827    7.000000\n",
              "             13808003852200102    7.125000\n",
              "             10675903195200917    7.142857\n",
              "Edmundson    10680723052200946    7.166667\n",
              "Lsa          10680724496201113    7.187500\n",
              "             10835900005200831    7.250000\n",
              "             10510723190201444    7.285714\n",
              "TextRank     18471001510200455    7.285714\n",
              "Edmundson    13531000261200677    7.300000\n",
              "TextRank     10980913216200941    7.333333\n",
              "Lsa          14120000055200823    7.333333\n",
              "TextRank     13941000265200712    7.500000\n",
              "             16682900843201004    7.545455\n",
              "Lsa          16327902852200937    7.555556\n",
              "TextRank     16327902852200937    7.562500\n",
              "Lsa          10880693174200944    7.571429\n",
              "Edmundson    13808003852200102    7.600000\n",
              "             10070000947200644    7.625000\n",
              "             10510723190201444    7.636364\n",
              "Lsa          10680906701200942    7.666667\n",
              "Edmundson    10830909150200827    7.666667\n",
              "             13941000265200712    7.733333\n",
              "TextRank     16327902857200960    7.750000\n",
              "             14120000055200823    7.800000\n",
              "Edmundson    10680906701200942    7.857143\n",
              "             10840001465200643    7.866667\n",
              "             11080730129201512    7.875000\n",
              "Lsa          10840001465200643    7.875000\n",
              "Edmundson    10675000307200544    7.875000\n",
              "TextRank     12448729542201825    7.875000\n",
              "Edmundson    11030902589200998    7.909091\n",
              "TextRank     10680906701200942    7.909091\n",
              "Lsa          10880910301200802    7.913043\n",
              "TextRank     13819900031200693    7.928571\n",
              "Lsa          10240001879200712    7.928571\n",
              "Edmundson    16327902857200960    8.000000\n",
              "Lsa          10680906700200906    8.000000\n",
              "             13819900031200693    8.000000\n",
              "TextRank     10680906700200906    8.000000\n",
              "Lsa          10675903195200917    8.000000\n",
              "Edmundson    10882903439200827    8.076923\n",
              "Lsa          10280720288200852    8.133333\n",
              "             10882903439200827    8.142857\n",
              "Edmundson    10835900005200831    8.166667\n",
              "Lsa          13808003852200102    8.176471\n",
              "TextRank     15467000524200937    8.181818\n",
              "Edmundson    10580727100201207    8.181818\n",
              "TextRank     10070000947200644    8.181818\n",
              "             10283900221200951    8.181818\n",
              "Lsa          12448729542201825    8.285714\n",
              "TextRank     10880920090200999    8.333333\n",
              "Edmundson    10380903442200982    8.333333\n",
              "             10680906700200906    8.333333\n",
              "Lsa          10580727100201207    8.333333\n",
              "             10680902614201564    8.388889\n",
              "Edmundson    16327902852200937    8.400000\n",
              "Lsa          10070000947200644    8.411765\n",
              "TextRank     10835900005200831    8.444444\n",
              "Edmundson    13819900031200693    8.500000\n",
              "             10675903195200917    8.500000\n",
              "Lsa          10880920090200999    8.500000\n",
              "             10980924270200911    8.500000\n",
              "Edmundson    14120000055200823    8.571429\n",
              "TextRank     10680902614201564    8.600000\n",
              "Lsa          10166900016200921    8.625000\n",
              "Edmundson    12448729542201825    8.625000\n",
              "TextRank     10380903442200982    8.666667\n",
              "Edmundson    10880904190200897    8.666667\n",
              "             15467000524200937    8.666667\n",
              "TextRank     10880973302200931    8.692308\n",
              "Lsa          10880904190200897    8.714286\n",
              "TextRank     10680724496201113    8.714286\n",
              "             10480914404200927    8.750000\n",
              "Lsa          11080730129201512    8.750000\n",
              "Edmundson    10166900016200921    8.750000\n",
              "TextRank     10880910301200802    8.750000\n",
              "Lsa          13941000265200712    8.777778\n",
              "             10675903185200973    8.800000\n",
              "TextRank     10580727100201207    8.800000\n",
              "             10850902764200921    8.846154\n",
              "Edmundson    10240001879200712    8.857143\n",
              "             10980913216200941    8.875000\n",
              "             10980924270200911    8.909091\n",
              "             10675903184200929    9.000000\n",
              "             10675903185200973    9.000000\n",
              "Lsa          10480914404200927    9.000000\n",
              "TextRank     10840001465200643    9.000000\n",
              "Lsa          10675903184200929    9.000000\n",
              "Edmundson    10880973302200931    9.000000\n",
              "             10480914404200927    9.000000\n",
              "TextRank     10380902416200856    9.000000\n",
              "             10880693174200944    9.000000\n",
              "Edmundson    16151000450200874    9.000000\n",
              "             11610004310200716    9.076923\n",
              "Lsa          10980005943200771    9.090909\n",
              "Edmundson    10880920090200999    9.100000\n",
              "TextRank     10240001879200712    9.142857\n",
              "Edmundson    10880910301200802    9.200000\n",
              "             10880693174200944    9.250000\n",
              "Lsa          10380903442200982    9.250000\n",
              "Edmundson    10380902416200856    9.285714\n",
              "Lsa          11610004310200716    9.285714\n",
              "             10830909150200827    9.285714\n",
              "Edmundson    10850902764200921    9.285714\n",
              "TextRank     11080730129201512    9.333333\n",
              "Lsa          16151000450200874    9.437500\n",
              "             10850902764200921    9.500000\n",
              "TextRank     13531000261200677    9.750000\n",
              "Name: notacompreensao, dtype: float64"
            ]
          },
          "metadata": {
            "tags": []
          },
          "execution_count": 37
        }
      ]
    },
    {
      "cell_type": "code",
      "metadata": {
        "colab": {
          "base_uri": "https://localhost:8080/",
          "height": 345
        },
        "id": "RgO7mkzCsBP7",
        "outputId": "4537f8ae-1f25-4160-a359-38135d9d4261"
      },
      "source": [
        "df4.groupby(\"sumarizador\").mean()['notacompreensao'].sort_values().plot.bar()"
      ],
      "execution_count": null,
      "outputs": [
        {
          "output_type": "execute_result",
          "data": {
            "text/plain": [
              "<matplotlib.axes._subplots.AxesSubplot at 0x7f9bce694090>"
            ]
          },
          "metadata": {
            "tags": []
          },
          "execution_count": 38
        },
        {
          "output_type": "display_data",
          "data": {
            "image/png": "[encoded data removed]",
            "text/plain": [
              "<Figure size 432x288 with 1 Axes>"
            ]
          },
          "metadata": {
            "tags": [],
            "needs_background": "light"
          }
        }
      ]
    },
    {
      "cell_type": "code",
      "metadata": {
        "colab": {
          "base_uri": "https://localhost:8080/",
          "height": 300
        },
        "id": "2HsCrYWIBUQr",
        "outputId": "2e53dbf8-0ee7-43e6-f6eb-9f719422c292"
      },
      "source": [
        "#Mostre estimativas de pontos e intervalos de confiança usando glifos de gráfico de dispersão.\n",
        "#Um gráfico de pontos representa uma estimativa da tendência central para uma variável numérica pela posição dos pontos do gráfico de dispersão e \n",
        "#fornece alguma indicação da incerteza em torno dessa estimativa usando barras de erro.\n",
        "ax = sns.pointplot(data=df4, x='sumarizador', y='notacompreensao', linestyles=' ')\n",
        "ax.set(ylim=(5, 10))"
      ],
      "execution_count": null,
      "outputs": [
        {
          "output_type": "execute_result",
          "data": {
            "text/plain": [
              "[(5.0, 10.0)]"
            ]
          },
          "metadata": {
            "tags": []
          },
          "execution_count": 39
        },
        {
          "output_type": "display_data",
          "data": {
            "image/png": "[encoded data removed]",
            "text/plain": [
              "<Figure size 432x288 with 1 Axes>"
            ]
          },
          "metadata": {
            "tags": [],
            "needs_background": "light"
          }
        }
      ]
    },
    {
      "cell_type": "code",
      "metadata": {
        "colab": {
          "base_uri": "https://localhost:8080/",
          "height": 610
        },
        "id": "x6LcnN3gsule",
        "outputId": "0168553d-1942-45ed-d225-9a0f74c31489"
      },
      "source": [
        "plt.rcParams['figure.figsize']=10,10\n",
        "sns.set_theme(style=\"darkgrid\")\n",
        "df4[\"nome\"].value_counts(ascending=True).plot.barh()\n",
        "plt.title(\"Julgadores\") \n",
        "plt.rcParams['figure.figsize']=6,5"
      ],
      "execution_count": null,
      "outputs": [
        {
          "output_type": "display_data",
          "data": {
            "image/png": "[encoded data removed]",
            "text/plain": [
              "<Figure size 720x720 with 1 Axes>"
            ]
          },
          "metadata": {
            "tags": []
          }
        }
      ]
    },
    {
      "cell_type": "code",
      "metadata": {
        "colab": {
          "base_uri": "https://localhost:8080/",
          "height": 338
        },
        "id": "MB6aR3XMtSQm",
        "outputId": "fe6e0f89-f942-42d5-dec1-2cf8d6903423"
      },
      "source": [
        "sns.set_context('paper', font_scale=2)\n",
        "sns.set_theme(style=\"darkgrid\")\n",
        "ax = df4[\"sumarizador\"].value_counts().plot.barh()\n",
        "plt.title(\"Questionários respondidos\") \n",
        "plt.show()"
      ],
      "execution_count": null,
      "outputs": [
        {
          "output_type": "display_data",
          "data": {
            "image/png": "[encoded data removed]",
            "text/plain": [
              "<Figure size 432x360 with 1 Axes>"
            ]
          },
          "metadata": {
            "tags": []
          }
        }
      ]
    },
    {
      "cell_type": "code",
      "metadata": {
        "colab": {
          "base_uri": "https://localhost:8080/",
          "height": 410
        },
        "id": "o_ySZckFwKdR",
        "outputId": "ffe3f151-3a08-466f-f6a9-d108b826a75b"
      },
      "source": [
        "#Gráfico de barras com a distribuição dos acertos em assunto. Fiz cálculos para obter o percentual de acerto e erro em relação ao total e colocar na mesma barra o resultado com a visão percentual.\n",
        "sns.set_context(font_scale=1.1)\n",
        "plt.rcParams['figure.figsize']=6,5\n",
        "agrupado = df4.groupby(['sumarizador', 'acertou_assunto']).size().reset_index().pivot(columns='acertou_assunto', index='sumarizador', values=0)\n",
        "ax = (agrupado/agrupado.sum(axis=1).values.reshape(3,1)).plot(kind='bar', stacked=True)\n",
        "plt.legend(bbox_to_anchor=(1.01, 1),borderaxespad=0)\n",
        "plt.title(\"Distribuição dos acertos de assunto\") \n",
        "plt.show()"
      ],
      "execution_count": null,
      "outputs": [
        {
          "output_type": "display_data",
          "data": {
            "image/png": "[encoded data removed]",
            "text/plain": [
              "<Figure size 432x360 with 1 Axes>"
            ]
          },
          "metadata": {
            "tags": []
          }
        }
      ]
    },
    {
      "cell_type": "code",
      "metadata": {
        "colab": {
          "base_uri": "https://localhost:8080/",
          "height": 371
        },
        "id": "Y7Kuxn6Ya8vF",
        "outputId": "33bee39c-a1dc-4b68-e67c-7a0a4d64894d"
      },
      "source": [
        "#Gráfico de barras com a distribuição dos acertos em assunto. Fiz cálculos para obter o percentual de acerto e erro em relação ao total e colocar na mesma barra o resultado com a visão percentual.\n",
        "sns.set_context(font_scale=1.1)\n",
        "plt.rcParams['figure.figsize']=6,5\n",
        "agrupado = df4.groupby(['assunto_alvo', 'acertou_assunto']).size().reset_index().pivot(columns='acertou_assunto', index='assunto_alvo', values=0)\n",
        "ax = (agrupado/agrupado.sum(axis=1).values.reshape(4,1)).plot(kind='bar', stacked=True)\n",
        "plt.legend(bbox_to_anchor=(1.01, 1),borderaxespad=0)\n",
        "plt.title(\"Distribuição dos acertos de assunto\") \n",
        "plt.show()"
      ],
      "execution_count": null,
      "outputs": [
        {
          "output_type": "display_data",
          "data": {
            "image/png": "[encoded data removed]",
            "text/plain": [
              "<Figure size 432x360 with 1 Axes>"
            ]
          },
          "metadata": {
            "tags": []
          }
        }
      ]
    },
    {
      "cell_type": "code",
      "metadata": {
        "colab": {
          "base_uri": "https://localhost:8080/"
        },
        "id": "ODpXKhKNhhan",
        "outputId": "3b4d6585-c5d2-4232-8b67-9da06a304aec"
      },
      "source": [
        "df4.assunto_alvo.value_counts()"
      ],
      "execution_count": null,
      "outputs": [
        {
          "output_type": "execute_result",
          "data": {
            "text/plain": [
              "irpf    351\n",
              "paf     316\n",
              "irpj    304\n",
              "ngdt    301\n",
              "Name: assunto_alvo, dtype: int64"
            ]
          },
          "metadata": {
            "tags": []
          },
          "execution_count": 81
        }
      ]
    },
    {
      "cell_type": "code",
      "metadata": {
        "colab": {
          "base_uri": "https://localhost:8080/"
        },
        "id": "UZmuL2OyhzSN",
        "outputId": "92fe718b-a1d0-44d1-c77f-39f091cc98f3"
      },
      "source": [
        "df4.acertou_assunto.value_counts()"
      ],
      "execution_count": null,
      "outputs": [
        {
          "output_type": "execute_result",
          "data": {
            "text/plain": [
              "sim    679\n",
              "não    593\n",
              "Name: acertou_assunto, dtype: int64"
            ]
          },
          "metadata": {
            "tags": []
          },
          "execution_count": 84
        }
      ]
    },
    {
      "cell_type": "code",
      "metadata": {
        "id": "JfnZG3_sfmG-"
      },
      "source": [
        "assunto_resultado_pesquisa = df4.iloc[:, 7].values\n",
        "lista_assunto_alvo = df4.iloc[:, 3].values\n",
        "rotulos_plt_alvo = list(set(df4.iloc[:, 3].values))"
      ],
      "execution_count": null,
      "outputs": []
    },
    {
      "cell_type": "code",
      "metadata": {
        "colab": {
          "base_uri": "https://localhost:8080/",
          "height": 339
        },
        "id": "1EglpATodFMJ",
        "outputId": "ff02d5f5-9553-46f4-a9e1-d4e4d398c568"
      },
      "source": [
        "#matriza de confusão sobre acertos de assunto segmentados por assunto\n",
        "conf_mat_nb = confusion_matrix(lista_assunto_alvo, assunto_resultado_pesquisa, rotulos_plt_alvo)\n",
        "fig, ax = plt.subplots(figsize=(5,5))\n",
        "sns.heatmap(conf_mat_nb, annot=True, fmt='d',\n",
        "            xticklabels=rotulos_plt_alvo, yticklabels=rotulos_plt_alvo)\n",
        "plt.ylabel('Verdade')\n",
        "plt.xlabel('Previsão')\n",
        "plt.show()"
      ],
      "execution_count": null,
      "outputs": [
        {
          "output_type": "display_data",
          "data": {
            "image/png": "[encoded data removed]",
            "text/plain": [
              "<Figure size 360x360 with 2 Axes>"
            ]
          },
          "metadata": {
            "tags": []
          }
        }
      ]
    },
    {
      "cell_type": "code",
      "metadata": {
        "colab": {
          "base_uri": "https://localhost:8080/",
          "height": 410
        },
        "id": "TyGR5Z5PyVNn",
        "outputId": "8233da38-6852-48c0-d3ce-f349f03097fa"
      },
      "source": [
        "#Gráfico de barras com a distribuição dos acertos em resultado. Fiz cálculos para obter o percentual de acerto e erro em relação ao total e colocar na mesma barra o resultado com a visão percentual.\n",
        "sns.set_context(font_scale=1.1)\n",
        "plt.rcParams['figure.figsize']=6,5\n",
        "agrupado = df4.groupby(['sumarizador', 'acertou_resultado']).size().reset_index().pivot(columns='acertou_resultado', index='sumarizador', values=0)\n",
        "ax = (agrupado/agrupado.sum(axis=1).values.reshape(3,1)).plot(kind='bar', stacked=True)\n",
        "plt.legend(bbox_to_anchor=(1.01, 1),borderaxespad=0)\n",
        "plt.title(\"Distribuição dos acertos de resultado\") \n",
        "plt.show()"
      ],
      "execution_count": null,
      "outputs": [
        {
          "output_type": "display_data",
          "data": {
            "image/png": "[encoded data removed]",
            "text/plain": [
              "<Figure size 432x360 with 1 Axes>"
            ]
          },
          "metadata": {
            "tags": []
          }
        }
      ]
    },
    {
      "cell_type": "markdown",
      "metadata": {
        "id": "AGaurvRZnALT"
      },
      "source": [
        "#Verificar acertos em assunto a partir da leitura dos resumos"
      ]
    },
    {
      "cell_type": "code",
      "metadata": {
        "id": "d-Lx3LdADGDK"
      },
      "source": [
        "#Matriz de confusão Edmundson\n",
        "assunto_resultado_pesquisa = df4.loc[df4['sumarizador'] == 'Edmundson'].assunto \n",
        "lista_assunto_alvo = df4.loc[df4['sumarizador'] == 'Edmundson'].assunto_alvo\n",
        "rotulos_plt_alvo = df4.loc[df4['sumarizador'] == 'Edmundson'].assunto_alvo.unique()\n",
        "rotulos_plt_alvo = np.append(rotulos_plt_alvo, 'Não sei')\n",
        "rotulos_plt_pesquisa = df4.loc[df4['sumarizador'] == 'Edmundson'].assunto.unique()"
      ],
      "execution_count": null,
      "outputs": []
    },
    {
      "cell_type": "code",
      "metadata": {
        "colab": {
          "base_uri": "https://localhost:8080/",
          "height": 338
        },
        "id": "SD4Q9ZUADe5c",
        "outputId": "67a7babf-e582-47ea-f9bd-be6af1493875"
      },
      "source": [
        "conf_mat_nb = confusion_matrix(lista_assunto_alvo, assunto_resultado_pesquisa, rotulos_plt_alvo)\n",
        "fig, ax = plt.subplots(figsize=(5,5))\n",
        "sns.heatmap(conf_mat_nb, annot=True, fmt='d',\n",
        "            xticklabels=rotulos_plt_alvo, yticklabels=rotulos_plt_alvo)\n",
        "plt.ylabel('Verdade')\n",
        "plt.xlabel('Previsão')\n",
        "plt.show()"
      ],
      "execution_count": null,
      "outputs": [
        {
          "output_type": "display_data",
          "data": {
            "image/png": "[encoded data removed]",
            "text/plain": [
              "<Figure size 360x360 with 2 Axes>"
            ]
          },
          "metadata": {
            "tags": []
          }
        }
      ]
    },
    {
      "cell_type": "code",
      "metadata": {
        "id": "EW3iJvUXTMYB"
      },
      "source": [
        "#Matriz de confusão Lsa\n",
        "assunto_resultado_pesquisa = df4.loc[df4['sumarizador'] == 'Lsa'].assunto \n",
        "lista_assunto_alvo = df4.loc[df4['sumarizador'] == 'Lsa'].assunto_alvo\n",
        "rotulos_plt_alvo = df4.loc[df4['sumarizador'] == 'Lsa'].assunto_alvo.unique()\n",
        "rotulos_plt_alvo = np.append(rotulos_plt_alvo, 'Não sei')\n",
        "rotulos_plt_pesquisa = df4.loc[df4['sumarizador'] == 'Lsa'].assunto.unique()"
      ],
      "execution_count": null,
      "outputs": []
    },
    {
      "cell_type": "code",
      "metadata": {
        "colab": {
          "base_uri": "https://localhost:8080/",
          "height": 338
        },
        "id": "ssf75UdlTMYM",
        "outputId": "0d00d3b7-f9fb-4aa8-f7b8-4717e5221a0e"
      },
      "source": [
        "conf_mat_nb = confusion_matrix(lista_assunto_alvo, assunto_resultado_pesquisa, rotulos_plt_alvo)\n",
        "fig, ax = plt.subplots(figsize=(5,5))\n",
        "sns.heatmap(conf_mat_nb, annot=True, fmt='d',\n",
        "            xticklabels=rotulos_plt_alvo, yticklabels=rotulos_plt_alvo)\n",
        "plt.ylabel('Verdade')\n",
        "plt.xlabel('Previsão')\n",
        "plt.show()"
      ],
      "execution_count": null,
      "outputs": [
        {
          "output_type": "display_data",
          "data": {
            "image/png": "[encoded data removed]",
            "text/plain": [
              "<Figure size 360x360 with 2 Axes>"
            ]
          },
          "metadata": {
            "tags": []
          }
        }
      ]
    },
    {
      "cell_type": "code",
      "metadata": {
        "id": "I4EfcZTLTM1g"
      },
      "source": [
        "#Matriz de confusão TextRank\n",
        "assunto_resultado_pesquisa = df4.loc[df4['sumarizador'] == 'TextRank'].assunto \n",
        "lista_assunto_alvo = df4.loc[df4['sumarizador'] == 'TextRank'].assunto_alvo\n",
        "rotulos_plt_alvo = df4.loc[df4['sumarizador'] == 'TextRank'].assunto_alvo.unique()\n",
        "rotulos_plt_alvo = np.append(rotulos_plt_alvo, 'Não sei')\n",
        "rotulos_plt_pesquisa = df4.loc[df4['sumarizador'] == 'TextRank'].assunto.unique()"
      ],
      "execution_count": null,
      "outputs": []
    },
    {
      "cell_type": "code",
      "metadata": {
        "colab": {
          "base_uri": "https://localhost:8080/",
          "height": 338
        },
        "id": "5YsaY7zmTM1h",
        "outputId": "22efa81b-8b72-4ebd-ec8a-25e36bcc3bed"
      },
      "source": [
        "conf_mat_nb = confusion_matrix(lista_assunto_alvo, assunto_resultado_pesquisa, rotulos_plt_alvo)\n",
        "fig, ax = plt.subplots(figsize=(5,5))\n",
        "sns.heatmap(conf_mat_nb, annot=True, fmt='d',\n",
        "            xticklabels=rotulos_plt_alvo, yticklabels=rotulos_plt_alvo)\n",
        "plt.ylabel('Verdade')\n",
        "plt.xlabel('Previsão')\n",
        "plt.show()"
      ],
      "execution_count": null,
      "outputs": [
        {
          "output_type": "display_data",
          "data": {
            "image/png": "[encoded data removed]",
            "text/plain": [
              "<Figure size 360x360 with 2 Axes>"
            ]
          },
          "metadata": {
            "tags": []
          }
        }
      ]
    },
    {
      "cell_type": "code",
      "metadata": {
        "colab": {
          "base_uri": "https://localhost:8080/"
        },
        "id": "EzXyeZcMC9ia",
        "outputId": "11d5da4a-7e79-40fd-d0d2-2060c0e4cb1a"
      },
      "source": [
        "df4.loc[df4['sumarizador'] == 'Edmundson'].acertou_assunto.value_counts()"
      ],
      "execution_count": null,
      "outputs": [
        {
          "output_type": "execute_result",
          "data": {
            "text/plain": [
              "sim    234\n",
              "não    184\n",
              "Name: acertou_assunto, dtype: int64"
            ]
          },
          "metadata": {
            "tags": []
          },
          "execution_count": 69
        }
      ]
    },
    {
      "cell_type": "code",
      "metadata": {
        "colab": {
          "base_uri": "https://localhost:8080/"
        },
        "id": "Kv-Xy23YE1qr",
        "outputId": "1b1f2797-7510-4974-9b5a-e40c82b3833e"
      },
      "source": [
        "#Calculei o percentual de acerto de assunto, ou seja, a acurácia\n",
        "total_acertos_E = df4.loc[df4['sumarizador'] == 'Edmundson'].acertou_assunto.value_counts()[0] \n",
        "total_tentativas_E = df4.loc[df4['sumarizador'] == 'Edmundson'].acertou_assunto.value_counts()[0] + df4.loc[df4['sumarizador'] == 'Edmundson'].acertou_assunto.value_counts()[1]\n",
        "percentual_acertos_E = total_acertos_E / total_tentativas_E\n",
        "print(f'Percentual de acertos de assunto para os julgadores que leram o resumo Edmundson: em {total_tentativas_E} tentativas, acerto de {total_acertos_E}, ou {percentual_acertos_E:.2%}')\n",
        "\n",
        "total_acertos_L = df4.loc[df4['sumarizador'] == 'Lsa'].acertou_assunto.value_counts()[0] \n",
        "total_tentativas_L = df4.loc[df4['sumarizador'] == 'Lsa'].acertou_assunto.value_counts()[0] + df4.loc[df4['sumarizador'] == 'Lsa'].acertou_assunto.value_counts()[1]\n",
        "percentual_acertos_L = total_acertos_L / total_tentativas_L\n",
        "print(f'Percentual de acertos de assunto para os julgadores que leram o resumo Lsa: em {total_tentativas_L} tentativas, acerto de {total_acertos_L}, ou {percentual_acertos_L:.2%}')\n",
        "\n",
        "total_acertos_T = df4.loc[df4['sumarizador'] == 'TextRank'].acertou_assunto.value_counts()[0] \n",
        "total_tentativas_T = df4.loc[df4['sumarizador'] == 'TextRank'].acertou_assunto.value_counts()[0] + df4.loc[df4['sumarizador'] == 'TextRank'].acertou_assunto.value_counts()[1]\n",
        "percentual_acertos_T = total_acertos_T / total_tentativas_T\n",
        "print(f'Percentual de acertos de assunto para os julgadores que leram o resumo TextRank: em {total_tentativas_T} tentativas, acerto de {total_acertos_T}, ou {percentual_acertos_T:.2%}')"
      ],
      "execution_count": null,
      "outputs": [
        {
          "output_type": "stream",
          "text": [
            "Percentual de acertos de assunto para os julgadores que leram o resumo Edmundson: em 418 tentativas, acerto de 234, ou 55.98%\n",
            "Percentual de acertos de assunto para os julgadores que leram o resumo Lsa: em 440 tentativas, acerto de 238, ou 54.09%\n",
            "Percentual de acertos de assunto para os julgadores que leram o resumo TextRank: em 414 tentativas, acerto de 207, ou 50.00%\n"
          ],
          "name": "stdout"
        }
      ]
    },
    {
      "cell_type": "markdown",
      "metadata": {
        "id": "LblyCV9YmwJb"
      },
      "source": [
        "#Verificar acertos em resultado a partir da leitura dos resumos"
      ]
    },
    {
      "cell_type": "code",
      "metadata": {
        "id": "Eg7znKFRnGs7"
      },
      "source": [
        "#Matriz de confusão Edmundson \n",
        "resultado_resultado_pesquisa = df4.loc[df4['sumarizador'] == 'Edmundson'].resultado\n",
        "lista_resultado_alvo = df4.loc[df4['sumarizador'] == 'Edmundson'].resultado_alvo\n",
        "rotulos_plt_alvo = df4.loc[df4['sumarizador'] == 'Edmundson'].resultado_alvo.unique()\n",
        "rotulos_plt_alvo = np.append(rotulos_plt_alvo, 'Não sei')\n",
        "rotulos_plt_pesquisa = df4.loc[df4['sumarizador'] == 'Edmundson'].resultado.unique()"
      ],
      "execution_count": null,
      "outputs": []
    },
    {
      "cell_type": "code",
      "metadata": {
        "colab": {
          "base_uri": "https://localhost:8080/",
          "height": 530
        },
        "id": "tkRhdtTunGs8",
        "outputId": "a8be11ac-86fd-4702-8ff4-9d7b086a7c09"
      },
      "source": [
        "conf_mat_nb = confusion_matrix(lista_resultado_alvo, resultado_resultado_pesquisa, rotulos_plt_alvo)\n",
        "fig, ax = plt.subplots(figsize=(5,5))\n",
        "sns.heatmap(conf_mat_nb, annot=True, fmt='d',\n",
        "            xticklabels=rotulos_plt_alvo, yticklabels=rotulos_plt_alvo)\n",
        "plt.ylabel('Verdade')\n",
        "plt.xlabel('Previsão')\n",
        "plt.show()"
      ],
      "execution_count": null,
      "outputs": [
        {
          "output_type": "display_data",
          "data": {
            "image/png": "[encoded data removed]",
            "text/plain": [
              "<Figure size 360x360 with 2 Axes>"
            ]
          },
          "metadata": {
            "tags": []
          }
        }
      ]
    },
    {
      "cell_type": "code",
      "metadata": {
        "id": "ck3S0xwBnGs9"
      },
      "source": [
        "#Matriz de confusão Lsa\n",
        "resultado_resultado_pesquisa = df4.loc[df4['sumarizador'] == 'Lsa'].resultado\n",
        "lista_resultado_alvo = df4.loc[df4['sumarizador'] == 'Lsa'].resultado_alvo\n",
        "rotulos_plt_alvo = df4.loc[df4['sumarizador'] == 'Lsa'].resultado_alvo.unique()\n",
        "rotulos_plt_alvo = np.append(rotulos_plt_alvo, 'Não sei')\n",
        "rotulos_plt_pesquisa = df4.loc[df4['sumarizador'] == 'Lsa'].resultado.unique()"
      ],
      "execution_count": null,
      "outputs": []
    },
    {
      "cell_type": "code",
      "metadata": {
        "colab": {
          "base_uri": "https://localhost:8080/",
          "height": 530
        },
        "id": "W1kU_1qDnGs9",
        "outputId": "c8ff0ab9-c1b4-4544-849d-6f9887d2ef30"
      },
      "source": [
        "conf_mat_nb = confusion_matrix(lista_resultado_alvo, resultado_resultado_pesquisa, rotulos_plt_alvo)\n",
        "fig, ax = plt.subplots(figsize=(5,5))\n",
        "sns.heatmap(conf_mat_nb, annot=True, fmt='d',\n",
        "            xticklabels=rotulos_plt_alvo, yticklabels=rotulos_plt_alvo)\n",
        "plt.ylabel('Verdade')\n",
        "plt.xlabel('Previsão')\n",
        "plt.show()"
      ],
      "execution_count": null,
      "outputs": [
        {
          "output_type": "display_data",
          "data": {
            "image/png": "[encoded data removed]",
            "text/plain": [
              "<Figure size 360x360 with 2 Axes>"
            ]
          },
          "metadata": {
            "tags": []
          }
        }
      ]
    },
    {
      "cell_type": "code",
      "metadata": {
        "id": "VbJf_V00nGs9"
      },
      "source": [
        "#Matriz de confusão TextRank\n",
        "resultado_resultado_pesquisa = df4.loc[df4['sumarizador'] == 'TextRank'].resultado\n",
        "lista_resultado_alvo = df4.loc[df4['sumarizador'] == 'TextRank'].resultado_alvo\n",
        "rotulos_plt_alvo = df4.loc[df4['sumarizador'] == 'TextRank'].resultado_alvo.unique()\n",
        "rotulos_plt_alvo = np.append(rotulos_plt_alvo, 'Não sei')\n",
        "rotulos_plt_pesquisa = df4.loc[df4['sumarizador'] == 'TextRank'].resultado.unique()"
      ],
      "execution_count": null,
      "outputs": []
    },
    {
      "cell_type": "code",
      "metadata": {
        "colab": {
          "base_uri": "https://localhost:8080/",
          "height": 530
        },
        "id": "OkXfaPNBnGs-",
        "outputId": "430c374e-9bd6-4e79-b74b-489ae718687e"
      },
      "source": [
        "conf_mat_nb = confusion_matrix(lista_resultado_alvo, resultado_resultado_pesquisa, rotulos_plt_alvo)\n",
        "fig, ax = plt.subplots(figsize=(5,5))\n",
        "sns.heatmap(conf_mat_nb, annot=True, fmt='d',\n",
        "            xticklabels=rotulos_plt_alvo, yticklabels=rotulos_plt_alvo)\n",
        "plt.ylabel('Verdade')\n",
        "plt.xlabel('Previsão')\n",
        "plt.show()"
      ],
      "execution_count": null,
      "outputs": [
        {
          "output_type": "display_data",
          "data": {
            "image/png": "[encoded data removed]",
            "text/plain": [
              "<Figure size 360x360 with 2 Axes>"
            ]
          },
          "metadata": {
            "tags": []
          }
        }
      ]
    },
    {
      "cell_type": "code",
      "metadata": {
        "colab": {
          "base_uri": "https://localhost:8080/"
        },
        "id": "Xm-kZ0u6nGs-",
        "outputId": "8a46370c-9f95-46a3-da15-159afc07d2e9"
      },
      "source": [
        "total_acertos_E = df4.loc[df4['sumarizador'] == 'Edmundson'].acertou_resultado.value_counts()[0] \n",
        "total_tentativas_E = df4.loc[df4['sumarizador'] == 'Edmundson'].acertou_resultado.value_counts()[0] + df4.loc[df4['sumarizador'] == 'Edmundson'].acertou_resultado.value_counts()[1]\n",
        "percentual_acertos_E = total_acertos_E / total_tentativas_E\n",
        "print(f'Percentual de acertos de resultado para os julgadores que leram o resumo Edmundson: em {total_tentativas_E} tentativas, acerto de {total_acertos_E}, ou {percentual_acertos_E:.2%}')\n",
        "\n",
        "total_acertos_L = df4.loc[df4['sumarizador'] == 'Lsa'].acertou_resultado.value_counts()[0] \n",
        "total_tentativas_L = df4.loc[df4['sumarizador'] == 'Lsa'].acertou_resultado.value_counts()[0] + df4.loc[df4['sumarizador'] == 'Lsa'].acertou_resultado.value_counts()[1]\n",
        "percentual_acertos_L = total_acertos_L / total_tentativas_L\n",
        "print(f'Percentual de acertos de resultado para os julgadores que leram o resumo Lsa: em {total_tentativas_L} tentativas, acerto de {total_acertos_L}, ou {percentual_acertos_L:.2%}')\n",
        "\n",
        "total_acertos_T = df4.loc[df4['sumarizador'] == 'TextRank'].acertou_resultado.value_counts()[0] \n",
        "total_tentativas_T = df4.loc[df4['sumarizador'] == 'TextRank'].acertou_resultado.value_counts()[0] + df4.loc[df4['sumarizador'] == 'TextRank'].acertou_resultado.value_counts()[1]\n",
        "percentual_acertos_T = total_acertos_T / total_tentativas_T\n",
        "print(f'Percentual de acertos de resultado para os julgadores que leram o resumo TextRank: em {total_tentativas_T} tentativas, acerto de {total_acertos_T}, ou {percentual_acertos_T:.2%}')"
      ],
      "execution_count": null,
      "outputs": [
        {
          "output_type": "stream",
          "text": [
            "Percentual de acertos de resultado para os julgadores que leram o resumo Edmundson: em 418 tentativas, acerto de 392, ou 93.78%\n",
            "Percentual de acertos de resultado para os julgadores que leram o resumo Lsa: em 440 tentativas, acerto de 359, ou 81.59%\n",
            "Percentual de acertos de resultado para os julgadores que leram o resumo TextRank: em 414 tentativas, acerto de 308, ou 74.40%\n"
          ],
          "name": "stdout"
        }
      ]
    }
  ]
}