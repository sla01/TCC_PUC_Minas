{
  "nbformat": 4,
  "nbformat_minor": 0,
  "metadata": {
    "colab": {
      "name": "TCC_p05_Sumarização_Luhn_DCNN.ipynb",
      "provenance": [],
      "collapsed_sections": [],
      "toc_visible": true
    },
    "kernelspec": {
      "name": "python3",
      "display_name": "Python 3"
    }
  },
  "cells": [
    {
      "cell_type": "markdown",
      "metadata": {
        "id": "GUEq8nGVXtwL"
      },
      "source": [
        "# TCC Ciências de dados "
      ]
    },
    {
      "cell_type": "code",
      "metadata": {
        "colab": {
          "base_uri": "https://localhost:8080/"
        },
        "id": "pr_PDr8Pw1xX",
        "outputId": "5d36f5d5-36f9-46c8-a735-ab28cf0c86ac"
      },
      "source": [
        "from google.colab import drive\n",
        "drive.mount('/content/drive', force_remount=True) "
      ],
      "execution_count": null,
      "outputs": [
        {
          "output_type": "stream",
          "text": [
            "Mounted at /content/drive\n"
          ],
          "name": "stdout"
        }
      ]
    },
    {
      "cell_type": "markdown",
      "metadata": {
        "id": "LCiAiO8LULAm"
      },
      "source": [
        "## Pré-processamento do texto"
      ]
    },
    {
      "cell_type": "code",
      "metadata": {
        "id": "ebloqnjuIbdh"
      },
      "source": [
        "import re\n",
        "import nltk\n",
        "import string\n",
        "import numpy as np\n",
        "from nltk.cluster.util import cosine_distance #similaridade do cosseno\n",
        "from nltk.cluster.util import euclidean_distance #distância euclidiana utilizada pelo Knn (teste meu)\n",
        "import networkx as nx\n",
        "import pandas as pd\n",
        "import random\n",
        "import heapq\n",
        "import seaborn as sns\n",
        "import math\n",
        "from sklearn.metrics import confusion_matrix\n",
        "from sklearn.metrics import accuracy_score\n",
        "import matplotlib.pyplot as plt"
      ],
      "execution_count": null,
      "outputs": []
    },
    {
      "cell_type": "markdown",
      "metadata": {
        "id": "qPEfZKmHjdcc"
      },
      "source": [
        "# Instalando a biblioteca spaCy"
      ]
    },
    {
      "cell_type": "markdown",
      "metadata": {
        "id": "0yhLtHmLVZxk"
      },
      "source": [
        "1.2   Importação de bibliotecas"
      ]
    },
    {
      "cell_type": "code",
      "metadata": {
        "id": "1WO2roDivFXl",
        "colab": {
          "base_uri": "https://localhost:8080/"
        },
        "outputId": "0a1fab12-af14-4f0b-85d4-51359e1c53f2"
      },
      "source": [
        "!pip install spacy==2.3.5"
      ],
      "execution_count": null,
      "outputs": [
        {
          "output_type": "stream",
          "text": [
            "Collecting spacy==2.3.5\n",
            "\u001b[?25l  Downloading https://files.pythonhosted.org/packages/95/89/1539c4024c339650c222b0b2ca2b3e3f13523b7a02671f8001b7b1cee6f2/spacy-2.3.5-cp37-cp37m-manylinux2014_x86_64.whl (10.4MB)\n",
            "\u001b[K     |████████████████████████████████| 10.4MB 5.6MB/s \n",
            "\u001b[?25hRequirement already satisfied: srsly<1.1.0,>=1.0.2 in /usr/local/lib/python3.7/dist-packages (from spacy==2.3.5) (1.0.5)\n",
            "Requirement already satisfied: requests<3.0.0,>=2.13.0 in /usr/local/lib/python3.7/dist-packages (from spacy==2.3.5) (2.23.0)\n",
            "Requirement already satisfied: setuptools in /usr/local/lib/python3.7/dist-packages (from spacy==2.3.5) (54.2.0)\n",
            "Requirement already satisfied: preshed<3.1.0,>=3.0.2 in /usr/local/lib/python3.7/dist-packages (from spacy==2.3.5) (3.0.5)\n",
            "Requirement already satisfied: plac<1.2.0,>=0.9.6 in /usr/local/lib/python3.7/dist-packages (from spacy==2.3.5) (1.1.3)\n",
            "Requirement already satisfied: catalogue<1.1.0,>=0.0.7 in /usr/local/lib/python3.7/dist-packages (from spacy==2.3.5) (1.0.0)\n",
            "Requirement already satisfied: wasabi<1.1.0,>=0.4.0 in /usr/local/lib/python3.7/dist-packages (from spacy==2.3.5) (0.8.2)\n",
            "Requirement already satisfied: cymem<2.1.0,>=2.0.2 in /usr/local/lib/python3.7/dist-packages (from spacy==2.3.5) (2.0.5)\n",
            "Collecting thinc<7.5.0,>=7.4.1\n",
            "\u001b[?25l  Downloading https://files.pythonhosted.org/packages/9a/92/71ab278f865f7565c37ed6917d0f23342e4f9a0633013113bd435cf0a691/thinc-7.4.5-cp37-cp37m-manylinux2014_x86_64.whl (1.0MB)\n",
            "\u001b[K     |████████████████████████████████| 1.1MB 34.8MB/s \n",
            "\u001b[?25hRequirement already satisfied: numpy>=1.15.0 in /usr/local/lib/python3.7/dist-packages (from spacy==2.3.5) (1.19.5)\n",
            "Requirement already satisfied: blis<0.8.0,>=0.4.0 in /usr/local/lib/python3.7/dist-packages (from spacy==2.3.5) (0.4.1)\n",
            "Requirement already satisfied: murmurhash<1.1.0,>=0.28.0 in /usr/local/lib/python3.7/dist-packages (from spacy==2.3.5) (1.0.5)\n",
            "Requirement already satisfied: tqdm<5.0.0,>=4.38.0 in /usr/local/lib/python3.7/dist-packages (from spacy==2.3.5) (4.41.1)\n",
            "Requirement already satisfied: chardet<4,>=3.0.2 in /usr/local/lib/python3.7/dist-packages (from requests<3.0.0,>=2.13.0->spacy==2.3.5) (3.0.4)\n",
            "Requirement already satisfied: urllib3!=1.25.0,!=1.25.1,<1.26,>=1.21.1 in /usr/local/lib/python3.7/dist-packages (from requests<3.0.0,>=2.13.0->spacy==2.3.5) (1.24.3)\n",
            "Requirement already satisfied: idna<3,>=2.5 in /usr/local/lib/python3.7/dist-packages (from requests<3.0.0,>=2.13.0->spacy==2.3.5) (2.10)\n",
            "Requirement already satisfied: certifi>=2017.4.17 in /usr/local/lib/python3.7/dist-packages (from requests<3.0.0,>=2.13.0->spacy==2.3.5) (2020.12.5)\n",
            "Requirement already satisfied: importlib-metadata>=0.20; python_version < \"3.8\" in /usr/local/lib/python3.7/dist-packages (from catalogue<1.1.0,>=0.0.7->spacy==2.3.5) (3.8.1)\n",
            "Requirement already satisfied: typing-extensions>=3.6.4; python_version < \"3.8\" in /usr/local/lib/python3.7/dist-packages (from importlib-metadata>=0.20; python_version < \"3.8\"->catalogue<1.1.0,>=0.0.7->spacy==2.3.5) (3.7.4.3)\n",
            "Requirement already satisfied: zipp>=0.5 in /usr/local/lib/python3.7/dist-packages (from importlib-metadata>=0.20; python_version < \"3.8\"->catalogue<1.1.0,>=0.0.7->spacy==2.3.5) (3.4.1)\n",
            "Installing collected packages: thinc, spacy\n",
            "  Found existing installation: thinc 7.4.0\n",
            "    Uninstalling thinc-7.4.0:\n",
            "      Successfully uninstalled thinc-7.4.0\n",
            "  Found existing installation: spacy 2.2.4\n",
            "    Uninstalling spacy-2.2.4:\n",
            "      Successfully uninstalled spacy-2.2.4\n",
            "Successfully installed spacy-2.3.5 thinc-7.4.5\n"
          ],
          "name": "stdout"
        }
      ]
    },
    {
      "cell_type": "code",
      "metadata": {
        "colab": {
          "base_uri": "https://localhost:8080/",
          "height": 35
        },
        "id": "-_xVaYbHvFXl",
        "outputId": "783098b8-625e-412b-8b1f-51f32145359c"
      },
      "source": [
        "import spacy\n",
        "spacy.__version__"
      ],
      "execution_count": null,
      "outputs": [
        {
          "output_type": "execute_result",
          "data": {
            "application/vnd.google.colaboratory.intrinsic+json": {
              "type": "string"
            },
            "text/plain": [
              "'2.3.5'"
            ]
          },
          "metadata": {
            "tags": []
          },
          "execution_count": 5
        }
      ]
    },
    {
      "cell_type": "code",
      "metadata": {
        "id": "p72bwsQJvFXm",
        "colab": {
          "base_uri": "https://localhost:8080/"
        },
        "outputId": "f4d4c35e-7c64-437d-8f05-3354c4034c8f"
      },
      "source": [
        "!python -m spacy download pt\n",
        "import spacy\n",
        "pln = spacy.load(\"pt\")"
      ],
      "execution_count": null,
      "outputs": [
        {
          "output_type": "stream",
          "text": [
            "Collecting pt_core_news_sm==2.3.0\n",
            "\u001b[?25l  Downloading https://github.com/explosion/spacy-models/releases/download/pt_core_news_sm-2.3.0/pt_core_news_sm-2.3.0.tar.gz (19.6MB)\n",
            "\u001b[K     |████████████████████████████████| 19.6MB 1.1MB/s \n",
            "\u001b[?25hRequirement already satisfied: spacy<2.4.0,>=2.3.0 in /usr/local/lib/python3.7/dist-packages (from pt_core_news_sm==2.3.0) (2.3.5)\n",
            "Requirement already satisfied: requests<3.0.0,>=2.13.0 in /usr/local/lib/python3.7/dist-packages (from spacy<2.4.0,>=2.3.0->pt_core_news_sm==2.3.0) (2.23.0)\n",
            "Requirement already satisfied: numpy>=1.15.0 in /usr/local/lib/python3.7/dist-packages (from spacy<2.4.0,>=2.3.0->pt_core_news_sm==2.3.0) (1.19.5)\n",
            "Requirement already satisfied: preshed<3.1.0,>=3.0.2 in /usr/local/lib/python3.7/dist-packages (from spacy<2.4.0,>=2.3.0->pt_core_news_sm==2.3.0) (3.0.5)\n",
            "Requirement already satisfied: murmurhash<1.1.0,>=0.28.0 in /usr/local/lib/python3.7/dist-packages (from spacy<2.4.0,>=2.3.0->pt_core_news_sm==2.3.0) (1.0.5)\n",
            "Requirement already satisfied: wasabi<1.1.0,>=0.4.0 in /usr/local/lib/python3.7/dist-packages (from spacy<2.4.0,>=2.3.0->pt_core_news_sm==2.3.0) (0.8.2)\n",
            "Requirement already satisfied: cymem<2.1.0,>=2.0.2 in /usr/local/lib/python3.7/dist-packages (from spacy<2.4.0,>=2.3.0->pt_core_news_sm==2.3.0) (2.0.5)\n",
            "Requirement already satisfied: tqdm<5.0.0,>=4.38.0 in /usr/local/lib/python3.7/dist-packages (from spacy<2.4.0,>=2.3.0->pt_core_news_sm==2.3.0) (4.41.1)\n",
            "Requirement already satisfied: srsly<1.1.0,>=1.0.2 in /usr/local/lib/python3.7/dist-packages (from spacy<2.4.0,>=2.3.0->pt_core_news_sm==2.3.0) (1.0.5)\n",
            "Requirement already satisfied: setuptools in /usr/local/lib/python3.7/dist-packages (from spacy<2.4.0,>=2.3.0->pt_core_news_sm==2.3.0) (54.2.0)\n",
            "Requirement already satisfied: catalogue<1.1.0,>=0.0.7 in /usr/local/lib/python3.7/dist-packages (from spacy<2.4.0,>=2.3.0->pt_core_news_sm==2.3.0) (1.0.0)\n",
            "Requirement already satisfied: plac<1.2.0,>=0.9.6 in /usr/local/lib/python3.7/dist-packages (from spacy<2.4.0,>=2.3.0->pt_core_news_sm==2.3.0) (1.1.3)\n",
            "Requirement already satisfied: blis<0.8.0,>=0.4.0 in /usr/local/lib/python3.7/dist-packages (from spacy<2.4.0,>=2.3.0->pt_core_news_sm==2.3.0) (0.4.1)\n",
            "Requirement already satisfied: thinc<7.5.0,>=7.4.1 in /usr/local/lib/python3.7/dist-packages (from spacy<2.4.0,>=2.3.0->pt_core_news_sm==2.3.0) (7.4.5)\n",
            "Requirement already satisfied: urllib3!=1.25.0,!=1.25.1,<1.26,>=1.21.1 in /usr/local/lib/python3.7/dist-packages (from requests<3.0.0,>=2.13.0->spacy<2.4.0,>=2.3.0->pt_core_news_sm==2.3.0) (1.24.3)\n",
            "Requirement already satisfied: idna<3,>=2.5 in /usr/local/lib/python3.7/dist-packages (from requests<3.0.0,>=2.13.0->spacy<2.4.0,>=2.3.0->pt_core_news_sm==2.3.0) (2.10)\n",
            "Requirement already satisfied: chardet<4,>=3.0.2 in /usr/local/lib/python3.7/dist-packages (from requests<3.0.0,>=2.13.0->spacy<2.4.0,>=2.3.0->pt_core_news_sm==2.3.0) (3.0.4)\n",
            "Requirement already satisfied: certifi>=2017.4.17 in /usr/local/lib/python3.7/dist-packages (from requests<3.0.0,>=2.13.0->spacy<2.4.0,>=2.3.0->pt_core_news_sm==2.3.0) (2020.12.5)\n",
            "Requirement already satisfied: importlib-metadata>=0.20; python_version < \"3.8\" in /usr/local/lib/python3.7/dist-packages (from catalogue<1.1.0,>=0.0.7->spacy<2.4.0,>=2.3.0->pt_core_news_sm==2.3.0) (3.8.1)\n",
            "Requirement already satisfied: typing-extensions>=3.6.4; python_version < \"3.8\" in /usr/local/lib/python3.7/dist-packages (from importlib-metadata>=0.20; python_version < \"3.8\"->catalogue<1.1.0,>=0.0.7->spacy<2.4.0,>=2.3.0->pt_core_news_sm==2.3.0) (3.7.4.3)\n",
            "Requirement already satisfied: zipp>=0.5 in /usr/local/lib/python3.7/dist-packages (from importlib-metadata>=0.20; python_version < \"3.8\"->catalogue<1.1.0,>=0.0.7->spacy<2.4.0,>=2.3.0->pt_core_news_sm==2.3.0) (3.4.1)\n",
            "Building wheels for collected packages: pt-core-news-sm\n",
            "  Building wheel for pt-core-news-sm (setup.py) ... \u001b[?25l\u001b[?25hdone\n",
            "  Created wheel for pt-core-news-sm: filename=pt_core_news_sm-2.3.0-cp37-none-any.whl size=19557499 sha256=48e8edc4104dbde5f0dd762e79d629d0706389b251bb6891c93b7a364b46d952\n",
            "  Stored in directory: /tmp/pip-ephem-wheel-cache-dnk75vdz/wheels/f6/43/f6/949b5e2b48df37aa3ed81fc3f4af4154afa276518cc004b990\n",
            "Successfully built pt-core-news-sm\n",
            "Installing collected packages: pt-core-news-sm\n",
            "Successfully installed pt-core-news-sm-2.3.0\n",
            "\u001b[38;5;2m✔ Download and installation successful\u001b[0m\n",
            "You can now load the model via spacy.load('pt_core_news_sm')\n",
            "\u001b[38;5;2m✔ Linking successful\u001b[0m\n",
            "/usr/local/lib/python3.7/dist-packages/pt_core_news_sm -->\n",
            "/usr/local/lib/python3.7/dist-packages/spacy/data/pt\n",
            "You can now load the model via spacy.load('pt')\n"
          ],
          "name": "stdout"
        }
      ]
    },
    {
      "cell_type": "code",
      "metadata": {
        "id": "yXYTO2xUvFXm"
      },
      "source": [
        "from spacy.lang.pt.stop_words import STOP_WORDS\n",
        "stop_words_spacy = STOP_WORDS"
      ],
      "execution_count": null,
      "outputs": []
    },
    {
      "cell_type": "code",
      "metadata": {
        "id": "WcE2fGCcVEFq",
        "colab": {
          "base_uri": "https://localhost:8080/"
        },
        "outputId": "12be0433-227a-460e-815b-eea64add37e9"
      },
      "source": [
        "import nltk\n",
        "nltk.download('punkt')\n",
        "nltk.download('rslp') #stemização\n",
        "nltk.download('stopwords')\n",
        "stop_words_nltk = nltk.corpus.stopwords.words('portuguese')"
      ],
      "execution_count": null,
      "outputs": [
        {
          "output_type": "stream",
          "text": [
            "[nltk_data] Downloading package punkt to /root/nltk_data...\n",
            "[nltk_data]   Unzipping tokenizers/punkt.zip.\n",
            "[nltk_data] Downloading package rslp to /root/nltk_data...\n",
            "[nltk_data]   Unzipping stemmers/rslp.zip.\n",
            "[nltk_data] Downloading package stopwords to /root/nltk_data...\n",
            "[nltk_data]   Unzipping corpora/stopwords.zip.\n"
          ],
          "name": "stdout"
        }
      ]
    },
    {
      "cell_type": "code",
      "metadata": {
        "id": "xQMtD1c6VISJ"
      },
      "source": [
        "stop_words = set(stop_words_nltk + list(stop_words_spacy))"
      ],
      "execution_count": null,
      "outputs": []
    },
    {
      "cell_type": "code",
      "metadata": {
        "id": "eP4Fl2O-U_Yr",
        "colab": {
          "base_uri": "https://localhost:8080/",
          "height": 35
        },
        "outputId": "d78aed21-ea60-4bff-db19-f274341fa561"
      },
      "source": [
        "pontuacoes = string.punctuation\n",
        "pontuacoes"
      ],
      "execution_count": null,
      "outputs": [
        {
          "output_type": "execute_result",
          "data": {
            "application/vnd.google.colaboratory.intrinsic+json": {
              "type": "string"
            },
            "text/plain": [
              "'!\"#$%&\\'()*+,-./:;<=>?@[\\\\]^_`{|}~'"
            ]
          },
          "metadata": {
            "tags": []
          },
          "execution_count": 10
        }
      ]
    },
    {
      "cell_type": "markdown",
      "metadata": {
        "id": "WNhIhUYoA-Tk"
      },
      "source": [
        "# Avaliação na base de teste sumarizada com DCNN"
      ]
    },
    {
      "cell_type": "markdown",
      "metadata": {
        "id": "yEw_o_s6HEz4"
      },
      "source": [
        "## Sumarização Luhn"
      ]
    },
    {
      "cell_type": "code",
      "metadata": {
        "id": "FeXEq_28iDeT"
      },
      "source": [
        "def preprocessamento_luhn(texto):\n",
        "  texto_formatado = texto.lower()\n",
        "  tokens = []\n",
        "  for token in nltk.word_tokenize(texto_formatado):\n",
        "    tokens.append(token)\n",
        "\n",
        "  tokens = [palavra for palavra in tokens if palavra not in stop_words and palavra not in string.punctuation]\n",
        "  texto_formatado = ' '.join([str(elemento) for elemento in tokens if not elemento.isdigit()])\n",
        "  return texto_formatado"
      ],
      "execution_count": null,
      "outputs": []
    },
    {
      "cell_type": "code",
      "metadata": {
        "id": "mgmY8ovIEUp1"
      },
      "source": [
        "def calcula_nota_sentenca(sentencas, palavras_importantes, distancia):\n",
        "  notas = []\n",
        "  indice_sentenca = 0\n",
        "\n",
        "  for sentenca in [nltk.word_tokenize(sentenca.lower()) for sentenca in sentencas]:\n",
        "    indice_palavra = []\n",
        "    for palavra in palavras_importantes:\n",
        "      try:\n",
        "        indice_palavra.append(sentenca.index(palavra))\n",
        "      except ValueError:\n",
        "        pass\n",
        "    \n",
        "    indice_palavra.sort()\n",
        "\n",
        "    if len(indice_palavra) == 0:\n",
        "      continue\n",
        "\n",
        "    lista_grupos = []\n",
        "    grupo = [indice_palavra[0]]\n",
        "    i = 1\n",
        "    while i < len(indice_palavra):\n",
        "      if indice_palavra[i] - indice_palavra[i - 1] < distancia:\n",
        "        grupo.append(indice_palavra[i])\n",
        "      else:\n",
        "        lista_grupos.append(grupo[:])\n",
        "        grupo = [indice_palavra[i]]\n",
        "      i += 1\n",
        "    lista_grupos.append(grupo)\n",
        "\n",
        "    nota_maxima_grupo = 0\n",
        "    for g in lista_grupos:\n",
        "      palavras_importantes_no_grupo = len(g)\n",
        "      total_palavras_no_grupo = g[-1] - g[0] + 1\n",
        "      nota = 1.0 * palavras_importantes_no_grupo**2 / total_palavras_no_grupo\n",
        "\n",
        "      if nota > nota_maxima_grupo:\n",
        "        nota_maxima_grupo = nota\n",
        "\n",
        "    notas.append((nota_maxima_grupo, indice_sentenca))\n",
        "    indice_sentenca += 1\n",
        "  return notas"
      ],
      "execution_count": null,
      "outputs": []
    },
    {
      "cell_type": "code",
      "metadata": {
        "id": "d6s45cczQ8VK"
      },
      "source": [
        "def sumarizar_luhn(texto):\n",
        "  top_n_palavras = 8 \n",
        "  distancia = 3\n",
        "  sentencas_originais = [sentenca for sentenca in nltk.sent_tokenize(texto)]\n",
        "  sentencas_formatadas = [preprocessamento_luhn(sentenca_original) for sentenca_original in sentencas_originais]\n",
        "\n",
        "  palavras = [palavra for sentenca in sentencas_formatadas for palavra in nltk.word_tokenize(sentenca)]\n",
        "  frequencia = nltk.FreqDist(palavras)\n",
        "\n",
        "  top_n_palavras = [palavra[0] for palavra in frequencia.most_common(top_n_palavras)]\n",
        "\n",
        "  notas_sentencas = calcula_nota_sentenca(sentencas_formatadas, top_n_palavras, distancia)\n",
        "\n",
        "  quantidade_sentencas = int(0.4 * len(sentencas_originais))\n",
        "  if quantidade_sentencas < 3:\n",
        "    quantidade_sentencas = 3\n",
        "    if quantidade_sentencas > len(sentencas_originais):\n",
        "      quantidade_sentencas = len(sentencas_originais)\n",
        "  melhores_sentencas = heapq.nlargest(quantidade_sentencas, notas_sentencas)\n",
        "\n",
        "  melhores_sentencas = [sentencas_originais[i] for (nota, i) in melhores_sentencas]\n",
        "  melhores_sentencas = str(melhores_sentencas).replace(\"',\", '').replace(\"'\", '').replace('[', '').replace(']', '')\n",
        "  return melhores_sentencas"
      ],
      "execution_count": null,
      "outputs": []
    },
    {
      "cell_type": "code",
      "metadata": {
        "id": "QSqAot-tKUFr"
      },
      "source": [
        "#Carregar dataframe X_teste diretamente do drive.\n",
        "url = '/content/drive/MyDrive/X_teste_1781.csv' \n",
        "X_teste = pd.read_csv(url, sep=';', engine='python', encoding='windows-1252', low_memory=True) "
      ],
      "execution_count": null,
      "outputs": []
    },
    {
      "cell_type": "code",
      "metadata": {
        "id": "dKd4H2a7DfNI"
      },
      "source": [
        "#Executa rotina de sumarização para todos os votos do dataframe X_teste\n",
        "X_teste['voto'] = X_teste['voto'].apply(sumarizar_luhn)\n",
        "X_teste_sumarizado = X_teste.copy()"
      ],
      "execution_count": null,
      "outputs": []
    },
    {
      "cell_type": "code",
      "metadata": {
        "colab": {
          "base_uri": "https://localhost:8080/",
          "height": 197
        },
        "id": "qcOCv7jADYwG",
        "outputId": "1507b9ef-88a3-40cc-8b3d-ce000a2d9ac0"
      },
      "source": [
        "X_teste_sumarizado.head()"
      ],
      "execution_count": null,
      "outputs": [
        {
          "output_type": "execute_result",
          "data": {
            "text/html": [
              "<div>\n",
              "<style scoped>\n",
              "    .dataframe tbody tr th:only-of-type {\n",
              "        vertical-align: middle;\n",
              "    }\n",
              "\n",
              "    .dataframe tbody tr th {\n",
              "        vertical-align: top;\n",
              "    }\n",
              "\n",
              "    .dataframe thead th {\n",
              "        text-align: right;\n",
              "    }\n",
              "</style>\n",
              "<table border=\"1\" class=\"dataframe\">\n",
              "  <thead>\n",
              "    <tr style=\"text-align: right;\">\n",
              "      <th></th>\n",
              "      <th>voto</th>\n",
              "    </tr>\n",
              "  </thead>\n",
              "  <tbody>\n",
              "    <tr>\n",
              "      <th>0</th>\n",
              "      <td>assim, não caberia apreciação do recurso de of...</td>\n",
              "    </tr>\n",
              "    <tr>\n",
              "      <th>1</th>\n",
              "      <td>é lógico que os valores do ir e csll também de...</td>\n",
              "    </tr>\n",
              "    <tr>\n",
              "      <th>2</th>\n",
              "      <td>não se trata, portanto, de simples formalidade...</td>\n",
              "    </tr>\n",
              "    <tr>\n",
              "      <th>3</th>\n",
              "      <td>entendo que o pedido da recorrente, relativo a...</td>\n",
              "    </tr>\n",
              "    <tr>\n",
              "      <th>4</th>\n",
              "      <td>§ 1 o disposto neste artigo (lei 9.250, de 199...</td>\n",
              "    </tr>\n",
              "  </tbody>\n",
              "</table>\n",
              "</div>"
            ],
            "text/plain": [
              "                                                voto\n",
              "0  assim, não caberia apreciação do recurso de of...\n",
              "1  é lógico que os valores do ir e csll também de...\n",
              "2  não se trata, portanto, de simples formalidade...\n",
              "3  entendo que o pedido da recorrente, relativo a...\n",
              "4  § 1 o disposto neste artigo (lei 9.250, de 199..."
            ]
          },
          "metadata": {
            "tags": []
          },
          "execution_count": 19
        }
      ]
    },
    {
      "cell_type": "markdown",
      "metadata": {
        "id": "HuJSPwoWhplO"
      },
      "source": [
        "3. Escolher o tipo de modelo"
      ]
    },
    {
      "cell_type": "code",
      "metadata": {
        "id": "lGF-CLwmZNI8"
      },
      "source": [
        "#Definir qual é o modelo a ser treinado. Se lematizado, stemizado ou palavras originais.\n",
        "#A variável tipo_modelo será definida aqui e será utilizada para fazer o direcionamento ao carregar o X_treinamento preprocessado, \n",
        "#no preprocessamento de X_teste, ao salvar o modelo, ao carregar o modelo treinado e ao exibir os resultados.\n",
        "tipo_modelo = 'lema' #escolher 'lema', 'stemer' ou 'original'"
      ],
      "execution_count": null,
      "outputs": []
    },
    {
      "cell_type": "code",
      "metadata": {
        "id": "_CVr6MGVR4N_"
      },
      "source": [
        "#rodar preprocessamento selecionando entre lema, stemer ou original. Usar o mesmo utilizado para treinar o modelo.\n",
        "X_teste_sumarizado['voto'] = X_teste_sumarizado['voto'].apply(preprocessamento, args=(tipo_modelo,))\n",
        "X_teste_sumarizado_preprocessado = X_teste_sumarizado.copy()"
      ],
      "execution_count": null,
      "outputs": []
    },
    {
      "cell_type": "code",
      "metadata": {
        "id": "P3_obf2BZQCQ",
        "colab": {
          "base_uri": "https://localhost:8080/",
          "height": 197
        },
        "outputId": "0b85b425-5326-4a36-baee-47ba371c3eff"
      },
      "source": [
        "X_teste_sumarizado_preprocessado.head()"
      ],
      "execution_count": null,
      "outputs": [
        {
          "output_type": "execute_result",
          "data": {
            "text/html": [
              "<div>\n",
              "<style scoped>\n",
              "    .dataframe tbody tr th:only-of-type {\n",
              "        vertical-align: middle;\n",
              "    }\n",
              "\n",
              "    .dataframe tbody tr th {\n",
              "        vertical-align: top;\n",
              "    }\n",
              "\n",
              "    .dataframe thead th {\n",
              "        text-align: right;\n",
              "    }\n",
              "</style>\n",
              "<table border=\"1\" class=\"dataframe\">\n",
              "  <thead>\n",
              "    <tr style=\"text-align: right;\">\n",
              "      <th></th>\n",
              "      <th>voto</th>\n",
              "    </tr>\n",
              "  </thead>\n",
              "  <tbody>\n",
              "    <tr>\n",
              "      <th>0</th>\n",
              "      <td>caber apreciação recurso ofício referir-se cré...</td>\n",
              "    </tr>\n",
              "    <tr>\n",
              "      <th>1</th>\n",
              "      <td>lógico valorar csll registrar intangível sobre...</td>\n",
              "    </tr>\n",
              "    <tr>\n",
              "      <th>2</th>\n",
              "      <td>tratar simples formalidade atividade meramente...</td>\n",
              "    </tr>\n",
              "    <tr>\n",
              "      <th>3</th>\n",
              "      <td>entender pedir recorrente relativo per dcomp t...</td>\n",
              "    </tr>\n",
              "    <tr>\n",
              "      <th>4</th>\n",
              "      <td>dispor artigo lei artigo aplica-se pagament...</td>\n",
              "    </tr>\n",
              "  </tbody>\n",
              "</table>\n",
              "</div>"
            ],
            "text/plain": [
              "                                                voto\n",
              "0  caber apreciação recurso ofício referir-se cré...\n",
              "1  lógico valorar csll registrar intangível sobre...\n",
              "2  tratar simples formalidade atividade meramente...\n",
              "3  entender pedir recorrente relativo per dcomp t...\n",
              "4     dispor artigo lei artigo aplica-se pagament..."
            ]
          },
          "metadata": {
            "tags": []
          },
          "execution_count": 24
        }
      ]
    },
    {
      "cell_type": "code",
      "metadata": {
        "id": "C2UIBZEkZ2Of"
      },
      "source": [
        "#transformar X_teste em numpy.ndarray\n",
        "dados_teste_preprocessados = X_teste_sumarizado_preprocessado.iloc[:, 0].values"
      ],
      "execution_count": null,
      "outputs": []
    },
    {
      "cell_type": "markdown",
      "metadata": {
        "id": "iReJbGOVLImK"
      },
      "source": [
        "## Criando os corpus de treinamento com palavras originais"
      ]
    },
    {
      "cell_type": "markdown",
      "metadata": {
        "id": "0x9gIjMnuqHz"
      },
      "source": [
        "4. Ler arquivos do Drive gravados pelo notebook TCC_p01_preparar_X_treinamento_e_y_teste"
      ]
    },
    {
      "cell_type": "code",
      "metadata": {
        "id": "YDjg41fyo3Ty"
      },
      "source": [
        "#Recuperando os arquivos de treinamento após preprocessamento salvos no drive. Verificar qual X irá treinar, se lema, stemer ou origianl.\n",
        "if tipo_modelo == 'lema':\n",
        "  url = '/content/drive/MyDrive/X_treinamento_lema.csv'\n",
        "elif tipo_modelo == 'stemer':\n",
        "  url = '/content/drive/MyDrive/X_treinamento_stemer.csv'\n",
        "else:\n",
        "  url = '/content/drive/MyDrive/X_treinamento_original.csv'\n",
        "  \n",
        "X_treinamento = pd.read_csv(url, sep=';', engine='python', encoding='windows-1252', low_memory=True, quotechar='\"', error_bad_lines=False)"
      ],
      "execution_count": null,
      "outputs": []
    },
    {
      "cell_type": "code",
      "metadata": {
        "id": "FkENx6kerNfN"
      },
      "source": [
        "#transforma X_treinamento e y_treinamento em numpy.ndarray\n",
        "X_treinamento_preprocessado = X_treinamento.iloc[:, 0].values"
      ],
      "execution_count": null,
      "outputs": []
    },
    {
      "cell_type": "markdown",
      "metadata": {
        "id": "k5FHppLCmmvP"
      },
      "source": [
        "#Preparar os dados de teste"
      ]
    },
    {
      "cell_type": "code",
      "metadata": {
        "id": "INsTcsE4AnXi"
      },
      "source": [
        "def preprocessamento(texto, tipo):\n",
        "  \"\"\"\n",
        "  Faz uma limpeza do texto recebido excluíndo pontuações, stop words, números em moedas, leis, etc, letras soltas, palavras com duas letras, \n",
        "  hífens iniciais, r$, espaços duplos e símbolos.  \n",
        "  O objetivo é deixar apenas palavras que serão a base para as classificações.\n",
        "\n",
        "  :parâmetro texto: recebe o texto integral de um voto.\n",
        "  :parâmetro tipo: escolher entre 'lema', 'stemer' e 'original'. Lema faz lematização das palavras, stemer faz a stemização e original mantém as palavras sem alterações.\n",
        "  :retorno str_lista: string com a lista das palavras do voto após a limpeza dos dados.  \n",
        "\n",
        "  \"\"\"\n",
        "\n",
        "  texto = texto.lower()\n",
        "  texto = re.sub('([¹²³£¢¬§ªº°]{1})', ' ', texto) #excluir o símbolos listados\n",
        "  texto = re.sub('([!\"#%&\\'\\(\\)\\*\\+,\\./:;<=>\\?@\\[\\]\\^_`\\{\\|\\}~]{1})', ' ', texto) #excluir as pontuações, exceto o hífen\n",
        "  texto = re.sub('([0-9]*)[\\.]*([0-9]+,[0-9]+)', ' ', texto)  #excluir valores com decimais após vírgulas 10.000,00 30,00\n",
        "  texto = re.sub('([0-9]+)[.]+([0-9]+)\\/([0-9]+)', ' ', texto) #excluir valores tipo leis 9.420/99\n",
        "  texto = re.sub('([0-9]+)\\/([0-9]+)', ' ', texto) #excluir valores tipo leis 70/99\n",
        "  texto = re.sub('([0-9]+)', ' ', texto) #excluir números\n",
        "  texto = re.sub('( [a-z]{1} )', ' ', texto) #excluir letras soltas\n",
        "  texto = re.sub('( [a-z]{2} )', ' ', texto) #excluir palavras com 2 letras\n",
        "  texto = re.sub(' -([a-z]*)', r'\\1', texto) #excluir hífens iniciais\n",
        "  texto = texto.replace('r$', ' ') #excluir r$\n",
        "  texto = re.sub('( [ ]*)', ' ', texto) #excluir espaços duplos\n",
        "\n",
        "  documento = pln(texto)\n",
        "  lista = [token.text for token in documento if token.text not in stop_words and token.text not in string.punctuation]\n",
        "  str_lista = ' '.join([str(elemento) for elemento in lista if not elemento.isdigit()])\n",
        "  documento = pln(str_lista)\n",
        "  \n",
        "  lista = []\n",
        "  if tipo == 'lema': # Lematização\n",
        "    for token in documento:\n",
        "      lista.append(token.lemma_)  \n",
        "  elif tipo == 'stemer':\n",
        "    for token in documento:\n",
        "      stemmer = nltk.stem.RSLPStemmer()\n",
        "      lista.append(stemmer.stem(token.text))\n",
        "  else: #'original' ou qualquer outro valor\n",
        "    for token in documento:\n",
        "      lista.append(token.text)    \n",
        "\n",
        "  str_lista = ' '.join([str(elemento) for elemento in lista if not elemento.isdigit()])\n",
        "  \n",
        "  return str_lista"
      ],
      "execution_count": null,
      "outputs": []
    },
    {
      "cell_type": "markdown",
      "metadata": {
        "id": "FLWayJ-5-7nN"
      },
      "source": [
        "### Limpeza"
      ]
    },
    {
      "cell_type": "code",
      "metadata": {
        "id": "LsNbd2hvqVTU"
      },
      "source": [
        "num_words = 2**16\n",
        "oov_token = '<UNK>'\n",
        "pad_type = 'post'\n",
        "trunc_type = 'post'"
      ],
      "execution_count": null,
      "outputs": []
    },
    {
      "cell_type": "code",
      "metadata": {
        "id": "0s8u890hxtSl",
        "colab": {
          "base_uri": "https://localhost:8080/",
          "height": 35
        },
        "outputId": "58633733-5ee5-43ef-af18-f531a56550b3"
      },
      "source": [
        "%tensorflow_version 2.x\n",
        "import tensorflow as tf\n",
        "tf.__version__"
      ],
      "execution_count": null,
      "outputs": [
        {
          "output_type": "execute_result",
          "data": {
            "application/vnd.google.colaboratory.intrinsic+json": {
              "type": "string"
            },
            "text/plain": [
              "'2.4.1'"
            ]
          },
          "metadata": {
            "tags": []
          },
          "execution_count": 29
        }
      ]
    },
    {
      "cell_type": "code",
      "metadata": {
        "id": "Z9C_Vycux_4G"
      },
      "source": [
        "from tensorflow.keras import layers\n",
        "from tensorflow.keras.preprocessing.text import Tokenizer as TokenizerTS\n",
        "from tensorflow.keras.preprocessing.sequence import pad_sequences"
      ],
      "execution_count": null,
      "outputs": []
    },
    {
      "cell_type": "code",
      "metadata": {
        "id": "yLZ95zjeqYFz"
      },
      "source": [
        "# Tokenize our training data\n",
        "tokenizerTS = TokenizerTS(num_words=num_words, oov_token=oov_token)\n",
        "tokenizerTS.fit_on_texts(X_treinamento_preprocessado)\n",
        "\n",
        "# Get our training data word index\n",
        "vocab_size = len(tokenizerTS.word_index) + 1"
      ],
      "execution_count": null,
      "outputs": []
    },
    {
      "cell_type": "code",
      "metadata": {
        "colab": {
          "base_uri": "https://localhost:8080/"
        },
        "id": "8BX3C14jsO61",
        "outputId": "7979ae27-54b5-4cfc-d4c8-7da5337dbb90"
      },
      "source": [
        "vocab_size"
      ],
      "execution_count": null,
      "outputs": [
        {
          "output_type": "execute_result",
          "data": {
            "text/plain": [
              "31617"
            ]
          },
          "metadata": {
            "tags": []
          },
          "execution_count": 32
        }
      ]
    },
    {
      "cell_type": "code",
      "metadata": {
        "id": "Swgnbdzushi1"
      },
      "source": [
        "#Informa do valor de max_len utilizado para o padding. Os valores foram obtidos do notebook TCC_p03a_Classificação_DCNN_lema quando rodou-se o modelo.\n",
        "if tipo_modelo == 'lema':\n",
        "  max_len = 7622\n",
        "elif tipo_modelo == 'stemer':\n",
        "  max_len = 7610\n",
        "else:\n",
        "  max_len = 7622"
      ],
      "execution_count": null,
      "outputs": []
    },
    {
      "cell_type": "code",
      "metadata": {
        "id": "DEVniZEwrXe1"
      },
      "source": [
        "# Encode training data sentences into sequences\n",
        "X_teste_vetor_numerico = tokenizerTS.texts_to_sequences(dados_teste_preprocessados)\n",
        "\n",
        "# Pad the training sequences\n",
        "X_teste_vetor_numerico = pad_sequences(X_teste_vetor_numerico, padding=pad_type, truncating=trunc_type, maxlen=max_len)"
      ],
      "execution_count": null,
      "outputs": []
    },
    {
      "cell_type": "code",
      "metadata": {
        "id": "izrIMucEP7Tu"
      },
      "source": [
        "#Carrega o y_teste do Drive\n",
        "url = '/content/drive/MyDrive/y_teste_1781.csv' \n",
        "y_teste = pd.read_csv(url, sep=';', engine='python', encoding='windows-1252', low_memory=True)\n",
        "rotulos_teste = y_teste.iloc[:, 0].values"
      ],
      "execution_count": null,
      "outputs": []
    },
    {
      "cell_type": "code",
      "metadata": {
        "colab": {
          "base_uri": "https://localhost:8080/",
          "height": 320
        },
        "id": "Dx1BWbTEONs0",
        "outputId": "a31d0e84-e531-411c-dd01-d57349625656"
      },
      "source": [
        "sns.countplot(rotulos_teste);"
      ],
      "execution_count": null,
      "outputs": [
        {
          "output_type": "stream",
          "text": [
            "/usr/local/lib/python3.7/dist-packages/seaborn/_decorators.py:43: FutureWarning: Pass the following variable as a keyword arg: x. From version 0.12, the only valid positional argument will be `data`, and passing other arguments without an explicit keyword will result in an error or misinterpretation.\n",
            "  FutureWarning\n"
          ],
          "name": "stderr"
        },
        {
          "output_type": "display_data",
          "data": {
            "image/png": "[encoded data removed]",
            "text/plain": [
              "<Figure size 432x288 with 1 Axes>"
            ]
          },
          "metadata": {
            "tags": [],
            "needs_background": "light"
          }
        }
      ]
    },
    {
      "cell_type": "code",
      "metadata": {
        "id": "2cPl4rAhONs0"
      },
      "source": [
        "#rotulos para o gráfico matriz de confusão\n",
        "rotulos_plt_cm = ['irpj', 'irpf', 'ngdt', 'paf']"
      ],
      "execution_count": null,
      "outputs": []
    },
    {
      "cell_type": "code",
      "metadata": {
        "colab": {
          "base_uri": "https://localhost:8080/"
        },
        "id": "jO7hDDv9ONs1",
        "outputId": "b120990a-d3ec-471f-84ca-77fa3186e141"
      },
      "source": [
        "rotulos_teste[rotulos_teste == 'irpj'] = 0\n",
        "rotulos_teste[rotulos_teste == 'irpf'] = 1\n",
        "rotulos_teste[rotulos_teste == 'ngdt'] = 2\n",
        "rotulos_teste[rotulos_teste == 'paf'] = 3\n",
        "rotulos_teste = rotulos_teste.astype(np.int32)\n",
        "rotulos_teste"
      ],
      "execution_count": null,
      "outputs": [
        {
          "output_type": "execute_result",
          "data": {
            "text/plain": [
              "array([3, 0, 1, ..., 3, 3, 0], dtype=int32)"
            ]
          },
          "metadata": {
            "tags": []
          },
          "execution_count": 38
        }
      ]
    },
    {
      "cell_type": "markdown",
      "metadata": {
        "id": "5s8GGVE11r2z"
      },
      "source": [
        "## Avaliação do sumarizador Luhn com o modelo da rede neural convolucional"
      ]
    },
    {
      "cell_type": "code",
      "metadata": {
        "id": "6aPDxHgRchKJ"
      },
      "source": [
        "#Carregando modelo treinado que foi salvo no drive.\n",
        "Dcnn = tf.keras.models.load_model('/content/drive/MyDrive/modelo_Dcnn_lema')"
      ],
      "execution_count": null,
      "outputs": []
    },
    {
      "cell_type": "code",
      "metadata": {
        "colab": {
          "base_uri": "https://localhost:8080/"
        },
        "id": "AEh2HwRVDDA8",
        "outputId": "a97fe30d-370c-42f5-e9ad-46b505302ea8"
      },
      "source": [
        "#Verificando a arquitetura do modelo\n",
        "Dcnn.summary()"
      ],
      "execution_count": null,
      "outputs": [
        {
          "output_type": "stream",
          "text": [
            "Model: \"dcnn\"\n",
            "_________________________________________________________________\n",
            "Layer (type)                 Output Shape              Param #   \n",
            "=================================================================\n",
            "embedding_1 (Embedding)      multiple                  6323400   \n",
            "_________________________________________________________________\n",
            "conv1d_3 (Conv1D)            multiple                  40100     \n",
            "_________________________________________________________________\n",
            "conv1d_4 (Conv1D)            multiple                  60100     \n",
            "_________________________________________________________________\n",
            "conv1d_5 (Conv1D)            multiple                  80100     \n",
            "_________________________________________________________________\n",
            "global_max_pooling1d_1 (Glob multiple                  0         \n",
            "_________________________________________________________________\n",
            "dense_2 (Dense)              multiple                  77056     \n",
            "_________________________________________________________________\n",
            "dropout_1 (Dropout)          multiple                  0         \n",
            "_________________________________________________________________\n",
            "dense_3 (Dense)              multiple                  1028      \n",
            "=================================================================\n",
            "Total params: 6,581,784\n",
            "Trainable params: 6,581,784\n",
            "Non-trainable params: 0\n",
            "_________________________________________________________________\n"
          ],
          "name": "stdout"
        }
      ]
    },
    {
      "cell_type": "code",
      "metadata": {
        "id": "LNM3RVwO11Ph"
      },
      "source": [
        "y_pred_test = Dcnn.predict(X_teste_vetor_numerico)\n",
        "lista_predict = y_pred_test.argmax(axis=1) "
      ],
      "execution_count": null,
      "outputs": []
    },
    {
      "cell_type": "code",
      "metadata": {
        "id": "vXnTwzoaqlvp",
        "colab": {
          "base_uri": "https://localhost:8080/",
          "height": 334
        },
        "outputId": "4f962a87-506c-490e-8b85-9d57ef2ac2ad"
      },
      "source": [
        "conf_mat_nb = confusion_matrix(rotulos_teste, lista_predict)\n",
        "fig, ax = plt.subplots(figsize=(5,5))\n",
        "sns.heatmap(conf_mat_nb, annot=True, fmt='d',\n",
        "            xticklabels=rotulos_plt_cm, yticklabels=rotulos_plt_cm)\n",
        "plt.ylabel('Verdade')\n",
        "plt.xlabel('Previsão')\n",
        "plt.show()"
      ],
      "execution_count": null,
      "outputs": [
        {
          "output_type": "display_data",
          "data": {
            "image/png": "[encoded data removed]",
            "text/plain": [
              "<Figure size 360x360 with 2 Axes>"
            ]
          },
          "metadata": {
            "tags": [],
            "needs_background": "light"
          }
        }
      ]
    },
    {
      "cell_type": "code",
      "metadata": {
        "id": "vP1Q3L_ns4wy",
        "colab": {
          "base_uri": "https://localhost:8080/"
        },
        "outputId": "3a7eb4fb-944c-4e31-849f-9106204f9bae"
      },
      "source": [
        "accuracy_score(rotulos_teste, lista_predict)"
      ],
      "execution_count": null,
      "outputs": [
        {
          "output_type": "execute_result",
          "data": {
            "text/plain": [
              "0.837170129140932"
            ]
          },
          "metadata": {
            "tags": []
          },
          "execution_count": 43
        }
      ]
    }
  ]
}